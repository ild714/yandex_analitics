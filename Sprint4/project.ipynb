{
 "cells": [
  {
   "cell_type": "code",
   "execution_count": 1,
   "id": "99036cd9-3a90-4660-baef-044de2dcd6d7",
   "metadata": {},
   "outputs": [
    {
     "name": "stdout",
     "output_type": "stream",
     "text": [
      "Collecting pandas\n",
      "  Downloading pandas-2.2.2-cp312-cp312-macosx_10_9_x86_64.whl.metadata (19 kB)\n",
      "Collecting numpy>=1.26.0 (from pandas)\n",
      "  Downloading numpy-2.0.0-cp312-cp312-macosx_10_9_x86_64.whl.metadata (60 kB)\n",
      "\u001b[2K     \u001b[90m━━━━━━━━━━━━━━━━━━━━━━━━━━━━━━━━━━━━━━━\u001b[0m \u001b[32m60.9/60.9 kB\u001b[0m \u001b[31m915.0 kB/s\u001b[0m eta \u001b[36m0:00:00\u001b[0m \u001b[36m0:00:01\u001b[0m\n",
      "\u001b[?25hRequirement already satisfied: python-dateutil>=2.8.2 in /opt/anaconda3/envs/yandex/lib/python3.12/site-packages (from pandas) (2.9.0.post0)\n",
      "Requirement already satisfied: pytz>=2020.1 in /opt/anaconda3/envs/yandex/lib/python3.12/site-packages (from pandas) (2024.1)\n",
      "Collecting tzdata>=2022.7 (from pandas)\n",
      "  Using cached tzdata-2024.1-py2.py3-none-any.whl.metadata (1.4 kB)\n",
      "Requirement already satisfied: six>=1.5 in /opt/anaconda3/envs/yandex/lib/python3.12/site-packages (from python-dateutil>=2.8.2->pandas) (1.16.0)\n",
      "Downloading pandas-2.2.2-cp312-cp312-macosx_10_9_x86_64.whl (12.5 MB)\n",
      "\u001b[2K   \u001b[90m━━━━━━━━━━━━━━━━━━━━━━━━━━━━━━━━━━━━━━━━\u001b[0m \u001b[32m12.5/12.5 MB\u001b[0m \u001b[31m10.2 MB/s\u001b[0m eta \u001b[36m0:00:00\u001b[0m00:01\u001b[0m00:01\u001b[0m\n",
      "\u001b[?25hDownloading numpy-2.0.0-cp312-cp312-macosx_10_9_x86_64.whl (20.9 MB)\n",
      "\u001b[2K   \u001b[90m━━━━━━━━━━━━━━━━━━━━━━━━━━━━━━━━━━━━━━━━\u001b[0m \u001b[32m20.9/20.9 MB\u001b[0m \u001b[31m9.5 MB/s\u001b[0m eta \u001b[36m0:00:00\u001b[0m:00:01\u001b[0m00:01\u001b[0m\n",
      "\u001b[?25hUsing cached tzdata-2024.1-py2.py3-none-any.whl (345 kB)\n",
      "Installing collected packages: tzdata, numpy, pandas\n",
      "Successfully installed numpy-2.0.0 pandas-2.2.2 tzdata-2024.1\n",
      "Note: you may need to restart the kernel to use updated packages.\n"
     ]
    }
   ],
   "source": [
    "pip install pandas"
   ]
  },
  {
   "cell_type": "code",
   "execution_count": 2,
   "id": "7b3a4e35-53a0-4235-b2c3-a5a3fdb3a3c4",
   "metadata": {},
   "outputs": [
    {
     "name": "stdout",
     "output_type": "stream",
     "text": [
      "       children  days_employed  dob_years education  education_id  \\\n",
      "0             1   -8437.673028         42    высшее             0   \n",
      "1             1   -4024.803754         36   среднее             1   \n",
      "2             0   -5623.422610         33   Среднее             1   \n",
      "3             3   -4124.747207         32   среднее             1   \n",
      "4             0  340266.072047         53   среднее             1   \n",
      "...         ...            ...        ...       ...           ...   \n",
      "21520         1   -4529.316663         43   среднее             1   \n",
      "21521         0  343937.404131         67   среднее             1   \n",
      "21522         1   -2113.346888         38   среднее             1   \n",
      "21523         3   -3112.481705         38   среднее             1   \n",
      "21524         2   -1984.507589         40   среднее             1   \n",
      "\n",
      "          family_status  family_status_id gender income_type  debt  \\\n",
      "0       женат / замужем                 0      F   сотрудник     0   \n",
      "1       женат / замужем                 0      F   сотрудник     0   \n",
      "2       женат / замужем                 0      M   сотрудник     0   \n",
      "3       женат / замужем                 0      M   сотрудник     0   \n",
      "4      гражданский брак                 1      F   пенсионер     0   \n",
      "...                 ...               ...    ...         ...   ...   \n",
      "21520  гражданский брак                 1      F   компаньон     0   \n",
      "21521   женат / замужем                 0      F   пенсионер     0   \n",
      "21522  гражданский брак                 1      M   сотрудник     1   \n",
      "21523   женат / замужем                 0      M   сотрудник     1   \n",
      "21524   женат / замужем                 0      F   сотрудник     0   \n",
      "\n",
      "        total_income                       purpose  \n",
      "0      253875.639453                 покупка жилья  \n",
      "1      112080.014102       приобретение автомобиля  \n",
      "2      145885.952297                 покупка жилья  \n",
      "3      267628.550329    дополнительное образование  \n",
      "4      158616.077870               сыграть свадьбу  \n",
      "...              ...                           ...  \n",
      "21520  224791.862382             операции с жильем  \n",
      "21521  155999.806512          сделка с автомобилем  \n",
      "21522   89672.561153                  недвижимость  \n",
      "21523  244093.050500  на покупку своего автомобиля  \n",
      "21524   82047.418899         на покупку автомобиля  \n",
      "\n",
      "[21525 rows x 12 columns]\n"
     ]
    }
   ],
   "source": [
    "import pandas as pd\n",
    "data = pd.read_csv('data.csv')\n",
    "print(data)"
   ]
  },
  {
   "cell_type": "code",
   "execution_count": 4,
   "id": "0766aea8-264b-4ba0-b4ac-3e6a92e5b714",
   "metadata": {},
   "outputs": [
    {
     "name": "stdout",
     "output_type": "stream",
     "text": [
      "<class 'pandas.core.frame.DataFrame'>\n",
      "RangeIndex: 21525 entries, 0 to 21524\n",
      "Data columns (total 12 columns):\n",
      " #   Column            Non-Null Count  Dtype  \n",
      "---  ------            --------------  -----  \n",
      " 0   children          21525 non-null  int64  \n",
      " 1   days_employed     19351 non-null  float64\n",
      " 2   dob_years         21525 non-null  int64  \n",
      " 3   education         21525 non-null  object \n",
      " 4   education_id      21525 non-null  int64  \n",
      " 5   family_status     21525 non-null  object \n",
      " 6   family_status_id  21525 non-null  int64  \n",
      " 7   gender            21525 non-null  object \n",
      " 8   income_type       21525 non-null  object \n",
      " 9   debt              21525 non-null  int64  \n",
      " 10  total_income      19351 non-null  float64\n",
      " 11  purpose           21525 non-null  object \n",
      "dtypes: float64(2), int64(5), object(5)\n",
      "memory usage: 2.0+ MB\n",
      "None\n"
     ]
    }
   ],
   "source": [
    "print(data.info())"
   ]
  },
  {
   "cell_type": "code",
   "execution_count": null,
   "id": "3b8b8f81-80b1-46bd-a707-88fe020631fb",
   "metadata": {},
   "outputs": [],
   "source": []
  }
 ],
 "metadata": {
  "kernelspec": {
   "display_name": "Python 3 (ipykernel)",
   "language": "python",
   "name": "python3"
  },
  "language_info": {
   "codemirror_mode": {
    "name": "ipython",
    "version": 3
   },
   "file_extension": ".py",
   "mimetype": "text/x-python",
   "name": "python",
   "nbconvert_exporter": "python",
   "pygments_lexer": "ipython3",
   "version": "3.12.4"
  }
 },
 "nbformat": 4,
 "nbformat_minor": 5
}
