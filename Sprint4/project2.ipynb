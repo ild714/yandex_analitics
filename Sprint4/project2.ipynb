{
 "cells": [
  {
   "cell_type": "markdown",
   "id": "1192e1b9-7a90-48dd-9c55-4867c4c9f2a0",
   "metadata": {},
   "source": [
    "Почему-то в прошлый раз неправильно загрузился проект(без правок). Сейчас должно быть верно"
   ]
  },
  {
   "cell_type": "markdown",
   "id": "22e0ead2",
   "metadata": {},
   "source": [
    "Привет! Меня зовут Исмаил, я буду проверять твой проект :) Можешь обращаться ко мне на «ты». Если тебе комфортно, то и я буду к тебе так обращаться, если нет, то обязательно скажи об этом.\n",
    "\n",
    "Пожалуйста, не удаляй мои комментарии, которые я буду оставлять в работе. Это особенно поможет, если твои проекты будут отправлены на повторную проверку. При повторных проверках у комментариев будут приписки: \"Вторая итерация\", \"Третья итерация\" и т.д. \n",
    "\n",
    "Ты тоже можешь реагировать на мои комментарии, но в таком случае постарайся, чтобы твои комментарии отличались от моих: например, выделяй их своим любимым цветом — так у нас не возникнет путаницы :)\n",
    "\n",
    "Кстати, про цвета! Мои комментарии будут в следующей цветовой гамме: зелеными, желтыми и красными. Например:\n",
    "\n",
    "<div class=\"alert-success\"> \n",
    "<b>Комментарий ревьюера 👍 </b>\n",
    "    \n",
    "В случае, если решение на отдельном шаге является полностью правильным. </div>\n",
    "\n",
    "<div class=\"alert-warning\"> \n",
    "<b>Комментарий ревьюера 💡</b> \n",
    "    \n",
    "В случае, если решение может стать еще лучше с некоторыми корректировками </div>\n",
    " \n",
    "<div class=\"alert-danger\"> \n",
    "<b>Комментарий ревьюера ❌</b> \n",
    "    \n",
    "В случае, если решение какого-то шага требует значительных изменений. Проект не может быть принят с первого раза, если ревью содержит комментарии, помеченные этим цветом </div>"
   ]
  },
  {
   "cell_type": "markdown",
   "id": "4f11de00",
   "metadata": {
    "deletable": false,
    "editable": false,
    "id": "4f11de00"
   },
   "source": [
    "# Исследование надежности заемщиков"
   ]
  },
  {
   "cell_type": "markdown",
   "id": "f09d6878",
   "metadata": {
    "deletable": false,
    "editable": false,
    "id": "f09d6878"
   },
   "source": [
    "Это первая часть проекта, она будет проверена автоматически. Вторую часть проверит ревьюер. "
   ]
  },
  {
   "cell_type": "markdown",
   "id": "516620ee",
   "metadata": {
    "deletable": false,
    "editable": false,
    "id": "516620ee"
   },
   "source": [
    "## Откройте таблицу и изучите общую информацию о данных"
   ]
  },
  {
   "cell_type": "markdown",
   "id": "76a8a9ce",
   "metadata": {
    "deletable": false,
    "editable": false,
    "id": "76a8a9ce",
    "tags": [
     "start_task"
    ]
   },
   "source": [
    "**Задание 1. Импортируйте библиотеку pandas. Считайте данные из csv-файла в датафрейм и сохраните в переменную `data`. Путь к файлу:**\n",
    "\n",
    "`/datasets/data.csv`"
   ]
  },
  {
   "cell_type": "code",
   "execution_count": 6,
   "id": "fab207d0",
   "metadata": {
    "id": "fab207d0"
   },
   "outputs": [],
   "source": [
    "# импортируйте библиотеку pandas\n",
    "import pandas as pd"
   ]
  },
  {
   "cell_type": "code",
   "execution_count": 7,
   "id": "6c82b607",
   "metadata": {
    "id": "6c82b607"
   },
   "outputs": [],
   "source": [
    "# прочитайте csv-файл\n",
    "\n",
    "try:\n",
    "    data = pd.read_csv('/datasets/data.csv')\n",
    "except:\n",
    "    data = pd.read_csv('https://code.s3.yandex.net/datasets/data.csv')"
   ]
  },
  {
   "cell_type": "markdown",
   "id": "08bbb5b3",
   "metadata": {
    "deletable": false,
    "editable": false,
    "id": "08bbb5b3",
    "tags": [
     "start_task"
    ]
   },
   "source": [
    "**Задание 2. Выведите первые 20 строчек датафрейма `data` на экран.**"
   ]
  },
  {
   "cell_type": "code",
   "execution_count": 8,
   "id": "4ff33b36",
   "metadata": {
    "id": "4ff33b36"
   },
   "outputs": [
    {
     "data": {
      "text/html": [
       "<div>\n",
       "<style scoped>\n",
       "    .dataframe tbody tr th:only-of-type {\n",
       "        vertical-align: middle;\n",
       "    }\n",
       "\n",
       "    .dataframe tbody tr th {\n",
       "        vertical-align: top;\n",
       "    }\n",
       "\n",
       "    .dataframe thead th {\n",
       "        text-align: right;\n",
       "    }\n",
       "</style>\n",
       "<table border=\"1\" class=\"dataframe\">\n",
       "  <thead>\n",
       "    <tr style=\"text-align: right;\">\n",
       "      <th></th>\n",
       "      <th>children</th>\n",
       "      <th>days_employed</th>\n",
       "      <th>dob_years</th>\n",
       "      <th>education</th>\n",
       "      <th>education_id</th>\n",
       "      <th>family_status</th>\n",
       "      <th>family_status_id</th>\n",
       "      <th>gender</th>\n",
       "      <th>income_type</th>\n",
       "      <th>debt</th>\n",
       "      <th>total_income</th>\n",
       "      <th>purpose</th>\n",
       "    </tr>\n",
       "  </thead>\n",
       "  <tbody>\n",
       "    <tr>\n",
       "      <th>0</th>\n",
       "      <td>1</td>\n",
       "      <td>-8437.673028</td>\n",
       "      <td>42</td>\n",
       "      <td>высшее</td>\n",
       "      <td>0</td>\n",
       "      <td>женат / замужем</td>\n",
       "      <td>0</td>\n",
       "      <td>F</td>\n",
       "      <td>сотрудник</td>\n",
       "      <td>0</td>\n",
       "      <td>253875.639453</td>\n",
       "      <td>покупка жилья</td>\n",
       "    </tr>\n",
       "    <tr>\n",
       "      <th>1</th>\n",
       "      <td>1</td>\n",
       "      <td>-4024.803754</td>\n",
       "      <td>36</td>\n",
       "      <td>среднее</td>\n",
       "      <td>1</td>\n",
       "      <td>женат / замужем</td>\n",
       "      <td>0</td>\n",
       "      <td>F</td>\n",
       "      <td>сотрудник</td>\n",
       "      <td>0</td>\n",
       "      <td>112080.014102</td>\n",
       "      <td>приобретение автомобиля</td>\n",
       "    </tr>\n",
       "    <tr>\n",
       "      <th>2</th>\n",
       "      <td>0</td>\n",
       "      <td>-5623.422610</td>\n",
       "      <td>33</td>\n",
       "      <td>Среднее</td>\n",
       "      <td>1</td>\n",
       "      <td>женат / замужем</td>\n",
       "      <td>0</td>\n",
       "      <td>M</td>\n",
       "      <td>сотрудник</td>\n",
       "      <td>0</td>\n",
       "      <td>145885.952297</td>\n",
       "      <td>покупка жилья</td>\n",
       "    </tr>\n",
       "    <tr>\n",
       "      <th>3</th>\n",
       "      <td>3</td>\n",
       "      <td>-4124.747207</td>\n",
       "      <td>32</td>\n",
       "      <td>среднее</td>\n",
       "      <td>1</td>\n",
       "      <td>женат / замужем</td>\n",
       "      <td>0</td>\n",
       "      <td>M</td>\n",
       "      <td>сотрудник</td>\n",
       "      <td>0</td>\n",
       "      <td>267628.550329</td>\n",
       "      <td>дополнительное образование</td>\n",
       "    </tr>\n",
       "    <tr>\n",
       "      <th>4</th>\n",
       "      <td>0</td>\n",
       "      <td>340266.072047</td>\n",
       "      <td>53</td>\n",
       "      <td>среднее</td>\n",
       "      <td>1</td>\n",
       "      <td>гражданский брак</td>\n",
       "      <td>1</td>\n",
       "      <td>F</td>\n",
       "      <td>пенсионер</td>\n",
       "      <td>0</td>\n",
       "      <td>158616.077870</td>\n",
       "      <td>сыграть свадьбу</td>\n",
       "    </tr>\n",
       "    <tr>\n",
       "      <th>5</th>\n",
       "      <td>0</td>\n",
       "      <td>-926.185831</td>\n",
       "      <td>27</td>\n",
       "      <td>высшее</td>\n",
       "      <td>0</td>\n",
       "      <td>гражданский брак</td>\n",
       "      <td>1</td>\n",
       "      <td>M</td>\n",
       "      <td>компаньон</td>\n",
       "      <td>0</td>\n",
       "      <td>255763.565419</td>\n",
       "      <td>покупка жилья</td>\n",
       "    </tr>\n",
       "    <tr>\n",
       "      <th>6</th>\n",
       "      <td>0</td>\n",
       "      <td>-2879.202052</td>\n",
       "      <td>43</td>\n",
       "      <td>высшее</td>\n",
       "      <td>0</td>\n",
       "      <td>женат / замужем</td>\n",
       "      <td>0</td>\n",
       "      <td>F</td>\n",
       "      <td>компаньон</td>\n",
       "      <td>0</td>\n",
       "      <td>240525.971920</td>\n",
       "      <td>операции с жильем</td>\n",
       "    </tr>\n",
       "    <tr>\n",
       "      <th>7</th>\n",
       "      <td>0</td>\n",
       "      <td>-152.779569</td>\n",
       "      <td>50</td>\n",
       "      <td>СРЕДНЕЕ</td>\n",
       "      <td>1</td>\n",
       "      <td>женат / замужем</td>\n",
       "      <td>0</td>\n",
       "      <td>M</td>\n",
       "      <td>сотрудник</td>\n",
       "      <td>0</td>\n",
       "      <td>135823.934197</td>\n",
       "      <td>образование</td>\n",
       "    </tr>\n",
       "    <tr>\n",
       "      <th>8</th>\n",
       "      <td>2</td>\n",
       "      <td>-6929.865299</td>\n",
       "      <td>35</td>\n",
       "      <td>ВЫСШЕЕ</td>\n",
       "      <td>0</td>\n",
       "      <td>гражданский брак</td>\n",
       "      <td>1</td>\n",
       "      <td>F</td>\n",
       "      <td>сотрудник</td>\n",
       "      <td>0</td>\n",
       "      <td>95856.832424</td>\n",
       "      <td>на проведение свадьбы</td>\n",
       "    </tr>\n",
       "    <tr>\n",
       "      <th>9</th>\n",
       "      <td>0</td>\n",
       "      <td>-2188.756445</td>\n",
       "      <td>41</td>\n",
       "      <td>среднее</td>\n",
       "      <td>1</td>\n",
       "      <td>женат / замужем</td>\n",
       "      <td>0</td>\n",
       "      <td>M</td>\n",
       "      <td>сотрудник</td>\n",
       "      <td>0</td>\n",
       "      <td>144425.938277</td>\n",
       "      <td>покупка жилья для семьи</td>\n",
       "    </tr>\n",
       "    <tr>\n",
       "      <th>10</th>\n",
       "      <td>2</td>\n",
       "      <td>-4171.483647</td>\n",
       "      <td>36</td>\n",
       "      <td>высшее</td>\n",
       "      <td>0</td>\n",
       "      <td>женат / замужем</td>\n",
       "      <td>0</td>\n",
       "      <td>M</td>\n",
       "      <td>компаньон</td>\n",
       "      <td>0</td>\n",
       "      <td>113943.491460</td>\n",
       "      <td>покупка недвижимости</td>\n",
       "    </tr>\n",
       "    <tr>\n",
       "      <th>11</th>\n",
       "      <td>0</td>\n",
       "      <td>-792.701887</td>\n",
       "      <td>40</td>\n",
       "      <td>среднее</td>\n",
       "      <td>1</td>\n",
       "      <td>женат / замужем</td>\n",
       "      <td>0</td>\n",
       "      <td>F</td>\n",
       "      <td>сотрудник</td>\n",
       "      <td>0</td>\n",
       "      <td>77069.234271</td>\n",
       "      <td>покупка коммерческой недвижимости</td>\n",
       "    </tr>\n",
       "    <tr>\n",
       "      <th>12</th>\n",
       "      <td>0</td>\n",
       "      <td>NaN</td>\n",
       "      <td>65</td>\n",
       "      <td>среднее</td>\n",
       "      <td>1</td>\n",
       "      <td>гражданский брак</td>\n",
       "      <td>1</td>\n",
       "      <td>M</td>\n",
       "      <td>пенсионер</td>\n",
       "      <td>0</td>\n",
       "      <td>NaN</td>\n",
       "      <td>сыграть свадьбу</td>\n",
       "    </tr>\n",
       "    <tr>\n",
       "      <th>13</th>\n",
       "      <td>0</td>\n",
       "      <td>-1846.641941</td>\n",
       "      <td>54</td>\n",
       "      <td>неоконченное высшее</td>\n",
       "      <td>2</td>\n",
       "      <td>женат / замужем</td>\n",
       "      <td>0</td>\n",
       "      <td>F</td>\n",
       "      <td>сотрудник</td>\n",
       "      <td>0</td>\n",
       "      <td>130458.228857</td>\n",
       "      <td>приобретение автомобиля</td>\n",
       "    </tr>\n",
       "    <tr>\n",
       "      <th>14</th>\n",
       "      <td>0</td>\n",
       "      <td>-1844.956182</td>\n",
       "      <td>56</td>\n",
       "      <td>высшее</td>\n",
       "      <td>0</td>\n",
       "      <td>гражданский брак</td>\n",
       "      <td>1</td>\n",
       "      <td>F</td>\n",
       "      <td>компаньон</td>\n",
       "      <td>1</td>\n",
       "      <td>165127.911772</td>\n",
       "      <td>покупка жилой недвижимости</td>\n",
       "    </tr>\n",
       "    <tr>\n",
       "      <th>15</th>\n",
       "      <td>1</td>\n",
       "      <td>-972.364419</td>\n",
       "      <td>26</td>\n",
       "      <td>среднее</td>\n",
       "      <td>1</td>\n",
       "      <td>женат / замужем</td>\n",
       "      <td>0</td>\n",
       "      <td>F</td>\n",
       "      <td>сотрудник</td>\n",
       "      <td>0</td>\n",
       "      <td>116820.904450</td>\n",
       "      <td>строительство собственной недвижимости</td>\n",
       "    </tr>\n",
       "    <tr>\n",
       "      <th>16</th>\n",
       "      <td>0</td>\n",
       "      <td>-1719.934226</td>\n",
       "      <td>35</td>\n",
       "      <td>среднее</td>\n",
       "      <td>1</td>\n",
       "      <td>женат / замужем</td>\n",
       "      <td>0</td>\n",
       "      <td>F</td>\n",
       "      <td>сотрудник</td>\n",
       "      <td>0</td>\n",
       "      <td>289202.704229</td>\n",
       "      <td>недвижимость</td>\n",
       "    </tr>\n",
       "    <tr>\n",
       "      <th>17</th>\n",
       "      <td>0</td>\n",
       "      <td>-2369.999720</td>\n",
       "      <td>33</td>\n",
       "      <td>высшее</td>\n",
       "      <td>0</td>\n",
       "      <td>гражданский брак</td>\n",
       "      <td>1</td>\n",
       "      <td>M</td>\n",
       "      <td>сотрудник</td>\n",
       "      <td>0</td>\n",
       "      <td>90410.586745</td>\n",
       "      <td>строительство недвижимости</td>\n",
       "    </tr>\n",
       "    <tr>\n",
       "      <th>18</th>\n",
       "      <td>0</td>\n",
       "      <td>400281.136913</td>\n",
       "      <td>53</td>\n",
       "      <td>среднее</td>\n",
       "      <td>1</td>\n",
       "      <td>вдовец / вдова</td>\n",
       "      <td>2</td>\n",
       "      <td>F</td>\n",
       "      <td>пенсионер</td>\n",
       "      <td>0</td>\n",
       "      <td>56823.777243</td>\n",
       "      <td>на покупку подержанного автомобиля</td>\n",
       "    </tr>\n",
       "    <tr>\n",
       "      <th>19</th>\n",
       "      <td>0</td>\n",
       "      <td>-10038.818549</td>\n",
       "      <td>48</td>\n",
       "      <td>СРЕДНЕЕ</td>\n",
       "      <td>1</td>\n",
       "      <td>в разводе</td>\n",
       "      <td>3</td>\n",
       "      <td>F</td>\n",
       "      <td>сотрудник</td>\n",
       "      <td>0</td>\n",
       "      <td>242831.107982</td>\n",
       "      <td>на покупку своего автомобиля</td>\n",
       "    </tr>\n",
       "  </tbody>\n",
       "</table>\n",
       "</div>"
      ],
      "text/plain": [
       "    children  days_employed  dob_years            education  education_id  \\\n",
       "0          1   -8437.673028         42               высшее             0   \n",
       "1          1   -4024.803754         36              среднее             1   \n",
       "2          0   -5623.422610         33              Среднее             1   \n",
       "3          3   -4124.747207         32              среднее             1   \n",
       "4          0  340266.072047         53              среднее             1   \n",
       "5          0    -926.185831         27               высшее             0   \n",
       "6          0   -2879.202052         43               высшее             0   \n",
       "7          0    -152.779569         50              СРЕДНЕЕ             1   \n",
       "8          2   -6929.865299         35               ВЫСШЕЕ             0   \n",
       "9          0   -2188.756445         41              среднее             1   \n",
       "10         2   -4171.483647         36               высшее             0   \n",
       "11         0    -792.701887         40              среднее             1   \n",
       "12         0            NaN         65              среднее             1   \n",
       "13         0   -1846.641941         54  неоконченное высшее             2   \n",
       "14         0   -1844.956182         56               высшее             0   \n",
       "15         1    -972.364419         26              среднее             1   \n",
       "16         0   -1719.934226         35              среднее             1   \n",
       "17         0   -2369.999720         33               высшее             0   \n",
       "18         0  400281.136913         53              среднее             1   \n",
       "19         0  -10038.818549         48              СРЕДНЕЕ             1   \n",
       "\n",
       "       family_status  family_status_id gender income_type  debt  \\\n",
       "0    женат / замужем                 0      F   сотрудник     0   \n",
       "1    женат / замужем                 0      F   сотрудник     0   \n",
       "2    женат / замужем                 0      M   сотрудник     0   \n",
       "3    женат / замужем                 0      M   сотрудник     0   \n",
       "4   гражданский брак                 1      F   пенсионер     0   \n",
       "5   гражданский брак                 1      M   компаньон     0   \n",
       "6    женат / замужем                 0      F   компаньон     0   \n",
       "7    женат / замужем                 0      M   сотрудник     0   \n",
       "8   гражданский брак                 1      F   сотрудник     0   \n",
       "9    женат / замужем                 0      M   сотрудник     0   \n",
       "10   женат / замужем                 0      M   компаньон     0   \n",
       "11   женат / замужем                 0      F   сотрудник     0   \n",
       "12  гражданский брак                 1      M   пенсионер     0   \n",
       "13   женат / замужем                 0      F   сотрудник     0   \n",
       "14  гражданский брак                 1      F   компаньон     1   \n",
       "15   женат / замужем                 0      F   сотрудник     0   \n",
       "16   женат / замужем                 0      F   сотрудник     0   \n",
       "17  гражданский брак                 1      M   сотрудник     0   \n",
       "18    вдовец / вдова                 2      F   пенсионер     0   \n",
       "19         в разводе                 3      F   сотрудник     0   \n",
       "\n",
       "     total_income                                 purpose  \n",
       "0   253875.639453                           покупка жилья  \n",
       "1   112080.014102                 приобретение автомобиля  \n",
       "2   145885.952297                           покупка жилья  \n",
       "3   267628.550329              дополнительное образование  \n",
       "4   158616.077870                         сыграть свадьбу  \n",
       "5   255763.565419                           покупка жилья  \n",
       "6   240525.971920                       операции с жильем  \n",
       "7   135823.934197                             образование  \n",
       "8    95856.832424                   на проведение свадьбы  \n",
       "9   144425.938277                 покупка жилья для семьи  \n",
       "10  113943.491460                    покупка недвижимости  \n",
       "11   77069.234271       покупка коммерческой недвижимости  \n",
       "12            NaN                         сыграть свадьбу  \n",
       "13  130458.228857                 приобретение автомобиля  \n",
       "14  165127.911772              покупка жилой недвижимости  \n",
       "15  116820.904450  строительство собственной недвижимости  \n",
       "16  289202.704229                            недвижимость  \n",
       "17   90410.586745              строительство недвижимости  \n",
       "18   56823.777243      на покупку подержанного автомобиля  \n",
       "19  242831.107982            на покупку своего автомобиля  "
      ]
     },
     "execution_count": 8,
     "metadata": {},
     "output_type": "execute_result"
    }
   ],
   "source": [
    "# ваш код здесь\n",
    "data.head(20)"
   ]
  },
  {
   "cell_type": "markdown",
   "id": "c8f382ae",
   "metadata": {
    "deletable": false,
    "editable": false,
    "id": "c8f382ae",
    "tags": [
     "start_task"
    ]
   },
   "source": [
    "**Задание 3. Выведите основную информацию о датафрейме с помощью метода `info()`.**"
   ]
  },
  {
   "cell_type": "code",
   "execution_count": 9,
   "id": "e1ed9908",
   "metadata": {
    "id": "e1ed9908"
   },
   "outputs": [
    {
     "name": "stdout",
     "output_type": "stream",
     "text": [
      "<class 'pandas.core.frame.DataFrame'>\n",
      "RangeIndex: 21525 entries, 0 to 21524\n",
      "Data columns (total 12 columns):\n",
      " #   Column            Non-Null Count  Dtype  \n",
      "---  ------            --------------  -----  \n",
      " 0   children          21525 non-null  int64  \n",
      " 1   days_employed     19351 non-null  float64\n",
      " 2   dob_years         21525 non-null  int64  \n",
      " 3   education         21525 non-null  object \n",
      " 4   education_id      21525 non-null  int64  \n",
      " 5   family_status     21525 non-null  object \n",
      " 6   family_status_id  21525 non-null  int64  \n",
      " 7   gender            21525 non-null  object \n",
      " 8   income_type       21525 non-null  object \n",
      " 9   debt              21525 non-null  int64  \n",
      " 10  total_income      19351 non-null  float64\n",
      " 11  purpose           21525 non-null  object \n",
      "dtypes: float64(2), int64(5), object(5)\n",
      "memory usage: 2.0+ MB\n",
      "None\n"
     ]
    }
   ],
   "source": [
    "# ваш код здесь\n",
    "print(data.info())"
   ]
  },
  {
   "cell_type": "markdown",
   "id": "f969a1cd",
   "metadata": {
    "deletable": false,
    "editable": false,
    "id": "f969a1cd"
   },
   "source": [
    "## Предобработка данных"
   ]
  },
  {
   "cell_type": "markdown",
   "id": "7283e864",
   "metadata": {
    "deletable": false,
    "editable": false,
    "id": "7283e864"
   },
   "source": [
    "### Удаление пропусков"
   ]
  },
  {
   "cell_type": "markdown",
   "id": "c9a0745e",
   "metadata": {
    "deletable": false,
    "editable": false,
    "id": "c9a0745e",
    "tags": [
     "start_task"
    ]
   },
   "source": [
    "**Задание 4. Выведите количество пропущенных значений для каждого столбца. Используйте комбинацию двух методов.**"
   ]
  },
  {
   "cell_type": "code",
   "execution_count": 10,
   "id": "b7a096e1",
   "metadata": {
    "id": "b7a096e1"
   },
   "outputs": [
    {
     "name": "stdout",
     "output_type": "stream",
     "text": [
      "children               0\n",
      "days_employed       2174\n",
      "dob_years              0\n",
      "education              0\n",
      "education_id           0\n",
      "family_status          0\n",
      "family_status_id       0\n",
      "gender                 0\n",
      "income_type            0\n",
      "debt                   0\n",
      "total_income        2174\n",
      "purpose                0\n",
      "dtype: int64\n"
     ]
    }
   ],
   "source": [
    "# ваш код здесь\n",
    "print(data.isna().sum())"
   ]
  },
  {
   "cell_type": "markdown",
   "id": "c2578616",
   "metadata": {
    "deletable": false,
    "editable": false,
    "id": "c2578616",
    "tags": [
     "start_task"
    ]
   },
   "source": [
    "**Задание 5. В двух столбцах есть пропущенные значения. Один из них — `days_employed`. Пропуски в этом столбце вы обработаете на следующем этапе. Другой столбец с пропущенными значениями — `total_income` — хранит данные о доходах. На сумму дохода сильнее всего влияет тип занятости, поэтому заполнить пропуски в этом столбце нужно медианным значением по каждому типу из столбца `income_type`. Например, у человека с типом занятости `сотрудник` пропуск в столбце `total_income` должен быть заполнен медианным доходом среди всех записей с тем же типом.**"
   ]
  },
  {
   "cell_type": "code",
   "execution_count": 11,
   "id": "e8afc4bc",
   "metadata": {
    "id": "e8afc4bc"
   },
   "outputs": [],
   "source": [
    "for d in data['income_type'].unique():\n",
    "    data.loc[(data['income_type'] == d) & (data['total_income'].isna()), 'total_income'] = data.loc[(data['income_type'] == d), 'total_income'].median()"
   ]
  },
  {
   "cell_type": "markdown",
   "id": "ae986d46",
   "metadata": {
    "deletable": false,
    "editable": false,
    "id": "ae986d46"
   },
   "source": [
    "### Обработка аномальных значений"
   ]
  },
  {
   "cell_type": "markdown",
   "id": "b049cbae",
   "metadata": {
    "deletable": false,
    "editable": false,
    "id": "b049cbae",
    "tags": [
     "start_task"
    ]
   },
   "source": [
    "**Задание 6. В данных могут встречаться артефакты (аномалии) — значения, которые не отражают действительность и появились по какой-то ошибке. Таким артефактом будет отрицательное количество дней трудового стажа в столбце `days_employed`. Для реальных данных это нормально. Обработайте значения в этом столбце: замените все отрицательные значения положительными с помощью метода `abs()`.**"
   ]
  },
  {
   "cell_type": "code",
   "execution_count": 12,
   "id": "187779b0",
   "metadata": {
    "id": "187779b0"
   },
   "outputs": [],
   "source": [
    "data['days_employed'] = abs(data['days_employed'])# ваш код здесь"
   ]
  },
  {
   "cell_type": "markdown",
   "id": "a13054c2",
   "metadata": {
    "deletable": false,
    "editable": false,
    "id": "a13054c2",
    "tags": [
     "start_task"
    ]
   },
   "source": [
    "**Задание 7. Для каждого типа занятости выведите медианное значение трудового стажа `days_employed` в днях.**"
   ]
  },
  {
   "cell_type": "code",
   "execution_count": 13,
   "id": "f3f5810c",
   "metadata": {
    "id": "f3f5810c"
   },
   "outputs": [
    {
     "name": "stdout",
     "output_type": "stream",
     "text": [
      "income_type\n",
      "безработный        366413.652744\n",
      "в декрете            3296.759962\n",
      "госслужащий          2689.368353\n",
      "компаньон            1547.382223\n",
      "пенсионер          365213.306266\n",
      "предприниматель       520.848083\n",
      "сотрудник            1574.202821\n",
      "студент               578.751554\n",
      "Name: days_employed, dtype: float64\n"
     ]
    }
   ],
   "source": [
    "print(data.groupby('income_type')['days_employed'].median())# ваш код здесь"
   ]
  },
  {
   "cell_type": "markdown",
   "id": "dbc3168c",
   "metadata": {
    "deletable": false,
    "editable": false,
    "id": "dbc3168c"
   },
   "source": [
    "У двух типов (безработные и пенсионеры) получатся аномально большие значения. Исправить такие значения сложно, поэтому оставьте их как есть."
   ]
  },
  {
   "cell_type": "markdown",
   "id": "ff4378c2",
   "metadata": {
    "deletable": false,
    "editable": false,
    "id": "ff4378c2",
    "tags": [
     "start_task"
    ]
   },
   "source": [
    "**Задание 8. Выведите перечень уникальных значений столбца `children`.**"
   ]
  },
  {
   "cell_type": "code",
   "execution_count": 14,
   "id": "9bd0c232",
   "metadata": {
    "id": "9bd0c232"
   },
   "outputs": [
    {
     "name": "stdout",
     "output_type": "stream",
     "text": [
      "[ 1  0  3  2 -1  4 20  5]\n"
     ]
    }
   ],
   "source": [
    "# ваш код здесь\n",
    "print(data['children'].unique())"
   ]
  },
  {
   "cell_type": "markdown",
   "id": "8e911990",
   "metadata": {
    "deletable": false,
    "editable": false,
    "id": "8e911990",
    "tags": [
     "start_task"
    ]
   },
   "source": [
    "**Задание 9. В столбце `children` есть два аномальных значения. Удалите строки, в которых встречаются такие аномальные значения из датафрейма `data`.**"
   ]
  },
  {
   "cell_type": "code",
   "execution_count": 15,
   "id": "6d5ba289",
   "metadata": {
    "id": "6d5ba289"
   },
   "outputs": [],
   "source": [
    "# ваш код здесь\n",
    "index_names = data[(data['children'] == -1) | (data['children'] == 20)].index\n",
    "data.drop(index_names, inplace = True) "
   ]
  },
  {
   "cell_type": "markdown",
   "id": "18d77455",
   "metadata": {
    "deletable": false,
    "editable": false,
    "id": "18d77455",
    "tags": [
     "start_task"
    ]
   },
   "source": [
    "**Задание 10. Ещё раз выведите перечень уникальных значений столбца `children`, чтобы убедиться, что артефакты удалены.**"
   ]
  },
  {
   "cell_type": "code",
   "execution_count": 16,
   "id": "2c5fa92c",
   "metadata": {
    "id": "2c5fa92c"
   },
   "outputs": [
    {
     "name": "stdout",
     "output_type": "stream",
     "text": [
      "[1 0 3 2 4 5]\n"
     ]
    }
   ],
   "source": [
    "# ваш код здесь\n",
    "print(data['children'].unique())"
   ]
  },
  {
   "cell_type": "markdown",
   "id": "0ec07dee",
   "metadata": {
    "deletable": false,
    "editable": false,
    "id": "0ec07dee"
   },
   "source": [
    "### Удаление пропусков (продолжение)"
   ]
  },
  {
   "cell_type": "markdown",
   "id": "0fc3ae3f",
   "metadata": {
    "deletable": false,
    "editable": false,
    "id": "0fc3ae3f",
    "tags": [
     "start_task"
    ]
   },
   "source": [
    "**Задание 11. Заполните пропуски в столбце `days_employed` медианными значениями по каждому типу занятости `income_type`.**"
   ]
  },
  {
   "cell_type": "code",
   "execution_count": 17,
   "id": "e2aea7ac",
   "metadata": {
    "id": "e2aea7ac"
   },
   "outputs": [],
   "source": [
    "# ваш код здесь\n",
    "for d in data['income_type'].unique():\n",
    "    data.loc[(data['income_type'] == d) & (data['days_employed'].isna()), 'days_employed'] = data.loc[(data['income_type'] == d), 'days_employed'].median()"
   ]
  },
  {
   "cell_type": "markdown",
   "id": "97b0b795",
   "metadata": {
    "deletable": false,
    "editable": false,
    "id": "97b0b795",
    "tags": [
     "start_task"
    ]
   },
   "source": [
    "**Задание 12. Убедитесь, что все пропуски заполнены. Проверьте себя и ещё раз выведите количество пропущенных значений для каждого столбца с помощью двух методов.**"
   ]
  },
  {
   "cell_type": "code",
   "execution_count": 18,
   "id": "79632a21",
   "metadata": {
    "id": "79632a21"
   },
   "outputs": [
    {
     "name": "stdout",
     "output_type": "stream",
     "text": [
      "children            0\n",
      "days_employed       0\n",
      "dob_years           0\n",
      "education           0\n",
      "education_id        0\n",
      "family_status       0\n",
      "family_status_id    0\n",
      "gender              0\n",
      "income_type         0\n",
      "debt                0\n",
      "total_income        0\n",
      "purpose             0\n",
      "dtype: int64\n"
     ]
    }
   ],
   "source": [
    "# ваш код здесь\n",
    "print(data.isna().sum())"
   ]
  },
  {
   "cell_type": "markdown",
   "id": "bd4aeb20",
   "metadata": {
    "deletable": false,
    "editable": false,
    "id": "bd4aeb20"
   },
   "source": [
    "### Изменение типов данных"
   ]
  },
  {
   "cell_type": "markdown",
   "id": "963bfa58",
   "metadata": {
    "deletable": false,
    "editable": false,
    "id": "963bfa58",
    "tags": [
     "start_task"
    ]
   },
   "source": [
    "**Задание 13. Замените вещественный тип данных в столбце `total_income` на целочисленный с помощью метода `astype()`.**"
   ]
  },
  {
   "cell_type": "code",
   "execution_count": 19,
   "id": "73da6ea0",
   "metadata": {
    "id": "73da6ea0"
   },
   "outputs": [],
   "source": [
    "# ваш код здесь\n",
    "data['total_income'] = data['total_income'].astype(int)"
   ]
  },
  {
   "cell_type": "markdown",
   "id": "d290239e",
   "metadata": {
    "deletable": false,
    "editable": false,
    "id": "d290239e"
   },
   "source": [
    "### Обработка дубликатов"
   ]
  },
  {
   "cell_type": "markdown",
   "id": "1b5844fd",
   "metadata": {
    "deletable": false,
    "editable": false,
    "id": "1b5844fd",
    "tags": [
     "start_task"
    ]
   },
   "source": [
    "**Задание 14. Обработайте неявные дубликаты в столбце `education`. В этом столбце есть одни и те же значения, но записанные по-разному: с использованием заглавных и строчных букв. Приведите их к нижнему регистру.**"
   ]
  },
  {
   "cell_type": "code",
   "execution_count": 20,
   "id": "3f2504b3",
   "metadata": {
    "id": "3f2504b3"
   },
   "outputs": [],
   "source": [
    "# ваш код здесь\n",
    "data['education'] = data['education'].str.lower()"
   ]
  },
  {
   "cell_type": "markdown",
   "id": "4c22acbc",
   "metadata": {
    "deletable": false,
    "editable": false,
    "id": "4c22acbc",
    "tags": [
     "start_task"
    ]
   },
   "source": [
    "**Задание 15. Выведите на экран количество строк-дубликатов в данных. Если такие строки присутствуют, удалите их.**"
   ]
  },
  {
   "cell_type": "code",
   "execution_count": 21,
   "id": "d34a4325",
   "metadata": {
    "id": "d34a4325"
   },
   "outputs": [
    {
     "name": "stdout",
     "output_type": "stream",
     "text": [
      "71\n"
     ]
    }
   ],
   "source": [
    "# посчитайте дубликаты\n",
    "print(data.duplicated().sum())"
   ]
  },
  {
   "cell_type": "code",
   "execution_count": 22,
   "id": "6e1a6499",
   "metadata": {
    "id": "6e1a6499"
   },
   "outputs": [],
   "source": [
    "# удалите дубликаты\n",
    "data=data.drop_duplicates()"
   ]
  },
  {
   "cell_type": "markdown",
   "id": "e5686ccc",
   "metadata": {
    "deletable": false,
    "editable": false,
    "id": "e5686ccc"
   },
   "source": [
    "### Категоризация данных"
   ]
  },
  {
   "cell_type": "markdown",
   "id": "636e9acd",
   "metadata": {
    "deletable": false,
    "editable": false,
    "id": "636e9acd",
    "tags": [
     "start_task"
    ]
   },
   "source": [
    "**Задание 16. На основании диапазонов, указанных ниже, создайте в датафрейме `data` столбец `total_income_category` с категориями:**\n",
    "\n",
    "- 0–30000 — `'E'`;\n",
    "- 30001–50000 — `'D'`;\n",
    "- 50001–200000 — `'C'`;\n",
    "- 200001–1000000 — `'B'`;\n",
    "- 1000001 и выше — `'A'`.\n",
    "\n",
    "\n",
    "**Например, кредитополучателю с доходом 25000 нужно назначить категорию `'E'`, а клиенту, получающему 235000, — `'B'`. Используйте собственную функцию с именем `categorize_income()` и метод `apply()`.**"
   ]
  },
  {
   "cell_type": "code",
   "execution_count": 23,
   "id": "880a77e5",
   "metadata": {
    "id": "880a77e5"
   },
   "outputs": [],
   "source": [
    "# создайте функцию categorize_income()\n",
    "def categorize_income(row):\n",
    "    if 0 <= row['total_income'] <= 30000:\n",
    "        return 'E'\n",
    "    elif 30001 <= row['total_income'] <= 50000:\n",
    "        return 'D'\n",
    "    elif 50001 <= row['total_income'] <= 200000:\n",
    "        return 'C'\n",
    "    elif 200001 <= row['total_income'] <= 1000000:\n",
    "        return 'B'\n",
    "    else:\n",
    "        return 'A'"
   ]
  },
  {
   "cell_type": "code",
   "execution_count": 24,
   "id": "6f25f161",
   "metadata": {
    "id": "6f25f161"
   },
   "outputs": [],
   "source": [
    "# примените функцию методом apply()\n",
    "data['total_income_category'] = data.apply(categorize_income,axis=1)"
   ]
  },
  {
   "cell_type": "markdown",
   "id": "3363b685",
   "metadata": {
    "deletable": false,
    "editable": false,
    "id": "3363b685",
    "tags": [
     "start_task"
    ]
   },
   "source": [
    "**Задание 17. Выведите на экран перечень уникальных целей взятия кредита из столбца `purpose`.**"
   ]
  },
  {
   "cell_type": "code",
   "execution_count": 25,
   "id": "e59f2c15",
   "metadata": {
    "id": "e59f2c15"
   },
   "outputs": [
    {
     "name": "stdout",
     "output_type": "stream",
     "text": [
      "['покупка жилья' 'приобретение автомобиля' 'дополнительное образование'\n",
      " 'сыграть свадьбу' 'операции с жильем' 'образование'\n",
      " 'на проведение свадьбы' 'покупка жилья для семьи' 'покупка недвижимости'\n",
      " 'покупка коммерческой недвижимости' 'покупка жилой недвижимости'\n",
      " 'строительство собственной недвижимости' 'недвижимость'\n",
      " 'строительство недвижимости' 'на покупку подержанного автомобиля'\n",
      " 'на покупку своего автомобиля' 'операции с коммерческой недвижимостью'\n",
      " 'строительство жилой недвижимости' 'жилье'\n",
      " 'операции со своей недвижимостью' 'автомобили' 'заняться образованием'\n",
      " 'сделка с подержанным автомобилем' 'получение образования' 'автомобиль'\n",
      " 'свадьба' 'получение дополнительного образования' 'покупка своего жилья'\n",
      " 'операции с недвижимостью' 'получение высшего образования'\n",
      " 'свой автомобиль' 'сделка с автомобилем' 'профильное образование'\n",
      " 'высшее образование' 'покупка жилья для сдачи' 'на покупку автомобиля'\n",
      " 'ремонт жилью' 'заняться высшим образованием']\n"
     ]
    }
   ],
   "source": [
    "# ваш код здесь\n",
    "print(data['purpose'].unique())"
   ]
  },
  {
   "cell_type": "markdown",
   "id": "bb33e847",
   "metadata": {
    "deletable": false,
    "editable": false,
    "id": "bb33e847",
    "tags": [
     "start_task"
    ]
   },
   "source": [
    "**Задание 18. Создайте функцию, которая на основании данных из столбца `purpose` сформирует новый столбец `purpose_category`, в который войдут следующие категории:**\n",
    "\n",
    "- `'операции с автомобилем'`,\n",
    "- `'операции с недвижимостью'`,\n",
    "- `'проведение свадьбы'`,\n",
    "- `'получение образования'`.\n",
    "\n",
    "**Например, если в столбце `purpose` находится подстрока `'на покупку автомобиля'`, то в столбце `purpose_category` должна появиться строка `'операции с автомобилем'`.**\n",
    "\n",
    "**Используйте собственную функцию с именем `categorize_purpose()` и метод `apply()`. Изучите данные в столбце `purpose` и определите, какие подстроки помогут вам правильно определить категорию.**"
   ]
  },
  {
   "cell_type": "code",
   "execution_count": 26,
   "id": "63909b83",
   "metadata": {
    "id": "63909b83"
   },
   "outputs": [],
   "source": [
    "# создайте функцию categorize_purpose()\n",
    "def categorize_purpose(row):\n",
    "    #print(row['purpose'])\n",
    "    if 'авт' in row['purpose']:\n",
    "        return 'операции с автомобилем'\n",
    "    elif 'недв' in row['purpose'] or 'жил' in row['purpose']:\n",
    "        return 'операции с недвижимостью'\n",
    "    elif 'сва' in row['purpose']:\n",
    "        return 'проведение свадьбы'\n",
    "    elif 'обр' in row['purpose']:\n",
    "        return 'получение образования'"
   ]
  },
  {
   "cell_type": "code",
   "execution_count": 27,
   "id": "7cb4a81d",
   "metadata": {
    "id": "7cb4a81d"
   },
   "outputs": [],
   "source": [
    "# примените функцию методом apply()\n",
    "data['purpose_category'] = data.apply(categorize_purpose,axis=1)"
   ]
  },
  {
   "cell_type": "markdown",
   "id": "036ca752-8d47-431b-b5b1-6fa192cac607",
   "metadata": {},
   "source": [
    "## Шаг 3"
   ]
  },
  {
   "cell_type": "markdown",
   "id": "6b3eb30b-3d07-4f14-98ac-412cfa47e794",
   "metadata": {},
   "source": [
    "**Задание 19. Есть ли зависимость между количеством детей и возвратом кредита в срок?**"
   ]
  },
  {
   "cell_type": "markdown",
   "id": "5ccc04ff-d05f-4840-b92c-1d886b1bb1a2",
   "metadata": {},
   "source": [
    "Интересующие нас колонки"
   ]
  },
  {
   "cell_type": "code",
   "execution_count": 28,
   "id": "51d56fd6-a059-4bd6-ac32-b2d09888bbf4",
   "metadata": {},
   "outputs": [
    {
     "data": {
      "text/html": [
       "<div>\n",
       "<style scoped>\n",
       "    .dataframe tbody tr th:only-of-type {\n",
       "        vertical-align: middle;\n",
       "    }\n",
       "\n",
       "    .dataframe tbody tr th {\n",
       "        vertical-align: top;\n",
       "    }\n",
       "\n",
       "    .dataframe thead th {\n",
       "        text-align: right;\n",
       "    }\n",
       "</style>\n",
       "<table border=\"1\" class=\"dataframe\">\n",
       "  <thead>\n",
       "    <tr style=\"text-align: right;\">\n",
       "      <th></th>\n",
       "      <th>children</th>\n",
       "      <th>debt</th>\n",
       "    </tr>\n",
       "  </thead>\n",
       "  <tbody>\n",
       "    <tr>\n",
       "      <th>0</th>\n",
       "      <td>1</td>\n",
       "      <td>0</td>\n",
       "    </tr>\n",
       "    <tr>\n",
       "      <th>1</th>\n",
       "      <td>1</td>\n",
       "      <td>0</td>\n",
       "    </tr>\n",
       "    <tr>\n",
       "      <th>2</th>\n",
       "      <td>0</td>\n",
       "      <td>0</td>\n",
       "    </tr>\n",
       "    <tr>\n",
       "      <th>3</th>\n",
       "      <td>3</td>\n",
       "      <td>0</td>\n",
       "    </tr>\n",
       "    <tr>\n",
       "      <th>4</th>\n",
       "      <td>0</td>\n",
       "      <td>0</td>\n",
       "    </tr>\n",
       "    <tr>\n",
       "      <th>...</th>\n",
       "      <td>...</td>\n",
       "      <td>...</td>\n",
       "    </tr>\n",
       "    <tr>\n",
       "      <th>21520</th>\n",
       "      <td>1</td>\n",
       "      <td>0</td>\n",
       "    </tr>\n",
       "    <tr>\n",
       "      <th>21521</th>\n",
       "      <td>0</td>\n",
       "      <td>0</td>\n",
       "    </tr>\n",
       "    <tr>\n",
       "      <th>21522</th>\n",
       "      <td>1</td>\n",
       "      <td>1</td>\n",
       "    </tr>\n",
       "    <tr>\n",
       "      <th>21523</th>\n",
       "      <td>3</td>\n",
       "      <td>1</td>\n",
       "    </tr>\n",
       "    <tr>\n",
       "      <th>21524</th>\n",
       "      <td>2</td>\n",
       "      <td>0</td>\n",
       "    </tr>\n",
       "  </tbody>\n",
       "</table>\n",
       "<p>21331 rows × 2 columns</p>\n",
       "</div>"
      ],
      "text/plain": [
       "       children  debt\n",
       "0             1     0\n",
       "1             1     0\n",
       "2             0     0\n",
       "3             3     0\n",
       "4             0     0\n",
       "...         ...   ...\n",
       "21520         1     0\n",
       "21521         0     0\n",
       "21522         1     1\n",
       "21523         3     1\n",
       "21524         2     0\n",
       "\n",
       "[21331 rows x 2 columns]"
      ]
     },
     "execution_count": 28,
     "metadata": {},
     "output_type": "execute_result"
    }
   ],
   "source": [
    "data.loc[:,['children','debt']]"
   ]
  },
  {
   "cell_type": "markdown",
   "id": "e49deb32-ac90-4ea0-a052-300e23c7e176",
   "metadata": {},
   "source": [
    "Разобъем семьи на группы по количеству детей"
   ]
  },
  {
   "cell_type": "code",
   "execution_count": 29,
   "id": "fbd3ba50-4045-4c75-bb57-daacbff98316",
   "metadata": {},
   "outputs": [
    {
     "data": {
      "text/plain": [
       "children\n",
       "0    14091\n",
       "1     4808\n",
       "2     2052\n",
       "3      330\n",
       "4       41\n",
       "5        9\n",
       "Name: debt, dtype: int64"
      ]
     },
     "execution_count": 29,
     "metadata": {},
     "output_type": "execute_result"
    }
   ],
   "source": [
    "data.groupby('children')['debt'].count()"
   ]
  },
  {
   "cell_type": "markdown",
   "id": "fa3af8bb-052e-41d8-91c5-2107ce57ec7d",
   "metadata": {},
   "source": [
    "Гипотеза: люди с детьми хуже возвращют кредиты, чем люди без детей"
   ]
  },
  {
   "cell_type": "markdown",
   "id": "5ca55732-6022-4df6-9fc1-6a8b347e5ee7",
   "metadata": {},
   "source": [
    "Найдем общее количество людей без детей"
   ]
  },
  {
   "cell_type": "code",
   "execution_count": 30,
   "id": "b7392dc8-76e7-492e-a8bf-a9b75e3f457c",
   "metadata": {},
   "outputs": [],
   "source": [
    "children0 = int(data.loc[data['children'] == 0]['children'].count())"
   ]
  },
  {
   "cell_type": "markdown",
   "id": "f8cc66ed-599a-4b85-96e7-628c85e82d94",
   "metadata": {},
   "source": [
    "Найдем общее количество людей без детей и с задолженностью"
   ]
  },
  {
   "cell_type": "code",
   "execution_count": 31,
   "id": "f9855901-823b-4095-9816-cfe23bf2d2e2",
   "metadata": {},
   "outputs": [],
   "source": [
    "children0_debt = data.loc[(data['children'] == 0) & (data['debt'] == 1)]['children'].count()"
   ]
  },
  {
   "cell_type": "markdown",
   "id": "41b94bd5-980b-492e-ac43-7107cedad545",
   "metadata": {},
   "source": [
    "Найдем процент людей без детей с долгами от общего количества "
   ]
  },
  {
   "cell_type": "code",
   "execution_count": 32,
   "id": "79c9bc49-d8db-4bb6-92b7-c359a6090deb",
   "metadata": {},
   "outputs": [
    {
     "name": "stdout",
     "output_type": "stream",
     "text": [
      "14091\n"
     ]
    }
   ],
   "source": [
    "print(children0)"
   ]
  },
  {
   "cell_type": "code",
   "execution_count": 33,
   "id": "e81ccb73-2c5a-42c5-b7a4-8d010c13682d",
   "metadata": {},
   "outputs": [
    {
     "name": "stdout",
     "output_type": "stream",
     "text": [
      "1063\n"
     ]
    }
   ],
   "source": [
    "print(children0_debt)"
   ]
  },
  {
   "cell_type": "code",
   "execution_count": 34,
   "id": "dcc2defa-ee85-43fe-a58c-04ed5b89ac7c",
   "metadata": {},
   "outputs": [
    {
     "data": {
      "text/plain": [
       "7.543822297920659"
      ]
     },
     "execution_count": 34,
     "metadata": {},
     "output_type": "execute_result"
    }
   ],
   "source": [
    "float(children0_debt/children0 * 100)"
   ]
  },
  {
   "cell_type": "code",
   "execution_count": null,
   "id": "d80723be-63b2-43be-b6b0-4e73f4528a17",
   "metadata": {},
   "outputs": [],
   "source": []
  },
  {
   "cell_type": "markdown",
   "id": "9ac54524-d5bd-4c8a-a016-6c796e977eea",
   "metadata": {},
   "source": [
    "Найдем общее количество людей c одним ребенком"
   ]
  },
  {
   "cell_type": "code",
   "execution_count": 35,
   "id": "be4e91b5-f556-4df5-87a8-ab4e038744d4",
   "metadata": {},
   "outputs": [],
   "source": [
    "children1 = int(data.loc[data['children'] == 1]['children'].count())"
   ]
  },
  {
   "cell_type": "markdown",
   "id": "f602a2f5-1e93-44a1-b939-f303bd1fd7e3",
   "metadata": {},
   "source": [
    "Найдем общее количество людей с одним ребенком и с задолженностью"
   ]
  },
  {
   "cell_type": "code",
   "execution_count": 36,
   "id": "2efb3140-626c-49ec-a06e-e6707c9fbbe5",
   "metadata": {},
   "outputs": [],
   "source": [
    "children1_debt = data.loc[(data['children'] == 1) & (data['debt'] == 1)]['children'].count()"
   ]
  },
  {
   "cell_type": "markdown",
   "id": "881c3abb-be73-4c97-adcf-efd84dc63822",
   "metadata": {},
   "source": [
    "Найдем процент людей с 1 ребенком и с долгами от общего количества "
   ]
  },
  {
   "cell_type": "code",
   "execution_count": 37,
   "id": "43b5fed9-6cc8-4656-984f-25d5f4e6e92f",
   "metadata": {},
   "outputs": [
    {
     "name": "stdout",
     "output_type": "stream",
     "text": [
      "4808\n"
     ]
    }
   ],
   "source": [
    "print(children1)"
   ]
  },
  {
   "cell_type": "code",
   "execution_count": 38,
   "id": "f4d8d24c-ad37-4bb3-9394-e4b8bec6fe9a",
   "metadata": {},
   "outputs": [
    {
     "name": "stdout",
     "output_type": "stream",
     "text": [
      "444\n"
     ]
    }
   ],
   "source": [
    "print(children1_debt)"
   ]
  },
  {
   "cell_type": "code",
   "execution_count": 39,
   "id": "328b90ad-a87f-4fda-ba2b-7ccc54d9fafe",
   "metadata": {},
   "outputs": [
    {
     "data": {
      "text/plain": [
       "9.234608985024959"
      ]
     },
     "execution_count": 39,
     "metadata": {},
     "output_type": "execute_result"
    }
   ],
   "source": [
    "float(children1_debt/children1 * 100)"
   ]
  },
  {
   "cell_type": "code",
   "execution_count": null,
   "id": "0cece5d4-0b11-4ebf-8261-cf260500b1c4",
   "metadata": {},
   "outputs": [],
   "source": []
  },
  {
   "cell_type": "markdown",
   "id": "ebee1c67-7c84-445d-b818-9d21a555b5a6",
   "metadata": {},
   "source": [
    "Найдем общее количество людей c двумя детьми"
   ]
  },
  {
   "cell_type": "code",
   "execution_count": 40,
   "id": "8fd9c252-e1e9-4b39-b8a1-05e9c33cf04f",
   "metadata": {},
   "outputs": [],
   "source": [
    "children2 = int(data.loc[data['children'] == 2]['children'].count())"
   ]
  },
  {
   "cell_type": "markdown",
   "id": "a223d4e3-9b01-481a-9b2e-51e162b1f189",
   "metadata": {},
   "source": [
    "Найдем общее количество людей с одним ребенком и с задолженностью"
   ]
  },
  {
   "cell_type": "code",
   "execution_count": 41,
   "id": "8e686a51-7118-4bd8-b905-ec969c08edcb",
   "metadata": {},
   "outputs": [],
   "source": [
    "children2_debt = data.loc[(data['children'] == 2) & (data['debt'] == 1)]['children'].count()"
   ]
  },
  {
   "cell_type": "markdown",
   "id": "aac4a213-7c76-42a0-8d82-da02220ff623",
   "metadata": {},
   "source": [
    "Найдем процент людей с двумя детьми с долгами от общего количества "
   ]
  },
  {
   "cell_type": "code",
   "execution_count": 42,
   "id": "8001b295-06c7-451a-95af-7440dc3c8e7d",
   "metadata": {},
   "outputs": [
    {
     "name": "stdout",
     "output_type": "stream",
     "text": [
      "2052\n"
     ]
    }
   ],
   "source": [
    "print(children2)"
   ]
  },
  {
   "cell_type": "code",
   "execution_count": 43,
   "id": "7e6645a3-8aab-4c34-a7ae-af6e1a75ffdd",
   "metadata": {},
   "outputs": [
    {
     "name": "stdout",
     "output_type": "stream",
     "text": [
      "194\n"
     ]
    }
   ],
   "source": [
    "print(children2_debt)"
   ]
  },
  {
   "cell_type": "code",
   "execution_count": 44,
   "id": "b28a5393-8a2d-4ca6-8aeb-3a16fc2b9d53",
   "metadata": {
    "scrolled": true
   },
   "outputs": [
    {
     "data": {
      "text/plain": [
       "9.4541910331384"
      ]
     },
     "execution_count": 44,
     "metadata": {},
     "output_type": "execute_result"
    }
   ],
   "source": [
    "float(children2_debt/children2 * 100)"
   ]
  },
  {
   "cell_type": "code",
   "execution_count": null,
   "id": "34b0adf0-3eeb-4775-80ce-c4f21b55f437",
   "metadata": {},
   "outputs": [],
   "source": []
  },
  {
   "cell_type": "markdown",
   "id": "bc28b321-d95d-460f-99d4-378f442a26b9",
   "metadata": {},
   "source": [
    "Найдем общее количество людей c тремя детьми"
   ]
  },
  {
   "cell_type": "code",
   "execution_count": 45,
   "id": "5ad32fa2-dbfb-4a1b-829c-e6bab16b9dcc",
   "metadata": {},
   "outputs": [],
   "source": [
    "children3 = int(data.loc[data['children'] == 3]['children'].count())"
   ]
  },
  {
   "cell_type": "markdown",
   "id": "959a1f85-9373-4baa-aafe-b653c53b380b",
   "metadata": {},
   "source": [
    "Найдем общее количество людей с тремя детьми и с задолженностью"
   ]
  },
  {
   "cell_type": "code",
   "execution_count": 46,
   "id": "5782ddb9-7456-4c61-9eac-279c86e4fe38",
   "metadata": {},
   "outputs": [],
   "source": [
    "children3_debt = data.loc[(data['children'] == 3) & (data['debt'] == 1)]['children'].count()"
   ]
  },
  {
   "cell_type": "markdown",
   "id": "6e3d17c4-38cf-43c0-86ed-bb51650f44f7",
   "metadata": {},
   "source": [
    "Найдем процент людей с тремя детьми и с долгами от общего количества "
   ]
  },
  {
   "cell_type": "code",
   "execution_count": 47,
   "id": "cacc7fde-35b3-4af2-afcc-7e64acd51a8a",
   "metadata": {},
   "outputs": [
    {
     "name": "stdout",
     "output_type": "stream",
     "text": [
      "330\n"
     ]
    }
   ],
   "source": [
    "print(children3)"
   ]
  },
  {
   "cell_type": "code",
   "execution_count": 48,
   "id": "a4568aae-1c02-460c-99be-7bee7469c93e",
   "metadata": {},
   "outputs": [
    {
     "name": "stdout",
     "output_type": "stream",
     "text": [
      "27\n"
     ]
    }
   ],
   "source": [
    "print(children3_debt)"
   ]
  },
  {
   "cell_type": "code",
   "execution_count": 49,
   "id": "1eebff88-c1ff-4b29-a572-fa1d88c03918",
   "metadata": {
    "scrolled": true
   },
   "outputs": [
    {
     "data": {
      "text/plain": [
       "8.181818181818182"
      ]
     },
     "execution_count": 49,
     "metadata": {},
     "output_type": "execute_result"
    }
   ],
   "source": [
    "float(children3_debt/children3 * 100)"
   ]
  },
  {
   "cell_type": "code",
   "execution_count": null,
   "id": "534e2c0a-7210-4f8b-be84-086d6a16104f",
   "metadata": {},
   "outputs": [],
   "source": []
  },
  {
   "cell_type": "markdown",
   "id": "4d5be3e6-86c8-44a8-b159-82727654af6a",
   "metadata": {},
   "source": [
    "Найдем общее количество людей c четыремя детьми"
   ]
  },
  {
   "cell_type": "code",
   "execution_count": 50,
   "id": "28e8c11c-e7d0-4814-a0b7-e8227e71fd4a",
   "metadata": {},
   "outputs": [],
   "source": [
    "children4 = int(data.loc[data['children'] == 4]['children'].count())"
   ]
  },
  {
   "cell_type": "markdown",
   "id": "8ccf8a05-a5ca-4057-8e8b-3155683596b6",
   "metadata": {},
   "source": [
    "Найдем общее количество людей с четыремя детьми и с задолженностью"
   ]
  },
  {
   "cell_type": "code",
   "execution_count": 51,
   "id": "ac3a297d-27f6-4e59-aaf4-b8c5403629ff",
   "metadata": {},
   "outputs": [],
   "source": [
    "children4_debt = data.loc[(data['children'] == 4) & (data['debt'] == 1)]['children'].count()"
   ]
  },
  {
   "cell_type": "markdown",
   "id": "c9a862b3-195f-4227-952f-6d9882f32879",
   "metadata": {},
   "source": [
    "Найдем процент людей с четыремя детьми и с долгами от общего количества "
   ]
  },
  {
   "cell_type": "code",
   "execution_count": 52,
   "id": "0af40c71-166a-41d2-acb5-f88cdb3c805c",
   "metadata": {},
   "outputs": [
    {
     "name": "stdout",
     "output_type": "stream",
     "text": [
      "41\n"
     ]
    }
   ],
   "source": [
    "print(children4)"
   ]
  },
  {
   "cell_type": "code",
   "execution_count": 53,
   "id": "cf453d76-31df-4ae1-9cdd-a73ac4c8de54",
   "metadata": {},
   "outputs": [
    {
     "name": "stdout",
     "output_type": "stream",
     "text": [
      "4\n"
     ]
    }
   ],
   "source": [
    "print(children4_debt)"
   ]
  },
  {
   "cell_type": "code",
   "execution_count": 54,
   "id": "d23ee710-c782-4761-8d79-bfb6d213c208",
   "metadata": {
    "scrolled": true
   },
   "outputs": [
    {
     "data": {
      "text/plain": [
       "9.75609756097561"
      ]
     },
     "execution_count": 54,
     "metadata": {},
     "output_type": "execute_result"
    }
   ],
   "source": [
    "float(children4_debt/children4 * 100)"
   ]
  },
  {
   "cell_type": "code",
   "execution_count": null,
   "id": "de084559-3db1-4873-9761-b411eddeb96a",
   "metadata": {},
   "outputs": [],
   "source": []
  },
  {
   "cell_type": "markdown",
   "id": "2c403957-fe12-48db-b446-8979be1cf7a8",
   "metadata": {},
   "source": [
    "Найдем общее количество людей c пятью детьми"
   ]
  },
  {
   "cell_type": "code",
   "execution_count": 55,
   "id": "867607c7-ba97-4958-8e0b-067d2de6edf3",
   "metadata": {},
   "outputs": [],
   "source": [
    "children5 = int(data.loc[data['children'] == 5]['children'].count())"
   ]
  },
  {
   "cell_type": "markdown",
   "id": "cd255e1e-7f28-40ff-9395-f54cf10f892d",
   "metadata": {},
   "source": [
    "Найдем общее количество людей с четыремя детьми и с задолженностью"
   ]
  },
  {
   "cell_type": "code",
   "execution_count": 56,
   "id": "8d1b0af1-aa9b-43a6-a67e-0d5377367636",
   "metadata": {},
   "outputs": [],
   "source": [
    "children5_debt = data.loc[(data['children'] == 5) & (data['debt'] == 1)]['children'].count()"
   ]
  },
  {
   "cell_type": "markdown",
   "id": "3cc77e76-2d2d-45ee-9ede-01e431af4b96",
   "metadata": {},
   "source": [
    "Найдем процент людей с пятью детьми и с долгами от общего количества "
   ]
  },
  {
   "cell_type": "code",
   "execution_count": 57,
   "id": "d7297f0f-cfdc-4cde-8814-ca9a8d3b5cff",
   "metadata": {},
   "outputs": [
    {
     "name": "stdout",
     "output_type": "stream",
     "text": [
      "9\n"
     ]
    }
   ],
   "source": [
    "print(children5)"
   ]
  },
  {
   "cell_type": "code",
   "execution_count": 58,
   "id": "85e6ed8c-3506-4dbd-8062-9c89f94b2f21",
   "metadata": {},
   "outputs": [
    {
     "name": "stdout",
     "output_type": "stream",
     "text": [
      "0\n"
     ]
    }
   ],
   "source": [
    "print(children5_debt)"
   ]
  },
  {
   "cell_type": "code",
   "execution_count": 59,
   "id": "b08eb9b2-e1fc-4e72-a99b-aa2973ade2fb",
   "metadata": {
    "scrolled": true
   },
   "outputs": [
    {
     "data": {
      "text/plain": [
       "0.0"
      ]
     },
     "execution_count": 59,
     "metadata": {},
     "output_type": "execute_result"
    }
   ],
   "source": [
    "float(children5_debt/children5 * 100)"
   ]
  },
  {
   "cell_type": "markdown",
   "id": "01929f8a-2b83-42a6-84ea-bf090b532d72",
   "metadata": {},
   "source": [
    "Найдем среднее значение по просроченности кредита для людей с детьми"
   ]
  },
  {
   "cell_type": "code",
   "execution_count": 60,
   "id": "bed76317-1118-4c4d-acce-88011ead14fa",
   "metadata": {},
   "outputs": [
    {
     "name": "stdout",
     "output_type": "stream",
     "text": [
      "7.325343152191431\n"
     ]
    }
   ],
   "source": [
    "mean_family_with_debt = ((children1_debt/children1 * 100) + (children2_debt/children2 * 100) + (children3_debt/children3 * 100) + (children4_debt/children4 * 100) + (children5_debt/children5 * 100)) / 5\n",
    "print(mean_family_with_debt)"
   ]
  },
  {
   "cell_type": "markdown",
   "id": "9a7fbc9f-b4ad-4d4f-8894-aeaf3dddceeb",
   "metadata": {},
   "source": [
    "**Исходя из полученных данных можно сделать вывод о том, что гопотеза подтвердилась для случаев с 1, 2, 3, 4 детьми (процент задолженности по возврату кредита вырос относительно людей без детей).Однако рост совсем незначительный относительно людей без детей. Для людей с пятью детьми оказалось, что задолженность по возврату кредита 0% (Однако это может быть связано с небольшим количеством людей из этой группы. Больше всего людей, которые брали кредиты - это люди без детей)**"
   ]
  },
  {
   "cell_type": "markdown",
   "id": "dcd0195a",
   "metadata": {},
   "source": [
    "<div class=\"alert-success\"> \n",
    "<b>Комментарий ревьюера 👍 </b>\n",
    "\n",
    "Молодец, что обратил внимание на размер категории семей с 5 детьми - по ней действительно не стоит делать какие-то выводы, ибо выборка мала. \n",
    "    \n",
    "Можно определить зависимость, сравнивая только самые многочисленные категории с 0, 1 и 2 детьми.\n",
    "     \n",
    "<div class=\"alert-danger\"> \n",
    "<b>Комментарий ревьюера ❌</b> \n",
    "\n",
    "Сейчас очень много лишнего кода, много различных ячеек. Не самый оптимальный вариант решения задания: это ухудшает восприятие проекта, а код становится менее лаконичным. Можно создать одну таблицу в 1-2 строки в одной ячейке с помощью groupby и .agg: https://pandas.pydata.org/pandas-docs/version/0.22/generated/pandas.core.groupby.DataFrameGroupBy.agg.html\n",
    "    \n",
    "Комментарий относится ко всем пунктам"
   ]
  },
  {
   "cell_type": "code",
   "execution_count": 73,
   "id": "0ebcc631-0bd1-408b-9182-ac69971ff47d",
   "metadata": {},
   "outputs": [
    {
     "data": {
      "text/html": [
       "<div>\n",
       "<style scoped>\n",
       "    .dataframe tbody tr th:only-of-type {\n",
       "        vertical-align: middle;\n",
       "    }\n",
       "\n",
       "    .dataframe tbody tr th {\n",
       "        vertical-align: top;\n",
       "    }\n",
       "\n",
       "    .dataframe thead th {\n",
       "        text-align: right;\n",
       "    }\n",
       "</style>\n",
       "<table border=\"1\" class=\"dataframe\">\n",
       "  <thead>\n",
       "    <tr style=\"text-align: right;\">\n",
       "      <th></th>\n",
       "      <th>кол-во детей</th>\n",
       "      <th>кол-во детей с просрочками</th>\n",
       "      <th>% просрочек</th>\n",
       "    </tr>\n",
       "    <tr>\n",
       "      <th>children</th>\n",
       "      <th></th>\n",
       "      <th></th>\n",
       "      <th></th>\n",
       "    </tr>\n",
       "  </thead>\n",
       "  <tbody>\n",
       "    <tr>\n",
       "      <th>0</th>\n",
       "      <td>14091</td>\n",
       "      <td>1063</td>\n",
       "      <td>7.543822</td>\n",
       "    </tr>\n",
       "    <tr>\n",
       "      <th>1</th>\n",
       "      <td>4808</td>\n",
       "      <td>444</td>\n",
       "      <td>9.234609</td>\n",
       "    </tr>\n",
       "    <tr>\n",
       "      <th>2</th>\n",
       "      <td>2052</td>\n",
       "      <td>194</td>\n",
       "      <td>9.454191</td>\n",
       "    </tr>\n",
       "    <tr>\n",
       "      <th>3</th>\n",
       "      <td>330</td>\n",
       "      <td>27</td>\n",
       "      <td>8.181818</td>\n",
       "    </tr>\n",
       "    <tr>\n",
       "      <th>4</th>\n",
       "      <td>41</td>\n",
       "      <td>4</td>\n",
       "      <td>9.756098</td>\n",
       "    </tr>\n",
       "    <tr>\n",
       "      <th>5</th>\n",
       "      <td>9</td>\n",
       "      <td>0</td>\n",
       "      <td>0.000000</td>\n",
       "    </tr>\n",
       "  </tbody>\n",
       "</table>\n",
       "</div>"
      ],
      "text/plain": [
       "          кол-во детей  кол-во детей с просрочками  % просрочек\n",
       "children                                                       \n",
       "0                14091                        1063     7.543822\n",
       "1                 4808                         444     9.234609\n",
       "2                 2052                         194     9.454191\n",
       "3                  330                          27     8.181818\n",
       "4                   41                           4     9.756098\n",
       "5                    9                           0     0.000000"
      ]
     },
     "execution_count": 73,
     "metadata": {},
     "output_type": "execute_result"
    }
   ],
   "source": [
    "children_with_debt = pd.DataFrame()\n",
    "children_with_debt['кол-во детей'] = data.groupby('children')['debt'].count()\n",
    "children_with_debt['кол-во детей с просрочками'] = data.groupby('children')['debt'].sum()\n",
    "children_with_debt['% просрочек'] = children_with_debt['кол-во детей с просрочками'] / children_with_debt['кол-во детей'] * 100\n",
    "children_with_debt"
   ]
  },
  {
   "cell_type": "markdown",
   "id": "956770bc-f8f2-46a4-9835-a06c2119025e",
   "metadata": {},
   "source": [
    "**Задание 20. Есть ли зависимость между семейным положением и возвратом кредита в срок?**"
   ]
  },
  {
   "cell_type": "code",
   "execution_count": 56,
   "id": "0c9f1d9d-08d0-4ed0-a23a-627acce5f37d",
   "metadata": {},
   "outputs": [
    {
     "data": {
      "text/html": [
       "<div>\n",
       "<style scoped>\n",
       "    .dataframe tbody tr th:only-of-type {\n",
       "        vertical-align: middle;\n",
       "    }\n",
       "\n",
       "    .dataframe tbody tr th {\n",
       "        vertical-align: top;\n",
       "    }\n",
       "\n",
       "    .dataframe thead th {\n",
       "        text-align: right;\n",
       "    }\n",
       "</style>\n",
       "<table border=\"1\" class=\"dataframe\">\n",
       "  <thead>\n",
       "    <tr style=\"text-align: right;\">\n",
       "      <th></th>\n",
       "      <th>children</th>\n",
       "      <th>days_employed</th>\n",
       "      <th>dob_years</th>\n",
       "      <th>education</th>\n",
       "      <th>education_id</th>\n",
       "      <th>family_status</th>\n",
       "      <th>family_status_id</th>\n",
       "      <th>gender</th>\n",
       "      <th>income_type</th>\n",
       "      <th>debt</th>\n",
       "      <th>total_income</th>\n",
       "      <th>purpose</th>\n",
       "      <th>total_income_category</th>\n",
       "      <th>purpose_category</th>\n",
       "    </tr>\n",
       "  </thead>\n",
       "  <tbody>\n",
       "    <tr>\n",
       "      <th>0</th>\n",
       "      <td>1</td>\n",
       "      <td>8437.673028</td>\n",
       "      <td>42</td>\n",
       "      <td>высшее</td>\n",
       "      <td>0</td>\n",
       "      <td>женат / замужем</td>\n",
       "      <td>0</td>\n",
       "      <td>F</td>\n",
       "      <td>сотрудник</td>\n",
       "      <td>0</td>\n",
       "      <td>253875</td>\n",
       "      <td>покупка жилья</td>\n",
       "      <td>B</td>\n",
       "      <td>операции с недвижимостью</td>\n",
       "    </tr>\n",
       "    <tr>\n",
       "      <th>1</th>\n",
       "      <td>1</td>\n",
       "      <td>4024.803754</td>\n",
       "      <td>36</td>\n",
       "      <td>среднее</td>\n",
       "      <td>1</td>\n",
       "      <td>женат / замужем</td>\n",
       "      <td>0</td>\n",
       "      <td>F</td>\n",
       "      <td>сотрудник</td>\n",
       "      <td>0</td>\n",
       "      <td>112080</td>\n",
       "      <td>приобретение автомобиля</td>\n",
       "      <td>C</td>\n",
       "      <td>операции с автомобилем</td>\n",
       "    </tr>\n",
       "    <tr>\n",
       "      <th>2</th>\n",
       "      <td>0</td>\n",
       "      <td>5623.422610</td>\n",
       "      <td>33</td>\n",
       "      <td>среднее</td>\n",
       "      <td>1</td>\n",
       "      <td>женат / замужем</td>\n",
       "      <td>0</td>\n",
       "      <td>M</td>\n",
       "      <td>сотрудник</td>\n",
       "      <td>0</td>\n",
       "      <td>145885</td>\n",
       "      <td>покупка жилья</td>\n",
       "      <td>C</td>\n",
       "      <td>операции с недвижимостью</td>\n",
       "    </tr>\n",
       "    <tr>\n",
       "      <th>3</th>\n",
       "      <td>3</td>\n",
       "      <td>4124.747207</td>\n",
       "      <td>32</td>\n",
       "      <td>среднее</td>\n",
       "      <td>1</td>\n",
       "      <td>женат / замужем</td>\n",
       "      <td>0</td>\n",
       "      <td>M</td>\n",
       "      <td>сотрудник</td>\n",
       "      <td>0</td>\n",
       "      <td>267628</td>\n",
       "      <td>дополнительное образование</td>\n",
       "      <td>B</td>\n",
       "      <td>получение образования</td>\n",
       "    </tr>\n",
       "    <tr>\n",
       "      <th>4</th>\n",
       "      <td>0</td>\n",
       "      <td>340266.072047</td>\n",
       "      <td>53</td>\n",
       "      <td>среднее</td>\n",
       "      <td>1</td>\n",
       "      <td>гражданский брак</td>\n",
       "      <td>1</td>\n",
       "      <td>F</td>\n",
       "      <td>пенсионер</td>\n",
       "      <td>0</td>\n",
       "      <td>158616</td>\n",
       "      <td>сыграть свадьбу</td>\n",
       "      <td>C</td>\n",
       "      <td>проведение свадьбы</td>\n",
       "    </tr>\n",
       "    <tr>\n",
       "      <th>5</th>\n",
       "      <td>0</td>\n",
       "      <td>926.185831</td>\n",
       "      <td>27</td>\n",
       "      <td>высшее</td>\n",
       "      <td>0</td>\n",
       "      <td>гражданский брак</td>\n",
       "      <td>1</td>\n",
       "      <td>M</td>\n",
       "      <td>компаньон</td>\n",
       "      <td>0</td>\n",
       "      <td>255763</td>\n",
       "      <td>покупка жилья</td>\n",
       "      <td>B</td>\n",
       "      <td>операции с недвижимостью</td>\n",
       "    </tr>\n",
       "    <tr>\n",
       "      <th>6</th>\n",
       "      <td>0</td>\n",
       "      <td>2879.202052</td>\n",
       "      <td>43</td>\n",
       "      <td>высшее</td>\n",
       "      <td>0</td>\n",
       "      <td>женат / замужем</td>\n",
       "      <td>0</td>\n",
       "      <td>F</td>\n",
       "      <td>компаньон</td>\n",
       "      <td>0</td>\n",
       "      <td>240525</td>\n",
       "      <td>операции с жильем</td>\n",
       "      <td>B</td>\n",
       "      <td>операции с недвижимостью</td>\n",
       "    </tr>\n",
       "    <tr>\n",
       "      <th>7</th>\n",
       "      <td>0</td>\n",
       "      <td>152.779569</td>\n",
       "      <td>50</td>\n",
       "      <td>среднее</td>\n",
       "      <td>1</td>\n",
       "      <td>женат / замужем</td>\n",
       "      <td>0</td>\n",
       "      <td>M</td>\n",
       "      <td>сотрудник</td>\n",
       "      <td>0</td>\n",
       "      <td>135823</td>\n",
       "      <td>образование</td>\n",
       "      <td>C</td>\n",
       "      <td>получение образования</td>\n",
       "    </tr>\n",
       "    <tr>\n",
       "      <th>8</th>\n",
       "      <td>2</td>\n",
       "      <td>6929.865299</td>\n",
       "      <td>35</td>\n",
       "      <td>высшее</td>\n",
       "      <td>0</td>\n",
       "      <td>гражданский брак</td>\n",
       "      <td>1</td>\n",
       "      <td>F</td>\n",
       "      <td>сотрудник</td>\n",
       "      <td>0</td>\n",
       "      <td>95856</td>\n",
       "      <td>на проведение свадьбы</td>\n",
       "      <td>C</td>\n",
       "      <td>проведение свадьбы</td>\n",
       "    </tr>\n",
       "    <tr>\n",
       "      <th>9</th>\n",
       "      <td>0</td>\n",
       "      <td>2188.756445</td>\n",
       "      <td>41</td>\n",
       "      <td>среднее</td>\n",
       "      <td>1</td>\n",
       "      <td>женат / замужем</td>\n",
       "      <td>0</td>\n",
       "      <td>M</td>\n",
       "      <td>сотрудник</td>\n",
       "      <td>0</td>\n",
       "      <td>144425</td>\n",
       "      <td>покупка жилья для семьи</td>\n",
       "      <td>C</td>\n",
       "      <td>операции с недвижимостью</td>\n",
       "    </tr>\n",
       "    <tr>\n",
       "      <th>10</th>\n",
       "      <td>2</td>\n",
       "      <td>4171.483647</td>\n",
       "      <td>36</td>\n",
       "      <td>высшее</td>\n",
       "      <td>0</td>\n",
       "      <td>женат / замужем</td>\n",
       "      <td>0</td>\n",
       "      <td>M</td>\n",
       "      <td>компаньон</td>\n",
       "      <td>0</td>\n",
       "      <td>113943</td>\n",
       "      <td>покупка недвижимости</td>\n",
       "      <td>C</td>\n",
       "      <td>операции с недвижимостью</td>\n",
       "    </tr>\n",
       "    <tr>\n",
       "      <th>11</th>\n",
       "      <td>0</td>\n",
       "      <td>792.701887</td>\n",
       "      <td>40</td>\n",
       "      <td>среднее</td>\n",
       "      <td>1</td>\n",
       "      <td>женат / замужем</td>\n",
       "      <td>0</td>\n",
       "      <td>F</td>\n",
       "      <td>сотрудник</td>\n",
       "      <td>0</td>\n",
       "      <td>77069</td>\n",
       "      <td>покупка коммерческой недвижимости</td>\n",
       "      <td>C</td>\n",
       "      <td>операции с недвижимостью</td>\n",
       "    </tr>\n",
       "    <tr>\n",
       "      <th>12</th>\n",
       "      <td>0</td>\n",
       "      <td>365286.622650</td>\n",
       "      <td>65</td>\n",
       "      <td>среднее</td>\n",
       "      <td>1</td>\n",
       "      <td>гражданский брак</td>\n",
       "      <td>1</td>\n",
       "      <td>M</td>\n",
       "      <td>пенсионер</td>\n",
       "      <td>0</td>\n",
       "      <td>118514</td>\n",
       "      <td>сыграть свадьбу</td>\n",
       "      <td>C</td>\n",
       "      <td>проведение свадьбы</td>\n",
       "    </tr>\n",
       "    <tr>\n",
       "      <th>13</th>\n",
       "      <td>0</td>\n",
       "      <td>1846.641941</td>\n",
       "      <td>54</td>\n",
       "      <td>неоконченное высшее</td>\n",
       "      <td>2</td>\n",
       "      <td>женат / замужем</td>\n",
       "      <td>0</td>\n",
       "      <td>F</td>\n",
       "      <td>сотрудник</td>\n",
       "      <td>0</td>\n",
       "      <td>130458</td>\n",
       "      <td>приобретение автомобиля</td>\n",
       "      <td>C</td>\n",
       "      <td>операции с автомобилем</td>\n",
       "    </tr>\n",
       "    <tr>\n",
       "      <th>14</th>\n",
       "      <td>0</td>\n",
       "      <td>1844.956182</td>\n",
       "      <td>56</td>\n",
       "      <td>высшее</td>\n",
       "      <td>0</td>\n",
       "      <td>гражданский брак</td>\n",
       "      <td>1</td>\n",
       "      <td>F</td>\n",
       "      <td>компаньон</td>\n",
       "      <td>1</td>\n",
       "      <td>165127</td>\n",
       "      <td>покупка жилой недвижимости</td>\n",
       "      <td>C</td>\n",
       "      <td>операции с недвижимостью</td>\n",
       "    </tr>\n",
       "    <tr>\n",
       "      <th>15</th>\n",
       "      <td>1</td>\n",
       "      <td>972.364419</td>\n",
       "      <td>26</td>\n",
       "      <td>среднее</td>\n",
       "      <td>1</td>\n",
       "      <td>женат / замужем</td>\n",
       "      <td>0</td>\n",
       "      <td>F</td>\n",
       "      <td>сотрудник</td>\n",
       "      <td>0</td>\n",
       "      <td>116820</td>\n",
       "      <td>строительство собственной недвижимости</td>\n",
       "      <td>C</td>\n",
       "      <td>операции с недвижимостью</td>\n",
       "    </tr>\n",
       "    <tr>\n",
       "      <th>16</th>\n",
       "      <td>0</td>\n",
       "      <td>1719.934226</td>\n",
       "      <td>35</td>\n",
       "      <td>среднее</td>\n",
       "      <td>1</td>\n",
       "      <td>женат / замужем</td>\n",
       "      <td>0</td>\n",
       "      <td>F</td>\n",
       "      <td>сотрудник</td>\n",
       "      <td>0</td>\n",
       "      <td>289202</td>\n",
       "      <td>недвижимость</td>\n",
       "      <td>B</td>\n",
       "      <td>операции с недвижимостью</td>\n",
       "    </tr>\n",
       "    <tr>\n",
       "      <th>17</th>\n",
       "      <td>0</td>\n",
       "      <td>2369.999720</td>\n",
       "      <td>33</td>\n",
       "      <td>высшее</td>\n",
       "      <td>0</td>\n",
       "      <td>гражданский брак</td>\n",
       "      <td>1</td>\n",
       "      <td>M</td>\n",
       "      <td>сотрудник</td>\n",
       "      <td>0</td>\n",
       "      <td>90410</td>\n",
       "      <td>строительство недвижимости</td>\n",
       "      <td>C</td>\n",
       "      <td>операции с недвижимостью</td>\n",
       "    </tr>\n",
       "    <tr>\n",
       "      <th>18</th>\n",
       "      <td>0</td>\n",
       "      <td>400281.136913</td>\n",
       "      <td>53</td>\n",
       "      <td>среднее</td>\n",
       "      <td>1</td>\n",
       "      <td>вдовец / вдова</td>\n",
       "      <td>2</td>\n",
       "      <td>F</td>\n",
       "      <td>пенсионер</td>\n",
       "      <td>0</td>\n",
       "      <td>56823</td>\n",
       "      <td>на покупку подержанного автомобиля</td>\n",
       "      <td>C</td>\n",
       "      <td>операции с автомобилем</td>\n",
       "    </tr>\n",
       "    <tr>\n",
       "      <th>19</th>\n",
       "      <td>0</td>\n",
       "      <td>10038.818549</td>\n",
       "      <td>48</td>\n",
       "      <td>среднее</td>\n",
       "      <td>1</td>\n",
       "      <td>в разводе</td>\n",
       "      <td>3</td>\n",
       "      <td>F</td>\n",
       "      <td>сотрудник</td>\n",
       "      <td>0</td>\n",
       "      <td>242831</td>\n",
       "      <td>на покупку своего автомобиля</td>\n",
       "      <td>B</td>\n",
       "      <td>операции с автомобилем</td>\n",
       "    </tr>\n",
       "  </tbody>\n",
       "</table>\n",
       "</div>"
      ],
      "text/plain": [
       "    children  days_employed  dob_years            education  education_id  \\\n",
       "0          1    8437.673028         42               высшее             0   \n",
       "1          1    4024.803754         36              среднее             1   \n",
       "2          0    5623.422610         33              среднее             1   \n",
       "3          3    4124.747207         32              среднее             1   \n",
       "4          0  340266.072047         53              среднее             1   \n",
       "5          0     926.185831         27               высшее             0   \n",
       "6          0    2879.202052         43               высшее             0   \n",
       "7          0     152.779569         50              среднее             1   \n",
       "8          2    6929.865299         35               высшее             0   \n",
       "9          0    2188.756445         41              среднее             1   \n",
       "10         2    4171.483647         36               высшее             0   \n",
       "11         0     792.701887         40              среднее             1   \n",
       "12         0  365286.622650         65              среднее             1   \n",
       "13         0    1846.641941         54  неоконченное высшее             2   \n",
       "14         0    1844.956182         56               высшее             0   \n",
       "15         1     972.364419         26              среднее             1   \n",
       "16         0    1719.934226         35              среднее             1   \n",
       "17         0    2369.999720         33               высшее             0   \n",
       "18         0  400281.136913         53              среднее             1   \n",
       "19         0   10038.818549         48              среднее             1   \n",
       "\n",
       "       family_status  family_status_id gender income_type  debt  total_income  \\\n",
       "0    женат / замужем                 0      F   сотрудник     0        253875   \n",
       "1    женат / замужем                 0      F   сотрудник     0        112080   \n",
       "2    женат / замужем                 0      M   сотрудник     0        145885   \n",
       "3    женат / замужем                 0      M   сотрудник     0        267628   \n",
       "4   гражданский брак                 1      F   пенсионер     0        158616   \n",
       "5   гражданский брак                 1      M   компаньон     0        255763   \n",
       "6    женат / замужем                 0      F   компаньон     0        240525   \n",
       "7    женат / замужем                 0      M   сотрудник     0        135823   \n",
       "8   гражданский брак                 1      F   сотрудник     0         95856   \n",
       "9    женат / замужем                 0      M   сотрудник     0        144425   \n",
       "10   женат / замужем                 0      M   компаньон     0        113943   \n",
       "11   женат / замужем                 0      F   сотрудник     0         77069   \n",
       "12  гражданский брак                 1      M   пенсионер     0        118514   \n",
       "13   женат / замужем                 0      F   сотрудник     0        130458   \n",
       "14  гражданский брак                 1      F   компаньон     1        165127   \n",
       "15   женат / замужем                 0      F   сотрудник     0        116820   \n",
       "16   женат / замужем                 0      F   сотрудник     0        289202   \n",
       "17  гражданский брак                 1      M   сотрудник     0         90410   \n",
       "18    вдовец / вдова                 2      F   пенсионер     0         56823   \n",
       "19         в разводе                 3      F   сотрудник     0        242831   \n",
       "\n",
       "                                   purpose total_income_category  \\\n",
       "0                            покупка жилья                     B   \n",
       "1                  приобретение автомобиля                     C   \n",
       "2                            покупка жилья                     C   \n",
       "3               дополнительное образование                     B   \n",
       "4                          сыграть свадьбу                     C   \n",
       "5                            покупка жилья                     B   \n",
       "6                        операции с жильем                     B   \n",
       "7                              образование                     C   \n",
       "8                    на проведение свадьбы                     C   \n",
       "9                  покупка жилья для семьи                     C   \n",
       "10                    покупка недвижимости                     C   \n",
       "11       покупка коммерческой недвижимости                     C   \n",
       "12                         сыграть свадьбу                     C   \n",
       "13                 приобретение автомобиля                     C   \n",
       "14              покупка жилой недвижимости                     C   \n",
       "15  строительство собственной недвижимости                     C   \n",
       "16                            недвижимость                     B   \n",
       "17              строительство недвижимости                     C   \n",
       "18      на покупку подержанного автомобиля                     C   \n",
       "19            на покупку своего автомобиля                     B   \n",
       "\n",
       "            purpose_category  \n",
       "0   операции с недвижимостью  \n",
       "1     операции с автомобилем  \n",
       "2   операции с недвижимостью  \n",
       "3      получение образования  \n",
       "4         проведение свадьбы  \n",
       "5   операции с недвижимостью  \n",
       "6   операции с недвижимостью  \n",
       "7      получение образования  \n",
       "8         проведение свадьбы  \n",
       "9   операции с недвижимостью  \n",
       "10  операции с недвижимостью  \n",
       "11  операции с недвижимостью  \n",
       "12        проведение свадьбы  \n",
       "13    операции с автомобилем  \n",
       "14  операции с недвижимостью  \n",
       "15  операции с недвижимостью  \n",
       "16  операции с недвижимостью  \n",
       "17  операции с недвижимостью  \n",
       "18    операции с автомобилем  \n",
       "19    операции с автомобилем  "
      ]
     },
     "execution_count": 56,
     "metadata": {},
     "output_type": "execute_result"
    }
   ],
   "source": [
    "data.head(20)"
   ]
  },
  {
   "cell_type": "code",
   "execution_count": 57,
   "id": "0a7d39da-ef1d-4923-a820-593c37c015a4",
   "metadata": {},
   "outputs": [
    {
     "data": {
      "text/plain": [
       "family_status\n",
       "Не женат / не замужем     2796\n",
       "в разводе                 1189\n",
       "вдовец / вдова             951\n",
       "гражданский брак          4134\n",
       "женат / замужем          12261\n",
       "Name: family_status, dtype: int64"
      ]
     },
     "execution_count": 57,
     "metadata": {},
     "output_type": "execute_result"
    }
   ],
   "source": [
    "data.groupby('family_status')['family_status'].count()"
   ]
  },
  {
   "cell_type": "code",
   "execution_count": 58,
   "id": "241c6b5b-6d2e-4bab-a94d-82af6bee344a",
   "metadata": {},
   "outputs": [],
   "source": [
    "family_status = ['Не женат / не замужем','в разводе','вдовец / вдова','гражданский брак','женат / замужем']\n",
    "def find_percent_family_by_debt(data,position):\n",
    "    family_amount = int(data.loc[data['family_status'] == family_status[position]]['family_status'].count())\n",
    "    print('общее количество людей из категории',family_status[position], family_amount)\n",
    "    family_amount_debt = data.loc[(data['family_status'] == family_status[position]) & (data['debt'] == 1)]['children'].count()\n",
    "    print('общее количество людей из категории',family_status[position],'c задолженностью по возврату кредита', family_amount_debt)\n",
    "    print('процент людей с задолженностью по возврату кредита от общего количества',family_amount_debt/family_amount * 100)"
   ]
  },
  {
   "cell_type": "code",
   "execution_count": 59,
   "id": "17d419b5-be1c-47ad-804b-39853632be63",
   "metadata": {},
   "outputs": [
    {
     "name": "stdout",
     "output_type": "stream",
     "text": [
      "общее количество людей из категории Не женат / не замужем 2796\n",
      "общее количество людей из категории Не женат / не замужем c задолженностью по возврату кредита 273\n",
      "процент людей с задолженностью по возврату кредита от общего количества 9.763948497854077\n"
     ]
    }
   ],
   "source": [
    "find_percent_family_by_debt(data,0)"
   ]
  },
  {
   "cell_type": "code",
   "execution_count": 60,
   "id": "3a9a6ff8-2282-47a8-814f-31b0278971ca",
   "metadata": {},
   "outputs": [
    {
     "name": "stdout",
     "output_type": "stream",
     "text": [
      "общее количество людей из категории в разводе 1189\n",
      "общее количество людей из категории в разводе c задолженностью по возврату кредита 84\n",
      "процент людей с задолженностью по возврату кредита от общего количества 7.064760302775442\n"
     ]
    }
   ],
   "source": [
    "find_percent_family_by_debt(data,1)"
   ]
  },
  {
   "cell_type": "code",
   "execution_count": 61,
   "id": "4147a517-e077-4a40-98d1-71ceff9033d6",
   "metadata": {},
   "outputs": [
    {
     "name": "stdout",
     "output_type": "stream",
     "text": [
      "общее количество людей из категории вдовец / вдова 951\n",
      "общее количество людей из категории вдовец / вдова c задолженностью по возврату кредита 63\n",
      "процент людей с задолженностью по возврату кредита от общего количества 6.624605678233439\n"
     ]
    }
   ],
   "source": [
    "find_percent_family_by_debt(data,2)"
   ]
  },
  {
   "cell_type": "code",
   "execution_count": 62,
   "id": "03907673-c603-4f0f-b764-3e2983d28972",
   "metadata": {},
   "outputs": [
    {
     "name": "stdout",
     "output_type": "stream",
     "text": [
      "общее количество людей из категории гражданский брак 4134\n",
      "общее количество людей из категории гражданский брак c задолженностью по возврату кредита 385\n",
      "процент людей с задолженностью по возврату кредита от общего количества 9.313014029995163\n"
     ]
    }
   ],
   "source": [
    "find_percent_family_by_debt(data,3)"
   ]
  },
  {
   "cell_type": "code",
   "execution_count": 63,
   "id": "1656e50d-3c8f-420e-afd9-70c1adfad024",
   "metadata": {},
   "outputs": [
    {
     "name": "stdout",
     "output_type": "stream",
     "text": [
      "общее количество людей из категории женат / замужем 12261\n",
      "общее количество людей из категории женат / замужем c задолженностью по возврату кредита 927\n",
      "процент людей с задолженностью по возврату кредита от общего количества 7.560557866405676\n"
     ]
    }
   ],
   "source": [
    "find_percent_family_by_debt(data,4)"
   ]
  },
  {
   "cell_type": "markdown",
   "id": "62fd9915-ab97-4b67-a4e9-39961957d8e8",
   "metadata": {},
   "source": [
    "**Исходя из полученных данных можно сделать вывод о том, что люди из категории (Не женат / не замужем, гражданский брак) более склонны к просрочке кредитов. Меньше всего просрочек в категории (вдовец / вдова)**"
   ]
  },
  {
   "cell_type": "markdown",
   "id": "b284764c",
   "metadata": {},
   "source": [
    "<div class=\"alert-warning\"> \n",
    "<b>Комментарий ревьюера 💡</b> \n",
    "    \n",
    "Здорово, что не забываешь про промежуточные выводы, но сейчас ты во во многом просто интерпретируешь сводную таблицу - постарайся везде обратить внимание на общие тенденции в представленных категориях.\n"
   ]
  },
  {
   "cell_type": "code",
   "execution_count": 84,
   "id": "14300ecf-189e-4d34-9305-e68945c30651",
   "metadata": {},
   "outputs": [
    {
     "data": {
      "text/html": [
       "<div>\n",
       "<style scoped>\n",
       "    .dataframe tbody tr th:only-of-type {\n",
       "        vertical-align: middle;\n",
       "    }\n",
       "\n",
       "    .dataframe tbody tr th {\n",
       "        vertical-align: top;\n",
       "    }\n",
       "\n",
       "    .dataframe thead th {\n",
       "        text-align: right;\n",
       "    }\n",
       "</style>\n",
       "<table border=\"1\" class=\"dataframe\">\n",
       "  <thead>\n",
       "    <tr style=\"text-align: right;\">\n",
       "      <th></th>\n",
       "      <th>общее кол-во</th>\n",
       "      <th>кол-во с просрочкой</th>\n",
       "      <th>% просрочек</th>\n",
       "    </tr>\n",
       "    <tr>\n",
       "      <th>family_status</th>\n",
       "      <th></th>\n",
       "      <th></th>\n",
       "      <th></th>\n",
       "    </tr>\n",
       "  </thead>\n",
       "  <tbody>\n",
       "    <tr>\n",
       "      <th>Не женат / не замужем</th>\n",
       "      <td>2796</td>\n",
       "      <td>273</td>\n",
       "      <td>9.763948</td>\n",
       "    </tr>\n",
       "    <tr>\n",
       "      <th>в разводе</th>\n",
       "      <td>1189</td>\n",
       "      <td>84</td>\n",
       "      <td>7.064760</td>\n",
       "    </tr>\n",
       "    <tr>\n",
       "      <th>вдовец / вдова</th>\n",
       "      <td>951</td>\n",
       "      <td>63</td>\n",
       "      <td>6.624606</td>\n",
       "    </tr>\n",
       "    <tr>\n",
       "      <th>гражданский брак</th>\n",
       "      <td>4134</td>\n",
       "      <td>385</td>\n",
       "      <td>9.313014</td>\n",
       "    </tr>\n",
       "    <tr>\n",
       "      <th>женат / замужем</th>\n",
       "      <td>12261</td>\n",
       "      <td>927</td>\n",
       "      <td>7.560558</td>\n",
       "    </tr>\n",
       "  </tbody>\n",
       "</table>\n",
       "</div>"
      ],
      "text/plain": [
       "                       общее кол-во  кол-во с просрочкой  % просрочек\n",
       "family_status                                                        \n",
       "Не женат / не замужем          2796                  273     9.763948\n",
       "в разводе                      1189                   84     7.064760\n",
       "вдовец / вдова                  951                   63     6.624606\n",
       "гражданский брак               4134                  385     9.313014\n",
       "женат / замужем               12261                  927     7.560558"
      ]
     },
     "execution_count": 84,
     "metadata": {},
     "output_type": "execute_result"
    }
   ],
   "source": [
    "fam_stat = pd.DataFrame()\n",
    "fam_stat['общее кол-во'] = data.groupby('family_status')['family_status'].count()\n",
    "fam_stat['кол-во с просрочкой'] = data.loc[data['debt'] == 1].groupby('family_status')['debt'].sum()\n",
    "fam_stat['% просрочек'] = fam_stat['кол-во с просрочкой'] / fam_stat['общее кол-во'] * 100\n",
    "fam_stat"
   ]
  },
  {
   "cell_type": "markdown",
   "id": "ff3a1b46-6f48-487d-b864-22c8457eb343",
   "metadata": {},
   "source": [
    "**Дополнительно можно отменитить момент, что люди, имевшие опыт отношений, более ответственны в возврате кредита в срок.**"
   ]
  },
  {
   "cell_type": "markdown",
   "id": "72185e4f-135a-4ed9-ba2e-285c7e6a22b7",
   "metadata": {},
   "source": [
    "**Задание 21. Есть ли зависимость между уровнем дохода и возвратом кредита в срок?**"
   ]
  },
  {
   "cell_type": "code",
   "execution_count": 64,
   "id": "9f76a341-6c69-4bcd-993b-a7213f997b45",
   "metadata": {},
   "outputs": [
    {
     "data": {
      "text/plain": [
       "total_income_category\n",
       "A       25\n",
       "B     5014\n",
       "C    15921\n",
       "D      349\n",
       "E       22\n",
       "Name: total_income_category, dtype: int64"
      ]
     },
     "execution_count": 64,
     "metadata": {},
     "output_type": "execute_result"
    }
   ],
   "source": [
    "data.groupby('total_income_category')['total_income_category'].count()"
   ]
  },
  {
   "cell_type": "code",
   "execution_count": 65,
   "id": "f2a3a3a9-33b9-41ad-b397-8653c5b6c073",
   "metadata": {},
   "outputs": [],
   "source": [
    "income_category = ['A','B','C','D','E']\n",
    "def find_percent_family_by_debt(data,position):\n",
    "    income_amount = int(data.loc[data['total_income_category'] == income_category[position]]['total_income_category'].count())\n",
    "    print('общее количество людей из категории',income_category[position], income_amount)\n",
    "    income_amount_debt = data.loc[(data['total_income_category'] == income_category[position]) & (data['debt'] == 1)]['total_income_category'].count()\n",
    "    print('общее количество людей из категории',income_category[position],'c задолженностью по возврату кредита', income_amount_debt)\n",
    "    print('процент людей с задолженностью по возврату кредита от общего количества',income_amount_debt/income_amount * 100)"
   ]
  },
  {
   "cell_type": "code",
   "execution_count": 66,
   "id": "c0296ebf-06ab-466e-8174-b7761f570cc2",
   "metadata": {},
   "outputs": [
    {
     "name": "stdout",
     "output_type": "stream",
     "text": [
      "общее количество людей из категории A 25\n",
      "общее количество людей из категории A c задолженностью по возврату кредита 2\n",
      "процент людей с задолженностью по возврату кредита от общего количества 8.0\n"
     ]
    }
   ],
   "source": [
    "find_percent_family_by_debt(data,0)"
   ]
  },
  {
   "cell_type": "code",
   "execution_count": 67,
   "id": "e7898daf-4661-4a4f-91f2-45b38642f865",
   "metadata": {},
   "outputs": [
    {
     "name": "stdout",
     "output_type": "stream",
     "text": [
      "общее количество людей из категории B 5014\n",
      "общее количество людей из категории B c задолженностью по возврату кредита 354\n",
      "процент людей с задолженностью по возврату кредита от общего количества 7.060231352213801\n"
     ]
    }
   ],
   "source": [
    "find_percent_family_by_debt(data,1)"
   ]
  },
  {
   "cell_type": "code",
   "execution_count": 68,
   "id": "4b396cd3-b8e3-447e-8a8b-807215f62414",
   "metadata": {},
   "outputs": [
    {
     "name": "stdout",
     "output_type": "stream",
     "text": [
      "общее количество людей из категории C 15921\n",
      "общее количество людей из категории C c задолженностью по возврату кредита 1353\n",
      "процент людей с задолженностью по возврату кредита от общего количества 8.498209911437723\n"
     ]
    }
   ],
   "source": [
    "find_percent_family_by_debt(data,2)"
   ]
  },
  {
   "cell_type": "code",
   "execution_count": 69,
   "id": "690c3f87-825a-42d7-ab60-104bc770b8e2",
   "metadata": {},
   "outputs": [
    {
     "name": "stdout",
     "output_type": "stream",
     "text": [
      "общее количество людей из категории D 349\n",
      "общее количество людей из категории D c задолженностью по возврату кредита 21\n",
      "процент людей с задолженностью по возврату кредита от общего количества 6.017191977077363\n"
     ]
    }
   ],
   "source": [
    "find_percent_family_by_debt(data,3)"
   ]
  },
  {
   "cell_type": "code",
   "execution_count": 70,
   "id": "da063c7f-b7bb-4868-8668-971ca48d73ed",
   "metadata": {},
   "outputs": [
    {
     "name": "stdout",
     "output_type": "stream",
     "text": [
      "общее количество людей из категории E 22\n",
      "общее количество людей из категории E c задолженностью по возврату кредита 2\n",
      "процент людей с задолженностью по возврату кредита от общего количества 9.090909090909092\n"
     ]
    }
   ],
   "source": [
    "find_percent_family_by_debt(data,4)"
   ]
  },
  {
   "cell_type": "markdown",
   "id": "12e5d695-0095-4c38-9f78-c81e89423537",
   "metadata": {},
   "source": [
    "0–30000 — 'E';\n",
    "30001–50000 — 'D';\n",
    "50001–200000 — 'C';\n",
    "200001–1000000 — 'B';\n",
    "1000001 и выше — 'A'."
   ]
  },
  {
   "cell_type": "markdown",
   "id": "f404e24d-f7ae-44fa-ac9c-6529d940b66e",
   "metadata": {},
   "source": [
    "**Исходя из полученных данных можно сделать вывод о том, что больше всего задолженности у людей с доходом до 30000. Самый маленький процент по задолженности у людей с доходом 30001-50000**"
   ]
  },
  {
   "cell_type": "markdown",
   "id": "62bc6c87",
   "metadata": {},
   "source": [
    "<div class=\"alert-warning\"> \n",
    "<b>Комментарий ревьюера 💡</b> \n",
    "    \n",
    "Тут тоже необходимо обратить внимание на маленький размер некоторых категорий, по ним нельзя делать выводы. А по оставшимся можно расписать подробнее"
   ]
  },
  {
   "cell_type": "code",
   "execution_count": 88,
   "id": "992a2aa7-acbc-4ed3-a33a-0e9ffe1e6ce4",
   "metadata": {},
   "outputs": [
    {
     "data": {
      "text/html": [
       "<div>\n",
       "<style scoped>\n",
       "    .dataframe tbody tr th:only-of-type {\n",
       "        vertical-align: middle;\n",
       "    }\n",
       "\n",
       "    .dataframe tbody tr th {\n",
       "        vertical-align: top;\n",
       "    }\n",
       "\n",
       "    .dataframe thead th {\n",
       "        text-align: right;\n",
       "    }\n",
       "</style>\n",
       "<table border=\"1\" class=\"dataframe\">\n",
       "  <thead>\n",
       "    <tr style=\"text-align: right;\">\n",
       "      <th></th>\n",
       "      <th>общее кол-во</th>\n",
       "      <th>кол-во с просрочкой</th>\n",
       "      <th>% просрочек</th>\n",
       "    </tr>\n",
       "    <tr>\n",
       "      <th>total_income_category</th>\n",
       "      <th></th>\n",
       "      <th></th>\n",
       "      <th></th>\n",
       "    </tr>\n",
       "  </thead>\n",
       "  <tbody>\n",
       "    <tr>\n",
       "      <th>A</th>\n",
       "      <td>25</td>\n",
       "      <td>2</td>\n",
       "      <td>8.000000</td>\n",
       "    </tr>\n",
       "    <tr>\n",
       "      <th>B</th>\n",
       "      <td>5014</td>\n",
       "      <td>354</td>\n",
       "      <td>7.060231</td>\n",
       "    </tr>\n",
       "    <tr>\n",
       "      <th>C</th>\n",
       "      <td>15921</td>\n",
       "      <td>1353</td>\n",
       "      <td>8.498210</td>\n",
       "    </tr>\n",
       "    <tr>\n",
       "      <th>D</th>\n",
       "      <td>349</td>\n",
       "      <td>21</td>\n",
       "      <td>6.017192</td>\n",
       "    </tr>\n",
       "    <tr>\n",
       "      <th>E</th>\n",
       "      <td>22</td>\n",
       "      <td>2</td>\n",
       "      <td>9.090909</td>\n",
       "    </tr>\n",
       "  </tbody>\n",
       "</table>\n",
       "</div>"
      ],
      "text/plain": [
       "                       общее кол-во  кол-во с просрочкой  % просрочек\n",
       "total_income_category                                                \n",
       "A                                25                    2     8.000000\n",
       "B                              5014                  354     7.060231\n",
       "C                             15921                 1353     8.498210\n",
       "D                               349                   21     6.017192\n",
       "E                                22                    2     9.090909"
      ]
     },
     "execution_count": 88,
     "metadata": {},
     "output_type": "execute_result"
    }
   ],
   "source": [
    "money_income = pd.DataFrame()\n",
    "money_income['общее кол-во'] = data.groupby('total_income_category')['total_income_category'].count()\n",
    "money_income['кол-во с просрочкой'] = data.loc[data['debt'] == 1].groupby('total_income_category')['debt'].sum()\n",
    "money_income['% просрочек'] = money_income['кол-во с просрочкой'] / money_income['общее кол-во'] * 100\n",
    "money_income"
   ]
  },
  {
   "cell_type": "markdown",
   "id": "f3448a66-acc8-4d44-bf12-c566186c9928",
   "metadata": {},
   "source": [
    "**Исходя из общего количества людей, можно сделать вывод о категориях B,C,D. Эти категории содержат большее количество людей, чем категории A и B. Самый маленький процент задолженности у людей с доходом 30001-50000. Скорее всего это физические лица, каторые берут кредиты на мелкие бытовые нужды. На те же бытовые нужды могут брать люди из категории С и B, но люди с доходом от 200001 справляются с долговой нагрузкой лучше, чем люди с доходом от 300001 до 50000.**"
   ]
  },
  {
   "cell_type": "markdown",
   "id": "cc06bfae-9b09-4b87-9963-350db2991160",
   "metadata": {},
   "source": [
    "**Задание 22. Как разные цели кредита влияют на его возврат в срок?**"
   ]
  },
  {
   "cell_type": "code",
   "execution_count": 71,
   "id": "ad9a56f5-fed6-4db0-a6dd-0f41cc1988b5",
   "metadata": {},
   "outputs": [
    {
     "data": {
      "text/plain": [
       "purpose_category\n",
       "операции с автомобилем       4279\n",
       "операции с недвижимостью    10751\n",
       "получение образования        3988\n",
       "проведение свадьбы           2313\n",
       "Name: purpose_category, dtype: int64"
      ]
     },
     "execution_count": 71,
     "metadata": {},
     "output_type": "execute_result"
    }
   ],
   "source": [
    "data.groupby('purpose_category')['purpose_category'].count()"
   ]
  },
  {
   "cell_type": "code",
   "execution_count": 72,
   "id": "88ea9fa0-19cc-491b-805c-dc7d57bcf4c1",
   "metadata": {},
   "outputs": [],
   "source": [
    "purpose_category = ['операции с автомобилем','операции с недвижимостью','получение образования','проведение свадьбы']\n",
    "def find_percent_purpose_by_debt(data,position):\n",
    "    purpose_amount = int(data.loc[data['purpose_category'] == purpose_category[position]]['purpose_category'].count())\n",
    "    print('общее количество людей из категории',purpose_category[position], purpose_amount)\n",
    "    purpose_amount_debt = data.loc[(data['purpose_category'] == purpose_category[position]) & (data['debt'] == 1)]['purpose_category'].count()\n",
    "    print('общее количество людей из категории',purpose_category[position],'c задолженностью по возврату кредита',  purpose_amount_debt)\n",
    "    print('процент людей с задолженностью по возврату кредита от общего количества',purpose_amount_debt/purpose_amount * 100)"
   ]
  },
  {
   "cell_type": "code",
   "execution_count": 73,
   "id": "b654403e-54ae-46a3-952a-d0cf64b53de0",
   "metadata": {},
   "outputs": [
    {
     "name": "stdout",
     "output_type": "stream",
     "text": [
      "общее количество людей из категории операции с автомобилем 4279\n",
      "общее количество людей из категории операции с автомобилем c задолженностью по возврату кредита 400\n",
      "процент людей с задолженностью по возврату кредита от общего количества 9.34797849964945\n"
     ]
    }
   ],
   "source": [
    "find_percent_purpose_by_debt(data,0)"
   ]
  },
  {
   "cell_type": "code",
   "execution_count": 74,
   "id": "2b8fde2b-ecd5-45da-ac26-e9137b234370",
   "metadata": {},
   "outputs": [
    {
     "name": "stdout",
     "output_type": "stream",
     "text": [
      "общее количество людей из категории операции с недвижимостью 10751\n",
      "общее количество людей из категории операции с недвижимостью c задолженностью по возврату кредита 780\n",
      "процент людей с задолженностью по возврату кредита от общего количества 7.255139056831923\n"
     ]
    }
   ],
   "source": [
    "find_percent_purpose_by_debt(data,1)"
   ]
  },
  {
   "cell_type": "code",
   "execution_count": 75,
   "id": "4b90ea13-fd0b-4798-bfb5-b32999352f11",
   "metadata": {},
   "outputs": [
    {
     "name": "stdout",
     "output_type": "stream",
     "text": [
      "общее количество людей из категории получение образования 3988\n",
      "общее количество людей из категории получение образования c задолженностью по возврату кредита 369\n",
      "процент людей с задолженностью по возврату кредита от общего количества 9.252758274824474\n"
     ]
    }
   ],
   "source": [
    "find_percent_purpose_by_debt(data,2)"
   ]
  },
  {
   "cell_type": "code",
   "execution_count": 76,
   "id": "6b5f2488-fa20-4a30-ad24-cde20ae36fac",
   "metadata": {},
   "outputs": [
    {
     "name": "stdout",
     "output_type": "stream",
     "text": [
      "общее количество людей из категории проведение свадьбы 2313\n",
      "общее количество людей из категории проведение свадьбы c задолженностью по возврату кредита 183\n",
      "процент людей с задолженностью по возврату кредита от общего количества 7.911802853437094\n"
     ]
    }
   ],
   "source": [
    "find_percent_purpose_by_debt(data,3)"
   ]
  },
  {
   "cell_type": "code",
   "execution_count": 91,
   "id": "b8715573-bfe9-44d2-b7ec-1a61eaf91f61",
   "metadata": {},
   "outputs": [
    {
     "data": {
      "text/html": [
       "<div>\n",
       "<style scoped>\n",
       "    .dataframe tbody tr th:only-of-type {\n",
       "        vertical-align: middle;\n",
       "    }\n",
       "\n",
       "    .dataframe tbody tr th {\n",
       "        vertical-align: top;\n",
       "    }\n",
       "\n",
       "    .dataframe thead th {\n",
       "        text-align: right;\n",
       "    }\n",
       "</style>\n",
       "<table border=\"1\" class=\"dataframe\">\n",
       "  <thead>\n",
       "    <tr style=\"text-align: right;\">\n",
       "      <th></th>\n",
       "      <th>общее кол-во</th>\n",
       "      <th>кол-во с просрочкой</th>\n",
       "      <th>% просрочек</th>\n",
       "    </tr>\n",
       "    <tr>\n",
       "      <th>purpose_category</th>\n",
       "      <th></th>\n",
       "      <th></th>\n",
       "      <th></th>\n",
       "    </tr>\n",
       "  </thead>\n",
       "  <tbody>\n",
       "    <tr>\n",
       "      <th>операции с автомобилем</th>\n",
       "      <td>4279</td>\n",
       "      <td>400</td>\n",
       "      <td>9.347978</td>\n",
       "    </tr>\n",
       "    <tr>\n",
       "      <th>операции с недвижимостью</th>\n",
       "      <td>10751</td>\n",
       "      <td>780</td>\n",
       "      <td>7.255139</td>\n",
       "    </tr>\n",
       "    <tr>\n",
       "      <th>получение образования</th>\n",
       "      <td>3988</td>\n",
       "      <td>369</td>\n",
       "      <td>9.252758</td>\n",
       "    </tr>\n",
       "    <tr>\n",
       "      <th>проведение свадьбы</th>\n",
       "      <td>2313</td>\n",
       "      <td>183</td>\n",
       "      <td>7.911803</td>\n",
       "    </tr>\n",
       "  </tbody>\n",
       "</table>\n",
       "</div>"
      ],
      "text/plain": [
       "                          общее кол-во  кол-во с просрочкой  % просрочек\n",
       "purpose_category                                                        \n",
       "операции с автомобилем            4279                  400     9.347978\n",
       "операции с недвижимостью         10751                  780     7.255139\n",
       "получение образования             3988                  369     9.252758\n",
       "проведение свадьбы                2313                  183     7.911803"
      ]
     },
     "execution_count": 91,
     "metadata": {},
     "output_type": "execute_result"
    }
   ],
   "source": [
    "aim_debt = pd.DataFrame()\n",
    "aim_debt['общее кол-во'] = data.groupby('purpose_category')['purpose_category'].count()\n",
    "aim_debt['кол-во с просрочкой'] = data.loc[data['debt'] == 1].groupby('purpose_category')['debt'].sum()\n",
    "aim_debt['% просрочек'] = aim_debt['кол-во с просрочкой'] / aim_debt['общее кол-во'] * 100\n",
    "aim_debt"
   ]
  },
  {
   "cell_type": "markdown",
   "id": "aa3561c4-704f-47c0-b6cc-5ee2d8c2af13",
   "metadata": {},
   "source": [
    "**Исходя из полученных данных можно сделать вывод о том, что люди более отвественно подходят к возврату кредита из категории: операции с недвижимостью и проведение свадьбы. К категориям возврата кредита по операциям с автомобилем и получением образования люди относятся менее ответсвенно**"
   ]
  },
  {
   "cell_type": "markdown",
   "id": "36b7156d",
   "metadata": {},
   "source": [
    "<div class=\"alert-success\"> \n",
    "<b>Комментарий ревьюера 👍</b>\n",
    "\n",
    "Можно попробовать забежать вперед и добавить визуализацию к каждой сводной таблице"
   ]
  },
  {
   "cell_type": "markdown",
   "id": "3177972c-67b8-4ef8-a4fd-9a2d8a110226",
   "metadata": {},
   "source": [
    "**Задание 23. Приведите возможные причины появления пропусков в исходных данных.**"
   ]
  },
  {
   "cell_type": "markdown",
   "id": "ca9c8e38-6be2-4e05-9317-441d1e7c0379",
   "metadata": {},
   "source": [
    "В исходных данных пропуски могли возникнуть пропуски по причине отсутствия данных у отдельных людей(также,возможно,это необязательная информация для предоставления кредита). Также, возможно, люди решили скрыть данные о своих доходах. Что касается дней по трудоустройству, то может быть так, что человек работал неофициально или не был трудоустроен. "
   ]
  },
  {
   "cell_type": "markdown",
   "id": "7c41a4e1",
   "metadata": {},
   "source": [
    "<div class=\"alert-success\"> \n",
    "<b>Комментарий ревьюера 👍</b>\n",
    "\n",
    "Согласен с названными тобою возможными причинами пропусков"
   ]
  },
  {
   "cell_type": "markdown",
   "id": "1e917351-4697-45df-93f7-111d5b78bb74",
   "metadata": {},
   "source": [
    "**Задание 24. Объясните, почему заполнить пропуски медианным значением — лучшее решение для количественных переменных.**"
   ]
  },
  {
   "cell_type": "markdown",
   "id": "5c7c0d9f-df38-48de-90bd-df25331ab894",
   "metadata": {},
   "source": [
    "Заполнение пропущенных данных медианным значением наиболее точно отображает реальную ситацию в отличие от среднего значения, которое очень чувствительно к выбросам в исходных данных"
   ]
  },
  {
   "cell_type": "markdown",
   "id": "9357d1c4",
   "metadata": {},
   "source": [
    "<div class=\"alert-success\"> \n",
    "<b>Комментарий ревьюера 👍 </b>\n",
    "    \n",
    "Дело именно в том, что среднее сильно реагирует на выбросы, тем самым искажая наши данные, в отличие от медианы"
   ]
  },
  {
   "cell_type": "markdown",
   "id": "7d881727-759c-4c79-81dd-6d0c5dbea6bf",
   "metadata": {},
   "source": [
    "## Шаг 4"
   ]
  },
  {
   "cell_type": "markdown",
   "id": "7ac7fc32-d1a3-42fb-9682-c2c2250c31fa",
   "metadata": {},
   "source": [
    "**Выводы**: наиболее надежные заемщики - это люди без детей и с категорией: в разводе; женат / замужем; вдовец / вдова. Также нужно учитывать категорию, на которую человек берет кредит. Лучше предоставить кредит на следующие цели: операции с недвижимостью и проведение свадьбы."
   ]
  },
  {
   "cell_type": "markdown",
   "id": "30fdf071",
   "metadata": {},
   "source": [
    "<div class=\"alert-danger\"> \n",
    "<b>Комментарий ревьюера ❌</b> \n",
    "    \n",
    "Нужно расширить вывод. Заказчик, зачастую, читает только общий вывод исследования - поэтому он должен быть максимально информативным и иметь итоги и рекомендации. Можно написать, с какими данными была проведена работа, что было сделано тобоею в проекте. Также стоит пройтись по каждой характеристике (кол-во детей, уровень дохода и т.д.), расписать, какие там были зависимости найдены, кто там главные должники. Можно составить портреты идеального и нежелательного клиентов. Представь, что ты готовишь какие-то рекомендации бизнесу, поэтому презентовать им несколько предложений - не лучший вариант.\n",
    "    \n",
    "Что можно и нужно добавить:\n",
    "1. Написать, с какими данными была проведена работа, что было тобою сделано в проекте\n",
    "2. Зависимости по каждой характеристике (кол-во детей, уровень дохода и т.д.)\n",
    "3. Портреты идеального и нежелательного клиентов\n",
    "4. Итоговые рекомендации для заказчика по сбору данных и скорингу"
   ]
  },
  {
   "cell_type": "markdown",
   "id": "b9aba429-08ed-49a2-8878-03c97920e9b3",
   "metadata": {},
   "source": [
    "В ходе работы над таблицей были проанализированы данные в категориях:количество детей, семейное положение, уровнь дохода, цели на кредит. Также была проанализирована зависимость этих данных с возвратом кредита в срок. Дополнительно были обработаны и удалены пропуски, дубликаты.  \n",
    "\n",
    "Дальнейшие выводы будут сделать для категорий с досточным количеством данных.\n",
    "В связке количество детей - возврат кредита в срок оказалось, что наиболее надежные заемщики - это люди с 1 и 2 детьми. Ненадежные заемщики - это люди без детей.\n",
    "В связке семейное положение - возврат кредита в срок оказалось, что наиболее надежные заемщики - это  люди, имевшие опыт отношений. Ненадежные заемщики - это люди в категории: Не женат / не замужет, в гражданском браке. \n",
    "В связке уровень дохода - возврат кредита в срок оказалось, что наиболее надежные заемщики - это люди с доходом 30001-50000. Менее ненадежные заемщики - это люди с доходом 50001–200000; 200001–1000000.\n",
    "В связке целей на кредит - возврат кредита в срок оказалось, что наиболее надежные заемщики - это люди из категории: операции с недвижимостью и проведение свадьбы. Менее надежные заемщики - это люди из категории кредит по операциям с автомобилем и получение образования.\n",
    "\n",
    "Идеальный заемщик - это человек без детей, но с опытом жизни в официальном браке (а лучше даже разведенный или вдовец/вдова). С доходом 30001-50000, берущий кредит для целей операций с недвижимостью или проведение свадьбы.\n",
    "\n",
    "Нежелательный заемщик - это человек без детей, без опыта семейной жизни или в гражданском браке. С доходом 50001–200000; 200001–1000000, берущий кредит для целей операциям с автомобилем или получения образования."
   ]
  },
  {
   "cell_type": "markdown",
   "id": "b68db546",
   "metadata": {},
   "source": [
    "<div class=\"alert-danger\"> \n",
    "<b>Комментарий ревьюера ❌</b>\n",
    "    \n",
    "Тобою проделана большая работа, ты молодец!\n",
    "\n",
    "Сперва похвалю за наличие везде промежуточных выводов, комментариев. Даны верные ответы на поставленные вопросы.\n",
    "    \n",
    "Что обязательно стоит доработать: расширить общий вывод, улучшить код. Желательно поработать и над желтыми комментариями. Можешь еще попробовать добавить визуализацию в проект (но это по желанию). По визуализации могу посоветовать следующие материалы: 1. https://github.com/esokolov/ml-course-hse/blob/master/2022-fall/seminars/sem02-charts.ipynb 2. https://github.com/Palladain/Deep_Python/blob/main/Lectures/Lecture_3/Lecture_3_Python.ipynb\n",
    "    \n",
    "Буду ждать доработок :) Удачи!"
   ]
  },
  {
   "cell_type": "code",
   "execution_count": null,
   "id": "5c1b8d8d-b329-403e-b655-fc7b93bf5146",
   "metadata": {},
   "outputs": [],
   "source": []
  }
 ],
 "metadata": {
  "ExecuteTimeLog": [
   {
    "duration": 44,
    "start_time": "2024-07-18T12:37:34.031Z"
   },
   {
    "duration": 348,
    "start_time": "2024-07-18T12:37:36.330Z"
   },
   {
    "duration": 303,
    "start_time": "2024-07-18T12:37:36.680Z"
   },
   {
    "duration": 23,
    "start_time": "2024-07-18T12:38:41.046Z"
   },
   {
    "duration": 8,
    "start_time": "2024-07-18T12:39:35.402Z"
   },
   {
    "duration": 2,
    "start_time": "2024-07-18T12:42:22.287Z"
   },
   {
    "duration": 34,
    "start_time": "2024-07-18T12:48:00.743Z"
   },
   {
    "duration": 39,
    "start_time": "2024-07-18T12:54:00.022Z"
   },
   {
    "duration": 108,
    "start_time": "2024-07-18T12:54:00.063Z"
   },
   {
    "duration": 8,
    "start_time": "2024-07-18T12:54:00.172Z"
   },
   {
    "duration": 2,
    "start_time": "2024-07-18T12:54:04.252Z"
   },
   {
    "duration": 69,
    "start_time": "2024-07-18T12:54:04.743Z"
   },
   {
    "duration": 8,
    "start_time": "2024-07-18T12:54:05.883Z"
   },
   {
    "duration": 3,
    "start_time": "2024-07-18T13:12:50.893Z"
   },
   {
    "duration": 7,
    "start_time": "2024-07-18T13:13:20.024Z"
   },
   {
    "duration": 20,
    "start_time": "2024-07-18T13:13:38.671Z"
   },
   {
    "duration": 25,
    "start_time": "2024-07-18T13:14:13.216Z"
   },
   {
    "duration": 32,
    "start_time": "2024-07-18T13:19:38.138Z"
   },
   {
    "duration": 41,
    "start_time": "2024-07-18T13:19:52.656Z"
   },
   {
    "duration": 74,
    "start_time": "2024-07-18T14:06:59.925Z"
   },
   {
    "duration": 6,
    "start_time": "2024-07-18T14:20:27.718Z"
   },
   {
    "duration": 3,
    "start_time": "2024-07-18T14:21:27.484Z"
   },
   {
    "duration": 18,
    "start_time": "2024-07-18T14:54:57.918Z"
   },
   {
    "duration": 5,
    "start_time": "2024-07-18T14:55:29.644Z"
   },
   {
    "duration": 14,
    "start_time": "2024-07-18T14:58:44.342Z"
   },
   {
    "duration": 9,
    "start_time": "2024-07-18T14:59:52.720Z"
   },
   {
    "duration": 11,
    "start_time": "2024-07-18T15:00:05.268Z"
   },
   {
    "duration": 17,
    "start_time": "2024-07-18T15:00:10.970Z"
   },
   {
    "duration": 15,
    "start_time": "2024-07-18T15:00:28.591Z"
   },
   {
    "duration": 11,
    "start_time": "2024-07-18T15:01:44.360Z"
   },
   {
    "duration": 4,
    "start_time": "2024-07-18T15:01:46.656Z"
   },
   {
    "duration": 9,
    "start_time": "2024-07-18T15:02:00.796Z"
   },
   {
    "duration": 4,
    "start_time": "2024-07-18T15:02:01.596Z"
   },
   {
    "duration": 9,
    "start_time": "2024-07-18T15:02:53.927Z"
   },
   {
    "duration": 75,
    "start_time": "2024-07-18T15:03:25.495Z"
   },
   {
    "duration": 9,
    "start_time": "2024-07-18T15:03:26.113Z"
   },
   {
    "duration": 13,
    "start_time": "2024-07-18T15:03:26.561Z"
   },
   {
    "duration": 9,
    "start_time": "2024-07-18T15:03:28.138Z"
   },
   {
    "duration": 35,
    "start_time": "2024-07-18T15:03:29.825Z"
   },
   {
    "duration": 3,
    "start_time": "2024-07-18T15:03:31.667Z"
   },
   {
    "duration": 7,
    "start_time": "2024-07-18T15:03:32.499Z"
   },
   {
    "duration": 3,
    "start_time": "2024-07-18T15:03:34.550Z"
   },
   {
    "duration": 6,
    "start_time": "2024-07-18T15:03:37.097Z"
   },
   {
    "duration": 3,
    "start_time": "2024-07-18T15:03:44.361Z"
   },
   {
    "duration": 7,
    "start_time": "2024-07-18T15:04:12.030Z"
   },
   {
    "duration": 3,
    "start_time": "2024-07-18T15:04:14.393Z"
   },
   {
    "duration": 9,
    "start_time": "2024-07-18T15:08:06.332Z"
   },
   {
    "duration": 32,
    "start_time": "2024-07-18T15:08:59.374Z"
   },
   {
    "duration": 9,
    "start_time": "2024-07-18T15:09:00.136Z"
   },
   {
    "duration": 3,
    "start_time": "2024-07-18T15:13:05.039Z"
   },
   {
    "duration": 6,
    "start_time": "2024-07-18T15:15:42.948Z"
   },
   {
    "duration": 15,
    "start_time": "2024-07-18T15:15:50.188Z"
   },
   {
    "duration": 3,
    "start_time": "2024-07-18T15:21:31.824Z"
   },
   {
    "duration": 236,
    "start_time": "2024-07-18T15:21:32.251Z"
   },
   {
    "duration": 5,
    "start_time": "2024-07-18T15:22:05.835Z"
   },
   {
    "duration": 3,
    "start_time": "2024-07-18T15:25:18.318Z"
   },
   {
    "duration": 187,
    "start_time": "2024-07-18T15:25:18.841Z"
   },
   {
    "duration": 3,
    "start_time": "2024-07-18T15:26:10.196Z"
   },
   {
    "duration": 208,
    "start_time": "2024-07-18T15:26:10.458Z"
   },
   {
    "duration": 3,
    "start_time": "2024-07-18T15:27:36.351Z"
   },
   {
    "duration": 214,
    "start_time": "2024-07-18T15:27:36.551Z"
   },
   {
    "duration": 3,
    "start_time": "2024-07-18T15:28:04.139Z"
   },
   {
    "duration": 210,
    "start_time": "2024-07-18T15:28:04.292Z"
   },
   {
    "duration": 69,
    "start_time": "2024-07-18T15:28:07.618Z"
   },
   {
    "duration": 3,
    "start_time": "2024-07-18T15:28:10.417Z"
   },
   {
    "duration": 205,
    "start_time": "2024-07-18T15:28:11.014Z"
   },
   {
    "duration": 3,
    "start_time": "2024-07-18T15:29:23.587Z"
   },
   {
    "duration": 2924,
    "start_time": "2024-07-18T15:29:24.303Z"
   },
   {
    "duration": 3,
    "start_time": "2024-07-18T15:29:46.924Z"
   },
   {
    "duration": 2870,
    "start_time": "2024-07-18T15:29:47.441Z"
   },
   {
    "duration": 3,
    "start_time": "2024-07-18T15:29:53.396Z"
   },
   {
    "duration": 208,
    "start_time": "2024-07-18T15:29:53.563Z"
   },
   {
    "duration": 393,
    "start_time": "2024-07-23T23:23:37.542Z"
   },
   {
    "duration": 87,
    "start_time": "2024-07-23T23:23:37.937Z"
   },
   {
    "duration": 0,
    "start_time": "2024-07-23T23:23:38.027Z"
   },
   {
    "duration": 0,
    "start_time": "2024-07-23T23:23:38.028Z"
   },
   {
    "duration": 0,
    "start_time": "2024-07-23T23:23:38.030Z"
   },
   {
    "duration": 0,
    "start_time": "2024-07-23T23:23:38.030Z"
   },
   {
    "duration": 0,
    "start_time": "2024-07-23T23:23:38.032Z"
   },
   {
    "duration": 0,
    "start_time": "2024-07-23T23:23:38.033Z"
   },
   {
    "duration": 0,
    "start_time": "2024-07-23T23:23:38.034Z"
   },
   {
    "duration": 0,
    "start_time": "2024-07-23T23:23:38.035Z"
   },
   {
    "duration": 0,
    "start_time": "2024-07-23T23:23:38.036Z"
   },
   {
    "duration": 0,
    "start_time": "2024-07-23T23:23:38.037Z"
   },
   {
    "duration": 0,
    "start_time": "2024-07-23T23:23:38.038Z"
   },
   {
    "duration": 0,
    "start_time": "2024-07-23T23:23:38.039Z"
   },
   {
    "duration": 0,
    "start_time": "2024-07-23T23:23:38.040Z"
   },
   {
    "duration": 0,
    "start_time": "2024-07-23T23:23:38.041Z"
   },
   {
    "duration": 0,
    "start_time": "2024-07-23T23:23:38.042Z"
   },
   {
    "duration": 0,
    "start_time": "2024-07-23T23:23:38.043Z"
   },
   {
    "duration": 0,
    "start_time": "2024-07-23T23:23:38.044Z"
   },
   {
    "duration": 0,
    "start_time": "2024-07-23T23:23:38.045Z"
   },
   {
    "duration": 0,
    "start_time": "2024-07-23T23:23:38.046Z"
   },
   {
    "duration": 0,
    "start_time": "2024-07-23T23:23:38.047Z"
   },
   {
    "duration": 0,
    "start_time": "2024-07-23T23:23:38.048Z"
   },
   {
    "duration": 1,
    "start_time": "2024-07-23T23:23:38.049Z"
   },
   {
    "duration": 0,
    "start_time": "2024-07-23T23:23:38.050Z"
   },
   {
    "duration": 0,
    "start_time": "2024-07-23T23:23:38.051Z"
   },
   {
    "duration": 0,
    "start_time": "2024-07-23T23:23:38.053Z"
   },
   {
    "duration": 0,
    "start_time": "2024-07-23T23:23:38.054Z"
   },
   {
    "duration": 0,
    "start_time": "2024-07-23T23:23:38.055Z"
   },
   {
    "duration": 0,
    "start_time": "2024-07-23T23:23:38.056Z"
   },
   {
    "duration": 0,
    "start_time": "2024-07-23T23:23:38.056Z"
   },
   {
    "duration": 0,
    "start_time": "2024-07-23T23:23:38.057Z"
   },
   {
    "duration": 0,
    "start_time": "2024-07-23T23:23:38.059Z"
   },
   {
    "duration": 0,
    "start_time": "2024-07-23T23:23:38.060Z"
   },
   {
    "duration": 0,
    "start_time": "2024-07-23T23:23:38.061Z"
   },
   {
    "duration": 0,
    "start_time": "2024-07-23T23:23:38.107Z"
   },
   {
    "duration": 0,
    "start_time": "2024-07-23T23:23:38.109Z"
   },
   {
    "duration": 0,
    "start_time": "2024-07-23T23:23:38.110Z"
   },
   {
    "duration": 0,
    "start_time": "2024-07-23T23:23:38.111Z"
   },
   {
    "duration": 0,
    "start_time": "2024-07-23T23:23:38.112Z"
   },
   {
    "duration": 0,
    "start_time": "2024-07-23T23:23:38.112Z"
   },
   {
    "duration": 0,
    "start_time": "2024-07-23T23:23:38.113Z"
   },
   {
    "duration": 0,
    "start_time": "2024-07-23T23:23:38.114Z"
   },
   {
    "duration": 0,
    "start_time": "2024-07-23T23:23:38.115Z"
   },
   {
    "duration": 0,
    "start_time": "2024-07-23T23:23:38.116Z"
   },
   {
    "duration": 0,
    "start_time": "2024-07-23T23:23:38.119Z"
   },
   {
    "duration": 0,
    "start_time": "2024-07-23T23:23:38.119Z"
   },
   {
    "duration": 0,
    "start_time": "2024-07-23T23:23:38.121Z"
   },
   {
    "duration": 0,
    "start_time": "2024-07-23T23:23:38.122Z"
   },
   {
    "duration": 0,
    "start_time": "2024-07-23T23:23:38.123Z"
   },
   {
    "duration": 0,
    "start_time": "2024-07-23T23:23:38.124Z"
   },
   {
    "duration": 0,
    "start_time": "2024-07-23T23:23:38.125Z"
   },
   {
    "duration": 0,
    "start_time": "2024-07-23T23:23:38.126Z"
   },
   {
    "duration": 0,
    "start_time": "2024-07-23T23:23:38.127Z"
   },
   {
    "duration": 0,
    "start_time": "2024-07-23T23:23:38.128Z"
   },
   {
    "duration": 0,
    "start_time": "2024-07-23T23:23:38.129Z"
   },
   {
    "duration": 0,
    "start_time": "2024-07-23T23:23:38.129Z"
   },
   {
    "duration": 0,
    "start_time": "2024-07-23T23:23:38.131Z"
   },
   {
    "duration": 0,
    "start_time": "2024-07-23T23:23:38.132Z"
   },
   {
    "duration": 0,
    "start_time": "2024-07-23T23:23:38.133Z"
   },
   {
    "duration": 0,
    "start_time": "2024-07-23T23:23:38.133Z"
   },
   {
    "duration": 0,
    "start_time": "2024-07-23T23:23:38.134Z"
   },
   {
    "duration": 0,
    "start_time": "2024-07-23T23:23:38.135Z"
   },
   {
    "duration": 0,
    "start_time": "2024-07-23T23:23:38.137Z"
   },
   {
    "duration": 0,
    "start_time": "2024-07-23T23:23:38.137Z"
   },
   {
    "duration": 0,
    "start_time": "2024-07-23T23:23:38.138Z"
   },
   {
    "duration": 0,
    "start_time": "2024-07-23T23:23:38.139Z"
   },
   {
    "duration": 0,
    "start_time": "2024-07-23T23:23:38.140Z"
   },
   {
    "duration": 0,
    "start_time": "2024-07-23T23:23:38.141Z"
   },
   {
    "duration": 0,
    "start_time": "2024-07-23T23:23:38.143Z"
   },
   {
    "duration": 0,
    "start_time": "2024-07-23T23:23:38.144Z"
   },
   {
    "duration": 0,
    "start_time": "2024-07-23T23:23:38.145Z"
   },
   {
    "duration": 0,
    "start_time": "2024-07-23T23:23:38.208Z"
   },
   {
    "duration": 0,
    "start_time": "2024-07-23T23:23:38.209Z"
   },
   {
    "duration": 0,
    "start_time": "2024-07-23T23:23:38.210Z"
   },
   {
    "duration": 0,
    "start_time": "2024-07-23T23:23:38.211Z"
   },
   {
    "duration": 370,
    "start_time": "2024-07-23T23:26:43.749Z"
   },
   {
    "duration": 83,
    "start_time": "2024-07-23T23:26:44.121Z"
   },
   {
    "duration": 21,
    "start_time": "2024-07-23T23:26:44.206Z"
   },
   {
    "duration": 16,
    "start_time": "2024-07-23T23:26:44.228Z"
   },
   {
    "duration": 9,
    "start_time": "2024-07-23T23:26:44.245Z"
   },
   {
    "duration": 61,
    "start_time": "2024-07-23T23:26:44.255Z"
   },
   {
    "duration": 4,
    "start_time": "2024-07-23T23:26:44.317Z"
   },
   {
    "duration": 11,
    "start_time": "2024-07-23T23:26:44.322Z"
   },
   {
    "duration": 18,
    "start_time": "2024-07-23T23:26:44.334Z"
   },
   {
    "duration": 9,
    "start_time": "2024-07-23T23:26:44.354Z"
   },
   {
    "duration": 3,
    "start_time": "2024-07-23T23:26:44.365Z"
   },
   {
    "duration": 51,
    "start_time": "2024-07-23T23:26:44.369Z"
   },
   {
    "duration": 10,
    "start_time": "2024-07-23T23:26:44.422Z"
   },
   {
    "duration": 32,
    "start_time": "2024-07-23T23:26:44.433Z"
   },
   {
    "duration": 37,
    "start_time": "2024-07-23T23:26:44.466Z"
   },
   {
    "duration": 32,
    "start_time": "2024-07-23T23:26:44.504Z"
   },
   {
    "duration": 32,
    "start_time": "2024-07-23T23:26:44.537Z"
   },
   {
    "duration": 4,
    "start_time": "2024-07-23T23:26:44.570Z"
   },
   {
    "duration": 270,
    "start_time": "2024-07-23T23:26:44.575Z"
   },
   {
    "duration": 5,
    "start_time": "2024-07-23T23:26:44.846Z"
   },
   {
    "duration": 3,
    "start_time": "2024-07-23T23:26:44.853Z"
   },
   {
    "duration": 269,
    "start_time": "2024-07-23T23:26:44.857Z"
   },
   {
    "duration": 10,
    "start_time": "2024-07-23T23:26:45.128Z"
   },
   {
    "duration": 31,
    "start_time": "2024-07-23T23:26:45.140Z"
   },
   {
    "duration": 37,
    "start_time": "2024-07-23T23:26:45.172Z"
   },
   {
    "duration": 13,
    "start_time": "2024-07-23T23:26:45.211Z"
   },
   {
    "duration": 35,
    "start_time": "2024-07-23T23:26:45.226Z"
   },
   {
    "duration": 18,
    "start_time": "2024-07-23T23:26:45.265Z"
   },
   {
    "duration": 27,
    "start_time": "2024-07-23T23:26:45.285Z"
   },
   {
    "duration": 26,
    "start_time": "2024-07-23T23:26:45.314Z"
   },
   {
    "duration": 33,
    "start_time": "2024-07-23T23:26:45.341Z"
   },
   {
    "duration": 16,
    "start_time": "2024-07-23T23:26:45.376Z"
   },
   {
    "duration": 26,
    "start_time": "2024-07-23T23:26:45.394Z"
   },
   {
    "duration": 32,
    "start_time": "2024-07-23T23:26:45.421Z"
   },
   {
    "duration": 14,
    "start_time": "2024-07-23T23:26:45.454Z"
   },
   {
    "duration": 18,
    "start_time": "2024-07-23T23:26:45.469Z"
   },
   {
    "duration": 16,
    "start_time": "2024-07-23T23:26:45.488Z"
   },
   {
    "duration": 26,
    "start_time": "2024-07-23T23:26:45.505Z"
   },
   {
    "duration": 33,
    "start_time": "2024-07-23T23:26:45.533Z"
   },
   {
    "duration": 26,
    "start_time": "2024-07-23T23:26:45.568Z"
   },
   {
    "duration": 29,
    "start_time": "2024-07-23T23:26:45.596Z"
   },
   {
    "duration": 27,
    "start_time": "2024-07-23T23:26:45.627Z"
   },
   {
    "duration": 21,
    "start_time": "2024-07-23T23:26:45.656Z"
   },
   {
    "duration": 28,
    "start_time": "2024-07-23T23:26:45.678Z"
   },
   {
    "duration": 19,
    "start_time": "2024-07-23T23:26:45.708Z"
   },
   {
    "duration": 19,
    "start_time": "2024-07-23T23:26:45.728Z"
   },
   {
    "duration": 19,
    "start_time": "2024-07-23T23:26:45.749Z"
   },
   {
    "duration": 15,
    "start_time": "2024-07-23T23:26:45.770Z"
   },
   {
    "duration": 30,
    "start_time": "2024-07-23T23:26:45.786Z"
   },
   {
    "duration": 26,
    "start_time": "2024-07-23T23:26:45.818Z"
   },
   {
    "duration": 14,
    "start_time": "2024-07-23T23:26:45.845Z"
   },
   {
    "duration": 25,
    "start_time": "2024-07-23T23:26:45.861Z"
   },
   {
    "duration": 35,
    "start_time": "2024-07-23T23:26:45.887Z"
   },
   {
    "duration": 16,
    "start_time": "2024-07-23T23:26:45.923Z"
   },
   {
    "duration": 15,
    "start_time": "2024-07-23T23:26:45.941Z"
   },
   {
    "duration": 41,
    "start_time": "2024-07-23T23:26:45.957Z"
   },
   {
    "duration": 18,
    "start_time": "2024-07-23T23:26:45.999Z"
   },
   {
    "duration": 17,
    "start_time": "2024-07-23T23:26:46.019Z"
   },
   {
    "duration": 44,
    "start_time": "2024-07-23T23:26:46.037Z"
   },
   {
    "duration": 25,
    "start_time": "2024-07-23T23:26:46.082Z"
   },
   {
    "duration": 24,
    "start_time": "2024-07-23T23:26:46.109Z"
   },
   {
    "duration": 36,
    "start_time": "2024-07-23T23:26:46.134Z"
   },
   {
    "duration": 15,
    "start_time": "2024-07-23T23:26:46.171Z"
   },
   {
    "duration": 44,
    "start_time": "2024-07-23T23:26:46.188Z"
   },
   {
    "duration": 22,
    "start_time": "2024-07-23T23:26:46.233Z"
   },
   {
    "duration": 37,
    "start_time": "2024-07-23T23:26:46.257Z"
   },
   {
    "duration": 24,
    "start_time": "2024-07-23T23:26:46.295Z"
   },
   {
    "duration": 23,
    "start_time": "2024-07-23T23:26:46.321Z"
   },
   {
    "duration": 23,
    "start_time": "2024-07-23T23:26:46.346Z"
   },
   {
    "duration": 18,
    "start_time": "2024-07-23T23:26:46.371Z"
   },
   {
    "duration": 39,
    "start_time": "2024-07-23T23:26:46.391Z"
   },
   {
    "duration": 15,
    "start_time": "2024-07-23T23:26:46.431Z"
   },
   {
    "duration": 30,
    "start_time": "2024-07-23T23:26:46.447Z"
   },
   {
    "duration": 28,
    "start_time": "2024-07-23T23:26:46.478Z"
   },
   {
    "duration": 24,
    "start_time": "2024-07-23T23:26:46.507Z"
   },
   {
    "duration": 21,
    "start_time": "2024-07-23T23:26:46.532Z"
   }
  ],
  "colab": {
   "provenance": []
  },
  "kernelspec": {
   "display_name": "Python 3 (ipykernel)",
   "language": "python",
   "name": "python3"
  },
  "language_info": {
   "codemirror_mode": {
    "name": "ipython",
    "version": 3
   },
   "file_extension": ".py",
   "mimetype": "text/x-python",
   "name": "python",
   "nbconvert_exporter": "python",
   "pygments_lexer": "ipython3",
   "version": "3.12.4"
  },
  "toc": {
   "base_numbering": 1,
   "nav_menu": {},
   "number_sections": true,
   "sideBar": true,
   "skip_h1_title": true,
   "title_cell": "Table of Contents",
   "title_sidebar": "Contents",
   "toc_cell": false,
   "toc_position": {},
   "toc_section_display": true,
   "toc_window_display": false
  }
 },
 "nbformat": 4,
 "nbformat_minor": 5
}
