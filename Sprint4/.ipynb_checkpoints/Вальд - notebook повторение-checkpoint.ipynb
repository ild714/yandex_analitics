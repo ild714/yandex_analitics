{
 "cells": [
  {
   "cell_type": "code",
   "execution_count": 2,
   "id": "8a3ebb5b-77be-4998-b30d-a8c64f5c306f",
   "metadata": {
    "scrolled": true
   },
   "outputs": [
    {
     "name": "stdout",
     "output_type": "stream",
     "text": [
      "Requirement already satisfied: jupyter-black in /Users/klip/anaconda3/lib/python3.11/site-packages (0.3.4)\n",
      "Requirement already satisfied: black>=21 in /Users/klip/anaconda3/lib/python3.11/site-packages (from jupyter-black) (24.2.0)\n",
      "Requirement already satisfied: ipython>=7 in /Users/klip/anaconda3/lib/python3.11/site-packages (from jupyter-black) (8.14.0)\n",
      "Requirement already satisfied: tokenize-rt>=4 in /Users/klip/anaconda3/lib/python3.11/site-packages (from jupyter-black) (5.2.0)\n",
      "Requirement already satisfied: click>=8.0.0 in /Users/klip/anaconda3/lib/python3.11/site-packages (from black>=21->jupyter-black) (8.1.6)\n",
      "Requirement already satisfied: mypy-extensions>=0.4.3 in /Users/klip/anaconda3/lib/python3.11/site-packages (from black>=21->jupyter-black) (1.0.0)\n",
      "Requirement already satisfied: packaging>=22.0 in /Users/klip/anaconda3/lib/python3.11/site-packages (from black>=21->jupyter-black) (23.1)\n",
      "Requirement already satisfied: pathspec>=0.9.0 in /Users/klip/anaconda3/lib/python3.11/site-packages (from black>=21->jupyter-black) (0.9.0)\n",
      "Requirement already satisfied: platformdirs>=2 in /Users/klip/anaconda3/lib/python3.11/site-packages (from black>=21->jupyter-black) (3.8.1)\n",
      "Requirement already satisfied: backcall in /Users/klip/anaconda3/lib/python3.11/site-packages (from ipython>=7->jupyter-black) (0.2.0)\n",
      "Requirement already satisfied: decorator in /Users/klip/anaconda3/lib/python3.11/site-packages (from ipython>=7->jupyter-black) (5.1.1)\n",
      "Requirement already satisfied: jedi>=0.16 in /Users/klip/anaconda3/lib/python3.11/site-packages (from ipython>=7->jupyter-black) (0.18.2)\n",
      "Requirement already satisfied: matplotlib-inline in /Users/klip/anaconda3/lib/python3.11/site-packages (from ipython>=7->jupyter-black) (0.1.6)\n",
      "Requirement already satisfied: pickleshare in /Users/klip/anaconda3/lib/python3.11/site-packages (from ipython>=7->jupyter-black) (0.7.5)\n",
      "Requirement already satisfied: prompt-toolkit!=3.0.37,<3.1.0,>=3.0.30 in /Users/klip/anaconda3/lib/python3.11/site-packages (from ipython>=7->jupyter-black) (3.0.39)\n",
      "Requirement already satisfied: pygments>=2.4.0 in /Users/klip/anaconda3/lib/python3.11/site-packages (from ipython>=7->jupyter-black) (2.15.1)\n",
      "Requirement already satisfied: stack-data in /Users/klip/anaconda3/lib/python3.11/site-packages (from ipython>=7->jupyter-black) (0.6.2)\n",
      "Requirement already satisfied: traitlets>=5 in /Users/klip/anaconda3/lib/python3.11/site-packages (from ipython>=7->jupyter-black) (5.9.0)\n",
      "Requirement already satisfied: pexpect>4.3 in /Users/klip/anaconda3/lib/python3.11/site-packages (from ipython>=7->jupyter-black) (4.8.0)\n",
      "Requirement already satisfied: appnope in /Users/klip/anaconda3/lib/python3.11/site-packages (from ipython>=7->jupyter-black) (0.1.3)\n",
      "Requirement already satisfied: parso<0.9.0,>=0.8.0 in /Users/klip/anaconda3/lib/python3.11/site-packages (from jedi>=0.16->ipython>=7->jupyter-black) (0.8.3)\n",
      "Requirement already satisfied: ptyprocess>=0.5 in /Users/klip/anaconda3/lib/python3.11/site-packages (from pexpect>4.3->ipython>=7->jupyter-black) (0.7.0)\n",
      "Requirement already satisfied: wcwidth in /Users/klip/anaconda3/lib/python3.11/site-packages (from prompt-toolkit!=3.0.37,<3.1.0,>=3.0.30->ipython>=7->jupyter-black) (0.2.6)\n",
      "Requirement already satisfied: executing>=1.2.0 in /Users/klip/anaconda3/lib/python3.11/site-packages (from stack-data->ipython>=7->jupyter-black) (1.2.0)\n",
      "Requirement already satisfied: asttokens>=2.1.0 in /Users/klip/anaconda3/lib/python3.11/site-packages (from stack-data->ipython>=7->jupyter-black) (2.2.1)\n",
      "Requirement already satisfied: pure-eval in /Users/klip/anaconda3/lib/python3.11/site-packages (from stack-data->ipython>=7->jupyter-black) (0.2.2)\n",
      "Requirement already satisfied: six in /Users/klip/anaconda3/lib/python3.11/site-packages (from asttokens>=2.1.0->stack-data->ipython>=7->jupyter-black) (1.16.0)\n"
     ]
    }
   ],
   "source": [
    "# В самой первой ячейке добавить код для тех библиотек, которых нет в окружении тренажера\n",
    "!pip install jupyter-black"
   ]
  },
  {
   "cell_type": "code",
   "execution_count": null,
   "id": "a608f3ec-28ab-4f22-bf7b-95e9771df957",
   "metadata": {},
   "outputs": [],
   "source": []
  },
  {
   "cell_type": "code",
   "execution_count": null,
   "id": "bbd777ba-6294-490a-85bd-7e63f9f599e6",
   "metadata": {},
   "outputs": [],
   "source": []
  },
  {
   "cell_type": "markdown",
   "id": "986da488-8ea2-459a-8a67-82f77fe1fce3",
   "metadata": {},
   "source": [
    "# Повторение и сборный проект"
   ]
  },
  {
   "cell_type": "code",
   "execution_count": 3,
   "id": "54a79c4f-8f2a-4955-8335-87019c4f62f2",
   "metadata": {},
   "outputs": [],
   "source": [
    "import jupyter_black\n",
    "import pandas as pd\n",
    "import numpy as np\n",
    "import matplotlib.pyplot as plt\n",
    "import seaborn as sns\n",
    "import warnings\n",
    "\n",
    "from scipy.stats import ttest_ind"
   ]
  },
  {
   "cell_type": "code",
   "execution_count": 4,
   "id": "16d1b05d-9a78-4bb6-92e1-4d152de0df84",
   "metadata": {},
   "outputs": [
    {
     "data": {
      "text/html": [
       "\n",
       "                <script type=\"application/javascript\" id=\"jupyter_black\">\n",
       "                (function() {\n",
       "                    if (window.IPython === undefined) {\n",
       "                        return\n",
       "                    }\n",
       "                    var msg = \"WARNING: it looks like you might have loaded \" +\n",
       "                        \"jupyter_black in a non-lab notebook with \" +\n",
       "                        \"`is_lab=True`. Please double check, and if \" +\n",
       "                        \"loading with `%load_ext` please review the README!\"\n",
       "                    console.log(msg)\n",
       "                    alert(msg)\n",
       "                })()\n",
       "                </script>\n",
       "                "
      ],
      "text/plain": [
       "<IPython.core.display.HTML object>"
      ]
     },
     "metadata": {},
     "output_type": "display_data"
    }
   ],
   "source": [
    "# Загрузка автоформатера\n",
    "jupyter_black.load()\n",
    "\n",
    "# Скроем лишние предупреждения\n",
    "warnings.filterwarnings(\"ignore\")\n",
    "\n",
    "# Настройки Pandas для вывода всех столбцов\n",
    "pd.set_option(\"display.max_columns\", None)\n",
    "# Ограничение количества знаков после запятой\n",
    "pd.set_option(\"display.float_format\", \"{:.2f}\".format)\n",
    "# Установка максимального количества строк для отображения\n",
    "pd.set_option(\n",
    "    \"display.max_rows\", 50\n",
    ")  # По умолчанию 50, можно изменить при необходимости\n",
    "# Установка ширины колонок\n",
    "pd.set_option(\n",
    "    \"display.max_colwidth\", 100\n",
    ")  # По умолчанию 50, можно изменить при необходимости\n",
    "# Установка ширины дисплея\n",
    "pd.set_option(\n",
    "    \"display.width\", 1000\n",
    ")  # Устанавливаем достаточную ширину для отображения всех колонок"
   ]
  },
  {
   "cell_type": "code",
   "execution_count": null,
   "id": "878cd706-8b38-4b97-8fec-af2ca3a5e77b",
   "metadata": {},
   "outputs": [],
   "source": []
  },
  {
   "cell_type": "code",
   "execution_count": null,
   "id": "00bb3917-60fc-46b7-9fca-02542492210a",
   "metadata": {},
   "outputs": [],
   "source": []
  },
  {
   "cell_type": "markdown",
   "id": "c99888fd-d12f-4f59-8063-d58cd9199147",
   "metadata": {},
   "source": [
    "## Описание"
   ]
  },
  {
   "cell_type": "markdown",
   "id": "a0ade406-5563-4726-bdca-d68e09cd2de1",
   "metadata": {},
   "source": [
    "Датасет взять с kaggle: https://www.kaggle.com/datasets/tamber/steam-video-games"
   ]
  },
  {
   "cell_type": "markdown",
   "id": "330ddb56-a9cc-407d-974e-d5ca987f74d5",
   "metadata": {},
   "source": [
    "Контекст  \n",
    "Steam — самый популярный в мире центр компьютерных игр с более чем 6000 играми и сообществом из миллионов геймеров. Благодаря огромной коллекции, включающей все — от блокбастеров AAA до небольших инди-игр, отличные инструменты поиска являются очень ценным активом для Steam. Как мы можем сделать их лучше?\n",
    "\n",
    "Содержание  \n",
    "Этот набор данных представляет собой список поведения пользователей со столбцами: идентификатор пользователя, название игры, имя поведения, значение. Включенные модели поведения — «покупка» и «игра». Значение указывает на степень выполнения действия — в случае «покупки» значение всегда равно 1,\n",
    "а в случае «игра» значение представляет собой количество часов, в течение которых пользователь играл в игру."
   ]
  },
  {
   "cell_type": "markdown",
   "id": "c12989cd-9307-4c48-b45b-7ba508115702",
   "metadata": {},
   "source": [
    "Нужно провести анализ и выявить..."
   ]
  },
  {
   "cell_type": "code",
   "execution_count": 5,
   "id": "f9a9f7a8-46c9-4279-9f91-89671820c541",
   "metadata": {},
   "outputs": [],
   "source": [
    "# Загрузка данных Steam\n",
    "file_path = \"steam-200k.csv\"\n",
    "steam_data = pd.read_csv(\n",
    "    file_path,\n",
    "    names=[\"user_id\", \"game_title\", \"behavior_type\", \"value\", \"Unused\"],\n",
    "    header=None,\n",
    ")"
   ]
  },
  {
   "cell_type": "code",
   "execution_count": 6,
   "id": "ced8d587-565d-411f-9305-c1779aa34b7f",
   "metadata": {},
   "outputs": [
    {
     "data": {
      "text/html": [
       "<div>\n",
       "<style scoped>\n",
       "    .dataframe tbody tr th:only-of-type {\n",
       "        vertical-align: middle;\n",
       "    }\n",
       "\n",
       "    .dataframe tbody tr th {\n",
       "        vertical-align: top;\n",
       "    }\n",
       "\n",
       "    .dataframe thead th {\n",
       "        text-align: right;\n",
       "    }\n",
       "</style>\n",
       "<table border=\"1\" class=\"dataframe\">\n",
       "  <thead>\n",
       "    <tr style=\"text-align: right;\">\n",
       "      <th></th>\n",
       "      <th>user_id</th>\n",
       "      <th>game_title</th>\n",
       "      <th>behavior_type</th>\n",
       "      <th>value</th>\n",
       "      <th>Unused</th>\n",
       "    </tr>\n",
       "  </thead>\n",
       "  <tbody>\n",
       "    <tr>\n",
       "      <th>0</th>\n",
       "      <td>151603712</td>\n",
       "      <td>The Elder Scrolls V Skyrim</td>\n",
       "      <td>purchase</td>\n",
       "      <td>1.00</td>\n",
       "      <td>0</td>\n",
       "    </tr>\n",
       "    <tr>\n",
       "      <th>1</th>\n",
       "      <td>151603712</td>\n",
       "      <td>The Elder Scrolls V Skyrim</td>\n",
       "      <td>play</td>\n",
       "      <td>273.00</td>\n",
       "      <td>0</td>\n",
       "    </tr>\n",
       "    <tr>\n",
       "      <th>2</th>\n",
       "      <td>151603712</td>\n",
       "      <td>Fallout 4</td>\n",
       "      <td>purchase</td>\n",
       "      <td>1.00</td>\n",
       "      <td>0</td>\n",
       "    </tr>\n",
       "    <tr>\n",
       "      <th>3</th>\n",
       "      <td>151603712</td>\n",
       "      <td>Fallout 4</td>\n",
       "      <td>play</td>\n",
       "      <td>87.00</td>\n",
       "      <td>0</td>\n",
       "    </tr>\n",
       "    <tr>\n",
       "      <th>4</th>\n",
       "      <td>151603712</td>\n",
       "      <td>Spore</td>\n",
       "      <td>purchase</td>\n",
       "      <td>1.00</td>\n",
       "      <td>0</td>\n",
       "    </tr>\n",
       "  </tbody>\n",
       "</table>\n",
       "</div>"
      ],
      "text/plain": [
       "     user_id                  game_title behavior_type  value  Unused\n",
       "0  151603712  The Elder Scrolls V Skyrim      purchase   1.00       0\n",
       "1  151603712  The Elder Scrolls V Skyrim          play 273.00       0\n",
       "2  151603712                   Fallout 4      purchase   1.00       0\n",
       "3  151603712                   Fallout 4          play  87.00       0\n",
       "4  151603712                       Spore      purchase   1.00       0"
      ]
     },
     "execution_count": 6,
     "metadata": {},
     "output_type": "execute_result"
    }
   ],
   "source": [
    "steam_data.head()"
   ]
  },
  {
   "cell_type": "code",
   "execution_count": 7,
   "id": "8f37d048-03b9-4202-9179-b6cd19aa3439",
   "metadata": {},
   "outputs": [
    {
     "data": {
      "text/html": [
       "<div>\n",
       "<style scoped>\n",
       "    .dataframe tbody tr th:only-of-type {\n",
       "        vertical-align: middle;\n",
       "    }\n",
       "\n",
       "    .dataframe tbody tr th {\n",
       "        vertical-align: top;\n",
       "    }\n",
       "\n",
       "    .dataframe thead th {\n",
       "        text-align: right;\n",
       "    }\n",
       "</style>\n",
       "<table border=\"1\" class=\"dataframe\">\n",
       "  <thead>\n",
       "    <tr style=\"text-align: right;\">\n",
       "      <th></th>\n",
       "      <th>user_id</th>\n",
       "      <th>game_title</th>\n",
       "      <th>behavior_type</th>\n",
       "      <th>value</th>\n",
       "      <th>Unused</th>\n",
       "    </tr>\n",
       "  </thead>\n",
       "  <tbody>\n",
       "    <tr>\n",
       "      <th>199995</th>\n",
       "      <td>128470551</td>\n",
       "      <td>Titan Souls</td>\n",
       "      <td>play</td>\n",
       "      <td>1.50</td>\n",
       "      <td>0</td>\n",
       "    </tr>\n",
       "    <tr>\n",
       "      <th>199996</th>\n",
       "      <td>128470551</td>\n",
       "      <td>Grand Theft Auto Vice City</td>\n",
       "      <td>purchase</td>\n",
       "      <td>1.00</td>\n",
       "      <td>0</td>\n",
       "    </tr>\n",
       "    <tr>\n",
       "      <th>199997</th>\n",
       "      <td>128470551</td>\n",
       "      <td>Grand Theft Auto Vice City</td>\n",
       "      <td>play</td>\n",
       "      <td>1.50</td>\n",
       "      <td>0</td>\n",
       "    </tr>\n",
       "    <tr>\n",
       "      <th>199998</th>\n",
       "      <td>128470551</td>\n",
       "      <td>RUSH</td>\n",
       "      <td>purchase</td>\n",
       "      <td>1.00</td>\n",
       "      <td>0</td>\n",
       "    </tr>\n",
       "    <tr>\n",
       "      <th>199999</th>\n",
       "      <td>128470551</td>\n",
       "      <td>RUSH</td>\n",
       "      <td>play</td>\n",
       "      <td>1.40</td>\n",
       "      <td>0</td>\n",
       "    </tr>\n",
       "  </tbody>\n",
       "</table>\n",
       "</div>"
      ],
      "text/plain": [
       "          user_id                  game_title behavior_type  value  Unused\n",
       "199995  128470551                 Titan Souls          play   1.50       0\n",
       "199996  128470551  Grand Theft Auto Vice City      purchase   1.00       0\n",
       "199997  128470551  Grand Theft Auto Vice City          play   1.50       0\n",
       "199998  128470551                        RUSH      purchase   1.00       0\n",
       "199999  128470551                        RUSH          play   1.40       0"
      ]
     },
     "execution_count": 7,
     "metadata": {},
     "output_type": "execute_result"
    }
   ],
   "source": [
    "# Отображение последних 5 строк датасета\n",
    "steam_data.tail()"
   ]
  },
  {
   "cell_type": "code",
   "execution_count": 8,
   "id": "eeed96d2-c6b4-49d7-9b49-9fede35559fc",
   "metadata": {},
   "outputs": [
    {
     "data": {
      "text/html": [
       "<div>\n",
       "<style scoped>\n",
       "    .dataframe tbody tr th:only-of-type {\n",
       "        vertical-align: middle;\n",
       "    }\n",
       "\n",
       "    .dataframe tbody tr th {\n",
       "        vertical-align: top;\n",
       "    }\n",
       "\n",
       "    .dataframe thead th {\n",
       "        text-align: right;\n",
       "    }\n",
       "</style>\n",
       "<table border=\"1\" class=\"dataframe\">\n",
       "  <thead>\n",
       "    <tr style=\"text-align: right;\">\n",
       "      <th></th>\n",
       "      <th>user_id</th>\n",
       "      <th>game_title</th>\n",
       "      <th>behavior_type</th>\n",
       "      <th>value</th>\n",
       "      <th>Unused</th>\n",
       "    </tr>\n",
       "  </thead>\n",
       "  <tbody>\n",
       "    <tr>\n",
       "      <th>81403</th>\n",
       "      <td>87601770</td>\n",
       "      <td>Fallout New Vegas</td>\n",
       "      <td>play</td>\n",
       "      <td>46.00</td>\n",
       "      <td>0</td>\n",
       "    </tr>\n",
       "  </tbody>\n",
       "</table>\n",
       "</div>"
      ],
      "text/plain": [
       "        user_id         game_title behavior_type  value  Unused\n",
       "81403  87601770  Fallout New Vegas          play  46.00       0"
      ]
     },
     "execution_count": 8,
     "metadata": {},
     "output_type": "execute_result"
    }
   ],
   "source": [
    "# Отображение рандомных строк датасета\n",
    "steam_data.sample()"
   ]
  },
  {
   "cell_type": "code",
   "execution_count": 9,
   "id": "cad50e56-845e-4ddf-971f-1f9b59a8ec77",
   "metadata": {},
   "outputs": [],
   "source": [
    "# Удаление ненужного столбца\n",
    "steam_data = steam_data.drop(columns=[\"Unused\"])"
   ]
  },
  {
   "cell_type": "code",
   "execution_count": 10,
   "id": "8b9dbfa4-775c-48ca-9b7a-204b260c8aca",
   "metadata": {},
   "outputs": [],
   "source": [
    "# Преобразование имен столбцов в нижний регистр и замена пробелов на \"_\"\n",
    "steam_data.columns = steam_data.columns.str.lower().str.replace(\" \", \"_\")"
   ]
  },
  {
   "cell_type": "code",
   "execution_count": 11,
   "id": "2c20783d-faa5-4d68-96ae-7c8ff32f8c9d",
   "metadata": {},
   "outputs": [
    {
     "name": "stdout",
     "output_type": "stream",
     "text": [
      "<class 'pandas.core.frame.DataFrame'>\n",
      "RangeIndex: 200000 entries, 0 to 199999\n",
      "Data columns (total 4 columns):\n",
      " #   Column         Non-Null Count   Dtype  \n",
      "---  ------         --------------   -----  \n",
      " 0   user_id        200000 non-null  int64  \n",
      " 1   game_title     200000 non-null  object \n",
      " 2   behavior_type  200000 non-null  object \n",
      " 3   value          200000 non-null  float64\n",
      "dtypes: float64(1), int64(1), object(2)\n",
      "memory usage: 6.1+ MB\n"
     ]
    }
   ],
   "source": [
    "steam_data.info()"
   ]
  },
  {
   "cell_type": "code",
   "execution_count": 12,
   "id": "e9d823ba-ded0-4506-80fd-dd98e05a7576",
   "metadata": {},
   "outputs": [
    {
     "data": {
      "text/plain": [
       "user_id            int64\n",
       "game_title        object\n",
       "behavior_type     object\n",
       "value            float64\n",
       "dtype: object"
      ]
     },
     "execution_count": 12,
     "metadata": {},
     "output_type": "execute_result"
    }
   ],
   "source": [
    "steam_data.dtypes"
   ]
  },
  {
   "cell_type": "code",
   "execution_count": null,
   "id": "f455264f-9d7c-4341-9816-a8ac1c4cd574",
   "metadata": {},
   "outputs": [],
   "source": []
  },
  {
   "cell_type": "code",
   "execution_count": null,
   "id": "e4a33d37-4826-4056-93e2-3a0f6ec05644",
   "metadata": {},
   "outputs": [],
   "source": []
  },
  {
   "cell_type": "markdown",
   "id": "9daf5460-6f4f-4f37-a5db-62ecbff1046a",
   "metadata": {},
   "source": [
    "## Предобработка данных"
   ]
  },
  {
   "cell_type": "code",
   "execution_count": 13,
   "id": "e7137d7b-9af5-4da1-bdbf-257cabdb665f",
   "metadata": {},
   "outputs": [
    {
     "data": {
      "text/plain": [
       "user_id          0\n",
       "game_title       0\n",
       "behavior_type    0\n",
       "value            0\n",
       "dtype: int64"
      ]
     },
     "execution_count": 13,
     "metadata": {},
     "output_type": "execute_result"
    }
   ],
   "source": [
    "steam_data.isnull().sum()"
   ]
  },
  {
   "cell_type": "code",
   "execution_count": 14,
   "id": "16331ef8-e700-41c5-82c8-fba8504460b8",
   "metadata": {},
   "outputs": [],
   "source": [
    "# Преобразование значений столбца 'value' для поведения 'play' в числовой формат\n",
    "steam_data[\"value\"] = pd.to_numeric(steam_data[\"value\"], errors=\"coerce\")"
   ]
  },
  {
   "cell_type": "code",
   "execution_count": 15,
   "id": "59a05e97-85f9-4ed5-8aec-30847e1fb5a7",
   "metadata": {},
   "outputs": [],
   "source": [
    "# Удаление строк с пропущенными значениями\n",
    "steam_data = steam_data.dropna(subset=[\"value\"])"
   ]
  },
  {
   "cell_type": "code",
   "execution_count": 16,
   "id": "1a6ada5c-4e0b-436d-929d-c85ca27c27e3",
   "metadata": {},
   "outputs": [
    {
     "data": {
      "text/html": [
       "<div>\n",
       "<style scoped>\n",
       "    .dataframe tbody tr th:only-of-type {\n",
       "        vertical-align: middle;\n",
       "    }\n",
       "\n",
       "    .dataframe tbody tr th {\n",
       "        vertical-align: top;\n",
       "    }\n",
       "\n",
       "    .dataframe thead th {\n",
       "        text-align: right;\n",
       "    }\n",
       "</style>\n",
       "<table border=\"1\" class=\"dataframe\">\n",
       "  <thead>\n",
       "    <tr style=\"text-align: right;\">\n",
       "      <th></th>\n",
       "      <th>user_id</th>\n",
       "      <th>game_title</th>\n",
       "      <th>behavior_type</th>\n",
       "      <th>value</th>\n",
       "    </tr>\n",
       "  </thead>\n",
       "  <tbody>\n",
       "    <tr>\n",
       "      <th>0</th>\n",
       "      <td>151603712</td>\n",
       "      <td>The Elder Scrolls V Skyrim</td>\n",
       "      <td>purchase</td>\n",
       "      <td>1.00</td>\n",
       "    </tr>\n",
       "    <tr>\n",
       "      <th>1</th>\n",
       "      <td>151603712</td>\n",
       "      <td>The Elder Scrolls V Skyrim</td>\n",
       "      <td>play</td>\n",
       "      <td>273.00</td>\n",
       "    </tr>\n",
       "    <tr>\n",
       "      <th>2</th>\n",
       "      <td>151603712</td>\n",
       "      <td>Fallout 4</td>\n",
       "      <td>purchase</td>\n",
       "      <td>1.00</td>\n",
       "    </tr>\n",
       "    <tr>\n",
       "      <th>3</th>\n",
       "      <td>151603712</td>\n",
       "      <td>Fallout 4</td>\n",
       "      <td>play</td>\n",
       "      <td>87.00</td>\n",
       "    </tr>\n",
       "    <tr>\n",
       "      <th>4</th>\n",
       "      <td>151603712</td>\n",
       "      <td>Spore</td>\n",
       "      <td>purchase</td>\n",
       "      <td>1.00</td>\n",
       "    </tr>\n",
       "  </tbody>\n",
       "</table>\n",
       "</div>"
      ],
      "text/plain": [
       "     user_id                  game_title behavior_type  value\n",
       "0  151603712  The Elder Scrolls V Skyrim      purchase   1.00\n",
       "1  151603712  The Elder Scrolls V Skyrim          play 273.00\n",
       "2  151603712                   Fallout 4      purchase   1.00\n",
       "3  151603712                   Fallout 4          play  87.00\n",
       "4  151603712                       Spore      purchase   1.00"
      ]
     },
     "execution_count": 16,
     "metadata": {},
     "output_type": "execute_result"
    }
   ],
   "source": [
    "steam_data.head()"
   ]
  },
  {
   "cell_type": "code",
   "execution_count": 17,
   "id": "5e46a9fd-ce42-4f9a-81bd-468322614e09",
   "metadata": {},
   "outputs": [
    {
     "data": {
      "text/plain": [
       "user_id            int64\n",
       "game_title        object\n",
       "behavior_type     object\n",
       "value            float64\n",
       "dtype: object"
      ]
     },
     "execution_count": 17,
     "metadata": {},
     "output_type": "execute_result"
    }
   ],
   "source": [
    "steam_data.dtypes"
   ]
  },
  {
   "cell_type": "code",
   "execution_count": null,
   "id": "13d3cb06-5ccb-451a-9bcd-eab63bca4b2e",
   "metadata": {},
   "outputs": [],
   "source": []
  },
  {
   "cell_type": "code",
   "execution_count": null,
   "id": "24ac8023-2b8c-406e-b793-559b74cf10c1",
   "metadata": {},
   "outputs": [],
   "source": []
  },
  {
   "cell_type": "markdown",
   "id": "7718ac35-851c-493d-b32b-33bba76f6dd7",
   "metadata": {},
   "source": [
    "## Анализ данных"
   ]
  },
  {
   "cell_type": "markdown",
   "id": "868b6474-68dd-40ca-8d8d-75794101ce3c",
   "metadata": {},
   "source": [
    "### Количество покупок и часов игры по каждому пользователю"
   ]
  },
  {
   "cell_type": "code",
   "execution_count": 18,
   "id": "3e18a2d7-cb4c-48af-b6ca-92a9e92100ce",
   "metadata": {},
   "outputs": [],
   "source": [
    "user_behavior = (\n",
    "    steam_data.groupby([\"user_id\", \"behavior_type\"])[\"value\"].sum().unstack().fillna(0)\n",
    ")\n",
    "user_behavior.columns = [\"total_hours_played\", \"total_purchases\"]"
   ]
  },
  {
   "cell_type": "code",
   "execution_count": 19,
   "id": "95f9907b-d9ef-4755-9a8d-dde3217f4038",
   "metadata": {},
   "outputs": [
    {
     "data": {
      "text/html": [
       "<div>\n",
       "<style scoped>\n",
       "    .dataframe tbody tr th:only-of-type {\n",
       "        vertical-align: middle;\n",
       "    }\n",
       "\n",
       "    .dataframe tbody tr th {\n",
       "        vertical-align: top;\n",
       "    }\n",
       "\n",
       "    .dataframe thead th {\n",
       "        text-align: right;\n",
       "    }\n",
       "</style>\n",
       "<table border=\"1\" class=\"dataframe\">\n",
       "  <thead>\n",
       "    <tr style=\"text-align: right;\">\n",
       "      <th></th>\n",
       "      <th>total_hours_played</th>\n",
       "      <th>total_purchases</th>\n",
       "    </tr>\n",
       "  </thead>\n",
       "  <tbody>\n",
       "    <tr>\n",
       "      <th>count</th>\n",
       "      <td>12393.00</td>\n",
       "      <td>12393.00</td>\n",
       "    </tr>\n",
       "    <tr>\n",
       "      <th>mean</th>\n",
       "      <td>278.01</td>\n",
       "      <td>10.45</td>\n",
       "    </tr>\n",
       "    <tr>\n",
       "      <th>std</th>\n",
       "      <td>760.27</td>\n",
       "      <td>35.86</td>\n",
       "    </tr>\n",
       "    <tr>\n",
       "      <th>min</th>\n",
       "      <td>0.00</td>\n",
       "      <td>1.00</td>\n",
       "    </tr>\n",
       "    <tr>\n",
       "      <th>25%</th>\n",
       "      <td>1.30</td>\n",
       "      <td>1.00</td>\n",
       "    </tr>\n",
       "    <tr>\n",
       "      <th>50%</th>\n",
       "      <td>13.50</td>\n",
       "      <td>2.00</td>\n",
       "    </tr>\n",
       "    <tr>\n",
       "      <th>75%</th>\n",
       "      <td>155.60</td>\n",
       "      <td>6.00</td>\n",
       "    </tr>\n",
       "    <tr>\n",
       "      <th>max</th>\n",
       "      <td>11754.00</td>\n",
       "      <td>1075.00</td>\n",
       "    </tr>\n",
       "  </tbody>\n",
       "</table>\n",
       "</div>"
      ],
      "text/plain": [
       "       total_hours_played  total_purchases\n",
       "count            12393.00         12393.00\n",
       "mean               278.01            10.45\n",
       "std                760.27            35.86\n",
       "min                  0.00             1.00\n",
       "25%                  1.30             1.00\n",
       "50%                 13.50             2.00\n",
       "75%                155.60             6.00\n",
       "max              11754.00          1075.00"
      ]
     },
     "execution_count": 19,
     "metadata": {},
     "output_type": "execute_result"
    }
   ],
   "source": [
    "# Отображение статистики по пользователям\n",
    "user_behavior.describe()"
   ]
  },
  {
   "cell_type": "code",
   "execution_count": 20,
   "id": "d750527d-dffa-4de8-a411-67a981cdfaa4",
   "metadata": {},
   "outputs": [
    {
     "data": {
      "image/png": "[encoded data removed]",
      "text/plain": [
       "<Figure size 1200x400 with 1 Axes>"
      ]
     },
     "metadata": {},
     "output_type": "display_data"
    }
   ],
   "source": [
    "# Гистограмма распределения часов игры\n",
    "plt.figure(figsize=(12, 4))\n",
    "sns.histplot(user_behavior[\"total_hours_played\"], bins=50, kde=True)\n",
    "plt.title(\"Распределение общего количества часов игры по пользователям\")\n",
    "plt.xlabel(\"Часы игры\")\n",
    "plt.ylabel(\"Количество пользователей\")\n",
    "plt.show()"
   ]
  },
  {
   "cell_type": "markdown",
   "id": "9d5eac3b-5c2c-4ea0-868f-c75f3ed46cf1",
   "metadata": {},
   "source": [
    "Один из вариантов сделать категории пользователей, те кто играет мало, кто много и тп"
   ]
  },
  {
   "cell_type": "code",
   "execution_count": 21,
   "id": "4df34ef0-2c3a-4c92-9bde-eb6600870deb",
   "metadata": {},
   "outputs": [
    {
     "data": {
      "image/png": "[encoded data removed]",
      "text/plain": [
       "<Figure size 1200x400 with 1 Axes>"
      ]
     },
     "metadata": {},
     "output_type": "display_data"
    }
   ],
   "source": [
    "# Гистограмма распределения количества покупок\n",
    "plt.figure(figsize=(12, 4))\n",
    "sns.histplot(user_behavior[\"total_purchases\"], bins=50, kde=True)\n",
    "plt.title(\"Распределение общего количества покупок по пользователям\")\n",
    "plt.xlabel(\"Количество покупок\")\n",
    "plt.ylabel(\"Количество пользователей\")\n",
    "plt.show()"
   ]
  },
  {
   "cell_type": "code",
   "execution_count": null,
   "id": "44a48d70-bc1e-4ef8-aa21-edc536ded5c9",
   "metadata": {},
   "outputs": [],
   "source": []
  },
  {
   "cell_type": "markdown",
   "id": "bdc49c20-6bd5-4c7c-8e49-f34191af84aa",
   "metadata": {},
   "source": [
    "### Анализ популярных игр"
   ]
  },
  {
   "cell_type": "code",
   "execution_count": 22,
   "id": "545f751a-3152-4fe3-b717-41634cba3cc9",
   "metadata": {},
   "outputs": [],
   "source": [
    "game_behavior = (\n",
    "    steam_data.groupby([\"game_title\", \"behavior_type\"])[\"value\"]\n",
    "    .sum()\n",
    "    .unstack()\n",
    "    .fillna(0)\n",
    ")\n",
    "game_behavior.columns = [\"total_hours_played\", \"total_purchases\"]"
   ]
  },
  {
   "cell_type": "code",
   "execution_count": 23,
   "id": "fb283b58-b3c8-43f4-8db9-78464a1d1b15",
   "metadata": {},
   "outputs": [
    {
     "data": {
      "text/html": [
       "<div>\n",
       "<style scoped>\n",
       "    .dataframe tbody tr th:only-of-type {\n",
       "        vertical-align: middle;\n",
       "    }\n",
       "\n",
       "    .dataframe tbody tr th {\n",
       "        vertical-align: top;\n",
       "    }\n",
       "\n",
       "    .dataframe thead th {\n",
       "        text-align: right;\n",
       "    }\n",
       "</style>\n",
       "<table border=\"1\" class=\"dataframe\">\n",
       "  <thead>\n",
       "    <tr style=\"text-align: right;\">\n",
       "      <th></th>\n",
       "      <th>total_hours_played</th>\n",
       "      <th>total_purchases</th>\n",
       "    </tr>\n",
       "    <tr>\n",
       "      <th>game_title</th>\n",
       "      <th></th>\n",
       "      <th></th>\n",
       "    </tr>\n",
       "  </thead>\n",
       "  <tbody>\n",
       "    <tr>\n",
       "      <th>007 Legends</th>\n",
       "      <td>0.70</td>\n",
       "      <td>1.00</td>\n",
       "    </tr>\n",
       "    <tr>\n",
       "      <th>0RBITALIS</th>\n",
       "      <td>1.20</td>\n",
       "      <td>3.00</td>\n",
       "    </tr>\n",
       "    <tr>\n",
       "      <th>1... 2... 3... KICK IT! (Drop That Beat Like an Ugly Baby)</th>\n",
       "      <td>20.00</td>\n",
       "      <td>7.00</td>\n",
       "    </tr>\n",
       "    <tr>\n",
       "      <th>10 Second Ninja</th>\n",
       "      <td>5.90</td>\n",
       "      <td>6.00</td>\n",
       "    </tr>\n",
       "    <tr>\n",
       "      <th>10,000,000</th>\n",
       "      <td>3.60</td>\n",
       "      <td>1.00</td>\n",
       "    </tr>\n",
       "  </tbody>\n",
       "</table>\n",
       "</div>"
      ],
      "text/plain": [
       "                                                            total_hours_played  total_purchases\n",
       "game_title                                                                                     \n",
       "007 Legends                                                               0.70             1.00\n",
       "0RBITALIS                                                                 1.20             3.00\n",
       "1... 2... 3... KICK IT! (Drop That Beat Like an Ugly Baby)               20.00             7.00\n",
       "10 Second Ninja                                                           5.90             6.00\n",
       "10,000,000                                                                3.60             1.00"
      ]
     },
     "execution_count": 23,
     "metadata": {},
     "output_type": "execute_result"
    }
   ],
   "source": [
    "game_behavior.head()"
   ]
  },
  {
   "cell_type": "code",
   "execution_count": 24,
   "id": "9e9099f5-866f-4e0f-bef9-38aad7ff0744",
   "metadata": {},
   "outputs": [
    {
     "data": {
      "image/png": "[encoded data removed]",
      "text/plain": [
       "<Figure size 1200x400 with 1 Axes>"
      ]
     },
     "metadata": {},
     "output_type": "display_data"
    }
   ],
   "source": [
    "# Топ 10 игр по количеству часов игры\n",
    "top_games_played = game_behavior.sort_values(\n",
    "    by=\"total_hours_played\", ascending=False\n",
    ").head(10)\n",
    "top_games_played[\"total_hours_played\"].plot(kind=\"barh\", figsize=(12, 4))\n",
    "plt.title(\"Топ 10 игр по общему количеству часов игры\")\n",
    "plt.xlabel(\"Часы игры\")\n",
    "plt.ylabel(\"Название игры\")\n",
    "mean_hours = top_games_played[\"total_hours_played\"].mean()\n",
    "median_hours = top_games_played[\"total_hours_played\"].median()\n",
    "plt.axvline(mean_hours, color=\"r\", linestyle=\"--\", label=f\"Среднее: {mean_hours:.0f}\")\n",
    "plt.axvline(\n",
    "    median_hours, color=\"g\", linestyle=\"-\", label=f\"Медиана: {median_hours:.0f}\"\n",
    ")\n",
    "plt.legend()\n",
    "plt.show()"
   ]
  },
  {
   "cell_type": "code",
   "execution_count": 25,
   "id": "527f8478-d250-4c8e-8f31-dc90882ad20a",
   "metadata": {},
   "outputs": [
    {
     "data": {
      "image/png": "[encoded data removed]",
      "text/plain": [
       "<Figure size 1200x400 with 1 Axes>"
      ]
     },
     "metadata": {},
     "output_type": "display_data"
    }
   ],
   "source": [
    "# Топ 10 игр по количеству покупок\n",
    "top_games_purchased = game_behavior.sort_values(\n",
    "    by=\"total_purchases\", ascending=False\n",
    ").head(10)\n",
    "top_games_purchased[\"total_purchases\"].plot(\n",
    "    kind=\"barh\", figsize=(12, 4), color=\"orange\"\n",
    ")\n",
    "mean_purchases = top_games_purchased[\"total_purchases\"].mean()\n",
    "median_purchases = top_games_purchased[\"total_purchases\"].median()\n",
    "plt.axvline(\n",
    "    mean_purchases, color=\"r\", linestyle=\"--\", label=f\"Среднее: {mean_purchases:.0f}\"\n",
    ")\n",
    "plt.axvline(\n",
    "    median_purchases, color=\"g\", linestyle=\"-\", label=f\"Медиана: {median_purchases:.0f}\"\n",
    ")\n",
    "plt.title(\"Топ 10 игр по количеству покупок\")\n",
    "plt.xlabel(\"Количество покупок\")\n",
    "plt.ylabel(\"Название игры\")\n",
    "plt.legend()\n",
    "plt.show()"
   ]
  },
  {
   "cell_type": "code",
   "execution_count": 26,
   "id": "3e87abf9-d411-43d6-8d4e-26b6f26115a0",
   "metadata": {},
   "outputs": [
    {
     "data": {
      "image/png": "[encoded data removed]",
      "text/plain": [
       "<Figure size 1200x400 with 1 Axes>"
      ]
     },
     "metadata": {},
     "output_type": "display_data"
    }
   ],
   "source": [
    "# Боксплот для количества покупок\n",
    "plt.figure(figsize=(12, 4))\n",
    "sns.boxplot(x=\"total_purchases\", data=top_games_purchased, orient=\"h\", color=\"orange\")\n",
    "plt.title(\"Распределение количества покупок для топ 10 игр\")\n",
    "plt.xlabel(\"Количество покупок\")\n",
    "plt.show()"
   ]
  },
  {
   "cell_type": "code",
   "execution_count": null,
   "id": "8dc3d45d-58df-4975-bd90-1b8d50e82a96",
   "metadata": {},
   "outputs": [],
   "source": []
  },
  {
   "cell_type": "markdown",
   "id": "cbc0a3a5-7e5e-47ac-a90c-a1b4b1eed483",
   "metadata": {},
   "source": [
    "### Выводы"
   ]
  },
  {
   "cell_type": "markdown",
   "id": "f934d932-d72c-4e21-af2b-81b7bfa04445",
   "metadata": {},
   "source": [
    "Под графиками пишем краткие выводы, что виидм, и чем это может быть полезно.  \n",
    "В общих выводах для раздела суммируем, все что увидели"
   ]
  },
  {
   "cell_type": "code",
   "execution_count": null,
   "id": "78b449b5-9bb4-48dc-aab1-d30a45b96f2f",
   "metadata": {},
   "outputs": [],
   "source": []
  },
  {
   "cell_type": "code",
   "execution_count": null,
   "id": "825b7224-3a6e-493a-83a3-9d121c21ee31",
   "metadata": {},
   "outputs": [],
   "source": []
  },
  {
   "cell_type": "markdown",
   "id": "8322fb2b-bc60-4fe3-9337-8f63daae8f02",
   "metadata": {},
   "source": [
    "### Проверка гипотез"
   ]
  },
  {
   "cell_type": "code",
   "execution_count": 27,
   "id": "7df9a0c6-a0a3-4c5d-af48-eaae1995163d",
   "metadata": {},
   "outputs": [],
   "source": [
    "# Разделим данные на топ-10 популярных игр и остальные игры\n",
    "top_10_games = top_games_played.index\n",
    "top_10_data = steam_data[steam_data[\"game_title\"].isin(top_10_games)]\n",
    "other_games_data = steam_data[~steam_data[\"game_title\"].isin(top_10_games)]"
   ]
  },
  {
   "cell_type": "code",
   "execution_count": 28,
   "id": "d6fe0145-bb2d-4184-a602-bab5ac139b50",
   "metadata": {},
   "outputs": [
    {
     "data": {
      "text/html": [
       "<div>\n",
       "<style scoped>\n",
       "    .dataframe tbody tr th:only-of-type {\n",
       "        vertical-align: middle;\n",
       "    }\n",
       "\n",
       "    .dataframe tbody tr th {\n",
       "        vertical-align: top;\n",
       "    }\n",
       "\n",
       "    .dataframe thead th {\n",
       "        text-align: right;\n",
       "    }\n",
       "</style>\n",
       "<table border=\"1\" class=\"dataframe\">\n",
       "  <thead>\n",
       "    <tr style=\"text-align: right;\">\n",
       "      <th></th>\n",
       "      <th>user_id</th>\n",
       "      <th>game_title</th>\n",
       "      <th>behavior_type</th>\n",
       "      <th>value</th>\n",
       "    </tr>\n",
       "  </thead>\n",
       "  <tbody>\n",
       "    <tr>\n",
       "      <th>0</th>\n",
       "      <td>151603712</td>\n",
       "      <td>The Elder Scrolls V Skyrim</td>\n",
       "      <td>purchase</td>\n",
       "      <td>1.00</td>\n",
       "    </tr>\n",
       "    <tr>\n",
       "      <th>1</th>\n",
       "      <td>151603712</td>\n",
       "      <td>The Elder Scrolls V Skyrim</td>\n",
       "      <td>play</td>\n",
       "      <td>273.00</td>\n",
       "    </tr>\n",
       "    <tr>\n",
       "      <th>8</th>\n",
       "      <td>151603712</td>\n",
       "      <td>Left 4 Dead 2</td>\n",
       "      <td>purchase</td>\n",
       "      <td>1.00</td>\n",
       "    </tr>\n",
       "    <tr>\n",
       "      <th>9</th>\n",
       "      <td>151603712</td>\n",
       "      <td>Left 4 Dead 2</td>\n",
       "      <td>play</td>\n",
       "      <td>8.90</td>\n",
       "    </tr>\n",
       "    <tr>\n",
       "      <th>18</th>\n",
       "      <td>151603712</td>\n",
       "      <td>Team Fortress 2</td>\n",
       "      <td>purchase</td>\n",
       "      <td>1.00</td>\n",
       "    </tr>\n",
       "  </tbody>\n",
       "</table>\n",
       "</div>"
      ],
      "text/plain": [
       "      user_id                  game_title behavior_type  value\n",
       "0   151603712  The Elder Scrolls V Skyrim      purchase   1.00\n",
       "1   151603712  The Elder Scrolls V Skyrim          play 273.00\n",
       "8   151603712               Left 4 Dead 2      purchase   1.00\n",
       "9   151603712               Left 4 Dead 2          play   8.90\n",
       "18  151603712             Team Fortress 2      purchase   1.00"
      ]
     },
     "execution_count": 28,
     "metadata": {},
     "output_type": "execute_result"
    }
   ],
   "source": [
    "top_10_data.head()"
   ]
  },
  {
   "cell_type": "code",
   "execution_count": 29,
   "id": "a6ea93d1-51b9-4f53-a572-9e4960de8fde",
   "metadata": {},
   "outputs": [
    {
     "data": {
      "text/html": [
       "<div>\n",
       "<style scoped>\n",
       "    .dataframe tbody tr th:only-of-type {\n",
       "        vertical-align: middle;\n",
       "    }\n",
       "\n",
       "    .dataframe tbody tr th {\n",
       "        vertical-align: top;\n",
       "    }\n",
       "\n",
       "    .dataframe thead th {\n",
       "        text-align: right;\n",
       "    }\n",
       "</style>\n",
       "<table border=\"1\" class=\"dataframe\">\n",
       "  <thead>\n",
       "    <tr style=\"text-align: right;\">\n",
       "      <th></th>\n",
       "      <th>user_id</th>\n",
       "      <th>game_title</th>\n",
       "      <th>behavior_type</th>\n",
       "      <th>value</th>\n",
       "    </tr>\n",
       "  </thead>\n",
       "  <tbody>\n",
       "    <tr>\n",
       "      <th>2</th>\n",
       "      <td>151603712</td>\n",
       "      <td>Fallout 4</td>\n",
       "      <td>purchase</td>\n",
       "      <td>1.00</td>\n",
       "    </tr>\n",
       "    <tr>\n",
       "      <th>3</th>\n",
       "      <td>151603712</td>\n",
       "      <td>Fallout 4</td>\n",
       "      <td>play</td>\n",
       "      <td>87.00</td>\n",
       "    </tr>\n",
       "    <tr>\n",
       "      <th>4</th>\n",
       "      <td>151603712</td>\n",
       "      <td>Spore</td>\n",
       "      <td>purchase</td>\n",
       "      <td>1.00</td>\n",
       "    </tr>\n",
       "    <tr>\n",
       "      <th>5</th>\n",
       "      <td>151603712</td>\n",
       "      <td>Spore</td>\n",
       "      <td>play</td>\n",
       "      <td>14.90</td>\n",
       "    </tr>\n",
       "    <tr>\n",
       "      <th>6</th>\n",
       "      <td>151603712</td>\n",
       "      <td>Fallout New Vegas</td>\n",
       "      <td>purchase</td>\n",
       "      <td>1.00</td>\n",
       "    </tr>\n",
       "  </tbody>\n",
       "</table>\n",
       "</div>"
      ],
      "text/plain": [
       "     user_id         game_title behavior_type  value\n",
       "2  151603712          Fallout 4      purchase   1.00\n",
       "3  151603712          Fallout 4          play  87.00\n",
       "4  151603712              Spore      purchase   1.00\n",
       "5  151603712              Spore          play  14.90\n",
       "6  151603712  Fallout New Vegas      purchase   1.00"
      ]
     },
     "execution_count": 29,
     "metadata": {},
     "output_type": "execute_result"
    }
   ],
   "source": [
    "other_games_data.head()"
   ]
  },
  {
   "cell_type": "markdown",
   "id": "b9d8e621-febe-435e-80e0-721d978d3ba9",
   "metadata": {},
   "source": [
    "#### Гипотеза 1"
   ]
  },
  {
   "cell_type": "markdown",
   "id": "06dd158f-aadb-4b1b-a4ea-97ee5ddc79d9",
   "metadata": {},
   "source": [
    "Гипотеза 1: Среднее количество часов игры для топ-10 популярных игр отличается от среднего количества часов игры для остальных игр"
   ]
  },
  {
   "cell_type": "markdown",
   "id": "32abbcfc-3581-4c39-8861-d51654250af1",
   "metadata": {},
   "source": [
    "H0: Среднее количество часов игры для топ-10 популярных игр равно среднему количеству часов игры для остальных игр  \n",
    "H1: Среднее количество часов игры для топ-10 популярных игр отличается от среднего количества часов игры для остальных игр  "
   ]
  },
  {
   "cell_type": "code",
   "execution_count": 30,
   "id": "0afe2112-621f-4fd3-a37b-c77abee4896d",
   "metadata": {},
   "outputs": [],
   "source": [
    "top_10_hours = top_10_data[top_10_data[\"behavior_type\"] == \"play\"][\"value\"]\n",
    "other_games_hours = other_games_data[other_games_data[\"behavior_type\"] == \"play\"][\n",
    "    \"value\"\n",
    "]"
   ]
  },
  {
   "cell_type": "code",
   "execution_count": 31,
   "id": "664d9cc7-1272-428b-9606-586796085ca4",
   "metadata": {},
   "outputs": [
    {
     "name": "stdout",
     "output_type": "stream",
     "text": [
      "Гипотеза 1: t-статистика = 30.89, p-значение = 0.00\n",
      "Средние часы игры для топ-10 игр: 156.44, для остальных игр: 24.98\n",
      "Гипотеза 1: Отклоняем нулевую гипотезу, средние часы игры различаются.\n"
     ]
    }
   ],
   "source": [
    "t_stat, p_val = ttest_ind(top_10_hours, other_games_hours, equal_var=False)\n",
    "print(f\"Гипотеза 1: t-статистика = {t_stat:.2f}, p-значение = {p_val:.2f}\")\n",
    "print(\n",
    "    f\"Средние часы игры для топ-10 игр: {top_10_hours.mean():.2f}, для остальных игр: {other_games_hours.mean():.2f}\"\n",
    ")\n",
    "if p_val < 0.05:\n",
    "    print(\"Гипотеза 1: Отклоняем нулевую гипотезу, средние часы игры различаются.\")\n",
    "else:\n",
    "    print(\n",
    "        \"Гипотеза 1: Не отклоняем нулевую гипотезу, средние часы игры не различаются.\"\n",
    "    )"
   ]
  },
  {
   "cell_type": "code",
   "execution_count": null,
   "id": "f3f28d4d-3c4c-4903-a238-d83bbd491e78",
   "metadata": {},
   "outputs": [],
   "source": []
  },
  {
   "cell_type": "markdown",
   "id": "b56b86fb-3e65-4512-ba04-32b160c6611d",
   "metadata": {},
   "source": [
    "#### Гипотеза 2"
   ]
  },
  {
   "cell_type": "markdown",
   "id": "72e8107f-94ac-45d6-894e-7693c3f2fd5e",
   "metadata": {},
   "source": [
    "Гипотеза 2: Среднее количество покупок для топ-10 популярных игр отличается от среднего количества покупок для остальных игр  \n",
    "H0: Среднее количество покупок для топ-10 популярных игр равно среднему количеству покупок для остальных игр  \n",
    "H1: Среднее количество покупок для топ-10 популярных игр отличается от среднего количества покупок для остальных игр  "
   ]
  },
  {
   "cell_type": "code",
   "execution_count": 32,
   "id": "cb151df5-e2df-4fc5-8a15-c64485318d76",
   "metadata": {},
   "outputs": [],
   "source": [
    "top_10_purchases = (\n",
    "    top_10_data[top_10_data[\"behavior_type\"] == \"purchase\"]\n",
    "    .groupby(\"game_title\")[\"value\"]\n",
    "    .sum()\n",
    ")\n",
    "other_games_purchases = (\n",
    "    other_games_data[other_games_data[\"behavior_type\"] == \"purchase\"]\n",
    "    .groupby(\"game_title\")[\"value\"]\n",
    "    .sum()\n",
    ")"
   ]
  },
  {
   "cell_type": "code",
   "execution_count": 33,
   "id": "43b62b4b-165e-4e93-971b-b2b9d8ac0011",
   "metadata": {},
   "outputs": [
    {
     "name": "stdout",
     "output_type": "stream",
     "text": [
      "Гипотеза 2: t-статистика = 3.20, p-значение = 0.01\n",
      "Средние покупки для топ-10 игр: 1374.80, для остальных игр: 22.50\n",
      "Гипотеза 2: Отклоняем нулевую гипотезу, средние покупки различаются.\n"
     ]
    }
   ],
   "source": [
    "t_stat, p_val = ttest_ind(top_10_purchases, other_games_purchases, equal_var=False)\n",
    "print(f\"Гипотеза 2: t-статистика = {t_stat:.2f}, p-значение = {p_val:.2f}\")\n",
    "print(\n",
    "    f\"Средние покупки для топ-10 игр: {top_10_purchases.mean():.2f}, для остальных игр: {other_games_purchases.mean():.2f}\"\n",
    ")\n",
    "if p_val < 0.05:\n",
    "    print(\"Гипотеза 2: Отклоняем нулевую гипотезу, средние покупки различаются.\")\n",
    "else:\n",
    "    print(\"Гипотеза 2: Не отклоняем нулевую гипотезу, средние покупки не различаются.\")"
   ]
  },
  {
   "cell_type": "code",
   "execution_count": null,
   "id": "9aa92071-c6a9-40d8-ad5b-4c5cec8f6765",
   "metadata": {},
   "outputs": [],
   "source": []
  },
  {
   "cell_type": "markdown",
   "id": "76788170-784f-4c45-88ff-a4c9a5109297",
   "metadata": {},
   "source": [
    "## Выводы и рекомендации"
   ]
  },
  {
   "cell_type": "markdown",
   "id": "0f697781-136c-4afc-bb5d-64101c9cab65",
   "metadata": {},
   "source": [
    "### Выводы"
   ]
  },
  {
   "cell_type": "markdown",
   "id": "83740584-4da8-4e05-8458-252c65c2c4d3",
   "metadata": {},
   "source": [
    "1. Пользователи Steam в среднем проводят значительное количество времени в играх\n",
    "2. Наиболее популярные игры по количеству часов игры включают AAA проекты, такие как \"The Elder Scrolls V Skyrim\"\n",
    "3. Количество покупок значительно коррелирует с часами игры, что предполагает, что более популярные игры по времени игры также имеют больше покупок\n",
    "4. Гипотеза среднее количество часов игры для топ-10 популярных игр значительно отличается от среднего количества часов игры для остальных игр не подтвердилась\n",
    "5. Гипотеза среднее количество покупок для топ-10 популярных игр не отличается от среднего количества покупок для остальных игр не подтвердилась"
   ]
  },
  {
   "cell_type": "markdown",
   "id": "5573b7ae-9623-4a01-a80d-5f88d1cd459a",
   "metadata": {},
   "source": [
    "### Рекомендации:"
   ]
  },
  {
   "cell_type": "markdown",
   "id": "da46ef8d-a4bb-4086-81f0-9f606147d589",
   "metadata": {},
   "source": [
    "1. Для улучшения инструментов поиска стоит учитывать как количество покупок, так и количество часов игры для ранжирования игр\n",
    "2. Продвигать наиболее популярные игры, чтобы привлечь больше пользователей\n",
    "3. Исследовать поведение пользователей для персонализации рекомендаций, основываясь на их игровых предпочтениях\n",
    "4. Обратить внимание на игры с высоким временем игры, так как они могут иметь потенциал для увеличения продаж"
   ]
  },
  {
   "cell_type": "code",
   "execution_count": null,
   "id": "3332dac3-9481-44c0-9a3f-c3b14901c2b9",
   "metadata": {},
   "outputs": [],
   "source": []
  }
 ],
 "metadata": {
  "kernelspec": {
   "display_name": "Python 3 (ipykernel)",
   "language": "python",
   "name": "python3"
  },
  "language_info": {
   "codemirror_mode": {
    "name": "ipython",
    "version": 3
   },
   "file_extension": ".py",
   "mimetype": "text/x-python",
   "name": "python",
   "nbconvert_exporter": "python",
   "pygments_lexer": "ipython3",
   "version": "3.9.19"
  }
 },
 "nbformat": 4,
 "nbformat_minor": 5
}
