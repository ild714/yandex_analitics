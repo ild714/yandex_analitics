{
 "cells": [
  {
   "cell_type": "markdown",
   "metadata": {},
   "source": [
    "<div style=\"border:solid Purple 2px; padding: 40px\">\n",
    "\n",
    "<b>Привет, Ильдар!👋\n",
    "\n",
    "Меня зовут Эльвира, я буду ревьюером твоего проекта. Предлагаю общаться на «ты», но если это не удобно - дай мне знать, и мы перейдем на «вы».\n",
    "\n",
    "\n",
    "Ты можешь найти мои комментарии, обозначенные <font color='green'>зеленым</font>, <font color='gold'>желтым</font> и <font color='red'>красным</font> цветами, например:\n",
    "\n",
    "\n",
    "<div class=\"alert alert-success\">\n",
    "<h2> Комментарий ревьюера 😊<a class=\"tocSkip\"> </h2>\n",
    "    \n",
    "Такими комментариями я буду помечать отлично проделаную работу😉\n",
    "</div>\n",
    "    \n",
    "<div class=\"alert alert-warning\">\n",
    "<h2> Комментарий ревьюера 🤓<a class=\"tocSkip\"> </h2>\n",
    "        \n",
    "В таких комментариях я постараюсь подсказать тебе более элегантное или легкое решение, некоторые хитрости и фишки. Части проекта, помеченные такими комментариями, можно не исправлять, но рекомендую обратить на них внимание.</div>\n",
    "\n",
    "<div class=\"alert alert-block alert-danger\">\n",
    "<h2> Комментарий ревьюера ⛔️<a class=\"tocSkip\"></h2>\n",
    "    \n",
    "В случае, когда решение на отдельном шаге требует существенной переработки и внесения правок. Если ты видишь такой комментарий, значит здесть есть недочет, который следует исправить.\n",
    "</div>\n",
    "\n",
    "Ты также можешь реагировать на мои комментарии своими, выделяя их цветами и наиболее понравившимся тебе способом оформления, но явно  отличающимся от моих комментариев. Это нужно, чтобы не создавалась путаница🙃\n",
    "    \n",
    "`<div class=\"alert alert-info\"> <b>Комментарий студента:</b> Например, вот так.</div>`\n",
    "\n",
    "Чтобы сделать подобный блок, кликни здесь дважды и скопируй всю предыдущую строку ;)\n",
    "    \n",
    "Пожалуйста, не удаляй и не перемещай мои комментарии, они будут особенно полезны для нашей работы в случае повторной проверки проекта.</div></b>"
   ]
  },
  {
   "cell_type": "markdown",
   "metadata": {},
   "source": [
    "# Исследование успешности продажи игр интерент-магазином"
   ]
  },
  {
   "cell_type": "markdown",
   "metadata": {},
   "source": [
    "Вы работаете в интернет-магазине «Стримчик», который продаёт по всему миру компьютерные игры. Из открытых источников доступны исторические данные о продажах игр, оценки пользователей и экспертов, жанры и платформы (например, Xbox или PlayStation). Вам нужно выявить определяющие успешность игры закономерности. Это позволит сделать ставку на потенциально популярный продукт и спланировать рекламные кампании.\n",
    "\n",
    "Перед вами данные до 2016 года. Представим, что сейчас декабрь 2016 г., и вы планируете кампанию на 2017-й. Нужно отработать принцип работы с данными. Неважно, прогнозируете ли вы продажи на 2017 год по данным 2016-го или же 2027-й — по данным 2026 года.\n",
    "\n",
    "В наборе данных попадается аббревиатура ESRB (Entertainment Software Rating Board) — это ассоциация, определяющая возрастной рейтинг компьютерных игр. ESRB оценивает игровой контент и присваивает ему подходящую возрастную категорию, например, «Для взрослых», «Для детей младшего возраста» или «Для подростков»."
   ]
  },
  {
   "cell_type": "markdown",
   "metadata": {},
   "source": [
    "<div class=\"alert alert-warning\">\n",
    "<h2> Комментарий ревьюера 🤓<a class=\"tocSkip\"> </h2>\n",
    "    \n",
    "Введение можно улучшить, если в описании проекта мы добавим основные задачи, особенно с позиции бизнес задачи, которая решается, описание данных и краткий план работы, основные этапы, которые мы должны выполнить."
   ]
  },
  {
   "cell_type": "markdown",
   "metadata": {},
   "source": [
    "## Первичный анализ"
   ]
  },
  {
   "cell_type": "code",
   "execution_count": 1,
   "metadata": {},
   "outputs": [],
   "source": [
    "#импорт библиотек\n",
    "import pandas as pd\n",
    "import matplotlib.pyplot as plt\n",
    "import seaborn as sb"
   ]
  },
  {
   "cell_type": "markdown",
   "metadata": {},
   "source": [
    "<div class=\"alert alert-success\">\n",
    "<h2> Комментарий ревьюера 😊<a class=\"tocSkip\"> </h2>\n",
    "\n",
    "Молодец, что загружаешь все библиотеки в начале проекта. Так сложней случайно удалить ячейку с загрузкой нужной библиотеки и сделать код не работающим. А получатель отчета сразу поймет, какие библиотеки ты используешь и какие ему нужно установить для запуска проекта.\n",
    "\n",
    "</div>"
   ]
  },
  {
   "cell_type": "code",
   "execution_count": 2,
   "metadata": {},
   "outputs": [
    {
     "data": {
      "text/html": [
       "<div>\n",
       "<style scoped>\n",
       "    .dataframe tbody tr th:only-of-type {\n",
       "        vertical-align: middle;\n",
       "    }\n",
       "\n",
       "    .dataframe tbody tr th {\n",
       "        vertical-align: top;\n",
       "    }\n",
       "\n",
       "    .dataframe thead th {\n",
       "        text-align: right;\n",
       "    }\n",
       "</style>\n",
       "<table border=\"1\" class=\"dataframe\">\n",
       "  <thead>\n",
       "    <tr style=\"text-align: right;\">\n",
       "      <th></th>\n",
       "      <th>Name</th>\n",
       "      <th>Platform</th>\n",
       "      <th>Year_of_Release</th>\n",
       "      <th>Genre</th>\n",
       "      <th>NA_sales</th>\n",
       "      <th>EU_sales</th>\n",
       "      <th>JP_sales</th>\n",
       "      <th>Other_sales</th>\n",
       "      <th>Critic_Score</th>\n",
       "      <th>User_Score</th>\n",
       "      <th>Rating</th>\n",
       "    </tr>\n",
       "  </thead>\n",
       "  <tbody>\n",
       "    <tr>\n",
       "      <th>0</th>\n",
       "      <td>Wii Sports</td>\n",
       "      <td>Wii</td>\n",
       "      <td>2006.0</td>\n",
       "      <td>Sports</td>\n",
       "      <td>41.36</td>\n",
       "      <td>28.96</td>\n",
       "      <td>3.77</td>\n",
       "      <td>8.45</td>\n",
       "      <td>76.0</td>\n",
       "      <td>8</td>\n",
       "      <td>E</td>\n",
       "    </tr>\n",
       "    <tr>\n",
       "      <th>1</th>\n",
       "      <td>Super Mario Bros.</td>\n",
       "      <td>NES</td>\n",
       "      <td>1985.0</td>\n",
       "      <td>Platform</td>\n",
       "      <td>29.08</td>\n",
       "      <td>3.58</td>\n",
       "      <td>6.81</td>\n",
       "      <td>0.77</td>\n",
       "      <td>NaN</td>\n",
       "      <td>NaN</td>\n",
       "      <td>NaN</td>\n",
       "    </tr>\n",
       "    <tr>\n",
       "      <th>2</th>\n",
       "      <td>Mario Kart Wii</td>\n",
       "      <td>Wii</td>\n",
       "      <td>2008.0</td>\n",
       "      <td>Racing</td>\n",
       "      <td>15.68</td>\n",
       "      <td>12.76</td>\n",
       "      <td>3.79</td>\n",
       "      <td>3.29</td>\n",
       "      <td>82.0</td>\n",
       "      <td>8.3</td>\n",
       "      <td>E</td>\n",
       "    </tr>\n",
       "    <tr>\n",
       "      <th>3</th>\n",
       "      <td>Wii Sports Resort</td>\n",
       "      <td>Wii</td>\n",
       "      <td>2009.0</td>\n",
       "      <td>Sports</td>\n",
       "      <td>15.61</td>\n",
       "      <td>10.93</td>\n",
       "      <td>3.28</td>\n",
       "      <td>2.95</td>\n",
       "      <td>80.0</td>\n",
       "      <td>8</td>\n",
       "      <td>E</td>\n",
       "    </tr>\n",
       "    <tr>\n",
       "      <th>4</th>\n",
       "      <td>Pokemon Red/Pokemon Blue</td>\n",
       "      <td>GB</td>\n",
       "      <td>1996.0</td>\n",
       "      <td>Role-Playing</td>\n",
       "      <td>11.27</td>\n",
       "      <td>8.89</td>\n",
       "      <td>10.22</td>\n",
       "      <td>1.00</td>\n",
       "      <td>NaN</td>\n",
       "      <td>NaN</td>\n",
       "      <td>NaN</td>\n",
       "    </tr>\n",
       "    <tr>\n",
       "      <th>5</th>\n",
       "      <td>Tetris</td>\n",
       "      <td>GB</td>\n",
       "      <td>1989.0</td>\n",
       "      <td>Puzzle</td>\n",
       "      <td>23.20</td>\n",
       "      <td>2.26</td>\n",
       "      <td>4.22</td>\n",
       "      <td>0.58</td>\n",
       "      <td>NaN</td>\n",
       "      <td>NaN</td>\n",
       "      <td>NaN</td>\n",
       "    </tr>\n",
       "    <tr>\n",
       "      <th>6</th>\n",
       "      <td>New Super Mario Bros.</td>\n",
       "      <td>DS</td>\n",
       "      <td>2006.0</td>\n",
       "      <td>Platform</td>\n",
       "      <td>11.28</td>\n",
       "      <td>9.14</td>\n",
       "      <td>6.50</td>\n",
       "      <td>2.88</td>\n",
       "      <td>89.0</td>\n",
       "      <td>8.5</td>\n",
       "      <td>E</td>\n",
       "    </tr>\n",
       "    <tr>\n",
       "      <th>7</th>\n",
       "      <td>Wii Play</td>\n",
       "      <td>Wii</td>\n",
       "      <td>2006.0</td>\n",
       "      <td>Misc</td>\n",
       "      <td>13.96</td>\n",
       "      <td>9.18</td>\n",
       "      <td>2.93</td>\n",
       "      <td>2.84</td>\n",
       "      <td>58.0</td>\n",
       "      <td>6.6</td>\n",
       "      <td>E</td>\n",
       "    </tr>\n",
       "    <tr>\n",
       "      <th>8</th>\n",
       "      <td>New Super Mario Bros. Wii</td>\n",
       "      <td>Wii</td>\n",
       "      <td>2009.0</td>\n",
       "      <td>Platform</td>\n",
       "      <td>14.44</td>\n",
       "      <td>6.94</td>\n",
       "      <td>4.70</td>\n",
       "      <td>2.24</td>\n",
       "      <td>87.0</td>\n",
       "      <td>8.4</td>\n",
       "      <td>E</td>\n",
       "    </tr>\n",
       "    <tr>\n",
       "      <th>9</th>\n",
       "      <td>Duck Hunt</td>\n",
       "      <td>NES</td>\n",
       "      <td>1984.0</td>\n",
       "      <td>Shooter</td>\n",
       "      <td>26.93</td>\n",
       "      <td>0.63</td>\n",
       "      <td>0.28</td>\n",
       "      <td>0.47</td>\n",
       "      <td>NaN</td>\n",
       "      <td>NaN</td>\n",
       "      <td>NaN</td>\n",
       "    </tr>\n",
       "    <tr>\n",
       "      <th>10</th>\n",
       "      <td>Nintendogs</td>\n",
       "      <td>DS</td>\n",
       "      <td>2005.0</td>\n",
       "      <td>Simulation</td>\n",
       "      <td>9.05</td>\n",
       "      <td>10.95</td>\n",
       "      <td>1.93</td>\n",
       "      <td>2.74</td>\n",
       "      <td>NaN</td>\n",
       "      <td>NaN</td>\n",
       "      <td>NaN</td>\n",
       "    </tr>\n",
       "    <tr>\n",
       "      <th>11</th>\n",
       "      <td>Mario Kart DS</td>\n",
       "      <td>DS</td>\n",
       "      <td>2005.0</td>\n",
       "      <td>Racing</td>\n",
       "      <td>9.71</td>\n",
       "      <td>7.47</td>\n",
       "      <td>4.13</td>\n",
       "      <td>1.90</td>\n",
       "      <td>91.0</td>\n",
       "      <td>8.6</td>\n",
       "      <td>E</td>\n",
       "    </tr>\n",
       "    <tr>\n",
       "      <th>12</th>\n",
       "      <td>Pokemon Gold/Pokemon Silver</td>\n",
       "      <td>GB</td>\n",
       "      <td>1999.0</td>\n",
       "      <td>Role-Playing</td>\n",
       "      <td>9.00</td>\n",
       "      <td>6.18</td>\n",
       "      <td>7.20</td>\n",
       "      <td>0.71</td>\n",
       "      <td>NaN</td>\n",
       "      <td>NaN</td>\n",
       "      <td>NaN</td>\n",
       "    </tr>\n",
       "    <tr>\n",
       "      <th>13</th>\n",
       "      <td>Wii Fit</td>\n",
       "      <td>Wii</td>\n",
       "      <td>2007.0</td>\n",
       "      <td>Sports</td>\n",
       "      <td>8.92</td>\n",
       "      <td>8.03</td>\n",
       "      <td>3.60</td>\n",
       "      <td>2.15</td>\n",
       "      <td>80.0</td>\n",
       "      <td>7.7</td>\n",
       "      <td>E</td>\n",
       "    </tr>\n",
       "    <tr>\n",
       "      <th>14</th>\n",
       "      <td>Kinect Adventures!</td>\n",
       "      <td>X360</td>\n",
       "      <td>2010.0</td>\n",
       "      <td>Misc</td>\n",
       "      <td>15.00</td>\n",
       "      <td>4.89</td>\n",
       "      <td>0.24</td>\n",
       "      <td>1.69</td>\n",
       "      <td>61.0</td>\n",
       "      <td>6.3</td>\n",
       "      <td>E</td>\n",
       "    </tr>\n",
       "    <tr>\n",
       "      <th>15</th>\n",
       "      <td>Wii Fit Plus</td>\n",
       "      <td>Wii</td>\n",
       "      <td>2009.0</td>\n",
       "      <td>Sports</td>\n",
       "      <td>9.01</td>\n",
       "      <td>8.49</td>\n",
       "      <td>2.53</td>\n",
       "      <td>1.77</td>\n",
       "      <td>80.0</td>\n",
       "      <td>7.4</td>\n",
       "      <td>E</td>\n",
       "    </tr>\n",
       "    <tr>\n",
       "      <th>16</th>\n",
       "      <td>Grand Theft Auto V</td>\n",
       "      <td>PS3</td>\n",
       "      <td>2013.0</td>\n",
       "      <td>Action</td>\n",
       "      <td>7.02</td>\n",
       "      <td>9.09</td>\n",
       "      <td>0.98</td>\n",
       "      <td>3.96</td>\n",
       "      <td>97.0</td>\n",
       "      <td>8.2</td>\n",
       "      <td>M</td>\n",
       "    </tr>\n",
       "    <tr>\n",
       "      <th>17</th>\n",
       "      <td>Grand Theft Auto: San Andreas</td>\n",
       "      <td>PS2</td>\n",
       "      <td>2004.0</td>\n",
       "      <td>Action</td>\n",
       "      <td>9.43</td>\n",
       "      <td>0.40</td>\n",
       "      <td>0.41</td>\n",
       "      <td>10.57</td>\n",
       "      <td>95.0</td>\n",
       "      <td>9</td>\n",
       "      <td>M</td>\n",
       "    </tr>\n",
       "    <tr>\n",
       "      <th>18</th>\n",
       "      <td>Super Mario World</td>\n",
       "      <td>SNES</td>\n",
       "      <td>1990.0</td>\n",
       "      <td>Platform</td>\n",
       "      <td>12.78</td>\n",
       "      <td>3.75</td>\n",
       "      <td>3.54</td>\n",
       "      <td>0.55</td>\n",
       "      <td>NaN</td>\n",
       "      <td>NaN</td>\n",
       "      <td>NaN</td>\n",
       "    </tr>\n",
       "    <tr>\n",
       "      <th>19</th>\n",
       "      <td>Brain Age: Train Your Brain in Minutes a Day</td>\n",
       "      <td>DS</td>\n",
       "      <td>2005.0</td>\n",
       "      <td>Misc</td>\n",
       "      <td>4.74</td>\n",
       "      <td>9.20</td>\n",
       "      <td>4.16</td>\n",
       "      <td>2.04</td>\n",
       "      <td>77.0</td>\n",
       "      <td>7.9</td>\n",
       "      <td>E</td>\n",
       "    </tr>\n",
       "  </tbody>\n",
       "</table>\n",
       "</div>"
      ],
      "text/plain": [
       "                                            Name Platform  Year_of_Release  \\\n",
       "0                                     Wii Sports      Wii           2006.0   \n",
       "1                              Super Mario Bros.      NES           1985.0   \n",
       "2                                 Mario Kart Wii      Wii           2008.0   \n",
       "3                              Wii Sports Resort      Wii           2009.0   \n",
       "4                       Pokemon Red/Pokemon Blue       GB           1996.0   \n",
       "5                                         Tetris       GB           1989.0   \n",
       "6                          New Super Mario Bros.       DS           2006.0   \n",
       "7                                       Wii Play      Wii           2006.0   \n",
       "8                      New Super Mario Bros. Wii      Wii           2009.0   \n",
       "9                                      Duck Hunt      NES           1984.0   \n",
       "10                                    Nintendogs       DS           2005.0   \n",
       "11                                 Mario Kart DS       DS           2005.0   \n",
       "12                   Pokemon Gold/Pokemon Silver       GB           1999.0   \n",
       "13                                       Wii Fit      Wii           2007.0   \n",
       "14                            Kinect Adventures!     X360           2010.0   \n",
       "15                                  Wii Fit Plus      Wii           2009.0   \n",
       "16                            Grand Theft Auto V      PS3           2013.0   \n",
       "17                 Grand Theft Auto: San Andreas      PS2           2004.0   \n",
       "18                             Super Mario World     SNES           1990.0   \n",
       "19  Brain Age: Train Your Brain in Minutes a Day       DS           2005.0   \n",
       "\n",
       "           Genre  NA_sales  EU_sales  JP_sales  Other_sales  Critic_Score  \\\n",
       "0         Sports     41.36     28.96      3.77         8.45          76.0   \n",
       "1       Platform     29.08      3.58      6.81         0.77           NaN   \n",
       "2         Racing     15.68     12.76      3.79         3.29          82.0   \n",
       "3         Sports     15.61     10.93      3.28         2.95          80.0   \n",
       "4   Role-Playing     11.27      8.89     10.22         1.00           NaN   \n",
       "5         Puzzle     23.20      2.26      4.22         0.58           NaN   \n",
       "6       Platform     11.28      9.14      6.50         2.88          89.0   \n",
       "7           Misc     13.96      9.18      2.93         2.84          58.0   \n",
       "8       Platform     14.44      6.94      4.70         2.24          87.0   \n",
       "9        Shooter     26.93      0.63      0.28         0.47           NaN   \n",
       "10    Simulation      9.05     10.95      1.93         2.74           NaN   \n",
       "11        Racing      9.71      7.47      4.13         1.90          91.0   \n",
       "12  Role-Playing      9.00      6.18      7.20         0.71           NaN   \n",
       "13        Sports      8.92      8.03      3.60         2.15          80.0   \n",
       "14          Misc     15.00      4.89      0.24         1.69          61.0   \n",
       "15        Sports      9.01      8.49      2.53         1.77          80.0   \n",
       "16        Action      7.02      9.09      0.98         3.96          97.0   \n",
       "17        Action      9.43      0.40      0.41        10.57          95.0   \n",
       "18      Platform     12.78      3.75      3.54         0.55           NaN   \n",
       "19          Misc      4.74      9.20      4.16         2.04          77.0   \n",
       "\n",
       "   User_Score Rating  \n",
       "0           8      E  \n",
       "1         NaN    NaN  \n",
       "2         8.3      E  \n",
       "3           8      E  \n",
       "4         NaN    NaN  \n",
       "5         NaN    NaN  \n",
       "6         8.5      E  \n",
       "7         6.6      E  \n",
       "8         8.4      E  \n",
       "9         NaN    NaN  \n",
       "10        NaN    NaN  \n",
       "11        8.6      E  \n",
       "12        NaN    NaN  \n",
       "13        7.7      E  \n",
       "14        6.3      E  \n",
       "15        7.4      E  \n",
       "16        8.2      M  \n",
       "17          9      M  \n",
       "18        NaN    NaN  \n",
       "19        7.9      E  "
      ]
     },
     "execution_count": 2,
     "metadata": {},
     "output_type": "execute_result"
    }
   ],
   "source": [
    "df = pd.read_csv('/datasets/games.csv')\n",
    "pd.set_option('display.max_columns', 50)\n",
    "df.head(20)"
   ]
  },
  {
   "cell_type": "code",
   "execution_count": 3,
   "metadata": {},
   "outputs": [
    {
     "name": "stdout",
     "output_type": "stream",
     "text": [
      "<class 'pandas.core.frame.DataFrame'>\n",
      "RangeIndex: 16715 entries, 0 to 16714\n",
      "Data columns (total 11 columns):\n",
      " #   Column           Non-Null Count  Dtype  \n",
      "---  ------           --------------  -----  \n",
      " 0   Name             16713 non-null  object \n",
      " 1   Platform         16715 non-null  object \n",
      " 2   Year_of_Release  16446 non-null  float64\n",
      " 3   Genre            16713 non-null  object \n",
      " 4   NA_sales         16715 non-null  float64\n",
      " 5   EU_sales         16715 non-null  float64\n",
      " 6   JP_sales         16715 non-null  float64\n",
      " 7   Other_sales      16715 non-null  float64\n",
      " 8   Critic_Score     8137 non-null   float64\n",
      " 9   User_Score       10014 non-null  object \n",
      " 10  Rating           9949 non-null   object \n",
      "dtypes: float64(6), object(5)\n",
      "memory usage: 1.4+ MB\n"
     ]
    }
   ],
   "source": [
    "df.info()"
   ]
  },
  {
   "cell_type": "code",
   "execution_count": 4,
   "metadata": {},
   "outputs": [
    {
     "data": {
      "text/plain": [
       "0"
      ]
     },
     "execution_count": 4,
     "metadata": {},
     "output_type": "execute_result"
    }
   ],
   "source": [
    "# проверим на дубликаты исходные данные\n",
    "df.duplicated().sum()"
   ]
  },
  {
   "cell_type": "markdown",
   "metadata": {},
   "source": [
    "<div class=\"alert alert-block alert-danger\">\n",
    "<h2> Комментарий ревьюера ⛔️<a class=\"tocSkip\"></h2>\n",
    "<s>\n",
    "Да, полных дубликатов действительно нет. НО! В данном случае нам также следует изучить \"неявные\" дубликаты. Поскольку в данных часто встречаются разного рода ошибки, полученные, например, при сборе из разных БД, использовании внешних данных, техническом сбое при логгировании. Поэтому следует сделать более тщательную проверку, сравнив данные по нескольких столбцам используя дополнительный параметр subset())\n",
    "\n",
    "Допустим в твоем датафрейме 3 столбца id, name, surname  и мы хотим проверить сколько у нас есть людей с одинаковой фамилией и именем. Т.к. номер id уникален, его мы не добавляем в проверку и получится: \n",
    "    \n",
    "    df.duplicated(subset=['name','surname']).sum()"
   ]
  },
  {
   "cell_type": "code",
   "execution_count": 5,
   "metadata": {},
   "outputs": [
    {
     "data": {
      "text/plain": [
       "2"
      ]
     },
     "execution_count": 5,
     "metadata": {},
     "output_type": "execute_result"
    }
   ],
   "source": [
    "df.columns = df.columns.str.lower()\n",
    "df.duplicated(subset=['name','platform','year_of_release']).sum()"
   ]
  },
  {
   "cell_type": "code",
   "execution_count": 6,
   "metadata": {},
   "outputs": [
    {
     "data": {
      "text/plain": [
       "0"
      ]
     },
     "execution_count": 6,
     "metadata": {},
     "output_type": "execute_result"
    }
   ],
   "source": [
    "df = df.drop_duplicates(['name','platform','year_of_release'])\n",
    "df.duplicated(subset=['name','platform','year_of_release']).sum()"
   ]
  },
  {
   "cell_type": "markdown",
   "metadata": {},
   "source": [
    "<div class=\"alert alert-success\">\n",
    "<h2> Комментарий ревьюера 😊 v_2 <a class=\"tocSkip\"> </h2>\n",
    "\n",
    "👍"
   ]
  },
  {
   "cell_type": "markdown",
   "metadata": {},
   "source": [
    "Много пропущенных значений в колонках:**Critic_Score**, **User_Score**, **Rating**. Также есть немного пропусков в **Name**, **Year_of_Release**, **Genre**. Дополнительно нужно подправить тип данных у столбцов **User_Score**, **Rating** и привести название столбцов в нижний регистр."
   ]
  },
  {
   "cell_type": "markdown",
   "metadata": {},
   "source": [
    "<div class=\"alert alert-success\">\n",
    "<h2> Комментарий ревьюера 😊<a class=\"tocSkip\"> </h2>\n",
    "\n",
    "Хорошо, что есть вывод после знакомства с данными)"
   ]
  },
  {
   "cell_type": "markdown",
   "metadata": {},
   "source": [
    "## Предобработка"
   ]
  },
  {
   "cell_type": "markdown",
   "metadata": {},
   "source": [
    "**Описание данных:**\n",
    " \n",
    "- Name — название игры\n",
    "- Platform — платформа\n",
    "- Year_of_Release — год выпуска\n",
    "- Genre — жанр игры\n",
    "- NA_sales — продажи в Северной Америке (миллионы проданных копий)\n",
    "- EU_sales — продажи в Европе (миллионы проданных копий)\n",
    "- JP_sales — продажи в Японии (миллионы проданных копий)\n",
    "- Other_sales — продажи в других странах (миллионы проданных копий)\n",
    "- Critic_Score — оценка критиков (максимум 100)\n",
    "- User_Score — оценка пользователей (максимум 10)\n",
    "- Rating — рейтинг от организации ESRB (англ. Entertainment Software Rating Board). Эта ассоциация определяет рейтинг компьютерных игр и присваивает им подходящую возрастную категорию."
   ]
  },
  {
   "cell_type": "code",
   "execution_count": 7,
   "metadata": {},
   "outputs": [
    {
     "data": {
      "text/html": [
       "<div>\n",
       "<style scoped>\n",
       "    .dataframe tbody tr th:only-of-type {\n",
       "        vertical-align: middle;\n",
       "    }\n",
       "\n",
       "    .dataframe tbody tr th {\n",
       "        vertical-align: top;\n",
       "    }\n",
       "\n",
       "    .dataframe thead th {\n",
       "        text-align: right;\n",
       "    }\n",
       "</style>\n",
       "<table border=\"1\" class=\"dataframe\">\n",
       "  <thead>\n",
       "    <tr style=\"text-align: right;\">\n",
       "      <th></th>\n",
       "      <th>name</th>\n",
       "      <th>platform</th>\n",
       "      <th>year_of_release</th>\n",
       "      <th>genre</th>\n",
       "      <th>na_sales</th>\n",
       "      <th>eu_sales</th>\n",
       "      <th>jp_sales</th>\n",
       "      <th>other_sales</th>\n",
       "      <th>critic_score</th>\n",
       "      <th>user_score</th>\n",
       "      <th>rating</th>\n",
       "    </tr>\n",
       "  </thead>\n",
       "  <tbody>\n",
       "    <tr>\n",
       "      <th>0</th>\n",
       "      <td>Wii Sports</td>\n",
       "      <td>Wii</td>\n",
       "      <td>2006.0</td>\n",
       "      <td>Sports</td>\n",
       "      <td>41.36</td>\n",
       "      <td>28.96</td>\n",
       "      <td>3.77</td>\n",
       "      <td>8.45</td>\n",
       "      <td>76.0</td>\n",
       "      <td>8</td>\n",
       "      <td>E</td>\n",
       "    </tr>\n",
       "    <tr>\n",
       "      <th>1</th>\n",
       "      <td>Super Mario Bros.</td>\n",
       "      <td>NES</td>\n",
       "      <td>1985.0</td>\n",
       "      <td>Platform</td>\n",
       "      <td>29.08</td>\n",
       "      <td>3.58</td>\n",
       "      <td>6.81</td>\n",
       "      <td>0.77</td>\n",
       "      <td>NaN</td>\n",
       "      <td>NaN</td>\n",
       "      <td>NaN</td>\n",
       "    </tr>\n",
       "    <tr>\n",
       "      <th>2</th>\n",
       "      <td>Mario Kart Wii</td>\n",
       "      <td>Wii</td>\n",
       "      <td>2008.0</td>\n",
       "      <td>Racing</td>\n",
       "      <td>15.68</td>\n",
       "      <td>12.76</td>\n",
       "      <td>3.79</td>\n",
       "      <td>3.29</td>\n",
       "      <td>82.0</td>\n",
       "      <td>8.3</td>\n",
       "      <td>E</td>\n",
       "    </tr>\n",
       "    <tr>\n",
       "      <th>3</th>\n",
       "      <td>Wii Sports Resort</td>\n",
       "      <td>Wii</td>\n",
       "      <td>2009.0</td>\n",
       "      <td>Sports</td>\n",
       "      <td>15.61</td>\n",
       "      <td>10.93</td>\n",
       "      <td>3.28</td>\n",
       "      <td>2.95</td>\n",
       "      <td>80.0</td>\n",
       "      <td>8</td>\n",
       "      <td>E</td>\n",
       "    </tr>\n",
       "    <tr>\n",
       "      <th>4</th>\n",
       "      <td>Pokemon Red/Pokemon Blue</td>\n",
       "      <td>GB</td>\n",
       "      <td>1996.0</td>\n",
       "      <td>Role-Playing</td>\n",
       "      <td>11.27</td>\n",
       "      <td>8.89</td>\n",
       "      <td>10.22</td>\n",
       "      <td>1.00</td>\n",
       "      <td>NaN</td>\n",
       "      <td>NaN</td>\n",
       "      <td>NaN</td>\n",
       "    </tr>\n",
       "  </tbody>\n",
       "</table>\n",
       "</div>"
      ],
      "text/plain": [
       "                       name platform  year_of_release         genre  na_sales  \\\n",
       "0                Wii Sports      Wii           2006.0        Sports     41.36   \n",
       "1         Super Mario Bros.      NES           1985.0      Platform     29.08   \n",
       "2            Mario Kart Wii      Wii           2008.0        Racing     15.68   \n",
       "3         Wii Sports Resort      Wii           2009.0        Sports     15.61   \n",
       "4  Pokemon Red/Pokemon Blue       GB           1996.0  Role-Playing     11.27   \n",
       "\n",
       "   eu_sales  jp_sales  other_sales  critic_score user_score rating  \n",
       "0     28.96      3.77         8.45          76.0          8      E  \n",
       "1      3.58      6.81         0.77           NaN        NaN    NaN  \n",
       "2     12.76      3.79         3.29          82.0        8.3      E  \n",
       "3     10.93      3.28         2.95          80.0          8      E  \n",
       "4      8.89     10.22         1.00           NaN        NaN    NaN  "
      ]
     },
     "execution_count": 7,
     "metadata": {},
     "output_type": "execute_result"
    }
   ],
   "source": [
    "# Преобразуем название столбцов в нижний регистр\n",
    "df.columns = df.columns.str.lower()\n",
    "df.head()"
   ]
  },
  {
   "cell_type": "markdown",
   "metadata": {},
   "source": [
    "### Работа с пропусками и типом данных"
   ]
  },
  {
   "cell_type": "code",
   "execution_count": 8,
   "metadata": {},
   "outputs": [
    {
     "name": "stdout",
     "output_type": "stream",
     "text": [
      "name - 1 - 0.01\n",
      "year_of_release - 269 - 1.61\n",
      "genre - 1 - 0.01\n",
      "critic_score - 8577 - 51.31\n",
      "user_score - 6700 - 40.08\n",
      "rating - 6765 - 40.47\n"
     ]
    }
   ],
   "source": [
    "# Выведем столбцы с пропусками\n",
    "\n",
    "position_column = 0\n",
    "for column in df.columns:\n",
    "    if df[column].isna().sum() > 0:\n",
    "        isna_sum = df[column].isna().sum()\n",
    "        print(df.columns[position_column],'-', isna_sum,'-', round(isna_sum/16715*100,2))\n",
    "    position_column += 1"
   ]
  },
  {
   "cell_type": "markdown",
   "metadata": {},
   "source": [
    "Оставим **critic_score**, **user_score** без изменений, так как какие-либо модификации этих столбцов могут повлиять на достоверность данных. В столбце **rating** заменим пропуски на \"Unknown\""
   ]
  },
  {
   "cell_type": "markdown",
   "metadata": {},
   "source": [
    "**name**"
   ]
  },
  {
   "cell_type": "markdown",
   "metadata": {},
   "source": [
    "Удалим два значения в столбце **name**, так как такое незначительное удаление не нанесет вреда данным"
   ]
  },
  {
   "cell_type": "code",
   "execution_count": 9,
   "metadata": {},
   "outputs": [
    {
     "data": {
      "text/html": [
       "<div>\n",
       "<style scoped>\n",
       "    .dataframe tbody tr th:only-of-type {\n",
       "        vertical-align: middle;\n",
       "    }\n",
       "\n",
       "    .dataframe tbody tr th {\n",
       "        vertical-align: top;\n",
       "    }\n",
       "\n",
       "    .dataframe thead th {\n",
       "        text-align: right;\n",
       "    }\n",
       "</style>\n",
       "<table border=\"1\" class=\"dataframe\">\n",
       "  <thead>\n",
       "    <tr style=\"text-align: right;\">\n",
       "      <th></th>\n",
       "      <th>name</th>\n",
       "      <th>platform</th>\n",
       "      <th>year_of_release</th>\n",
       "      <th>genre</th>\n",
       "      <th>na_sales</th>\n",
       "      <th>eu_sales</th>\n",
       "      <th>jp_sales</th>\n",
       "      <th>other_sales</th>\n",
       "      <th>critic_score</th>\n",
       "      <th>user_score</th>\n",
       "      <th>rating</th>\n",
       "    </tr>\n",
       "  </thead>\n",
       "  <tbody>\n",
       "    <tr>\n",
       "      <th>659</th>\n",
       "      <td>NaN</td>\n",
       "      <td>GEN</td>\n",
       "      <td>1993.0</td>\n",
       "      <td>NaN</td>\n",
       "      <td>1.78</td>\n",
       "      <td>0.53</td>\n",
       "      <td>0.0</td>\n",
       "      <td>0.08</td>\n",
       "      <td>NaN</td>\n",
       "      <td>NaN</td>\n",
       "      <td>NaN</td>\n",
       "    </tr>\n",
       "  </tbody>\n",
       "</table>\n",
       "</div>"
      ],
      "text/plain": [
       "    name platform  year_of_release genre  na_sales  eu_sales  jp_sales  \\\n",
       "659  NaN      GEN           1993.0   NaN      1.78      0.53       0.0   \n",
       "\n",
       "     other_sales  critic_score user_score rating  \n",
       "659         0.08           NaN        NaN    NaN  "
      ]
     },
     "execution_count": 9,
     "metadata": {},
     "output_type": "execute_result"
    }
   ],
   "source": [
    "df[df['name'].isna()]"
   ]
  },
  {
   "cell_type": "code",
   "execution_count": 10,
   "metadata": {},
   "outputs": [],
   "source": [
    "df = df.dropna(subset=['name']).reset_index(drop=True)"
   ]
  },
  {
   "cell_type": "code",
   "execution_count": 11,
   "metadata": {},
   "outputs": [
    {
     "name": "stdout",
     "output_type": "stream",
     "text": [
      "<class 'pandas.core.frame.DataFrame'>\n",
      "RangeIndex: 16712 entries, 0 to 16711\n",
      "Data columns (total 11 columns):\n",
      " #   Column           Non-Null Count  Dtype  \n",
      "---  ------           --------------  -----  \n",
      " 0   name             16712 non-null  object \n",
      " 1   platform         16712 non-null  object \n",
      " 2   year_of_release  16443 non-null  float64\n",
      " 3   genre            16712 non-null  object \n",
      " 4   na_sales         16712 non-null  float64\n",
      " 5   eu_sales         16712 non-null  float64\n",
      " 6   jp_sales         16712 non-null  float64\n",
      " 7   other_sales      16712 non-null  float64\n",
      " 8   critic_score     8136 non-null   float64\n",
      " 9   user_score       10013 non-null  object \n",
      " 10  rating           9948 non-null   object \n",
      "dtypes: float64(6), object(5)\n",
      "memory usage: 1.4+ MB\n"
     ]
    }
   ],
   "source": [
    "df.info()"
   ]
  },
  {
   "cell_type": "markdown",
   "metadata": {},
   "source": [
    "**year_of_release**, **genre**"
   ]
  },
  {
   "cell_type": "markdown",
   "metadata": {},
   "source": [
    "По аналогии с **name** удалим данные в **year_of_release**, **genre**, так как это не нанесет вреда данным"
   ]
  },
  {
   "cell_type": "code",
   "execution_count": 12,
   "metadata": {},
   "outputs": [],
   "source": [
    "df = df.dropna(subset=['year_of_release']).reset_index(drop=True)"
   ]
  },
  {
   "cell_type": "code",
   "execution_count": 13,
   "metadata": {},
   "outputs": [],
   "source": [
    "df = df.dropna(subset=['genre']).reset_index(drop=True)"
   ]
  },
  {
   "cell_type": "markdown",
   "metadata": {},
   "source": [
    "<div class=\"alert alert-success\">\n",
    "<h2> Комментарий ревьюера 😊<a class=\"tocSkip\"> </h2>\n",
    "    \n",
    "В целом, да, процент пропусков небольшой, и мы можем так поступить!\n",
    "</div>    "
   ]
  },
  {
   "cell_type": "code",
   "execution_count": 14,
   "metadata": {},
   "outputs": [
    {
     "name": "stdout",
     "output_type": "stream",
     "text": [
      "<class 'pandas.core.frame.DataFrame'>\n",
      "RangeIndex: 16443 entries, 0 to 16442\n",
      "Data columns (total 11 columns):\n",
      " #   Column           Non-Null Count  Dtype  \n",
      "---  ------           --------------  -----  \n",
      " 0   name             16443 non-null  object \n",
      " 1   platform         16443 non-null  object \n",
      " 2   year_of_release  16443 non-null  float64\n",
      " 3   genre            16443 non-null  object \n",
      " 4   na_sales         16443 non-null  float64\n",
      " 5   eu_sales         16443 non-null  float64\n",
      " 6   jp_sales         16443 non-null  float64\n",
      " 7   other_sales      16443 non-null  float64\n",
      " 8   critic_score     7982 non-null   float64\n",
      " 9   user_score       9838 non-null   object \n",
      " 10  rating           9767 non-null   object \n",
      "dtypes: float64(6), object(5)\n",
      "memory usage: 1.4+ MB\n"
     ]
    }
   ],
   "source": [
    "df.info()"
   ]
  },
  {
   "cell_type": "code",
   "execution_count": 15,
   "metadata": {},
   "outputs": [
    {
     "data": {
      "text/plain": [
       "0        2006\n",
       "1        1985\n",
       "2        2008\n",
       "3        2009\n",
       "4        1996\n",
       "         ... \n",
       "16438    2016\n",
       "16439    2006\n",
       "16440    2016\n",
       "16441    2003\n",
       "16442    2016\n",
       "Name: year_of_release, Length: 16443, dtype: int64"
      ]
     },
     "execution_count": 15,
     "metadata": {},
     "output_type": "execute_result"
    }
   ],
   "source": [
    "# Заменим тип данных в столбце year_of_release на int\n",
    "df['year_of_release'] = df['year_of_release'].astype('int')\n",
    "df['year_of_release']"
   ]
  },
  {
   "cell_type": "markdown",
   "metadata": {},
   "source": [
    "**user_score - замена типа данных**"
   ]
  },
  {
   "cell_type": "code",
   "execution_count": 16,
   "metadata": {},
   "outputs": [
    {
     "data": {
      "text/plain": [
       "count     9838\n",
       "unique      96\n",
       "top        tbd\n",
       "freq      2376\n",
       "Name: user_score, dtype: object"
      ]
     },
     "execution_count": 16,
     "metadata": {},
     "output_type": "execute_result"
    }
   ],
   "source": [
    "df['user_score'].describe()"
   ]
  },
  {
   "cell_type": "markdown",
   "metadata": {},
   "source": [
    "Как можно увидеть в данных есть аббревиаутура tbd. Заменим ее на nan и преобразуем данные в float"
   ]
  },
  {
   "cell_type": "code",
   "execution_count": 17,
   "metadata": {},
   "outputs": [],
   "source": [
    "df.loc[df['user_score'] == 'tbd', 'user_score'] = float('nan')"
   ]
  },
  {
   "cell_type": "code",
   "execution_count": 18,
   "metadata": {},
   "outputs": [],
   "source": [
    "df['user_score'] = df['user_score'].astype('float')"
   ]
  },
  {
   "cell_type": "markdown",
   "metadata": {},
   "source": [
    "<div class=\"alert alert-warning\">\n",
    "<h2> Комментарий ревьюера 🤓<a class=\"tocSkip\"> </h2>\n",
    "\n",
    "Для корректировки типа 'user_score', можно использовать метод `.replace('tbd', np.NaN)` или использовать функцию pd.to_numeric() c `errors`- аргументом 'coerce'.\n",
    "Вот тут дополнительный материал для изучения, если будет желание:\n",
    "https://qastack.ru/programming/15891038/change-data-type-of-columns-in-pandas   "
   ]
  },
  {
   "cell_type": "code",
   "execution_count": 19,
   "metadata": {},
   "outputs": [
    {
     "data": {
      "text/plain": [
       "count    7462.000000\n",
       "mean        7.126548\n",
       "std         1.499429\n",
       "min         0.000000\n",
       "25%         6.400000\n",
       "50%         7.500000\n",
       "75%         8.200000\n",
       "max         9.700000\n",
       "Name: user_score, dtype: float64"
      ]
     },
     "execution_count": 19,
     "metadata": {},
     "output_type": "execute_result"
    }
   ],
   "source": [
    "df['user_score'].describe()"
   ]
  },
  {
   "cell_type": "markdown",
   "metadata": {},
   "source": [
    "**rating**"
   ]
  },
  {
   "cell_type": "code",
   "execution_count": 20,
   "metadata": {},
   "outputs": [
    {
     "data": {
      "text/plain": [
       "E       3920\n",
       "T       2905\n",
       "M       1536\n",
       "E10+    1393\n",
       "EC         8\n",
       "K-A        3\n",
       "RP         1\n",
       "AO         1\n",
       "Name: rating, dtype: int64"
      ]
     },
     "execution_count": 20,
     "metadata": {},
     "output_type": "execute_result"
    }
   ],
   "source": [
    "df.rating.value_counts()"
   ]
  },
  {
   "cell_type": "markdown",
   "metadata": {},
   "source": [
    "«EC» («Early childhood») — «Для детей младшего возраста»: Игра подходит для детей от 3 лет\n",
    "\n",
    "«E» («Everyone») — «Для всех». Первоначально \"K-A\" (\"Kids to Adults\"). Содержание вполне подходит для всех возрастов (ранее с 6 лет)\n",
    "\n",
    "«E10+» («Everyone 10 and older») — «Для всех от 10 лет и старше»\n",
    "\n",
    "«T» («Teen») — «Подросткам». Игра подходит для лиц от 13 лет.\n",
    "\n",
    "«M» («Mature») — «Для взрослых». Материалы игры не подходят для лиц младше 17 лет.\n",
    "\n",
    "«AO» («Adults Only 18+») — «Только для взрослых»\n",
    "\n",
    "«RP» («Rating Pending») — «Рейтинг ожидается»"
   ]
  },
  {
   "cell_type": "markdown",
   "metadata": {},
   "source": [
    "Можно преобразовать K-A в E"
   ]
  },
  {
   "cell_type": "code",
   "execution_count": 21,
   "metadata": {},
   "outputs": [],
   "source": [
    "df.loc[df['rating']=='K-A','rating'] = 'E'"
   ]
  },
  {
   "cell_type": "code",
   "execution_count": 22,
   "metadata": {},
   "outputs": [
    {
     "data": {
      "text/plain": [
       "E       3923\n",
       "T       2905\n",
       "M       1536\n",
       "E10+    1393\n",
       "EC         8\n",
       "RP         1\n",
       "AO         1\n",
       "Name: rating, dtype: int64"
      ]
     },
     "execution_count": 22,
     "metadata": {},
     "output_type": "execute_result"
    }
   ],
   "source": [
    "df.rating.value_counts()"
   ]
  },
  {
   "cell_type": "code",
   "execution_count": 23,
   "metadata": {},
   "outputs": [],
   "source": [
    "df['rating'].fillna('Unknown',inplace=True)"
   ]
  },
  {
   "cell_type": "code",
   "execution_count": 24,
   "metadata": {},
   "outputs": [
    {
     "name": "stdout",
     "output_type": "stream",
     "text": [
      "<class 'pandas.core.frame.DataFrame'>\n",
      "RangeIndex: 16443 entries, 0 to 16442\n",
      "Data columns (total 11 columns):\n",
      " #   Column           Non-Null Count  Dtype  \n",
      "---  ------           --------------  -----  \n",
      " 0   name             16443 non-null  object \n",
      " 1   platform         16443 non-null  object \n",
      " 2   year_of_release  16443 non-null  int64  \n",
      " 3   genre            16443 non-null  object \n",
      " 4   na_sales         16443 non-null  float64\n",
      " 5   eu_sales         16443 non-null  float64\n",
      " 6   jp_sales         16443 non-null  float64\n",
      " 7   other_sales      16443 non-null  float64\n",
      " 8   critic_score     7982 non-null   float64\n",
      " 9   user_score       7462 non-null   float64\n",
      " 10  rating           16443 non-null  object \n",
      "dtypes: float64(6), int64(1), object(4)\n",
      "memory usage: 1.4+ MB\n"
     ]
    }
   ],
   "source": [
    "df.info()"
   ]
  },
  {
   "cell_type": "markdown",
   "metadata": {},
   "source": [
    "<div class=\"alert alert-success\">\n",
    "<h2> Комментарий ревьюера 😊<a class=\"tocSkip\"> </h2>\n",
    "\n",
    "Отлично)"
   ]
  },
  {
   "cell_type": "markdown",
   "metadata": {},
   "source": [
    "### Суммарные продажи по всем регионам"
   ]
  },
  {
   "cell_type": "code",
   "execution_count": 25,
   "metadata": {},
   "outputs": [],
   "source": [
    "df['total_sales'] = df['na_sales'] + df['eu_sales'] + df['jp_sales'] + df['other_sales']"
   ]
  },
  {
   "cell_type": "code",
   "execution_count": 26,
   "metadata": {},
   "outputs": [
    {
     "data": {
      "text/html": [
       "<div>\n",
       "<style scoped>\n",
       "    .dataframe tbody tr th:only-of-type {\n",
       "        vertical-align: middle;\n",
       "    }\n",
       "\n",
       "    .dataframe tbody tr th {\n",
       "        vertical-align: top;\n",
       "    }\n",
       "\n",
       "    .dataframe thead th {\n",
       "        text-align: right;\n",
       "    }\n",
       "</style>\n",
       "<table border=\"1\" class=\"dataframe\">\n",
       "  <thead>\n",
       "    <tr style=\"text-align: right;\">\n",
       "      <th></th>\n",
       "      <th>name</th>\n",
       "      <th>platform</th>\n",
       "      <th>year_of_release</th>\n",
       "      <th>genre</th>\n",
       "      <th>na_sales</th>\n",
       "      <th>eu_sales</th>\n",
       "      <th>jp_sales</th>\n",
       "      <th>other_sales</th>\n",
       "      <th>critic_score</th>\n",
       "      <th>user_score</th>\n",
       "      <th>rating</th>\n",
       "      <th>total_sales</th>\n",
       "    </tr>\n",
       "  </thead>\n",
       "  <tbody>\n",
       "    <tr>\n",
       "      <th>0</th>\n",
       "      <td>Wii Sports</td>\n",
       "      <td>Wii</td>\n",
       "      <td>2006</td>\n",
       "      <td>Sports</td>\n",
       "      <td>41.36</td>\n",
       "      <td>28.96</td>\n",
       "      <td>3.77</td>\n",
       "      <td>8.45</td>\n",
       "      <td>76.0</td>\n",
       "      <td>8.0</td>\n",
       "      <td>E</td>\n",
       "      <td>82.54</td>\n",
       "    </tr>\n",
       "    <tr>\n",
       "      <th>1</th>\n",
       "      <td>Super Mario Bros.</td>\n",
       "      <td>NES</td>\n",
       "      <td>1985</td>\n",
       "      <td>Platform</td>\n",
       "      <td>29.08</td>\n",
       "      <td>3.58</td>\n",
       "      <td>6.81</td>\n",
       "      <td>0.77</td>\n",
       "      <td>NaN</td>\n",
       "      <td>NaN</td>\n",
       "      <td>Unknown</td>\n",
       "      <td>40.24</td>\n",
       "    </tr>\n",
       "    <tr>\n",
       "      <th>2</th>\n",
       "      <td>Mario Kart Wii</td>\n",
       "      <td>Wii</td>\n",
       "      <td>2008</td>\n",
       "      <td>Racing</td>\n",
       "      <td>15.68</td>\n",
       "      <td>12.76</td>\n",
       "      <td>3.79</td>\n",
       "      <td>3.29</td>\n",
       "      <td>82.0</td>\n",
       "      <td>8.3</td>\n",
       "      <td>E</td>\n",
       "      <td>35.52</td>\n",
       "    </tr>\n",
       "    <tr>\n",
       "      <th>3</th>\n",
       "      <td>Wii Sports Resort</td>\n",
       "      <td>Wii</td>\n",
       "      <td>2009</td>\n",
       "      <td>Sports</td>\n",
       "      <td>15.61</td>\n",
       "      <td>10.93</td>\n",
       "      <td>3.28</td>\n",
       "      <td>2.95</td>\n",
       "      <td>80.0</td>\n",
       "      <td>8.0</td>\n",
       "      <td>E</td>\n",
       "      <td>32.77</td>\n",
       "    </tr>\n",
       "    <tr>\n",
       "      <th>4</th>\n",
       "      <td>Pokemon Red/Pokemon Blue</td>\n",
       "      <td>GB</td>\n",
       "      <td>1996</td>\n",
       "      <td>Role-Playing</td>\n",
       "      <td>11.27</td>\n",
       "      <td>8.89</td>\n",
       "      <td>10.22</td>\n",
       "      <td>1.00</td>\n",
       "      <td>NaN</td>\n",
       "      <td>NaN</td>\n",
       "      <td>Unknown</td>\n",
       "      <td>31.38</td>\n",
       "    </tr>\n",
       "    <tr>\n",
       "      <th>5</th>\n",
       "      <td>Tetris</td>\n",
       "      <td>GB</td>\n",
       "      <td>1989</td>\n",
       "      <td>Puzzle</td>\n",
       "      <td>23.20</td>\n",
       "      <td>2.26</td>\n",
       "      <td>4.22</td>\n",
       "      <td>0.58</td>\n",
       "      <td>NaN</td>\n",
       "      <td>NaN</td>\n",
       "      <td>Unknown</td>\n",
       "      <td>30.26</td>\n",
       "    </tr>\n",
       "    <tr>\n",
       "      <th>6</th>\n",
       "      <td>New Super Mario Bros.</td>\n",
       "      <td>DS</td>\n",
       "      <td>2006</td>\n",
       "      <td>Platform</td>\n",
       "      <td>11.28</td>\n",
       "      <td>9.14</td>\n",
       "      <td>6.50</td>\n",
       "      <td>2.88</td>\n",
       "      <td>89.0</td>\n",
       "      <td>8.5</td>\n",
       "      <td>E</td>\n",
       "      <td>29.80</td>\n",
       "    </tr>\n",
       "    <tr>\n",
       "      <th>7</th>\n",
       "      <td>Wii Play</td>\n",
       "      <td>Wii</td>\n",
       "      <td>2006</td>\n",
       "      <td>Misc</td>\n",
       "      <td>13.96</td>\n",
       "      <td>9.18</td>\n",
       "      <td>2.93</td>\n",
       "      <td>2.84</td>\n",
       "      <td>58.0</td>\n",
       "      <td>6.6</td>\n",
       "      <td>E</td>\n",
       "      <td>28.91</td>\n",
       "    </tr>\n",
       "    <tr>\n",
       "      <th>8</th>\n",
       "      <td>New Super Mario Bros. Wii</td>\n",
       "      <td>Wii</td>\n",
       "      <td>2009</td>\n",
       "      <td>Platform</td>\n",
       "      <td>14.44</td>\n",
       "      <td>6.94</td>\n",
       "      <td>4.70</td>\n",
       "      <td>2.24</td>\n",
       "      <td>87.0</td>\n",
       "      <td>8.4</td>\n",
       "      <td>E</td>\n",
       "      <td>28.32</td>\n",
       "    </tr>\n",
       "    <tr>\n",
       "      <th>9</th>\n",
       "      <td>Duck Hunt</td>\n",
       "      <td>NES</td>\n",
       "      <td>1984</td>\n",
       "      <td>Shooter</td>\n",
       "      <td>26.93</td>\n",
       "      <td>0.63</td>\n",
       "      <td>0.28</td>\n",
       "      <td>0.47</td>\n",
       "      <td>NaN</td>\n",
       "      <td>NaN</td>\n",
       "      <td>Unknown</td>\n",
       "      <td>28.31</td>\n",
       "    </tr>\n",
       "  </tbody>\n",
       "</table>\n",
       "</div>"
      ],
      "text/plain": [
       "                        name platform  year_of_release         genre  \\\n",
       "0                 Wii Sports      Wii             2006        Sports   \n",
       "1          Super Mario Bros.      NES             1985      Platform   \n",
       "2             Mario Kart Wii      Wii             2008        Racing   \n",
       "3          Wii Sports Resort      Wii             2009        Sports   \n",
       "4   Pokemon Red/Pokemon Blue       GB             1996  Role-Playing   \n",
       "5                     Tetris       GB             1989        Puzzle   \n",
       "6      New Super Mario Bros.       DS             2006      Platform   \n",
       "7                   Wii Play      Wii             2006          Misc   \n",
       "8  New Super Mario Bros. Wii      Wii             2009      Platform   \n",
       "9                  Duck Hunt      NES             1984       Shooter   \n",
       "\n",
       "   na_sales  eu_sales  jp_sales  other_sales  critic_score  user_score  \\\n",
       "0     41.36     28.96      3.77         8.45          76.0         8.0   \n",
       "1     29.08      3.58      6.81         0.77           NaN         NaN   \n",
       "2     15.68     12.76      3.79         3.29          82.0         8.3   \n",
       "3     15.61     10.93      3.28         2.95          80.0         8.0   \n",
       "4     11.27      8.89     10.22         1.00           NaN         NaN   \n",
       "5     23.20      2.26      4.22         0.58           NaN         NaN   \n",
       "6     11.28      9.14      6.50         2.88          89.0         8.5   \n",
       "7     13.96      9.18      2.93         2.84          58.0         6.6   \n",
       "8     14.44      6.94      4.70         2.24          87.0         8.4   \n",
       "9     26.93      0.63      0.28         0.47           NaN         NaN   \n",
       "\n",
       "    rating  total_sales  \n",
       "0        E        82.54  \n",
       "1  Unknown        40.24  \n",
       "2        E        35.52  \n",
       "3        E        32.77  \n",
       "4  Unknown        31.38  \n",
       "5  Unknown        30.26  \n",
       "6        E        29.80  \n",
       "7        E        28.91  \n",
       "8        E        28.32  \n",
       "9  Unknown        28.31  "
      ]
     },
     "execution_count": 26,
     "metadata": {},
     "output_type": "execute_result"
    }
   ],
   "source": [
    "df.head(10)"
   ]
  },
  {
   "cell_type": "code",
   "execution_count": 27,
   "metadata": {},
   "outputs": [
    {
     "data": {
      "text/html": [
       "<div>\n",
       "<style scoped>\n",
       "    .dataframe tbody tr th:only-of-type {\n",
       "        vertical-align: middle;\n",
       "    }\n",
       "\n",
       "    .dataframe tbody tr th {\n",
       "        vertical-align: top;\n",
       "    }\n",
       "\n",
       "    .dataframe thead th {\n",
       "        text-align: right;\n",
       "    }\n",
       "</style>\n",
       "<table border=\"1\" class=\"dataframe\">\n",
       "  <thead>\n",
       "    <tr style=\"text-align: right;\">\n",
       "      <th></th>\n",
       "      <th>name</th>\n",
       "      <th>platform</th>\n",
       "      <th>year_of_release</th>\n",
       "      <th>genre</th>\n",
       "      <th>na_sales</th>\n",
       "      <th>eu_sales</th>\n",
       "      <th>jp_sales</th>\n",
       "      <th>other_sales</th>\n",
       "      <th>critic_score</th>\n",
       "      <th>user_score</th>\n",
       "      <th>rating</th>\n",
       "      <th>total_sales</th>\n",
       "    </tr>\n",
       "  </thead>\n",
       "  <tbody>\n",
       "    <tr>\n",
       "      <th>16433</th>\n",
       "      <td>15 Days</td>\n",
       "      <td>PC</td>\n",
       "      <td>2009</td>\n",
       "      <td>Adventure</td>\n",
       "      <td>0.00</td>\n",
       "      <td>0.01</td>\n",
       "      <td>0.00</td>\n",
       "      <td>0.0</td>\n",
       "      <td>63.0</td>\n",
       "      <td>5.8</td>\n",
       "      <td>Unknown</td>\n",
       "      <td>0.01</td>\n",
       "    </tr>\n",
       "    <tr>\n",
       "      <th>16434</th>\n",
       "      <td>Men in Black II: Alien Escape</td>\n",
       "      <td>GC</td>\n",
       "      <td>2003</td>\n",
       "      <td>Shooter</td>\n",
       "      <td>0.01</td>\n",
       "      <td>0.00</td>\n",
       "      <td>0.00</td>\n",
       "      <td>0.0</td>\n",
       "      <td>NaN</td>\n",
       "      <td>NaN</td>\n",
       "      <td>T</td>\n",
       "      <td>0.01</td>\n",
       "    </tr>\n",
       "    <tr>\n",
       "      <th>16435</th>\n",
       "      <td>Aiyoku no Eustia</td>\n",
       "      <td>PSV</td>\n",
       "      <td>2014</td>\n",
       "      <td>Misc</td>\n",
       "      <td>0.00</td>\n",
       "      <td>0.00</td>\n",
       "      <td>0.01</td>\n",
       "      <td>0.0</td>\n",
       "      <td>NaN</td>\n",
       "      <td>NaN</td>\n",
       "      <td>Unknown</td>\n",
       "      <td>0.01</td>\n",
       "    </tr>\n",
       "    <tr>\n",
       "      <th>16436</th>\n",
       "      <td>Woody Woodpecker in Crazy Castle 5</td>\n",
       "      <td>GBA</td>\n",
       "      <td>2002</td>\n",
       "      <td>Platform</td>\n",
       "      <td>0.01</td>\n",
       "      <td>0.00</td>\n",
       "      <td>0.00</td>\n",
       "      <td>0.0</td>\n",
       "      <td>NaN</td>\n",
       "      <td>NaN</td>\n",
       "      <td>Unknown</td>\n",
       "      <td>0.01</td>\n",
       "    </tr>\n",
       "    <tr>\n",
       "      <th>16437</th>\n",
       "      <td>SCORE International Baja 1000: The Official Game</td>\n",
       "      <td>PS2</td>\n",
       "      <td>2008</td>\n",
       "      <td>Racing</td>\n",
       "      <td>0.00</td>\n",
       "      <td>0.00</td>\n",
       "      <td>0.00</td>\n",
       "      <td>0.0</td>\n",
       "      <td>NaN</td>\n",
       "      <td>NaN</td>\n",
       "      <td>Unknown</td>\n",
       "      <td>0.00</td>\n",
       "    </tr>\n",
       "    <tr>\n",
       "      <th>16438</th>\n",
       "      <td>Samurai Warriors: Sanada Maru</td>\n",
       "      <td>PS3</td>\n",
       "      <td>2016</td>\n",
       "      <td>Action</td>\n",
       "      <td>0.00</td>\n",
       "      <td>0.00</td>\n",
       "      <td>0.01</td>\n",
       "      <td>0.0</td>\n",
       "      <td>NaN</td>\n",
       "      <td>NaN</td>\n",
       "      <td>Unknown</td>\n",
       "      <td>0.01</td>\n",
       "    </tr>\n",
       "    <tr>\n",
       "      <th>16439</th>\n",
       "      <td>LMA Manager 2007</td>\n",
       "      <td>X360</td>\n",
       "      <td>2006</td>\n",
       "      <td>Sports</td>\n",
       "      <td>0.00</td>\n",
       "      <td>0.01</td>\n",
       "      <td>0.00</td>\n",
       "      <td>0.0</td>\n",
       "      <td>NaN</td>\n",
       "      <td>NaN</td>\n",
       "      <td>Unknown</td>\n",
       "      <td>0.01</td>\n",
       "    </tr>\n",
       "    <tr>\n",
       "      <th>16440</th>\n",
       "      <td>Haitaka no Psychedelica</td>\n",
       "      <td>PSV</td>\n",
       "      <td>2016</td>\n",
       "      <td>Adventure</td>\n",
       "      <td>0.00</td>\n",
       "      <td>0.00</td>\n",
       "      <td>0.01</td>\n",
       "      <td>0.0</td>\n",
       "      <td>NaN</td>\n",
       "      <td>NaN</td>\n",
       "      <td>Unknown</td>\n",
       "      <td>0.01</td>\n",
       "    </tr>\n",
       "    <tr>\n",
       "      <th>16441</th>\n",
       "      <td>Spirits &amp; Spells</td>\n",
       "      <td>GBA</td>\n",
       "      <td>2003</td>\n",
       "      <td>Platform</td>\n",
       "      <td>0.01</td>\n",
       "      <td>0.00</td>\n",
       "      <td>0.00</td>\n",
       "      <td>0.0</td>\n",
       "      <td>NaN</td>\n",
       "      <td>NaN</td>\n",
       "      <td>Unknown</td>\n",
       "      <td>0.01</td>\n",
       "    </tr>\n",
       "    <tr>\n",
       "      <th>16442</th>\n",
       "      <td>Winning Post 8 2016</td>\n",
       "      <td>PSV</td>\n",
       "      <td>2016</td>\n",
       "      <td>Simulation</td>\n",
       "      <td>0.00</td>\n",
       "      <td>0.00</td>\n",
       "      <td>0.01</td>\n",
       "      <td>0.0</td>\n",
       "      <td>NaN</td>\n",
       "      <td>NaN</td>\n",
       "      <td>Unknown</td>\n",
       "      <td>0.01</td>\n",
       "    </tr>\n",
       "  </tbody>\n",
       "</table>\n",
       "</div>"
      ],
      "text/plain": [
       "                                                   name platform  \\\n",
       "16433                                           15 Days       PC   \n",
       "16434                     Men in Black II: Alien Escape       GC   \n",
       "16435                                  Aiyoku no Eustia      PSV   \n",
       "16436                Woody Woodpecker in Crazy Castle 5      GBA   \n",
       "16437  SCORE International Baja 1000: The Official Game      PS2   \n",
       "16438                     Samurai Warriors: Sanada Maru      PS3   \n",
       "16439                                  LMA Manager 2007     X360   \n",
       "16440                           Haitaka no Psychedelica      PSV   \n",
       "16441                                  Spirits & Spells      GBA   \n",
       "16442                               Winning Post 8 2016      PSV   \n",
       "\n",
       "       year_of_release       genre  na_sales  eu_sales  jp_sales  other_sales  \\\n",
       "16433             2009   Adventure      0.00      0.01      0.00          0.0   \n",
       "16434             2003     Shooter      0.01      0.00      0.00          0.0   \n",
       "16435             2014        Misc      0.00      0.00      0.01          0.0   \n",
       "16436             2002    Platform      0.01      0.00      0.00          0.0   \n",
       "16437             2008      Racing      0.00      0.00      0.00          0.0   \n",
       "16438             2016      Action      0.00      0.00      0.01          0.0   \n",
       "16439             2006      Sports      0.00      0.01      0.00          0.0   \n",
       "16440             2016   Adventure      0.00      0.00      0.01          0.0   \n",
       "16441             2003    Platform      0.01      0.00      0.00          0.0   \n",
       "16442             2016  Simulation      0.00      0.00      0.01          0.0   \n",
       "\n",
       "       critic_score  user_score   rating  total_sales  \n",
       "16433          63.0         5.8  Unknown         0.01  \n",
       "16434           NaN         NaN        T         0.01  \n",
       "16435           NaN         NaN  Unknown         0.01  \n",
       "16436           NaN         NaN  Unknown         0.01  \n",
       "16437           NaN         NaN  Unknown         0.00  \n",
       "16438           NaN         NaN  Unknown         0.01  \n",
       "16439           NaN         NaN  Unknown         0.01  \n",
       "16440           NaN         NaN  Unknown         0.01  \n",
       "16441           NaN         NaN  Unknown         0.01  \n",
       "16442           NaN         NaN  Unknown         0.01  "
      ]
     },
     "execution_count": 27,
     "metadata": {},
     "output_type": "execute_result"
    }
   ],
   "source": [
    "df.tail(10)"
   ]
  },
  {
   "cell_type": "markdown",
   "metadata": {},
   "source": [
    "**Промежуточные выводы по предобработке**"
   ]
  },
  {
   "cell_type": "markdown",
   "metadata": {},
   "source": [
    "1. Удалены пропущенные данные в столбцах **name**, **year_of_release**, **genre**\n",
    "2. Изменен тип данных в столбце year_of_release на int, потому что дробным год быть не может\n",
    "3. Заменена аббревиатура \"tbd\" на \"nan\" в столбце **user_score**. Заменен тип данных на float(вместо object)\n",
    "4. Сгруппированы данные в столбце **rating**. Пропуски заполнены \"unknown\" для удобства работы с данными на следующих этапах\n",
    "5. Столбцы с пропусками \"user_score\" и \"critic_score\" оставлены без изменений, так как модификации этих столбцов могут повлиять на достоверность данных\n",
    "\n",
    "Пропуски в данных могли возникнуть из-за импортирования данных из открытых источников"
   ]
  },
  {
   "cell_type": "markdown",
   "metadata": {},
   "source": [
    "Всего удалено"
   ]
  },
  {
   "cell_type": "code",
   "execution_count": 28,
   "metadata": {},
   "outputs": [
    {
     "name": "stdout",
     "output_type": "stream",
     "text": [
      "1.6212982351181575 %\n"
     ]
    }
   ],
   "source": [
    "print(((16715-16444)/16715)*100,'%')"
   ]
  },
  {
   "cell_type": "markdown",
   "metadata": {},
   "source": [
    "<div class=\"alert alert-success\">\n",
    "<h2> Комментарий ревьюера 😊 <a class=\"tocSkip\"> </h2>\n",
    "\n",
    "Блок предобработки выполнен хорошо: необходимые столбцы добавлены, названия скорректированы, есть проверка на пропуски и дубликаты, молодец) Здорово, что проверяешь кол-во потерянных данных.\n",
    "</div>"
   ]
  },
  {
   "cell_type": "markdown",
   "metadata": {},
   "source": [
    "<div class=\"alert alert-warning\">\n",
    "<h2> Комментарий ревьюера 🤓<a class=\"tocSkip\"> </h2>\n",
    "\n",
    "Ручной ввод значений  следует заменить на соответствующее коду обозначение. Можно сохранить исходный размер датасета в переменную."
   ]
  },
  {
   "cell_type": "markdown",
   "metadata": {},
   "source": [
    "## Исследовательский анализ данных"
   ]
  },
  {
   "cell_type": "markdown",
   "metadata": {},
   "source": [
    "### Посмотрите, сколько игр выпускалось в разные годы. Важны ли данные за все периоды?"
   ]
  },
  {
   "cell_type": "code",
   "execution_count": 29,
   "metadata": {},
   "outputs": [
    {
     "data": {
      "text/plain": [
       "2008    1427\n",
       "2009    1426\n",
       "2010    1255\n",
       "2007    1197\n",
       "2011    1136\n",
       "2006    1006\n",
       "2005     939\n",
       "2002     829\n",
       "2003     775\n",
       "2004     762\n",
       "2012     652\n",
       "2015     606\n",
       "2014     581\n",
       "2013     544\n",
       "2016     502\n",
       "2001     482\n",
       "1998     379\n",
       "2000     350\n",
       "1999     338\n",
       "1997     289\n",
       "1996     263\n",
       "1995     219\n",
       "1994     121\n",
       "1993      60\n",
       "1981      46\n",
       "1992      43\n",
       "1991      41\n",
       "1982      36\n",
       "1986      21\n",
       "1983      17\n",
       "1989      17\n",
       "1990      16\n",
       "1987      16\n",
       "1988      15\n",
       "1985      14\n",
       "1984      14\n",
       "1980       9\n",
       "Name: year_of_release, dtype: int64"
      ]
     },
     "execution_count": 29,
     "metadata": {},
     "output_type": "execute_result"
    }
   ],
   "source": [
    "df['year_of_release'].value_counts()"
   ]
  },
  {
   "cell_type": "code",
   "execution_count": 30,
   "metadata": {},
   "outputs": [
    {
     "data": {
      "text/plain": [
       "count    16443.000000\n",
       "mean      2006.485921\n",
       "std          5.875546\n",
       "min       1980.000000\n",
       "25%       2003.000000\n",
       "50%       2007.000000\n",
       "75%       2010.000000\n",
       "max       2016.000000\n",
       "Name: year_of_release, dtype: float64"
      ]
     },
     "execution_count": 30,
     "metadata": {},
     "output_type": "execute_result"
    }
   ],
   "source": [
    "df['year_of_release'].describe()"
   ]
  },
  {
   "cell_type": "markdown",
   "metadata": {},
   "source": [
    "Первый квартиль - 2003г, третий: 2010г. Среднее значение - 2006г, медиана 2007г."
   ]
  },
  {
   "cell_type": "code",
   "execution_count": 31,
   "metadata": {},
   "outputs": [
    {
     "data": {
      "text/plain": [
       "<AxesSubplot:>"
      ]
     },
     "execution_count": 31,
     "metadata": {},
     "output_type": "execute_result"
    },
    {
     "data": {
      "image/png": "[encoded data removed]",
      "text/plain": [
       "<Figure size 432x288 with 1 Axes>"
      ]
     },
     "metadata": {
      "needs_background": "light"
     },
     "output_type": "display_data"
    }
   ],
   "source": [
    "df.boxplot('year_of_release')"
   ]
  },
  {
   "cell_type": "code",
   "execution_count": 32,
   "metadata": {},
   "outputs": [
    {
     "data": {
      "image/png": "[encoded data removed]",
      "text/plain": [
       "<Figure size 1800x576 with 1 Axes>"
      ]
     },
     "metadata": {},
     "output_type": "display_data"
    }
   ],
   "source": [
    "#Построим столбчатый график\n",
    "sb.set_style('whitegrid')\n",
    "plt.figure(figsize=(25,8))\n",
    "sb.countplot(data=df, x='year_of_release', color='green');\n",
    "plt.title('Статистика количества выпущенных игр по годам')\n",
    "plt.xlabel('Год')\n",
    "plt.ylabel('Количество выпущенных игр')\n",
    "plt.show()"
   ]
  },
  {
   "cell_type": "markdown",
   "metadata": {},
   "source": [
    "<div class=\"alert alert-warning\">\n",
    "<h2> Комментарий ревьюера 🤓<a class=\"tocSkip\"> </h2>\n",
    "\n",
    "Будет хорошо добавить название графику. Можно убрать технические строчки перед графиком, добавив `plt.show()` или `;`. "
   ]
  },
  {
   "cell_type": "markdown",
   "metadata": {},
   "source": [
    "С 1991 можно заметить интерес к компьютерной индустрии, который ежегодно растет до 2009 года. Больше всего игр было выпущено в 2008-2009 году. Затем идет спад до 2016 года(возможно, процесс выпуска стал более длительным, что повлияло на количество выпускаемых игр). Данные до 1993г(включая) можно отнести к выбросам. Удалим их"
   ]
  },
  {
   "cell_type": "markdown",
   "metadata": {},
   "source": [
    "<div class=\"alert alert-block alert-danger\">\n",
    "<h2> Комментарий ревьюера ⛔️<a class=\"tocSkip\"></h2>\n",
    "<s>\n",
    "Очень краткий вывод по графику. Давай дополним)"
   ]
  },
  {
   "cell_type": "markdown",
   "metadata": {},
   "source": [
    "<div class=\"alert alert-success\">\n",
    "<h2> Комментарий ревьюера 😊 v_2 <a class=\"tocSkip\"> </h2>\n",
    "\n",
    "Так лучше)"
   ]
  },
  {
   "cell_type": "code",
   "execution_count": 33,
   "metadata": {},
   "outputs": [],
   "source": [
    "df = df.query('year_of_release > 1993')"
   ]
  },
  {
   "cell_type": "code",
   "execution_count": 34,
   "metadata": {},
   "outputs": [
    {
     "data": {
      "text/plain": [
       "count    16078.000000\n",
       "mean      2006.918460\n",
       "std          5.138985\n",
       "min       1994.000000\n",
       "25%       2003.000000\n",
       "50%       2008.000000\n",
       "75%       2011.000000\n",
       "max       2016.000000\n",
       "Name: year_of_release, dtype: float64"
      ]
     },
     "execution_count": 34,
     "metadata": {},
     "output_type": "execute_result"
    }
   ],
   "source": [
    "df['year_of_release'].describe()"
   ]
  },
  {
   "cell_type": "code",
   "execution_count": 35,
   "metadata": {},
   "outputs": [
    {
     "data": {
      "text/plain": [
       "1994     121\n",
       "1995     219\n",
       "1996     263\n",
       "1997     289\n",
       "1999     338\n",
       "2000     350\n",
       "1998     379\n",
       "2001     482\n",
       "2016     502\n",
       "2013     544\n",
       "2014     581\n",
       "2015     606\n",
       "2012     652\n",
       "2004     762\n",
       "2003     775\n",
       "2002     829\n",
       "2005     939\n",
       "2006    1006\n",
       "2011    1136\n",
       "2007    1197\n",
       "2010    1255\n",
       "2009    1426\n",
       "2008    1427\n",
       "Name: year_of_release, dtype: int64"
      ]
     },
     "execution_count": 35,
     "metadata": {},
     "output_type": "execute_result"
    }
   ],
   "source": [
    "df['year_of_release'].value_counts().sort_values()"
   ]
  },
  {
   "cell_type": "markdown",
   "metadata": {},
   "source": [
    "### Продажи по платформам"
   ]
  },
  {
   "cell_type": "markdown",
   "metadata": {},
   "source": [
    "Сгруппируем данные по платформам и общей суммы продажи"
   ]
  },
  {
   "cell_type": "code",
   "execution_count": 36,
   "metadata": {},
   "outputs": [
    {
     "data": {
      "text/html": [
       "<div>\n",
       "<style scoped>\n",
       "    .dataframe tbody tr th:only-of-type {\n",
       "        vertical-align: middle;\n",
       "    }\n",
       "\n",
       "    .dataframe tbody tr th {\n",
       "        vertical-align: top;\n",
       "    }\n",
       "\n",
       "    .dataframe thead th {\n",
       "        text-align: right;\n",
       "    }\n",
       "</style>\n",
       "<table border=\"1\" class=\"dataframe\">\n",
       "  <thead>\n",
       "    <tr style=\"text-align: right;\">\n",
       "      <th></th>\n",
       "      <th>platform</th>\n",
       "      <th>total_sales</th>\n",
       "    </tr>\n",
       "  </thead>\n",
       "  <tbody>\n",
       "    <tr>\n",
       "      <th>0</th>\n",
       "      <td>PS2</td>\n",
       "      <td>1233.56</td>\n",
       "    </tr>\n",
       "    <tr>\n",
       "      <th>1</th>\n",
       "      <td>X360</td>\n",
       "      <td>961.24</td>\n",
       "    </tr>\n",
       "    <tr>\n",
       "      <th>2</th>\n",
       "      <td>PS3</td>\n",
       "      <td>931.33</td>\n",
       "    </tr>\n",
       "    <tr>\n",
       "      <th>3</th>\n",
       "      <td>Wii</td>\n",
       "      <td>891.18</td>\n",
       "    </tr>\n",
       "    <tr>\n",
       "      <th>4</th>\n",
       "      <td>DS</td>\n",
       "      <td>802.76</td>\n",
       "    </tr>\n",
       "    <tr>\n",
       "      <th>5</th>\n",
       "      <td>PS</td>\n",
       "      <td>727.58</td>\n",
       "    </tr>\n",
       "    <tr>\n",
       "      <th>6</th>\n",
       "      <td>PS4</td>\n",
       "      <td>314.14</td>\n",
       "    </tr>\n",
       "    <tr>\n",
       "      <th>7</th>\n",
       "      <td>GBA</td>\n",
       "      <td>312.88</td>\n",
       "    </tr>\n",
       "    <tr>\n",
       "      <th>8</th>\n",
       "      <td>PSP</td>\n",
       "      <td>289.53</td>\n",
       "    </tr>\n",
       "    <tr>\n",
       "      <th>9</th>\n",
       "      <td>3DS</td>\n",
       "      <td>257.81</td>\n",
       "    </tr>\n",
       "  </tbody>\n",
       "</table>\n",
       "</div>"
      ],
      "text/plain": [
       "  platform  total_sales\n",
       "0      PS2      1233.56\n",
       "1     X360       961.24\n",
       "2      PS3       931.33\n",
       "3      Wii       891.18\n",
       "4       DS       802.76\n",
       "5       PS       727.58\n",
       "6      PS4       314.14\n",
       "7      GBA       312.88\n",
       "8      PSP       289.53\n",
       "9      3DS       257.81"
      ]
     },
     "execution_count": 36,
     "metadata": {},
     "output_type": "execute_result"
    }
   ],
   "source": [
    "platform_group = df.pivot_table(index='platform', values='total_sales', aggfunc='sum').sort_values(by='total_sales',ascending=False)\n",
    "platform_group = platform_group.head(10).reset_index()\n",
    "platform_group"
   ]
  },
  {
   "cell_type": "markdown",
   "metadata": {},
   "source": [
    "<div class=\"alert alert-block alert-danger\">\n",
    "<h2> Комментарий ревьюера ⛔️<a class=\"tocSkip\"></h2>\n",
    "<s>\n",
    "Нужно отобразить на графике распределение суммарных продаж по платформам."
   ]
  },
  {
   "cell_type": "code",
   "execution_count": 37,
   "metadata": {},
   "outputs": [
    {
     "data": {
      "image/png": "[encoded data removed]",
      "text/plain": [
       "<Figure size 720x504 with 1 Axes>"
      ]
     },
     "metadata": {},
     "output_type": "display_data"
    }
   ],
   "source": [
    "(\n",
    "df.pivot_table(index='platform', values='total_sales', aggfunc='sum').sort_values(by='total_sales', ascending=False)\n",
    "    .plot(kind='bar',grid=True, figsize=(10,7))\n",
    ")\n",
    "plt.title('Суммарные продажи в зависимости от платформы')\n",
    "plt.xlabel('Платформа')\n",
    "plt.ylabel('Суммарные продажи')\n",
    "plt.show()"
   ]
  },
  {
   "cell_type": "markdown",
   "metadata": {},
   "source": [
    "<div class=\"alert alert-success\">\n",
    "<h2> Комментарий ревьюера 😊 v_2 <a class=\"tocSkip\"> </h2>\n",
    "\n",
    "Отлично)"
   ]
  },
  {
   "cell_type": "markdown",
   "metadata": {},
   "source": [
    "Создадим переменную с 5-тью лучшими платформами"
   ]
  },
  {
   "cell_type": "code",
   "execution_count": 38,
   "metadata": {},
   "outputs": [],
   "source": [
    "top_5_platform = pd.DataFrame(\n",
    "    df.groupby('platform')['total_sales']\n",
    "    .sum()\n",
    "    .sort_values(ascending=False)\n",
    "    .head(5)\n",
    ").reset_index()"
   ]
  },
  {
   "cell_type": "code",
   "execution_count": 39,
   "metadata": {},
   "outputs": [
    {
     "data": {
      "text/html": [
       "<div>\n",
       "<style scoped>\n",
       "    .dataframe tbody tr th:only-of-type {\n",
       "        vertical-align: middle;\n",
       "    }\n",
       "\n",
       "    .dataframe tbody tr th {\n",
       "        vertical-align: top;\n",
       "    }\n",
       "\n",
       "    .dataframe thead th {\n",
       "        text-align: right;\n",
       "    }\n",
       "</style>\n",
       "<table border=\"1\" class=\"dataframe\">\n",
       "  <thead>\n",
       "    <tr style=\"text-align: right;\">\n",
       "      <th></th>\n",
       "      <th>platform</th>\n",
       "      <th>total_sales</th>\n",
       "    </tr>\n",
       "  </thead>\n",
       "  <tbody>\n",
       "    <tr>\n",
       "      <th>0</th>\n",
       "      <td>PS2</td>\n",
       "      <td>1233.56</td>\n",
       "    </tr>\n",
       "    <tr>\n",
       "      <th>1</th>\n",
       "      <td>X360</td>\n",
       "      <td>961.24</td>\n",
       "    </tr>\n",
       "    <tr>\n",
       "      <th>2</th>\n",
       "      <td>PS3</td>\n",
       "      <td>931.33</td>\n",
       "    </tr>\n",
       "    <tr>\n",
       "      <th>3</th>\n",
       "      <td>Wii</td>\n",
       "      <td>891.18</td>\n",
       "    </tr>\n",
       "    <tr>\n",
       "      <th>4</th>\n",
       "      <td>DS</td>\n",
       "      <td>802.76</td>\n",
       "    </tr>\n",
       "  </tbody>\n",
       "</table>\n",
       "</div>"
      ],
      "text/plain": [
       "  platform  total_sales\n",
       "0      PS2      1233.56\n",
       "1     X360       961.24\n",
       "2      PS3       931.33\n",
       "3      Wii       891.18\n",
       "4       DS       802.76"
      ]
     },
     "execution_count": 39,
     "metadata": {},
     "output_type": "execute_result"
    }
   ],
   "source": [
    "top_5_platform"
   ]
  },
  {
   "cell_type": "markdown",
   "metadata": {},
   "source": [
    "Создадим функцию построения суммы продаж по годам для опредленной платформы"
   ]
  },
  {
   "cell_type": "code",
   "execution_count": 40,
   "metadata": {},
   "outputs": [],
   "source": [
    "def year_sell(data):\n",
    "    for i in data['platform']:\n",
    "        plt.figure(figsize=(20,5))\n",
    "        sb.barplot(x=df.query('platform==@i')['year_of_release'],y=df.query('platform==@i')['total_sales'], color='green', ci=None)\n",
    "        plt.title(f'Платформа:{i}')\n",
    "        plt.xlabel(f'Год')\n",
    "        plt.ylabel(f'Общие продажи')\n",
    "        plt.show()"
   ]
  },
  {
   "cell_type": "markdown",
   "metadata": {},
   "source": [
    "<div class=\"alert alert-success\">\n",
    "<h2> Комментарий ревьюера 😊<a class=\"tocSkip\"> </h2>\n",
    "\n",
    "Здорово, что работаеim с функцией и циклом!)"
   ]
  },
  {
   "cell_type": "code",
   "execution_count": 41,
   "metadata": {},
   "outputs": [
    {
     "data": {
      "image/png": "[encoded data removed]",
      "text/plain": [
       "<Figure size 1440x360 with 1 Axes>"
      ]
     },
     "metadata": {},
     "output_type": "display_data"
    },
    {
     "data": {
      "image/png": "[encoded data removed]",
      "text/plain": [
       "<Figure size 1440x360 with 1 Axes>"
      ]
     },
     "metadata": {},
     "output_type": "display_data"
    },
    {
     "data": {
      "image/png": "[encoded data removed]",
      "text/plain": [
       "<Figure size 1440x360 with 1 Axes>"
      ]
     },
     "metadata": {},
     "output_type": "display_data"
    },
    {
     "data": {
      "image/png": "[encoded data removed]",
      "text/plain": [
       "<Figure size 1440x360 with 1 Axes>"
      ]
     },
     "metadata": {},
     "output_type": "display_data"
    },
    {
     "data": {
      "image/png": "[encoded data removed]",
      "text/plain": [
       "<Figure size 1440x360 with 1 Axes>"
      ]
     },
     "metadata": {},
     "output_type": "display_data"
    }
   ],
   "source": [
    "year_sell(top_5_platform)"
   ]
  },
  {
   "cell_type": "markdown",
   "metadata": {},
   "source": [
    "#### Длительность сущестования платформы"
   ]
  },
  {
   "cell_type": "code",
   "execution_count": 42,
   "metadata": {},
   "outputs": [
    {
     "name": "stdout",
     "output_type": "stream",
     "text": [
      "Продолжительность существования платформы PS2 = 11\n",
      "Продолжительность существования платформы X360 = 11\n",
      "Продолжительность существования платформы PS3 = 10\n",
      "Продолжительность существования платформы Wii = 10\n",
      "Продолжительность существования платформы DS = 9\n"
     ]
    }
   ],
   "source": [
    "for i in top_5_platform.platform:\n",
    "    print('Продолжительность существования платформы', i, '=', df[df['platform']==i]['year_of_release'].max() - df[df['platform']==i]['year_of_release'].min())"
   ]
  },
  {
   "cell_type": "markdown",
   "metadata": {},
   "source": [
    "Средняя продолжительность сущестования платформы 10лет. Из графиков можно увидеть, что пики продаж происходят на старте выпуска платформы(1-3 год). Единственные кандидаты, которые выделяются - это x360(рост происходит равномерно без пиков в начале) и ps3(сохранаяет высокую динамку продаж на протяжении нескольких лет). За актуальный период возмем промежуток в 3 года, так как для большиства популярных платформ пики продаж приходятся на начальные года. "
   ]
  },
  {
   "cell_type": "markdown",
   "metadata": {},
   "source": [
    "<div class=\"alert alert-success\">\n",
    "<h2> Комментарий ревьюера 😊<a class=\"tocSkip\"> </h2>\n",
    "\n",
    "Срок жизни определен верно и актуальный период выбран правильно)"
   ]
  },
  {
   "cell_type": "markdown",
   "metadata": {},
   "source": [
    "### Анализ по актуальному периоду"
   ]
  },
  {
   "cell_type": "code",
   "execution_count": 43,
   "metadata": {},
   "outputs": [],
   "source": [
    "df_main = df.query('year_of_release >= 2014')"
   ]
  },
  {
   "cell_type": "code",
   "execution_count": 44,
   "metadata": {},
   "outputs": [
    {
     "data": {
      "image/png": "[encoded data removed]",
      "text/plain": [
       "<Figure size 1440x360 with 1 Axes>"
      ]
     },
     "metadata": {},
     "output_type": "display_data"
    },
    {
     "data": {
      "image/png": "[encoded data removed]",
      "text/plain": [
       "<Figure size 1440x360 with 1 Axes>"
      ]
     },
     "metadata": {},
     "output_type": "display_data"
    },
    {
     "data": {
      "image/png": "[encoded data removed]",
      "text/plain": [
       "<Figure size 1440x360 with 1 Axes>"
      ]
     },
     "metadata": {},
     "output_type": "display_data"
    },
    {
     "data": {
      "image/png": "[encoded data removed]",
      "text/plain": [
       "<Figure size 1440x360 with 1 Axes>"
      ]
     },
     "metadata": {},
     "output_type": "display_data"
    },
    {
     "data": {
      "image/png": "[encoded data removed]",
      "text/plain": [
       "<Figure size 1440x360 with 1 Axes>"
      ]
     },
     "metadata": {},
     "output_type": "display_data"
    },
    {
     "data": {
      "image/png": "[encoded data removed]",
      "text/plain": [
       "<Figure size 1440x360 with 1 Axes>"
      ]
     },
     "metadata": {},
     "output_type": "display_data"
    },
    {
     "data": {
      "image/png": "[encoded data removed]",
      "text/plain": [
       "<Figure size 1440x360 with 1 Axes>"
      ]
     },
     "metadata": {},
     "output_type": "display_data"
    },
    {
     "data": {
      "image/png": "[encoded data removed]",
      "text/plain": [
       "<Figure size 1440x360 with 1 Axes>"
      ]
     },
     "metadata": {},
     "output_type": "display_data"
    },
    {
     "data": {
      "image/png": "[encoded data removed]",
      "text/plain": [
       "<Figure size 1440x360 with 1 Axes>"
      ]
     },
     "metadata": {},
     "output_type": "display_data"
    },
    {
     "data": {
      "image/png": "[encoded data removed]",
      "text/plain": [
       "<Figure size 1440x360 with 1 Axes>"
      ]
     },
     "metadata": {},
     "output_type": "display_data"
    }
   ],
   "source": [
    "platform_main = df_main['platform'].unique()\n",
    "for i in platform_main:\n",
    "    plt.figure(figsize=(20,5))\n",
    "    sb.barplot(x=df_main.query('platform==@i')['year_of_release'],y=df_main.query('platform==@i')['total_sales'], ci=None)\n",
    "    plt.title(f'Платформа, {i}')\n",
    "    plt.xlabel(f'Год')\n",
    "    plt.ylabel('Общие продажи')\n",
    "    plt.show()"
   ]
  },
  {
   "cell_type": "markdown",
   "metadata": {},
   "source": [
    "Исходя из графиков можно выделить лидеров по продажам - это PS4, XOne, WiiU"
   ]
  },
  {
   "cell_type": "markdown",
   "metadata": {},
   "source": [
    "<div class=\"alert alert-success\">\n",
    "<h2> Комментарий ревьюера 😊<a class=\"tocSkip\"> </h2>\n",
    "    \n",
    " Да, согласна с твоими выводами, PS4 и XOne могут считаться потенциально прибыльными платформами для 2017 г.!\n",
    "</div>   "
   ]
  },
  {
   "cell_type": "markdown",
   "metadata": {},
   "source": [
    "### График «ящик с усами» по глобальным продажам игр в разбивке по платформам"
   ]
  },
  {
   "cell_type": "code",
   "execution_count": 45,
   "metadata": {},
   "outputs": [
    {
     "data": {
      "image/png": "[encoded data removed]",
      "text/plain": [
       "<Figure size 1080x936 with 1 Axes>"
      ]
     },
     "metadata": {},
     "output_type": "display_data"
    }
   ],
   "source": [
    "plt.figure(figsize=(15,13))\n",
    "sb.boxplot(data=df_main,x='platform',y='total_sales')\n",
    "plt.ylim(0,2)\n",
    "plt.title(f'Ящик с усами по продажам игр')\n",
    "plt.xlabel('Платформа')\n",
    "plt.ylabel('Общие продажи млн.')\n",
    "plt.show()"
   ]
  },
  {
   "cell_type": "markdown",
   "metadata": {},
   "source": [
    "<div class=\"alert alert-success\">\n",
    "<h2> Комментарий ревьюера 😊<a class=\"tocSkip\"> </h2>\n",
    "    \n",
    "\n",
    "Здорово, что ты корректно оформил график, все получилось!"
   ]
  },
  {
   "cell_type": "markdown",
   "metadata": {},
   "source": [
    "<div class=\"alert alert-warning\">\n",
    "<h2> Комментарий ревьюера 🤓<a class=\"tocSkip\"> </h2>\n",
    "        \n",
    "Давай скорректируем размер графика, масимальная ширина отображения 13-15, далее график не меняется, а вот подписи по осям и названия уменьшаются. Давай снизим ширину графика)\n",
    "    \n",
    "    \n",
    "Очень хорошо, что ты отобразил боксплоты без выбросов, но на данном этапе, нам также необходимо показать, что у платформ есть игры - хиты, продажи которых выходят за средние показатели. Идеальный вариант это представить два графика, один с полными данными, а второй без выбросов.  Чтобы не визуализировать выбросы, в методе `sns.boxplot` можно попробовать использовать аргумент `showfliers=False` </div>   "
   ]
  },
  {
   "cell_type": "code",
   "execution_count": 46,
   "metadata": {},
   "outputs": [
    {
     "data": {
      "image/png": "[encoded data removed]",
      "text/plain": [
       "<Figure size 1080x936 with 1 Axes>"
      ]
     },
     "metadata": {},
     "output_type": "display_data"
    }
   ],
   "source": [
    "plt.figure(figsize=(15,13))\n",
    "sb.boxplot(data=df_main,x='platform',y='total_sales', showfliers=False)\n",
    "plt.ylim(0,2)\n",
    "plt.title(f'Ящик с усами по продажам игр')\n",
    "plt.xlabel('Платформа')\n",
    "plt.ylabel('Общие продажи млн.')\n",
    "plt.show()"
   ]
  },
  {
   "cell_type": "markdown",
   "metadata": {},
   "source": [
    "Исходя из графика можно сделать вывод, что наиболее популярные платформы для продаж игр - это PS4,XOne,WiiU. Медианы всех трех платформ находятся почти на одинаковом уровне, однако WiiU имеет самое большое значение 3 квартиля. Также можно обратить внимание на количесто выбросов - больше всего у PS4. "
   ]
  },
  {
   "cell_type": "markdown",
   "metadata": {},
   "source": [
    "<div class=\"alert alert-block alert-danger\">\n",
    "<h2> Комментарий ревьюера ⛔️<a class=\"tocSkip\"></h2> \n",
    "   <s>\n",
    "Очень краткий вывод по боксплотам, давай дополним)"
   ]
  },
  {
   "cell_type": "markdown",
   "metadata": {},
   "source": [
    "<div class=\"alert alert-success\">\n",
    "<h2> Комментарий ревьюера 😊 v_2 <a class=\"tocSkip\"> </h2>\n",
    "\n",
    "👍"
   ]
  },
  {
   "cell_type": "markdown",
   "metadata": {},
   "source": [
    "### Влияние отзывов на продажи"
   ]
  },
  {
   "cell_type": "markdown",
   "metadata": {},
   "source": [
    "Сделаем анализ зависимости для PS4"
   ]
  },
  {
   "cell_type": "code",
   "execution_count": 47,
   "metadata": {},
   "outputs": [
    {
     "data": {
      "image/png": "[encoded data removed]",
      "text/plain": [
       "<Figure size 432x288 with 1 Axes>"
      ]
     },
     "metadata": {},
     "output_type": "display_data"
    },
    {
     "data": {
      "image/png": "[encoded data removed]",
      "text/plain": [
       "<Figure size 432x288 with 1 Axes>"
      ]
     },
     "metadata": {},
     "output_type": "display_data"
    }
   ],
   "source": [
    "df_main[df_main['platform'] == 'PS4'].plot(x='total_sales',y='user_score',kind='scatter')\n",
    "plt.title('Взаимосвязь отзывов пользователей на продажи')\n",
    "plt.xlabel('Общие продажи')\n",
    "plt.ylabel('Оценка пользователей')\n",
    "\n",
    "df_main[df_main['platform'] == 'PS4'].plot(x='total_sales',y='critic_score',kind='scatter')\n",
    "plt.title('Взаимосвязь отзывов критиков на продажи')\n",
    "plt.xlabel('Общие продажи')\n",
    "plt.ylabel('Оценка пользователей')\n",
    "\n",
    "plt.show()"
   ]
  },
  {
   "cell_type": "markdown",
   "metadata": {},
   "source": [
    "Вычислим корреляцию Пирсона"
   ]
  },
  {
   "cell_type": "code",
   "execution_count": 48,
   "metadata": {},
   "outputs": [
    {
     "name": "stdout",
     "output_type": "stream",
     "text": [
      "Коэффициент корреляции Пирсона между продажами и оценкой пользователей: -0.040131589472697356\n"
     ]
    }
   ],
   "source": [
    "print('Коэффициент корреляции Пирсона между продажами и оценкой пользователей:',\n",
    "     df_main[df_main['platform'] == 'PS4']['total_sales'].corr(df_main[df_main['platform'] == 'PS4']['user_score']))"
   ]
  },
  {
   "cell_type": "code",
   "execution_count": 49,
   "metadata": {},
   "outputs": [
    {
     "name": "stdout",
     "output_type": "stream",
     "text": [
      "Коэффициент корреляции Пирсона между продажами и оценкой критиков: 0.40266141068104083\n"
     ]
    }
   ],
   "source": [
    "print('Коэффициент корреляции Пирсона между продажами и оценкой критиков:',\n",
    "     df_main[df_main['platform'] == 'PS4']['total_sales'].corr(df_main[df_main['platform'] == 'PS4']['critic_score']))"
   ]
  },
  {
   "cell_type": "markdown",
   "metadata": {},
   "source": [
    "**Выводы:** **PS4**-между оценкой пользователей и объемом продаж нет взаимосвязи, а между оценкой критиков и объмом продаж есть слабая корреляция"
   ]
  },
  {
   "cell_type": "markdown",
   "metadata": {},
   "source": [
    "<div class=\"alert alert-success\">\n",
    "<h2> Комментарий ревьюера 😊<a class=\"tocSkip\"> </h2>\n",
    "\n",
    "Это правильно. Огромный плюс за читабельность графиков, хорошая работа!\n",
    "</div>"
   ]
  },
  {
   "cell_type": "markdown",
   "metadata": {},
   "source": [
    "Посчитаем коэффициент корреляции для XOne"
   ]
  },
  {
   "cell_type": "code",
   "execution_count": 50,
   "metadata": {},
   "outputs": [
    {
     "name": "stdout",
     "output_type": "stream",
     "text": [
      "Коэффициент корреляции Пирсона между продажами и оценкой пользователей: -0.0703839280647581\n"
     ]
    }
   ],
   "source": [
    "print('Коэффициент корреляции Пирсона между продажами и оценкой пользователей:',\n",
    "     df_main[df_main['platform'] == 'XOne']['total_sales'].corr(df_main[df_main['platform'] == 'XOne']['user_score']))"
   ]
  },
  {
   "cell_type": "code",
   "execution_count": 51,
   "metadata": {},
   "outputs": [
    {
     "name": "stdout",
     "output_type": "stream",
     "text": [
      "Коэффициент корреляции Пирсона между продажами и оценкой критиков: 0.42867694370333226\n"
     ]
    }
   ],
   "source": [
    "print('Коэффициент корреляции Пирсона между продажами и оценкой критиков:',\n",
    "     df_main[df_main['platform'] == 'XOne']['total_sales'].corr(df_main[df_main['platform'] == 'XOne']['critic_score']))"
   ]
  },
  {
   "cell_type": "markdown",
   "metadata": {},
   "source": [
    "Посчитаем коэффициент корреляции для WiiU"
   ]
  },
  {
   "cell_type": "code",
   "execution_count": 52,
   "metadata": {},
   "outputs": [
    {
     "name": "stdout",
     "output_type": "stream",
     "text": [
      "Коэффициент корреляции Пирсона между продажами и оценкой пользователей: 0.4079264579217078\n"
     ]
    }
   ],
   "source": [
    "print('Коэффициент корреляции Пирсона между продажами и оценкой пользователей:',\n",
    "     df_main[df_main['platform'] == 'WiiU']['total_sales'].corr(df_main[df_main['platform'] == 'WiiU']['user_score']))"
   ]
  },
  {
   "cell_type": "code",
   "execution_count": 53,
   "metadata": {},
   "outputs": [
    {
     "name": "stdout",
     "output_type": "stream",
     "text": [
      "Коэффициент корреляции Пирсона между продажами и оценкой критиков: 0.370201412480884\n"
     ]
    }
   ],
   "source": [
    "print('Коэффициент корреляции Пирсона между продажами и оценкой критиков:',\n",
    "     df_main[df_main['platform'] == 'WiiU']['total_sales'].corr(df_main[df_main['platform'] == 'WiiU']['critic_score']))"
   ]
  },
  {
   "cell_type": "markdown",
   "metadata": {},
   "source": [
    "**Выводы:** **XOne**-между оценкой пользователей и объемом продаж нет взаимосвязи, а между оценкой критиков и объмом продаж есть слабая корреляция. **WiiU**-между оценкой пользователей и объемом продаж есть слабая корреляция, также между оценкой критиков и объмом продаж есть слабая корреляция"
   ]
  },
  {
   "cell_type": "markdown",
   "metadata": {},
   "source": [
    "<div class=\"alert alert-success\">\n",
    "<h2> Комментарий ревьюера 😊 <a class=\"tocSkip\"> </h2> \n",
    "    \n",
    "Корреляционный анализ выполнен верно! Согласна с твоей интерпретацией корреляционного коэффициента, все верно!"
   ]
  },
  {
   "cell_type": "markdown",
   "metadata": {},
   "source": [
    "<div class=\"alert alert-block alert-danger\">\n",
    "<h2> Комментарий ревьюера ⛔️<a class=\"tocSkip\"></h2> \n",
    "   <s>\n",
    "Давай добавим общий вывод по анализу взаимосвязи продаж с отзывами критиков и пользователей)"
   ]
  },
  {
   "cell_type": "markdown",
   "metadata": {},
   "source": [
    "Исходя из полученных данных можно сделать вывод, что нет зависмости между оценкой пользоватлей и объемом продаж, но есть слабая зависимость между оценкой критиков и объемом продаж(оценки критиков учитывают в большей степени, чем оценки пользователей)."
   ]
  },
  {
   "cell_type": "markdown",
   "metadata": {},
   "source": [
    "<div class=\"alert alert-success\">\n",
    "<h2> Комментарий ревьюера 😊 v_2 <a class=\"tocSkip\"> </h2>\n",
    "\n",
    "Верно)"
   ]
  },
  {
   "cell_type": "markdown",
   "metadata": {},
   "source": [
    "### Анализ распределения игр по жанрам"
   ]
  },
  {
   "cell_type": "code",
   "execution_count": 54,
   "metadata": {},
   "outputs": [
    {
     "data": {
      "text/plain": [
       "Action          619\n",
       "Role-Playing    221\n",
       "Adventure       185\n",
       "Sports          161\n",
       "Shooter         128\n",
       "Misc            113\n",
       "Racing           69\n",
       "Fighting         60\n",
       "Simulation       44\n",
       "Platform         38\n",
       "Strategy         37\n",
       "Puzzle           14\n",
       "Name: genre, dtype: int64"
      ]
     },
     "execution_count": 54,
     "metadata": {},
     "output_type": "execute_result"
    }
   ],
   "source": [
    "df_main['genre'].value_counts()"
   ]
  },
  {
   "cell_type": "markdown",
   "metadata": {},
   "source": [
    "С большим отрывом лидирует жанр Action. Далее идут Role-Playing и Adventure"
   ]
  },
  {
   "cell_type": "markdown",
   "metadata": {},
   "source": [
    "Изучим объемы продаж по жанрам"
   ]
  },
  {
   "cell_type": "code",
   "execution_count": 55,
   "metadata": {},
   "outputs": [
    {
     "data": {
      "text/html": [
       "<div>\n",
       "<style scoped>\n",
       "    .dataframe tbody tr th:only-of-type {\n",
       "        vertical-align: middle;\n",
       "    }\n",
       "\n",
       "    .dataframe tbody tr th {\n",
       "        vertical-align: top;\n",
       "    }\n",
       "\n",
       "    .dataframe thead th {\n",
       "        text-align: right;\n",
       "    }\n",
       "</style>\n",
       "<table border=\"1\" class=\"dataframe\">\n",
       "  <thead>\n",
       "    <tr style=\"text-align: right;\">\n",
       "      <th></th>\n",
       "      <th>total_sales</th>\n",
       "    </tr>\n",
       "    <tr>\n",
       "      <th>genre</th>\n",
       "      <th></th>\n",
       "    </tr>\n",
       "  </thead>\n",
       "  <tbody>\n",
       "    <tr>\n",
       "      <th>Action</th>\n",
       "      <td>199.36</td>\n",
       "    </tr>\n",
       "    <tr>\n",
       "      <th>Shooter</th>\n",
       "      <td>170.94</td>\n",
       "    </tr>\n",
       "    <tr>\n",
       "      <th>Sports</th>\n",
       "      <td>109.48</td>\n",
       "    </tr>\n",
       "    <tr>\n",
       "      <th>Role-Playing</th>\n",
       "      <td>101.44</td>\n",
       "    </tr>\n",
       "    <tr>\n",
       "      <th>Misc</th>\n",
       "      <td>37.55</td>\n",
       "    </tr>\n",
       "    <tr>\n",
       "      <th>Fighting</th>\n",
       "      <td>28.22</td>\n",
       "    </tr>\n",
       "    <tr>\n",
       "      <th>Racing</th>\n",
       "      <td>27.52</td>\n",
       "    </tr>\n",
       "    <tr>\n",
       "      <th>Platform</th>\n",
       "      <td>18.09</td>\n",
       "    </tr>\n",
       "    <tr>\n",
       "      <th>Adventure</th>\n",
       "      <td>17.55</td>\n",
       "    </tr>\n",
       "    <tr>\n",
       "      <th>Simulation</th>\n",
       "      <td>13.13</td>\n",
       "    </tr>\n",
       "    <tr>\n",
       "      <th>Strategy</th>\n",
       "      <td>3.96</td>\n",
       "    </tr>\n",
       "    <tr>\n",
       "      <th>Puzzle</th>\n",
       "      <td>2.21</td>\n",
       "    </tr>\n",
       "  </tbody>\n",
       "</table>\n",
       "</div>"
      ],
      "text/plain": [
       "              total_sales\n",
       "genre                    \n",
       "Action             199.36\n",
       "Shooter            170.94\n",
       "Sports             109.48\n",
       "Role-Playing       101.44\n",
       "Misc                37.55\n",
       "Fighting            28.22\n",
       "Racing              27.52\n",
       "Platform            18.09\n",
       "Adventure           17.55\n",
       "Simulation          13.13\n",
       "Strategy             3.96\n",
       "Puzzle               2.21"
      ]
     },
     "execution_count": 55,
     "metadata": {},
     "output_type": "execute_result"
    }
   ],
   "source": [
    "df_main.pivot_table(index='genre', values='total_sales', aggfunc='sum').sort_values('total_sales', ascending=False)"
   ]
  },
  {
   "cell_type": "markdown",
   "metadata": {},
   "source": [
    "По продажам лидируют жанры Action и Shooter. Интересный момент с жанром Adventure, который имеет не такие большие объемы продаж, хотя и выпускался в большом количестве. А вот с жанром Shooter обратная ситуация - меньше выпусков, но больше объемы продаж"
   ]
  },
  {
   "cell_type": "markdown",
   "metadata": {},
   "source": [
    "<div class=\"alert alert-block alert-danger\">\n",
    "<h2> Комментарий ревьюера ⛔️<a class=\"tocSkip\"></h2>\n",
    "    <s>\n",
    "Общие продажи - плохая метрика для поиска наиболее прибыльного жанра. За высокими показателями общих продаж может скрываться множество мелких игр с низкими продажами. Или 2-3 звезды и куча провалов. Лучше найти жанр, где игры стабильно приносят высокий доход - для этого стоит рассмотреть средние или медианные продажи.\n",
    "</div>"
   ]
  },
  {
   "cell_type": "code",
   "execution_count": 56,
   "metadata": {},
   "outputs": [
    {
     "data": {
      "text/html": [
       "<div>\n",
       "<style scoped>\n",
       "    .dataframe tbody tr th:only-of-type {\n",
       "        vertical-align: middle;\n",
       "    }\n",
       "\n",
       "    .dataframe tbody tr th {\n",
       "        vertical-align: top;\n",
       "    }\n",
       "\n",
       "    .dataframe thead th {\n",
       "        text-align: right;\n",
       "    }\n",
       "</style>\n",
       "<table border=\"1\" class=\"dataframe\">\n",
       "  <thead>\n",
       "    <tr style=\"text-align: right;\">\n",
       "      <th></th>\n",
       "      <th>total_sales</th>\n",
       "    </tr>\n",
       "    <tr>\n",
       "      <th>genre</th>\n",
       "      <th></th>\n",
       "    </tr>\n",
       "  </thead>\n",
       "  <tbody>\n",
       "    <tr>\n",
       "      <th>Shooter</th>\n",
       "      <td>0.515</td>\n",
       "    </tr>\n",
       "    <tr>\n",
       "      <th>Sports</th>\n",
       "      <td>0.180</td>\n",
       "    </tr>\n",
       "    <tr>\n",
       "      <th>Platform</th>\n",
       "      <td>0.140</td>\n",
       "    </tr>\n",
       "    <tr>\n",
       "      <th>Fighting</th>\n",
       "      <td>0.125</td>\n",
       "    </tr>\n",
       "    <tr>\n",
       "      <th>Role-Playing</th>\n",
       "      <td>0.110</td>\n",
       "    </tr>\n",
       "    <tr>\n",
       "      <th>Simulation</th>\n",
       "      <td>0.100</td>\n",
       "    </tr>\n",
       "    <tr>\n",
       "      <th>Action</th>\n",
       "      <td>0.090</td>\n",
       "    </tr>\n",
       "    <tr>\n",
       "      <th>Misc</th>\n",
       "      <td>0.090</td>\n",
       "    </tr>\n",
       "    <tr>\n",
       "      <th>Racing</th>\n",
       "      <td>0.090</td>\n",
       "    </tr>\n",
       "    <tr>\n",
       "      <th>Strategy</th>\n",
       "      <td>0.060</td>\n",
       "    </tr>\n",
       "    <tr>\n",
       "      <th>Puzzle</th>\n",
       "      <td>0.045</td>\n",
       "    </tr>\n",
       "    <tr>\n",
       "      <th>Adventure</th>\n",
       "      <td>0.030</td>\n",
       "    </tr>\n",
       "  </tbody>\n",
       "</table>\n",
       "</div>"
      ],
      "text/plain": [
       "              total_sales\n",
       "genre                    \n",
       "Shooter             0.515\n",
       "Sports              0.180\n",
       "Platform            0.140\n",
       "Fighting            0.125\n",
       "Role-Playing        0.110\n",
       "Simulation          0.100\n",
       "Action              0.090\n",
       "Misc                0.090\n",
       "Racing              0.090\n",
       "Strategy            0.060\n",
       "Puzzle              0.045\n",
       "Adventure           0.030"
      ]
     },
     "execution_count": 56,
     "metadata": {},
     "output_type": "execute_result"
    }
   ],
   "source": [
    "df_main.pivot_table(index='genre', values='total_sales', aggfunc='median').sort_values('total_sales', ascending=False)"
   ]
  },
  {
   "cell_type": "markdown",
   "metadata": {},
   "source": [
    "**Промежуточные выводы**\n",
    "1. Больше всего игр было выпущено в 2008-2009 году.Первый квартиль - 2003г, третий: 2010г. Среднее значение - 2006г, медиана 2007г.\n",
    "2. Средняя продолжительность сущестования платформы 10лет.\n",
    "3. Платформы лидеры по продажам - это PS4, XOne, WiiU.\n",
    "4. Между оценкой пользователей и объемом продаж нет взаимосвязи(исключение WiiU), а между оценкой критиков и объмом продаж есть слабая корреляция.\n",
    "5. С большим отрывом по количеству игр лидирует жанр Action. Далее идут Role-Playing и Adventure. По стабильности продаж лидирует жанр Action"
   ]
  },
  {
   "cell_type": "markdown",
   "metadata": {},
   "source": [
    "<div class=\"alert alert-success\">\n",
    "<h2> Комментарий ревьюера 😊<a class=\"tocSkip\"> </h2>\n",
    "\n",
    "Отлично, что есть промежуточный вывод по блоку)"
   ]
  },
  {
   "cell_type": "markdown",
   "metadata": {},
   "source": [
    "## Составление портрета пользователя каждого региона"
   ]
  },
  {
   "cell_type": "markdown",
   "metadata": {},
   "source": [
    "Составим топ-5 по популярности платформы для каждого региона"
   ]
  },
  {
   "cell_type": "code",
   "execution_count": 57,
   "metadata": {},
   "outputs": [
    {
     "data": {
      "text/html": [
       "<div>\n",
       "<style scoped>\n",
       "    .dataframe tbody tr th:only-of-type {\n",
       "        vertical-align: middle;\n",
       "    }\n",
       "\n",
       "    .dataframe tbody tr th {\n",
       "        vertical-align: top;\n",
       "    }\n",
       "\n",
       "    .dataframe thead th {\n",
       "        text-align: right;\n",
       "    }\n",
       "</style>\n",
       "<table border=\"1\" class=\"dataframe\">\n",
       "  <thead>\n",
       "    <tr style=\"text-align: right;\">\n",
       "      <th></th>\n",
       "      <th>na_sales</th>\n",
       "    </tr>\n",
       "    <tr>\n",
       "      <th>platform</th>\n",
       "      <th></th>\n",
       "    </tr>\n",
       "  </thead>\n",
       "  <tbody>\n",
       "    <tr>\n",
       "      <th>PS4</th>\n",
       "      <td>98.61</td>\n",
       "    </tr>\n",
       "    <tr>\n",
       "      <th>XOne</th>\n",
       "      <td>81.27</td>\n",
       "    </tr>\n",
       "    <tr>\n",
       "      <th>X360</th>\n",
       "      <td>28.30</td>\n",
       "    </tr>\n",
       "    <tr>\n",
       "      <th>3DS</th>\n",
       "      <td>22.64</td>\n",
       "    </tr>\n",
       "    <tr>\n",
       "      <th>PS3</th>\n",
       "      <td>22.05</td>\n",
       "    </tr>\n",
       "  </tbody>\n",
       "</table>\n",
       "</div>"
      ],
      "text/plain": [
       "          na_sales\n",
       "platform          \n",
       "PS4          98.61\n",
       "XOne         81.27\n",
       "X360         28.30\n",
       "3DS          22.64\n",
       "PS3          22.05"
      ]
     },
     "execution_count": 57,
     "metadata": {},
     "output_type": "execute_result"
    }
   ],
   "source": [
    "(\n",
    "df_main\n",
    "    .pivot_table(index='platform', values='na_sales', aggfunc=sum)\n",
    "    .sort_values('na_sales', ascending=False)\n",
    "    .head()\n",
    ")"
   ]
  },
  {
   "cell_type": "code",
   "execution_count": 58,
   "metadata": {},
   "outputs": [
    {
     "data": {
      "text/html": [
       "<div>\n",
       "<style scoped>\n",
       "    .dataframe tbody tr th:only-of-type {\n",
       "        vertical-align: middle;\n",
       "    }\n",
       "\n",
       "    .dataframe tbody tr th {\n",
       "        vertical-align: top;\n",
       "    }\n",
       "\n",
       "    .dataframe thead th {\n",
       "        text-align: right;\n",
       "    }\n",
       "</style>\n",
       "<table border=\"1\" class=\"dataframe\">\n",
       "  <thead>\n",
       "    <tr style=\"text-align: right;\">\n",
       "      <th></th>\n",
       "      <th>eu_sales</th>\n",
       "    </tr>\n",
       "    <tr>\n",
       "      <th>platform</th>\n",
       "      <th></th>\n",
       "    </tr>\n",
       "  </thead>\n",
       "  <tbody>\n",
       "    <tr>\n",
       "      <th>PS4</th>\n",
       "      <td>130.04</td>\n",
       "    </tr>\n",
       "    <tr>\n",
       "      <th>XOne</th>\n",
       "      <td>46.25</td>\n",
       "    </tr>\n",
       "    <tr>\n",
       "      <th>PS3</th>\n",
       "      <td>25.54</td>\n",
       "    </tr>\n",
       "    <tr>\n",
       "      <th>PC</th>\n",
       "      <td>17.97</td>\n",
       "    </tr>\n",
       "    <tr>\n",
       "      <th>3DS</th>\n",
       "      <td>16.12</td>\n",
       "    </tr>\n",
       "  </tbody>\n",
       "</table>\n",
       "</div>"
      ],
      "text/plain": [
       "          eu_sales\n",
       "platform          \n",
       "PS4         130.04\n",
       "XOne         46.25\n",
       "PS3          25.54\n",
       "PC           17.97\n",
       "3DS          16.12"
      ]
     },
     "execution_count": 58,
     "metadata": {},
     "output_type": "execute_result"
    }
   ],
   "source": [
    "(\n",
    "df_main\n",
    "    .pivot_table(index='platform', values='eu_sales', aggfunc=sum)\n",
    "    .sort_values('eu_sales', ascending=False)\n",
    "    .head()\n",
    ")"
   ]
  },
  {
   "cell_type": "code",
   "execution_count": 59,
   "metadata": {},
   "outputs": [
    {
     "data": {
      "text/html": [
       "<div>\n",
       "<style scoped>\n",
       "    .dataframe tbody tr th:only-of-type {\n",
       "        vertical-align: middle;\n",
       "    }\n",
       "\n",
       "    .dataframe tbody tr th {\n",
       "        vertical-align: top;\n",
       "    }\n",
       "\n",
       "    .dataframe thead th {\n",
       "        text-align: right;\n",
       "    }\n",
       "</style>\n",
       "<table border=\"1\" class=\"dataframe\">\n",
       "  <thead>\n",
       "    <tr style=\"text-align: right;\">\n",
       "      <th></th>\n",
       "      <th>jp_sales</th>\n",
       "    </tr>\n",
       "    <tr>\n",
       "      <th>platform</th>\n",
       "      <th></th>\n",
       "    </tr>\n",
       "  </thead>\n",
       "  <tbody>\n",
       "    <tr>\n",
       "      <th>3DS</th>\n",
       "      <td>44.24</td>\n",
       "    </tr>\n",
       "    <tr>\n",
       "      <th>PS4</th>\n",
       "      <td>15.02</td>\n",
       "    </tr>\n",
       "    <tr>\n",
       "      <th>PSV</th>\n",
       "      <td>14.54</td>\n",
       "    </tr>\n",
       "    <tr>\n",
       "      <th>PS3</th>\n",
       "      <td>11.22</td>\n",
       "    </tr>\n",
       "    <tr>\n",
       "      <th>WiiU</th>\n",
       "      <td>7.31</td>\n",
       "    </tr>\n",
       "  </tbody>\n",
       "</table>\n",
       "</div>"
      ],
      "text/plain": [
       "          jp_sales\n",
       "platform          \n",
       "3DS          44.24\n",
       "PS4          15.02\n",
       "PSV          14.54\n",
       "PS3          11.22\n",
       "WiiU          7.31"
      ]
     },
     "execution_count": 59,
     "metadata": {},
     "output_type": "execute_result"
    }
   ],
   "source": [
    "(\n",
    "df_main\n",
    "    .pivot_table(index='platform', values='jp_sales', aggfunc=sum)\n",
    "    .sort_values('jp_sales', ascending=False)\n",
    "    .head()\n",
    ")"
   ]
  },
  {
   "cell_type": "markdown",
   "metadata": {},
   "source": [
    "<div class=\"alert alert-block alert-danger\">\n",
    "<h2> Комментарий ревьюера ⛔️<a class=\"tocSkip\"></h2>\n",
    "    <s>\n",
    "Давай добавим визуализацию по каждому пункту)"
   ]
  },
  {
   "cell_type": "code",
   "execution_count": 60,
   "metadata": {},
   "outputs": [
    {
     "data": {
      "image/png": "[encoded data removed]",
      "text/plain": [
       "<Figure size 864x360 with 3 Axes>"
      ]
     },
     "metadata": {},
     "output_type": "display_data"
    }
   ],
   "source": [
    "na = df_main.groupby('platform')['na_sales'].agg(na_sales='sum').nlargest(5, 'na_sales').reset_index()\n",
    "eu = df_main.groupby('platform')['eu_sales'].agg(eu_sales='sum').nlargest(5, 'eu_sales').reset_index()\n",
    "jp = df_main.groupby('platform')['jp_sales'].agg(jp_sales='sum').nlargest(5, 'jp_sales').reset_index()\n",
    "\n",
    "fig, ax = plt.subplots(1, 3, figsize=(12, 5))\n",
    "fig.suptitle('Топ-5 платформ по регионам')\n",
    "\n",
    "sb.barplot(y='na_sales', x='platform', data=na, ax=ax[0], palette='pastel')\n",
    "ax[0].set_title('Северная Америка')\n",
    "ax[0].set_ylabel('Продажи')\n",
    "ax[0].set_xlabel('Платформа')\n",
    "\n",
    "sb.barplot(y='eu_sales', x='platform', data=eu, ax=ax[1], palette='pastel')\n",
    "ax[1].set_title('Европа')\n",
    "ax[1].set_ylabel('Продажи')\n",
    "ax[1].set_xlabel('Платформа')\n",
    "\n",
    "sb.barplot(y='jp_sales', x='platform', data=jp, ax=ax[2], palette='pastel')\n",
    "ax[2].set_title('Япония')\n",
    "ax[2].set_ylabel('Продажи')\n",
    "ax[2].set_xlabel('Платформа')\n",
    "plt.show()"
   ]
  },
  {
   "cell_type": "markdown",
   "metadata": {},
   "source": [
    "<div class=\"alert alert-success\">\n",
    "<h2> Комментарий ревьюера 😊 v_2 <a class=\"tocSkip\"> </h2>\n",
    "\n",
    "Замечательная работа с визуализацией)"
   ]
  },
  {
   "cell_type": "markdown",
   "metadata": {},
   "source": [
    "**Вывод:** В Северной Америке и Европе лидируют PS4 и XOne, в Японии лидирует 3DS(возможно это связано с особым к платформе в данном регионе)\n"
   ]
  },
  {
   "cell_type": "markdown",
   "metadata": {},
   "source": [
    "### Топ-5 по популярности жанров в каждом регионе"
   ]
  },
  {
   "cell_type": "code",
   "execution_count": 61,
   "metadata": {},
   "outputs": [
    {
     "data": {
      "text/html": [
       "<div>\n",
       "<style scoped>\n",
       "    .dataframe tbody tr th:only-of-type {\n",
       "        vertical-align: middle;\n",
       "    }\n",
       "\n",
       "    .dataframe tbody tr th {\n",
       "        vertical-align: top;\n",
       "    }\n",
       "\n",
       "    .dataframe thead th {\n",
       "        text-align: right;\n",
       "    }\n",
       "</style>\n",
       "<table border=\"1\" class=\"dataframe\">\n",
       "  <thead>\n",
       "    <tr style=\"text-align: right;\">\n",
       "      <th></th>\n",
       "      <th>na_sales</th>\n",
       "    </tr>\n",
       "    <tr>\n",
       "      <th>genre</th>\n",
       "      <th></th>\n",
       "    </tr>\n",
       "  </thead>\n",
       "  <tbody>\n",
       "    <tr>\n",
       "      <th>Shooter</th>\n",
       "      <td>79.02</td>\n",
       "    </tr>\n",
       "    <tr>\n",
       "      <th>Action</th>\n",
       "      <td>72.53</td>\n",
       "    </tr>\n",
       "    <tr>\n",
       "      <th>Sports</th>\n",
       "      <td>46.13</td>\n",
       "    </tr>\n",
       "    <tr>\n",
       "      <th>Role-Playing</th>\n",
       "      <td>33.47</td>\n",
       "    </tr>\n",
       "    <tr>\n",
       "      <th>Misc</th>\n",
       "      <td>15.05</td>\n",
       "    </tr>\n",
       "  </tbody>\n",
       "</table>\n",
       "</div>"
      ],
      "text/plain": [
       "              na_sales\n",
       "genre                 \n",
       "Shooter          79.02\n",
       "Action           72.53\n",
       "Sports           46.13\n",
       "Role-Playing     33.47\n",
       "Misc             15.05"
      ]
     },
     "execution_count": 61,
     "metadata": {},
     "output_type": "execute_result"
    }
   ],
   "source": [
    "(\n",
    "df_main\n",
    "    .pivot_table(index='genre', values='na_sales', aggfunc=sum)\n",
    "    .sort_values('na_sales', ascending=False)\n",
    "    .head()\n",
    ")"
   ]
  },
  {
   "cell_type": "code",
   "execution_count": 62,
   "metadata": {},
   "outputs": [
    {
     "data": {
      "text/html": [
       "<div>\n",
       "<style scoped>\n",
       "    .dataframe tbody tr th:only-of-type {\n",
       "        vertical-align: middle;\n",
       "    }\n",
       "\n",
       "    .dataframe tbody tr th {\n",
       "        vertical-align: top;\n",
       "    }\n",
       "\n",
       "    .dataframe thead th {\n",
       "        text-align: right;\n",
       "    }\n",
       "</style>\n",
       "<table border=\"1\" class=\"dataframe\">\n",
       "  <thead>\n",
       "    <tr style=\"text-align: right;\">\n",
       "      <th></th>\n",
       "      <th>eu_sales</th>\n",
       "    </tr>\n",
       "    <tr>\n",
       "      <th>genre</th>\n",
       "      <th></th>\n",
       "    </tr>\n",
       "  </thead>\n",
       "  <tbody>\n",
       "    <tr>\n",
       "      <th>Action</th>\n",
       "      <td>74.68</td>\n",
       "    </tr>\n",
       "    <tr>\n",
       "      <th>Shooter</th>\n",
       "      <td>65.52</td>\n",
       "    </tr>\n",
       "    <tr>\n",
       "      <th>Sports</th>\n",
       "      <td>45.73</td>\n",
       "    </tr>\n",
       "    <tr>\n",
       "      <th>Role-Playing</th>\n",
       "      <td>28.17</td>\n",
       "    </tr>\n",
       "    <tr>\n",
       "      <th>Racing</th>\n",
       "      <td>14.13</td>\n",
       "    </tr>\n",
       "  </tbody>\n",
       "</table>\n",
       "</div>"
      ],
      "text/plain": [
       "              eu_sales\n",
       "genre                 \n",
       "Action           74.68\n",
       "Shooter          65.52\n",
       "Sports           45.73\n",
       "Role-Playing     28.17\n",
       "Racing           14.13"
      ]
     },
     "execution_count": 62,
     "metadata": {},
     "output_type": "execute_result"
    }
   ],
   "source": [
    "(\n",
    "df_main\n",
    "    .pivot_table(index='genre', values='eu_sales', aggfunc=sum)\n",
    "    .sort_values('eu_sales', ascending=False)\n",
    "    .head()\n",
    ")"
   ]
  },
  {
   "cell_type": "code",
   "execution_count": 63,
   "metadata": {},
   "outputs": [
    {
     "data": {
      "text/html": [
       "<div>\n",
       "<style scoped>\n",
       "    .dataframe tbody tr th:only-of-type {\n",
       "        vertical-align: middle;\n",
       "    }\n",
       "\n",
       "    .dataframe tbody tr th {\n",
       "        vertical-align: top;\n",
       "    }\n",
       "\n",
       "    .dataframe thead th {\n",
       "        text-align: right;\n",
       "    }\n",
       "</style>\n",
       "<table border=\"1\" class=\"dataframe\">\n",
       "  <thead>\n",
       "    <tr style=\"text-align: right;\">\n",
       "      <th></th>\n",
       "      <th>jp_sales</th>\n",
       "    </tr>\n",
       "    <tr>\n",
       "      <th>genre</th>\n",
       "      <th></th>\n",
       "    </tr>\n",
       "  </thead>\n",
       "  <tbody>\n",
       "    <tr>\n",
       "      <th>Role-Playing</th>\n",
       "      <td>31.16</td>\n",
       "    </tr>\n",
       "    <tr>\n",
       "      <th>Action</th>\n",
       "      <td>29.58</td>\n",
       "    </tr>\n",
       "    <tr>\n",
       "      <th>Fighting</th>\n",
       "      <td>6.37</td>\n",
       "    </tr>\n",
       "    <tr>\n",
       "      <th>Misc</th>\n",
       "      <td>5.61</td>\n",
       "    </tr>\n",
       "    <tr>\n",
       "      <th>Shooter</th>\n",
       "      <td>4.87</td>\n",
       "    </tr>\n",
       "  </tbody>\n",
       "</table>\n",
       "</div>"
      ],
      "text/plain": [
       "              jp_sales\n",
       "genre                 \n",
       "Role-Playing     31.16\n",
       "Action           29.58\n",
       "Fighting          6.37\n",
       "Misc              5.61\n",
       "Shooter           4.87"
      ]
     },
     "execution_count": 63,
     "metadata": {},
     "output_type": "execute_result"
    }
   ],
   "source": [
    "(\n",
    "df_main\n",
    "    .pivot_table(index='genre', values='jp_sales', aggfunc=sum)\n",
    "    .sort_values('jp_sales', ascending=False)\n",
    "    .head()\n",
    ")"
   ]
  },
  {
   "cell_type": "code",
   "execution_count": 64,
   "metadata": {},
   "outputs": [
    {
     "data": {
      "image/png": "[encoded data removed]",
      "text/plain": [
       "<Figure size 1080x504 with 3 Axes>"
      ]
     },
     "metadata": {},
     "output_type": "display_data"
    }
   ],
   "source": [
    "na = df_main.groupby('genre')['na_sales'].agg(na_sales='sum').nlargest(5, 'na_sales').reset_index()\n",
    "eu = df_main.groupby('genre')['eu_sales'].agg(eu_sales='sum').nlargest(5, 'eu_sales').reset_index()\n",
    "jp = df_main.groupby('genre')['jp_sales'].agg(jp_sales='sum').nlargest(5, 'jp_sales').reset_index()\n",
    "\n",
    "fig, ax = plt.subplots(1, 3, figsize=(15, 7))\n",
    "fig.suptitle('Топ-5 жанров по регионам')\n",
    "\n",
    "sb.barplot(y='na_sales', x='genre', data=na, ax=ax[0], palette='pastel')\n",
    "ax[0].set_title('Северная Америка')\n",
    "ax[0].set_ylabel('Продажи')\n",
    "ax[0].set_xlabel('Платформа')\n",
    "\n",
    "sb.barplot(y='eu_sales', x='genre', data=eu, ax=ax[1], palette='pastel')\n",
    "ax[1].set_title('Европа')\n",
    "ax[1].set_ylabel('Продажи')\n",
    "ax[1].set_xlabel('Платформа')\n",
    "\n",
    "sb.barplot(y='jp_sales', x='genre', data=jp, ax=ax[2], palette='pastel')\n",
    "ax[2].set_title('Япония')\n",
    "ax[2].set_ylabel('Продажи')\n",
    "ax[2].set_xlabel('Платформа')\n",
    "plt.show()"
   ]
  },
  {
   "cell_type": "markdown",
   "metadata": {},
   "source": [
    "**Вывод:** В Северной Америке и Европе лидируют жанры Action и Shooter, в Японии же лидирует Role-Playing, жанр Action на втором месте"
   ]
  },
  {
   "cell_type": "markdown",
   "metadata": {},
   "source": [
    "### Влияние рейтинга ESRB на продажи в отдельном регионе"
   ]
  },
  {
   "cell_type": "code",
   "execution_count": 65,
   "metadata": {},
   "outputs": [
    {
     "data": {
      "text/html": [
       "<div>\n",
       "<style scoped>\n",
       "    .dataframe tbody tr th:only-of-type {\n",
       "        vertical-align: middle;\n",
       "    }\n",
       "\n",
       "    .dataframe tbody tr th {\n",
       "        vertical-align: top;\n",
       "    }\n",
       "\n",
       "    .dataframe thead th {\n",
       "        text-align: right;\n",
       "    }\n",
       "</style>\n",
       "<table border=\"1\" class=\"dataframe\">\n",
       "  <thead>\n",
       "    <tr style=\"text-align: right;\">\n",
       "      <th></th>\n",
       "      <th>na_sales</th>\n",
       "    </tr>\n",
       "    <tr>\n",
       "      <th>rating</th>\n",
       "      <th></th>\n",
       "    </tr>\n",
       "  </thead>\n",
       "  <tbody>\n",
       "    <tr>\n",
       "      <th>M</th>\n",
       "      <td>96.42</td>\n",
       "    </tr>\n",
       "    <tr>\n",
       "      <th>Unknown</th>\n",
       "      <td>64.72</td>\n",
       "    </tr>\n",
       "    <tr>\n",
       "      <th>E</th>\n",
       "      <td>50.74</td>\n",
       "    </tr>\n",
       "    <tr>\n",
       "      <th>T</th>\n",
       "      <td>38.95</td>\n",
       "    </tr>\n",
       "    <tr>\n",
       "      <th>E10+</th>\n",
       "      <td>33.23</td>\n",
       "    </tr>\n",
       "  </tbody>\n",
       "</table>\n",
       "</div>"
      ],
      "text/plain": [
       "         na_sales\n",
       "rating           \n",
       "M           96.42\n",
       "Unknown     64.72\n",
       "E           50.74\n",
       "T           38.95\n",
       "E10+        33.23"
      ]
     },
     "execution_count": 65,
     "metadata": {},
     "output_type": "execute_result"
    }
   ],
   "source": [
    "(\n",
    "df_main\n",
    "    .pivot_table(index=['rating'], values='na_sales', aggfunc=sum)\n",
    "    .sort_values('na_sales', ascending=False)\n",
    "    .head()\n",
    ")"
   ]
  },
  {
   "cell_type": "code",
   "execution_count": 66,
   "metadata": {},
   "outputs": [
    {
     "data": {
      "text/html": [
       "<div>\n",
       "<style scoped>\n",
       "    .dataframe tbody tr th:only-of-type {\n",
       "        vertical-align: middle;\n",
       "    }\n",
       "\n",
       "    .dataframe tbody tr th {\n",
       "        vertical-align: top;\n",
       "    }\n",
       "\n",
       "    .dataframe thead th {\n",
       "        text-align: right;\n",
       "    }\n",
       "</style>\n",
       "<table border=\"1\" class=\"dataframe\">\n",
       "  <thead>\n",
       "    <tr style=\"text-align: right;\">\n",
       "      <th></th>\n",
       "      <th>eu_sales</th>\n",
       "    </tr>\n",
       "    <tr>\n",
       "      <th>rating</th>\n",
       "      <th></th>\n",
       "    </tr>\n",
       "  </thead>\n",
       "  <tbody>\n",
       "    <tr>\n",
       "      <th>M</th>\n",
       "      <td>93.44</td>\n",
       "    </tr>\n",
       "    <tr>\n",
       "      <th>Unknown</th>\n",
       "      <td>58.95</td>\n",
       "    </tr>\n",
       "    <tr>\n",
       "      <th>E</th>\n",
       "      <td>58.06</td>\n",
       "    </tr>\n",
       "    <tr>\n",
       "      <th>T</th>\n",
       "      <td>34.07</td>\n",
       "    </tr>\n",
       "    <tr>\n",
       "      <th>E10+</th>\n",
       "      <td>26.16</td>\n",
       "    </tr>\n",
       "  </tbody>\n",
       "</table>\n",
       "</div>"
      ],
      "text/plain": [
       "         eu_sales\n",
       "rating           \n",
       "M           93.44\n",
       "Unknown     58.95\n",
       "E           58.06\n",
       "T           34.07\n",
       "E10+        26.16"
      ]
     },
     "execution_count": 66,
     "metadata": {},
     "output_type": "execute_result"
    }
   ],
   "source": [
    "(\n",
    "df_main\n",
    "    .pivot_table(index=['rating'], values='eu_sales', aggfunc=sum)\n",
    "    .sort_values('eu_sales', ascending=False)\n",
    "    .head()\n",
    ")"
   ]
  },
  {
   "cell_type": "code",
   "execution_count": 67,
   "metadata": {},
   "outputs": [
    {
     "data": {
      "text/html": [
       "<div>\n",
       "<style scoped>\n",
       "    .dataframe tbody tr th:only-of-type {\n",
       "        vertical-align: middle;\n",
       "    }\n",
       "\n",
       "    .dataframe tbody tr th {\n",
       "        vertical-align: top;\n",
       "    }\n",
       "\n",
       "    .dataframe thead th {\n",
       "        text-align: right;\n",
       "    }\n",
       "</style>\n",
       "<table border=\"1\" class=\"dataframe\">\n",
       "  <thead>\n",
       "    <tr style=\"text-align: right;\">\n",
       "      <th></th>\n",
       "      <th>jp_sales</th>\n",
       "    </tr>\n",
       "    <tr>\n",
       "      <th>rating</th>\n",
       "      <th></th>\n",
       "    </tr>\n",
       "  </thead>\n",
       "  <tbody>\n",
       "    <tr>\n",
       "      <th>Unknown</th>\n",
       "      <td>56.90</td>\n",
       "    </tr>\n",
       "    <tr>\n",
       "      <th>T</th>\n",
       "      <td>14.78</td>\n",
       "    </tr>\n",
       "    <tr>\n",
       "      <th>E</th>\n",
       "      <td>8.94</td>\n",
       "    </tr>\n",
       "    <tr>\n",
       "      <th>M</th>\n",
       "      <td>8.01</td>\n",
       "    </tr>\n",
       "    <tr>\n",
       "      <th>E10+</th>\n",
       "      <td>4.46</td>\n",
       "    </tr>\n",
       "  </tbody>\n",
       "</table>\n",
       "</div>"
      ],
      "text/plain": [
       "         jp_sales\n",
       "rating           \n",
       "Unknown     56.90\n",
       "T           14.78\n",
       "E            8.94\n",
       "M            8.01\n",
       "E10+         4.46"
      ]
     },
     "execution_count": 67,
     "metadata": {},
     "output_type": "execute_result"
    }
   ],
   "source": [
    "(\n",
    "df_main\n",
    "    .pivot_table(index=['rating'], values='jp_sales', aggfunc=sum)\n",
    "    .sort_values('jp_sales', ascending=False)\n",
    "    .head(10)\n",
    ")"
   ]
  },
  {
   "cell_type": "code",
   "execution_count": 68,
   "metadata": {},
   "outputs": [
    {
     "data": {
      "image/png": "[encoded data removed]",
      "text/plain": [
       "<Figure size 1080x504 with 3 Axes>"
      ]
     },
     "metadata": {},
     "output_type": "display_data"
    }
   ],
   "source": [
    "na = df_main.groupby('rating')['na_sales'].agg(na_sales='sum').nlargest(5, 'na_sales').reset_index()\n",
    "eu = df_main.groupby('rating')['eu_sales'].agg(eu_sales='sum').nlargest(5, 'eu_sales').reset_index()\n",
    "jp = df_main.groupby('rating')['jp_sales'].agg(jp_sales='sum').nlargest(5, 'jp_sales').reset_index()\n",
    "\n",
    "fig, ax = plt.subplots(1, 3, figsize=(15, 7))\n",
    "fig.suptitle('Топ-5 возрастного рейтинга по регионам')\n",
    "\n",
    "sb.barplot(y='na_sales', x='rating', data=na, ax=ax[0], palette='pastel')\n",
    "ax[0].set_title('Северная Америка')\n",
    "ax[0].set_ylabel('Продажи')\n",
    "ax[0].set_xlabel('Платформа')\n",
    "\n",
    "sb.barplot(y='eu_sales', x='rating', data=eu, ax=ax[1], palette='pastel')\n",
    "ax[1].set_title('Европа')\n",
    "ax[1].set_ylabel('Продажи')\n",
    "ax[1].set_xlabel('Платформа')\n",
    "\n",
    "sb.barplot(y='jp_sales', x='rating', data=jp, ax=ax[2], palette='pastel')\n",
    "ax[2].set_title('Япония')\n",
    "ax[2].set_ylabel('Продажи')\n",
    "ax[2].set_xlabel('Платформа')\n",
    "plt.show()"
   ]
  },
  {
   "cell_type": "markdown",
   "metadata": {},
   "source": [
    "<div class=\"alert alert-block alert-danger\">\n",
    "<h2> Комментарий ревьюера ⛔️<a class=\"tocSkip\"></h2>\n",
    "    <s>\n",
    "Нужно изучить рейтинги без группировки по платформам."
   ]
  },
  {
   "cell_type": "markdown",
   "metadata": {},
   "source": [
    "<div class=\"alert alert-success\">\n",
    "<h2> Комментарий ревьюера 😊 v_2 <a class=\"tocSkip\"> </h2>\n",
    "\n",
    "👍"
   ]
  },
  {
   "cell_type": "markdown",
   "metadata": {},
   "source": [
    "**Промежуточный выводы:** В Северной Америке и Европе лидируют рейтинг M, в Японии же у самых популярных платформ отсутствует рейтинг (возможно это связано с тем, что в Японии много игр собственного производства, а маркировка происходит со стороны Америки)"
   ]
  },
  {
   "cell_type": "markdown",
   "metadata": {},
   "source": [
    "#### Вывод"
   ]
  },
  {
   "cell_type": "markdown",
   "metadata": {},
   "source": [
    "1. В Северной Америке и Европе предпочитают PS4 и XOne, в Японии же акцент сделан на 3DS\n",
    "2. В Северной Америке почти в равных количествах покупают игры на платформы PS4 и XOne, в Европе же больше покупают на PS4\n",
    "3. В Северной Америке и Европе лидируют жанры Action и Shooter, в Японии же лидирует Role-Playing\n",
    "4. Самый популярный жанр - Action\n",
    "5. В Северной Америке и Европе наиболее популярный рейтинг M. В Японии же у самых популярных платформ отсутствует рейтинг"
   ]
  },
  {
   "cell_type": "markdown",
   "metadata": {},
   "source": [
    "<div class=\"alert alert-success\">\n",
    "<h2> Комментарий ревьюера 😊<a class=\"tocSkip\"> </h2>\n",
    "\n",
    "Портреты составлены верно, прекрасная работа)"
   ]
  },
  {
   "cell_type": "markdown",
   "metadata": {},
   "source": [
    "## Общий вывод"
   ]
  },
  {
   "cell_type": "markdown",
   "metadata": {},
   "source": [
    "1. Больше всего игр было выпущено в 2008-2009 году.Первый квартиль - 2003г, третий: 2010г. Среднее значение - 2006г, медиана 2007г.\n",
    "2. Средняя продолжительность сущестования платформы 10лет.\n",
    "3. Платформы лидеры по продажам - это PS4, XOne, WiiU.\n",
    "4. Между оценкой пользователей и объемом продаж нет взаимосвязи(исключение WiiU), а между оценкой критиков и объмом продаж есть слабая корреляция.\n",
    "5. С большим отрывом по количеству игр лидирует жанр Action. Далее идут Role-Playing и Adventure. По продажам лидируют жанры Action и Shooter.\n",
    "6. В Северной Америке и Европе предпочитают PS4 и XOne, в Японии же акцент сделан на 3DS\n",
    "7. В Северной Америке почти в равных количествах покупают игры на платформы PS4 и XOne, в Европе же больше покупают на PS4\n",
    "8. В Северной Америке и Европе лидируют жанры Action и Shooter, в Японии же лидирует Role-Playing\n",
    "9. Самый популярный жанр - Action\n",
    "10. В Северной Америке и Европе наиболее популярный рейтинг M. В Японии же у самых популярных платформ отсутствует рейтинг(возможно, это специфика рынка)\n"
   ]
  },
  {
   "cell_type": "markdown",
   "metadata": {},
   "source": [
    "<div class=\"alert alert-block alert-danger\">\n",
    "<h2> Комментарий ревьюера ⛔️<a class=\"tocSkip\"></h2>\n",
    "   <s>\n",
    "Таккак главная цель проекта составление прогноза на 2017 год, давай дополним вывод рекомендациями заказчику)</div>"
   ]
  },
  {
   "cell_type": "markdown",
   "metadata": {},
   "source": [
    "<div class=\"alert alert-success\">\n",
    "<h2> Комментарий ревьюера 😊 v_2 <a class=\"tocSkip\"> </h2>\n",
    "\n",
    "Отлично)"
   ]
  },
  {
   "cell_type": "markdown",
   "metadata": {},
   "source": [
    "Рекомендации для 2017 года: В Северной Америке и Европе болиший акцент сделать на платформы PS4 и XOne с возрастной категорией M, выбрав стабильный жанр игры Action. В Японии же акцент сделать на 3DS(возрастная категория может быть выбрана - T. Жанр игры выбрать Action)"
   ]
  },
  {
   "cell_type": "markdown",
   "metadata": {},
   "source": [
    "<div style=\"border:solid Purple 2px; padding: 40px\">\n",
    "\n",
    "<h2> Общий комментарий ревьюера 😊 v_2<a class=\"tocSkip\"> </h2>\n",
    "    <br/>\n",
    "Ильдар, спасибо за проект! Успехов в дальнейшем обучении!)\n",
    "    "
   ]
  },
  {
   "cell_type": "markdown",
   "metadata": {},
   "source": [
    "<div style=\"border:solid Purple 2px; padding: 40px\">\n",
    "\n",
    "<h2> Общий комментарий ревьюера 😊<a class=\"tocSkip\"> </h2>\n",
    "    <br/>\n",
    "Ты проделал отличную работу, основные задачи выполнены. Хочу отметить анализ боксплотов и корреляционный анализ, работу со сводными таблицами и функциями  с циклами. Молодец, осталось совсем немного доработать)\n",
    "\n",
    "Необходимо доработать:\n",
    "    \n",
    "* Добавить визуализацию\n",
    "* Проверкана неявные дубликаты\n",
    "* Дополнить выводы\n",
    "* Подобнее рассмотреть распределение игр по жанрам\n",
    "* Остальные комментарии ты найдешь в работе\n",
    "\n",
    "**Желаю удачи и жду твой проект на повторное ревью! Если у тебя вдруг есть какие–либо вопросы, то я с радостью отвечу на них 😊**\n",
    "\n",
    "Также оставлю дополнительный материал по визуализации, если будет интересно:\n",
    "    \n",
    "\n",
    "* книга Александра Богачева [Графики, которые убеждают всех](https://book24.ru/product/grafiki-kotorye-ubezhdayut-vsekh-5873820/)\n",
    "* [cheatsheet по визуализации](https://extremepresentation.typepad.com/.a/6a00d8341bfd2e53ef0111683a7591970c-pi)\n",
    "* бесплатный курс от Яндекс.Практикум [Визуальныe презентации](https://practicum.yandex.ru/visual-presentation/)\n",
    "* Формат таблиц в pandas с помощью style. В том числе цветовое выделение. (https://habr.com/ru/post/521894/)\n",
    "* Основные компоненты matplotlib (https://pyprog.pro/mpl/mpl_main_components.html)\n",
    "* 50 оттенков matplotlib — The Master Plots (с полным кодом на Python) (https://habr.com/ru/post/468295/)\n",
    "* Построение графиков с использованием двух осей. (https://matplotlib.org/stable/gallery/subplots_axes_and_figures/two_scales.html)\n",
    "* Сайт, подробно представлюящий практически все типы визуализаций. (https://datavizproject.com/)\n",
    "* Шпаргалка по визуализации данных в Python с помощью Plotly (https://habr.com/ru/post/502958/)\n",
    "</div> "
   ]
  },
  {
   "cell_type": "code",
   "execution_count": null,
   "metadata": {},
   "outputs": [],
   "source": []
  }
 ],
 "metadata": {
  "ExecuteTimeLog": [
   {
    "duration": 414,
    "start_time": "2024-08-30T11:21:19.803Z"
   },
   {
    "duration": 240,
    "start_time": "2024-08-30T11:21:21.947Z"
   },
   {
    "duration": 73,
    "start_time": "2024-08-30T11:21:31.854Z"
   },
   {
    "duration": 77,
    "start_time": "2024-08-30T11:21:59.886Z"
   },
   {
    "duration": 15,
    "start_time": "2024-08-30T11:27:48.653Z"
   },
   {
    "duration": 93,
    "start_time": "2024-08-30T11:44:28.058Z"
   },
   {
    "duration": 3,
    "start_time": "2024-08-30T11:55:10.842Z"
   },
   {
    "duration": 20,
    "start_time": "2024-08-30T11:58:18.437Z"
   },
   {
    "duration": 7,
    "start_time": "2024-08-30T12:03:46.462Z"
   },
   {
    "duration": 9,
    "start_time": "2024-08-30T12:03:57.383Z"
   },
   {
    "duration": 1216,
    "start_time": "2024-08-30T12:04:41.846Z"
   },
   {
    "duration": 161,
    "start_time": "2024-08-30T12:06:08.760Z"
   },
   {
    "duration": 16,
    "start_time": "2024-08-30T12:11:46.075Z"
   },
   {
    "duration": 65,
    "start_time": "2024-08-30T12:12:48.289Z"
   },
   {
    "duration": 18,
    "start_time": "2024-08-30T12:14:51.210Z"
   },
   {
    "duration": 88,
    "start_time": "2024-08-30T12:15:48.146Z"
   },
   {
    "duration": 20,
    "start_time": "2024-08-30T12:17:12.612Z"
   },
   {
    "duration": 22,
    "start_time": "2024-08-30T12:18:16.065Z"
   },
   {
    "duration": 10,
    "start_time": "2024-08-30T12:21:26.143Z"
   },
   {
    "duration": 15,
    "start_time": "2024-08-30T12:21:26.718Z"
   },
   {
    "duration": 62,
    "start_time": "2024-08-30T12:23:33.410Z"
   },
   {
    "duration": 9,
    "start_time": "2024-08-30T12:24:10.435Z"
   },
   {
    "duration": 70,
    "start_time": "2024-08-30T12:31:15.398Z"
   },
   {
    "duration": 76,
    "start_time": "2024-08-30T12:32:15.477Z"
   },
   {
    "duration": 8,
    "start_time": "2024-08-30T12:33:18.877Z"
   },
   {
    "duration": 8,
    "start_time": "2024-08-30T12:33:20.427Z"
   },
   {
    "duration": 14,
    "start_time": "2024-08-30T12:34:00.075Z"
   },
   {
    "duration": 7,
    "start_time": "2024-08-30T12:53:06.486Z"
   },
   {
    "duration": 5,
    "start_time": "2024-08-30T12:54:52.056Z"
   },
   {
    "duration": 8,
    "start_time": "2024-08-30T12:55:13.881Z"
   },
   {
    "duration": 8,
    "start_time": "2024-08-30T12:56:06.521Z"
   },
   {
    "duration": 9,
    "start_time": "2024-08-30T12:56:43.355Z"
   },
   {
    "duration": 1245,
    "start_time": "2024-08-30T12:57:00.037Z"
   },
   {
    "duration": 5,
    "start_time": "2024-08-30T12:57:13.005Z"
   },
   {
    "duration": 6,
    "start_time": "2024-08-30T12:57:18.005Z"
   },
   {
    "duration": 5,
    "start_time": "2024-08-30T12:57:23.467Z"
   },
   {
    "duration": 5,
    "start_time": "2024-08-30T12:57:31.366Z"
   },
   {
    "duration": 5,
    "start_time": "2024-08-30T12:57:38.223Z"
   },
   {
    "duration": 170,
    "start_time": "2024-08-30T13:03:19.256Z"
   },
   {
    "duration": 6,
    "start_time": "2024-08-30T13:03:43.742Z"
   },
   {
    "duration": 10,
    "start_time": "2024-08-30T13:04:26.967Z"
   },
   {
    "duration": 58,
    "start_time": "2024-08-30T13:05:18.299Z"
   },
   {
    "duration": 3,
    "start_time": "2024-08-30T13:07:05.170Z"
   },
   {
    "duration": 2,
    "start_time": "2024-08-30T13:07:19.609Z"
   },
   {
    "duration": 7,
    "start_time": "2024-08-30T13:09:50.751Z"
   },
   {
    "duration": 10,
    "start_time": "2024-08-30T13:10:25.171Z"
   },
   {
    "duration": 5,
    "start_time": "2024-08-30T13:10:35.017Z"
   },
   {
    "duration": 9,
    "start_time": "2024-08-30T13:10:36.297Z"
   },
   {
    "duration": 5,
    "start_time": "2024-08-30T13:14:58.906Z"
   },
   {
    "duration": 9,
    "start_time": "2024-08-30T13:14:59.429Z"
   },
   {
    "duration": 77,
    "start_time": "2024-08-30T13:21:17.010Z"
   },
   {
    "duration": 7,
    "start_time": "2024-08-30T13:21:36.130Z"
   },
   {
    "duration": 5,
    "start_time": "2024-08-30T13:31:47.589Z"
   },
   {
    "duration": 7,
    "start_time": "2024-08-30T13:31:50.450Z"
   },
   {
    "duration": 5,
    "start_time": "2024-08-30T15:09:16.336Z"
   },
   {
    "duration": 33,
    "start_time": "2024-08-30T15:09:25.798Z"
   },
   {
    "duration": 14,
    "start_time": "2024-08-30T15:09:59.426Z"
   },
   {
    "duration": 3,
    "start_time": "2024-08-30T15:11:56.399Z"
   },
   {
    "duration": 3,
    "start_time": "2024-08-30T15:23:54.092Z"
   },
   {
    "duration": 4,
    "start_time": "2024-08-30T15:24:09.456Z"
   },
   {
    "duration": 5,
    "start_time": "2024-08-30T15:27:56.412Z"
   },
   {
    "duration": 15,
    "start_time": "2024-08-30T15:28:37.712Z"
   },
   {
    "duration": 26,
    "start_time": "2024-08-30T15:29:17.010Z"
   },
   {
    "duration": 25,
    "start_time": "2024-08-30T15:29:26.165Z"
   },
   {
    "duration": 29,
    "start_time": "2024-08-30T15:29:38.355Z"
   },
   {
    "duration": 16,
    "start_time": "2024-08-30T15:29:47.236Z"
   },
   {
    "duration": 6,
    "start_time": "2024-08-30T15:37:29.409Z"
   },
   {
    "duration": 564,
    "start_time": "2024-08-30T16:11:46.005Z"
   },
   {
    "duration": 11,
    "start_time": "2024-08-30T16:14:11.435Z"
   },
   {
    "duration": 120,
    "start_time": "2024-08-30T16:14:57.832Z"
   },
   {
    "duration": 38,
    "start_time": "2024-08-30T16:19:41.695Z"
   },
   {
    "duration": 314,
    "start_time": "2024-08-30T16:19:59.780Z"
   },
   {
    "duration": 373,
    "start_time": "2024-08-30T16:20:07.291Z"
   },
   {
    "duration": 7,
    "start_time": "2024-08-30T16:22:19.427Z"
   },
   {
    "duration": 24,
    "start_time": "2024-08-30T16:22:21.633Z"
   },
   {
    "duration": 9,
    "start_time": "2024-08-30T16:22:43.200Z"
   },
   {
    "duration": 6,
    "start_time": "2024-08-30T16:23:04.304Z"
   },
   {
    "duration": 6,
    "start_time": "2024-08-30T16:23:14.630Z"
   },
   {
    "duration": 281,
    "start_time": "2024-08-30T16:26:54.978Z"
   },
   {
    "duration": 494,
    "start_time": "2024-08-30T16:27:15.381Z"
   },
   {
    "duration": 314,
    "start_time": "2024-08-30T16:27:31.059Z"
   },
   {
    "duration": 64,
    "start_time": "2024-08-30T16:28:55.026Z"
   },
   {
    "duration": 15,
    "start_time": "2024-08-30T16:29:02.822Z"
   },
   {
    "duration": 1005,
    "start_time": "2024-08-30T16:29:22.363Z"
   },
   {
    "duration": 348,
    "start_time": "2024-08-30T16:29:35.730Z"
   },
   {
    "duration": 19,
    "start_time": "2024-08-30T16:37:38.859Z"
   },
   {
    "duration": 4,
    "start_time": "2024-08-30T16:38:05.004Z"
   },
   {
    "duration": 5,
    "start_time": "2024-08-30T16:40:47.893Z"
   },
   {
    "duration": 18,
    "start_time": "2024-08-30T16:41:17.980Z"
   },
   {
    "duration": 41,
    "start_time": "2024-08-30T16:41:58.819Z"
   },
   {
    "duration": 8,
    "start_time": "2024-08-30T16:46:20.819Z"
   },
   {
    "duration": 356,
    "start_time": "2024-08-30T16:52:41.782Z"
   },
   {
    "duration": 991,
    "start_time": "2024-08-30T16:53:43.748Z"
   },
   {
    "duration": 967,
    "start_time": "2024-08-30T16:53:53.786Z"
   },
   {
    "duration": 12,
    "start_time": "2024-08-30T16:54:02.785Z"
   },
   {
    "duration": 12,
    "start_time": "2024-08-30T16:54:08.727Z"
   },
   {
    "duration": 12,
    "start_time": "2024-08-30T16:54:12.899Z"
   },
   {
    "duration": 11,
    "start_time": "2024-08-30T16:54:22.267Z"
   },
   {
    "duration": 13,
    "start_time": "2024-08-30T17:33:03.554Z"
   },
   {
    "duration": 9,
    "start_time": "2024-08-30T17:36:57.280Z"
   },
   {
    "duration": 16,
    "start_time": "2024-08-30T17:37:42.590Z"
   },
   {
    "duration": 17,
    "start_time": "2024-08-30T17:38:26.058Z"
   },
   {
    "duration": 6,
    "start_time": "2024-08-30T17:42:55.805Z"
   },
   {
    "duration": 8,
    "start_time": "2024-08-30T17:43:04.025Z"
   },
   {
    "duration": 4,
    "start_time": "2024-08-30T17:51:07.980Z"
   },
   {
    "duration": 1266,
    "start_time": "2024-08-30T17:51:27.451Z"
   },
   {
    "duration": 4,
    "start_time": "2024-08-30T17:52:19.388Z"
   },
   {
    "duration": 1117,
    "start_time": "2024-08-30T17:53:36.786Z"
   },
   {
    "duration": 4,
    "start_time": "2024-08-30T17:54:08.025Z"
   },
   {
    "duration": 1031,
    "start_time": "2024-08-30T17:54:10.483Z"
   },
   {
    "duration": 26,
    "start_time": "2024-08-30T18:03:40.189Z"
   },
   {
    "duration": 7,
    "start_time": "2024-08-30T18:25:03.959Z"
   },
   {
    "duration": 0,
    "start_time": "2024-08-30T18:26:24.768Z"
   },
   {
    "duration": 0,
    "start_time": "2024-08-30T18:26:24.769Z"
   },
   {
    "duration": 5,
    "start_time": "2024-08-30T18:26:26.359Z"
   },
   {
    "duration": 0,
    "start_time": "2024-08-30T18:26:39.458Z"
   },
   {
    "duration": 0,
    "start_time": "2024-08-30T18:26:39.460Z"
   },
   {
    "duration": 6,
    "start_time": "2024-08-30T18:26:40.060Z"
   },
   {
    "duration": 3,
    "start_time": "2024-08-30T18:30:19.778Z"
   },
   {
    "duration": 53,
    "start_time": "2024-08-30T18:30:19.783Z"
   },
   {
    "duration": 16,
    "start_time": "2024-08-30T18:30:19.838Z"
   },
   {
    "duration": 43,
    "start_time": "2024-08-30T18:30:19.856Z"
   },
   {
    "duration": 16,
    "start_time": "2024-08-30T18:33:16.556Z"
   },
   {
    "duration": 20,
    "start_time": "2024-08-30T18:33:17.960Z"
   },
   {
    "duration": 15,
    "start_time": "2024-08-30T18:33:20.159Z"
   },
   {
    "duration": 10,
    "start_time": "2024-08-30T18:33:20.733Z"
   },
   {
    "duration": 14,
    "start_time": "2024-08-30T18:33:21.351Z"
   },
   {
    "duration": 7,
    "start_time": "2024-08-30T18:33:22.853Z"
   },
   {
    "duration": 8,
    "start_time": "2024-08-30T18:33:23.132Z"
   },
   {
    "duration": 14,
    "start_time": "2024-08-30T18:33:23.499Z"
   },
   {
    "duration": 6,
    "start_time": "2024-08-30T18:33:23.757Z"
   },
   {
    "duration": 11,
    "start_time": "2024-08-30T18:33:24.289Z"
   },
   {
    "duration": 5,
    "start_time": "2024-08-30T18:33:25.601Z"
   },
   {
    "duration": 5,
    "start_time": "2024-08-30T18:33:25.888Z"
   },
   {
    "duration": 9,
    "start_time": "2024-08-30T18:33:26.231Z"
   },
   {
    "duration": 7,
    "start_time": "2024-08-30T18:33:27.407Z"
   },
   {
    "duration": 5,
    "start_time": "2024-08-30T18:33:28.525Z"
   },
   {
    "duration": 6,
    "start_time": "2024-08-30T18:33:28.874Z"
   },
   {
    "duration": 5,
    "start_time": "2024-08-30T18:33:29.221Z"
   },
   {
    "duration": 14,
    "start_time": "2024-08-30T18:33:29.529Z"
   },
   {
    "duration": 5,
    "start_time": "2024-08-30T18:33:30.280Z"
   },
   {
    "duration": 17,
    "start_time": "2024-08-30T18:33:30.599Z"
   },
   {
    "duration": 19,
    "start_time": "2024-08-30T18:33:31.015Z"
   },
   {
    "duration": 4,
    "start_time": "2024-08-30T18:33:32.801Z"
   },
   {
    "duration": 6,
    "start_time": "2024-08-30T18:33:34.546Z"
   },
   {
    "duration": 10,
    "start_time": "2024-08-30T18:33:35.561Z"
   },
   {
    "duration": 121,
    "start_time": "2024-08-30T18:33:36.310Z"
   },
   {
    "duration": 410,
    "start_time": "2024-08-30T18:33:37.244Z"
   },
   {
    "duration": 7,
    "start_time": "2024-08-30T18:33:41.529Z"
   },
   {
    "duration": 9,
    "start_time": "2024-08-30T18:33:42.083Z"
   },
   {
    "duration": 6,
    "start_time": "2024-08-30T18:33:42.542Z"
   },
   {
    "duration": 16,
    "start_time": "2024-08-30T18:33:44.406Z"
   },
   {
    "duration": 6,
    "start_time": "2024-08-30T18:33:45.318Z"
   },
   {
    "duration": 7,
    "start_time": "2024-08-30T18:33:45.871Z"
   },
   {
    "duration": 4,
    "start_time": "2024-08-30T18:33:47.285Z"
   },
   {
    "duration": 1176,
    "start_time": "2024-08-30T18:33:50.254Z"
   },
   {
    "duration": 29,
    "start_time": "2024-08-30T18:33:55.075Z"
   },
   {
    "duration": 5,
    "start_time": "2024-08-30T18:33:57.256Z"
   },
   {
    "duration": 1203,
    "start_time": "2024-08-30T18:40:22.709Z"
   },
   {
    "duration": 81,
    "start_time": "2024-08-30T18:40:23.914Z"
   },
   {
    "duration": 16,
    "start_time": "2024-08-30T18:40:23.997Z"
   },
   {
    "duration": 16,
    "start_time": "2024-08-30T18:40:24.015Z"
   },
   {
    "duration": 17,
    "start_time": "2024-08-30T18:40:24.033Z"
   },
   {
    "duration": 53,
    "start_time": "2024-08-30T18:40:24.052Z"
   },
   {
    "duration": 14,
    "start_time": "2024-08-30T18:40:24.106Z"
   },
   {
    "duration": 8,
    "start_time": "2024-08-30T18:40:24.122Z"
   },
   {
    "duration": 12,
    "start_time": "2024-08-30T18:40:24.132Z"
   },
   {
    "duration": 85,
    "start_time": "2024-08-30T18:40:24.146Z"
   },
   {
    "duration": 7,
    "start_time": "2024-08-30T18:40:24.233Z"
   },
   {
    "duration": 14,
    "start_time": "2024-08-30T18:40:24.242Z"
   },
   {
    "duration": 5,
    "start_time": "2024-08-30T18:40:24.258Z"
   },
   {
    "duration": 8,
    "start_time": "2024-08-30T18:40:24.266Z"
   },
   {
    "duration": 5,
    "start_time": "2024-08-30T18:40:24.275Z"
   },
   {
    "duration": 5,
    "start_time": "2024-08-30T18:40:24.281Z"
   },
   {
    "duration": 10,
    "start_time": "2024-08-30T18:40:24.297Z"
   },
   {
    "duration": 6,
    "start_time": "2024-08-30T18:40:24.308Z"
   },
   {
    "duration": 6,
    "start_time": "2024-08-30T18:40:24.315Z"
   },
   {
    "duration": 7,
    "start_time": "2024-08-30T18:40:24.322Z"
   },
   {
    "duration": 7,
    "start_time": "2024-08-30T18:40:24.330Z"
   },
   {
    "duration": 13,
    "start_time": "2024-08-30T18:40:24.338Z"
   },
   {
    "duration": 4,
    "start_time": "2024-08-30T18:40:24.353Z"
   },
   {
    "duration": 57,
    "start_time": "2024-08-30T18:40:24.358Z"
   },
   {
    "duration": 17,
    "start_time": "2024-08-30T18:40:24.417Z"
   },
   {
    "duration": 5,
    "start_time": "2024-08-30T18:40:24.435Z"
   },
   {
    "duration": 7,
    "start_time": "2024-08-30T18:40:24.441Z"
   },
   {
    "duration": 8,
    "start_time": "2024-08-30T18:40:24.450Z"
   },
   {
    "duration": 188,
    "start_time": "2024-08-30T18:40:24.459Z"
   },
   {
    "duration": 431,
    "start_time": "2024-08-30T18:40:24.649Z"
   },
   {
    "duration": 15,
    "start_time": "2024-08-30T18:40:25.082Z"
   },
   {
    "duration": 9,
    "start_time": "2024-08-30T18:40:25.099Z"
   },
   {
    "duration": 5,
    "start_time": "2024-08-30T18:40:25.109Z"
   },
   {
    "duration": 24,
    "start_time": "2024-08-30T18:40:25.116Z"
   },
   {
    "duration": 6,
    "start_time": "2024-08-30T18:40:25.142Z"
   },
   {
    "duration": 10,
    "start_time": "2024-08-30T18:40:25.149Z"
   },
   {
    "duration": 3,
    "start_time": "2024-08-30T18:40:38.051Z"
   },
   {
    "duration": 1097,
    "start_time": "2024-08-30T18:40:38.056Z"
   },
   {
    "duration": 31,
    "start_time": "2024-08-30T18:40:39.155Z"
   },
   {
    "duration": 8,
    "start_time": "2024-08-30T18:40:39.198Z"
   },
   {
    "duration": 35,
    "start_time": "2024-08-30T18:40:39.208Z"
   },
   {
    "duration": 5,
    "start_time": "2024-08-30T18:41:33.635Z"
   },
   {
    "duration": 23,
    "start_time": "2024-08-30T18:41:35.560Z"
   },
   {
    "duration": 23820,
    "start_time": "2024-08-30T18:42:05.791Z"
   },
   {
    "duration": 0,
    "start_time": "2024-08-30T18:42:29.612Z"
   },
   {
    "duration": 0,
    "start_time": "2024-08-30T18:42:29.614Z"
   },
   {
    "duration": 6,
    "start_time": "2024-08-30T18:42:32.603Z"
   },
   {
    "duration": 22,
    "start_time": "2024-08-30T18:42:33.064Z"
   },
   {
    "duration": 5,
    "start_time": "2024-08-30T18:42:44.643Z"
   },
   {
    "duration": 22,
    "start_time": "2024-08-30T18:42:45.201Z"
   },
   {
    "duration": 14,
    "start_time": "2024-08-30T18:45:13.157Z"
   },
   {
    "duration": 13,
    "start_time": "2024-08-30T18:45:28.137Z"
   },
   {
    "duration": 13,
    "start_time": "2024-08-30T18:45:38.446Z"
   },
   {
    "duration": 14,
    "start_time": "2024-08-30T18:47:15.694Z"
   },
   {
    "duration": 1524,
    "start_time": "2024-08-30T18:47:34.308Z"
   },
   {
    "duration": 364,
    "start_time": "2024-08-30T19:16:29.570Z"
   },
   {
    "duration": 268,
    "start_time": "2024-08-30T19:18:50.868Z"
   },
   {
    "duration": 278,
    "start_time": "2024-08-30T19:19:20.219Z"
   },
   {
    "duration": 265,
    "start_time": "2024-08-30T19:19:28.545Z"
   },
   {
    "duration": 289,
    "start_time": "2024-08-30T19:19:33.459Z"
   },
   {
    "duration": 324,
    "start_time": "2024-08-30T19:19:47.982Z"
   },
   {
    "duration": 1530,
    "start_time": "2024-08-30T19:19:52.022Z"
   },
   {
    "duration": 365,
    "start_time": "2024-08-30T19:19:56.966Z"
   },
   {
    "duration": 435,
    "start_time": "2024-08-30T19:20:05.026Z"
   },
   {
    "duration": 494,
    "start_time": "2024-08-30T19:20:13.046Z"
   },
   {
    "duration": 489,
    "start_time": "2024-08-30T19:20:38.890Z"
   },
   {
    "duration": 517,
    "start_time": "2024-08-30T19:21:23.190Z"
   },
   {
    "duration": 441,
    "start_time": "2024-08-30T19:21:31.082Z"
   },
   {
    "duration": 413,
    "start_time": "2024-08-30T19:21:36.617Z"
   },
   {
    "duration": 426,
    "start_time": "2024-08-30T19:21:46.452Z"
   },
   {
    "duration": 443,
    "start_time": "2024-08-30T19:21:53.413Z"
   },
   {
    "duration": 457,
    "start_time": "2024-08-30T19:22:02.644Z"
   },
   {
    "duration": 32,
    "start_time": "2024-08-30T19:24:54.814Z"
   },
   {
    "duration": 12,
    "start_time": "2024-08-30T19:25:58.402Z"
   },
   {
    "duration": 36,
    "start_time": "2024-08-30T19:26:06.266Z"
   },
   {
    "duration": 71,
    "start_time": "2024-08-30T19:29:15.662Z"
   },
   {
    "duration": 1416,
    "start_time": "2024-08-31T06:24:00.028Z"
   },
   {
    "duration": 267,
    "start_time": "2024-08-31T06:24:01.446Z"
   },
   {
    "duration": 16,
    "start_time": "2024-08-31T06:24:01.715Z"
   },
   {
    "duration": 17,
    "start_time": "2024-08-31T06:24:01.733Z"
   },
   {
    "duration": 15,
    "start_time": "2024-08-31T06:24:01.751Z"
   },
   {
    "duration": 57,
    "start_time": "2024-08-31T06:24:01.768Z"
   },
   {
    "duration": 20,
    "start_time": "2024-08-31T06:24:01.827Z"
   },
   {
    "duration": 31,
    "start_time": "2024-08-31T06:24:01.849Z"
   },
   {
    "duration": 26,
    "start_time": "2024-08-31T06:24:01.881Z"
   },
   {
    "duration": 9,
    "start_time": "2024-08-31T06:24:01.914Z"
   },
   {
    "duration": 36,
    "start_time": "2024-08-31T06:24:01.925Z"
   },
   {
    "duration": 15,
    "start_time": "2024-08-31T06:24:01.962Z"
   },
   {
    "duration": 6,
    "start_time": "2024-08-31T06:24:01.979Z"
   },
   {
    "duration": 34,
    "start_time": "2024-08-31T06:24:01.986Z"
   },
   {
    "duration": 11,
    "start_time": "2024-08-31T06:24:02.022Z"
   },
   {
    "duration": 7,
    "start_time": "2024-08-31T06:24:02.035Z"
   },
   {
    "duration": 20,
    "start_time": "2024-08-31T06:24:02.044Z"
   },
   {
    "duration": 9,
    "start_time": "2024-08-31T06:24:02.067Z"
   },
   {
    "duration": 6,
    "start_time": "2024-08-31T06:24:02.078Z"
   },
   {
    "duration": 16,
    "start_time": "2024-08-31T06:24:02.087Z"
   },
   {
    "duration": 10,
    "start_time": "2024-08-31T06:24:02.108Z"
   },
   {
    "duration": 29,
    "start_time": "2024-08-31T06:24:02.120Z"
   },
   {
    "duration": 5,
    "start_time": "2024-08-31T06:24:02.150Z"
   },
   {
    "duration": 30,
    "start_time": "2024-08-31T06:24:02.157Z"
   },
   {
    "duration": 57,
    "start_time": "2024-08-31T06:24:02.188Z"
   },
   {
    "duration": 9,
    "start_time": "2024-08-31T06:24:02.247Z"
   },
   {
    "duration": 18,
    "start_time": "2024-08-31T06:24:02.258Z"
   },
   {
    "duration": 7,
    "start_time": "2024-08-31T06:24:02.280Z"
   },
   {
    "duration": 176,
    "start_time": "2024-08-31T06:24:02.289Z"
   },
   {
    "duration": 480,
    "start_time": "2024-08-31T06:24:02.467Z"
   },
   {
    "duration": 9,
    "start_time": "2024-08-31T06:24:02.949Z"
   },
   {
    "duration": 9,
    "start_time": "2024-08-31T06:24:02.959Z"
   },
   {
    "duration": 6,
    "start_time": "2024-08-31T06:24:02.969Z"
   },
   {
    "duration": 22,
    "start_time": "2024-08-31T06:24:02.999Z"
   },
   {
    "duration": 7,
    "start_time": "2024-08-31T06:24:03.023Z"
   },
   {
    "duration": 8,
    "start_time": "2024-08-31T06:24:03.032Z"
   },
   {
    "duration": 5,
    "start_time": "2024-08-31T06:24:03.041Z"
   },
   {
    "duration": 1203,
    "start_time": "2024-08-31T06:24:03.047Z"
   },
   {
    "duration": 27,
    "start_time": "2024-08-31T06:24:04.251Z"
   },
   {
    "duration": 39,
    "start_time": "2024-08-31T06:24:04.280Z"
   },
   {
    "duration": 1712,
    "start_time": "2024-08-31T06:24:04.320Z"
   },
   {
    "duration": 519,
    "start_time": "2024-08-31T06:24:06.034Z"
   },
   {
    "duration": 71,
    "start_time": "2024-08-31T06:27:18.064Z"
   },
   {
    "duration": 1260,
    "start_time": "2024-08-31T06:34:19.522Z"
   },
   {
    "duration": 397,
    "start_time": "2024-08-31T06:34:41.358Z"
   },
   {
    "duration": 7,
    "start_time": "2024-08-31T06:37:52.949Z"
   },
   {
    "duration": 6,
    "start_time": "2024-08-31T06:39:04.821Z"
   },
   {
    "duration": 69,
    "start_time": "2024-08-31T06:41:37.246Z"
   },
   {
    "duration": 6,
    "start_time": "2024-08-31T06:43:42.247Z"
   },
   {
    "duration": 7,
    "start_time": "2024-08-31T06:44:03.994Z"
   },
   {
    "duration": 63,
    "start_time": "2024-08-31T06:44:57.750Z"
   },
   {
    "duration": 8,
    "start_time": "2024-08-31T06:45:10.054Z"
   },
   {
    "duration": 6,
    "start_time": "2024-08-31T06:45:33.129Z"
   },
   {
    "duration": 67,
    "start_time": "2024-08-31T06:46:58.403Z"
   },
   {
    "duration": 6,
    "start_time": "2024-08-31T07:32:55.482Z"
   },
   {
    "duration": 9,
    "start_time": "2024-08-31T07:34:07.861Z"
   },
   {
    "duration": 230,
    "start_time": "2024-08-31T07:34:12.714Z"
   },
   {
    "duration": 151,
    "start_time": "2024-08-31T07:37:37.986Z"
   },
   {
    "duration": 142,
    "start_time": "2024-08-31T07:37:44.116Z"
   },
   {
    "duration": 137,
    "start_time": "2024-08-31T07:37:50.773Z"
   },
   {
    "duration": 14,
    "start_time": "2024-08-31T07:47:25.439Z"
   },
   {
    "duration": 270,
    "start_time": "2024-08-31T08:08:49.463Z"
   },
   {
    "duration": 15,
    "start_time": "2024-08-31T08:13:24.100Z"
   },
   {
    "duration": 20,
    "start_time": "2024-08-31T08:13:37.365Z"
   },
   {
    "duration": 15,
    "start_time": "2024-08-31T08:13:44.805Z"
   },
   {
    "duration": 14,
    "start_time": "2024-08-31T08:13:57.984Z"
   },
   {
    "duration": 14,
    "start_time": "2024-08-31T08:18:35.026Z"
   },
   {
    "duration": 15,
    "start_time": "2024-08-31T08:18:53.070Z"
   },
   {
    "duration": 14,
    "start_time": "2024-08-31T08:19:03.068Z"
   },
   {
    "duration": 77,
    "start_time": "2024-08-31T08:21:09.435Z"
   },
   {
    "duration": 15,
    "start_time": "2024-08-31T08:24:08.822Z"
   },
   {
    "duration": 16,
    "start_time": "2024-08-31T08:24:35.153Z"
   },
   {
    "duration": 15,
    "start_time": "2024-08-31T08:24:45.778Z"
   },
   {
    "duration": 16,
    "start_time": "2024-08-31T08:25:21.078Z"
   },
   {
    "duration": 64,
    "start_time": "2024-08-31T08:52:58.061Z"
   },
   {
    "duration": 1234,
    "start_time": "2024-08-31T09:44:02.709Z"
   },
   {
    "duration": 79,
    "start_time": "2024-08-31T09:44:03.945Z"
   },
   {
    "duration": 16,
    "start_time": "2024-08-31T09:44:04.025Z"
   },
   {
    "duration": 21,
    "start_time": "2024-08-31T09:44:04.043Z"
   },
   {
    "duration": 14,
    "start_time": "2024-08-31T09:44:04.066Z"
   },
   {
    "duration": 35,
    "start_time": "2024-08-31T09:44:04.082Z"
   },
   {
    "duration": 14,
    "start_time": "2024-08-31T09:44:04.119Z"
   },
   {
    "duration": 21,
    "start_time": "2024-08-31T09:44:04.135Z"
   },
   {
    "duration": 32,
    "start_time": "2024-08-31T09:44:04.158Z"
   },
   {
    "duration": 18,
    "start_time": "2024-08-31T09:44:04.195Z"
   },
   {
    "duration": 8,
    "start_time": "2024-08-31T09:44:04.216Z"
   },
   {
    "duration": 23,
    "start_time": "2024-08-31T09:44:04.225Z"
   },
   {
    "duration": 7,
    "start_time": "2024-08-31T09:44:04.250Z"
   },
   {
    "duration": 25,
    "start_time": "2024-08-31T09:44:04.258Z"
   },
   {
    "duration": 23,
    "start_time": "2024-08-31T09:44:04.284Z"
   },
   {
    "duration": 11,
    "start_time": "2024-08-31T09:44:04.309Z"
   },
   {
    "duration": 18,
    "start_time": "2024-08-31T09:44:04.321Z"
   },
   {
    "duration": 7,
    "start_time": "2024-08-31T09:44:04.341Z"
   },
   {
    "duration": 5,
    "start_time": "2024-08-31T09:44:04.350Z"
   },
   {
    "duration": 15,
    "start_time": "2024-08-31T09:44:04.357Z"
   },
   {
    "duration": 11,
    "start_time": "2024-08-31T09:44:04.374Z"
   },
   {
    "duration": 30,
    "start_time": "2024-08-31T09:44:04.387Z"
   },
   {
    "duration": 22,
    "start_time": "2024-08-31T09:44:04.419Z"
   },
   {
    "duration": 23,
    "start_time": "2024-08-31T09:44:04.443Z"
   },
   {
    "duration": 27,
    "start_time": "2024-08-31T09:44:04.468Z"
   },
   {
    "duration": 4,
    "start_time": "2024-08-31T09:44:04.497Z"
   },
   {
    "duration": 7,
    "start_time": "2024-08-31T09:44:04.503Z"
   },
   {
    "duration": 8,
    "start_time": "2024-08-31T09:44:04.513Z"
   },
   {
    "duration": 159,
    "start_time": "2024-08-31T09:44:04.522Z"
   },
   {
    "duration": 468,
    "start_time": "2024-08-31T09:44:04.683Z"
   },
   {
    "duration": 9,
    "start_time": "2024-08-31T09:44:05.153Z"
   },
   {
    "duration": 43,
    "start_time": "2024-08-31T09:44:05.163Z"
   },
   {
    "duration": 5,
    "start_time": "2024-08-31T09:44:05.208Z"
   },
   {
    "duration": 20,
    "start_time": "2024-08-31T09:44:05.215Z"
   },
   {
    "duration": 10,
    "start_time": "2024-08-31T09:44:05.237Z"
   },
   {
    "duration": 12,
    "start_time": "2024-08-31T09:44:05.249Z"
   },
   {
    "duration": 23,
    "start_time": "2024-08-31T09:44:05.263Z"
   },
   {
    "duration": 1234,
    "start_time": "2024-08-31T09:44:05.288Z"
   },
   {
    "duration": 27,
    "start_time": "2024-08-31T09:44:06.523Z"
   },
   {
    "duration": 6,
    "start_time": "2024-08-31T09:44:06.551Z"
   },
   {
    "duration": 1671,
    "start_time": "2024-08-31T09:44:06.558Z"
   },
   {
    "duration": 469,
    "start_time": "2024-08-31T09:44:08.230Z"
   },
   {
    "duration": 383,
    "start_time": "2024-08-31T09:44:08.704Z"
   },
   {
    "duration": 7,
    "start_time": "2024-08-31T09:44:09.089Z"
   },
   {
    "duration": 100,
    "start_time": "2024-08-31T09:44:09.105Z"
   },
   {
    "duration": 8,
    "start_time": "2024-08-31T09:44:09.208Z"
   },
   {
    "duration": 14,
    "start_time": "2024-08-31T09:44:09.218Z"
   },
   {
    "duration": 12,
    "start_time": "2024-08-31T09:44:09.233Z"
   },
   {
    "duration": 16,
    "start_time": "2024-08-31T09:44:09.247Z"
   },
   {
    "duration": 8,
    "start_time": "2024-08-31T09:44:09.265Z"
   },
   {
    "duration": 77,
    "start_time": "2024-08-31T09:44:09.275Z"
   },
   {
    "duration": 114,
    "start_time": "2024-08-31T09:44:09.354Z"
   },
   {
    "duration": 18,
    "start_time": "2024-08-31T09:44:09.470Z"
   },
   {
    "duration": 23,
    "start_time": "2024-08-31T09:44:09.490Z"
   },
   {
    "duration": 16,
    "start_time": "2024-08-31T09:44:09.515Z"
   },
   {
    "duration": 19,
    "start_time": "2024-08-31T09:44:09.533Z"
   },
   {
    "duration": 75,
    "start_time": "2024-08-31T09:44:09.554Z"
   },
   {
    "duration": 22,
    "start_time": "2024-08-31T09:44:09.631Z"
   },
   {
    "duration": 19,
    "start_time": "2024-08-31T09:44:09.654Z"
   },
   {
    "duration": 35,
    "start_time": "2024-08-31T09:44:09.675Z"
   },
   {
    "duration": 47,
    "start_time": "2024-08-31T19:52:53.391Z"
   },
   {
    "duration": 1373,
    "start_time": "2024-08-31T19:52:59.784Z"
   },
   {
    "duration": 192,
    "start_time": "2024-08-31T19:53:03.941Z"
   },
   {
    "duration": 15,
    "start_time": "2024-08-31T19:53:06.397Z"
   },
   {
    "duration": 17,
    "start_time": "2024-08-31T19:53:08.188Z"
   },
   {
    "duration": 65,
    "start_time": "2024-08-31T19:53:09.468Z"
   },
   {
    "duration": 10,
    "start_time": "2024-08-31T19:53:30.362Z"
   },
   {
    "duration": 9,
    "start_time": "2024-08-31T19:54:14.838Z"
   },
   {
    "duration": 10,
    "start_time": "2024-08-31T19:54:51.199Z"
   },
   {
    "duration": 12,
    "start_time": "2024-08-31T19:55:04.116Z"
   },
   {
    "duration": 31,
    "start_time": "2024-08-31T19:55:18.406Z"
   },
   {
    "duration": 26,
    "start_time": "2024-08-31T19:57:37.499Z"
   },
   {
    "duration": 12,
    "start_time": "2024-08-31T19:58:03.328Z"
   },
   {
    "duration": 25,
    "start_time": "2024-08-31T19:58:17.152Z"
   },
   {
    "duration": 9,
    "start_time": "2024-08-31T19:58:29.356Z"
   },
   {
    "duration": 10,
    "start_time": "2024-08-31T19:58:58.144Z"
   },
   {
    "duration": 31,
    "start_time": "2024-08-31T19:59:05.005Z"
   },
   {
    "duration": 10,
    "start_time": "2024-08-31T20:02:38.224Z"
   },
   {
    "duration": 14,
    "start_time": "2024-08-31T20:03:39.239Z"
   },
   {
    "duration": 17,
    "start_time": "2024-08-31T20:04:18.477Z"
   },
   {
    "duration": 473,
    "start_time": "2024-08-31T20:16:14.893Z"
   },
   {
    "duration": 460,
    "start_time": "2024-08-31T20:16:28.396Z"
   },
   {
    "duration": 478,
    "start_time": "2024-08-31T20:16:32.215Z"
   },
   {
    "duration": 466,
    "start_time": "2024-08-31T20:16:38.027Z"
   },
   {
    "duration": 3,
    "start_time": "2024-08-31T20:17:24.262Z"
   },
   {
    "duration": 81,
    "start_time": "2024-08-31T20:17:24.267Z"
   },
   {
    "duration": 14,
    "start_time": "2024-08-31T20:17:24.350Z"
   },
   {
    "duration": 20,
    "start_time": "2024-08-31T20:17:24.366Z"
   },
   {
    "duration": 42,
    "start_time": "2024-08-31T20:17:24.388Z"
   },
   {
    "duration": 15,
    "start_time": "2024-08-31T20:17:24.431Z"
   },
   {
    "duration": 16,
    "start_time": "2024-08-31T20:17:24.448Z"
   },
   {
    "duration": 23,
    "start_time": "2024-08-31T20:17:24.465Z"
   },
   {
    "duration": 110,
    "start_time": "2024-08-31T20:17:24.490Z"
   },
   {
    "duration": 9,
    "start_time": "2024-08-31T20:17:24.605Z"
   },
   {
    "duration": 18,
    "start_time": "2024-08-31T20:17:24.615Z"
   },
   {
    "duration": 7,
    "start_time": "2024-08-31T20:17:24.634Z"
   },
   {
    "duration": 10,
    "start_time": "2024-08-31T20:17:24.643Z"
   },
   {
    "duration": 13,
    "start_time": "2024-08-31T20:17:24.654Z"
   },
   {
    "duration": 5,
    "start_time": "2024-08-31T20:17:24.669Z"
   },
   {
    "duration": 42,
    "start_time": "2024-08-31T20:17:24.676Z"
   },
   {
    "duration": 27,
    "start_time": "2024-08-31T20:17:24.720Z"
   },
   {
    "duration": 18,
    "start_time": "2024-08-31T20:17:24.749Z"
   },
   {
    "duration": 9,
    "start_time": "2024-08-31T20:17:24.769Z"
   },
   {
    "duration": 7,
    "start_time": "2024-08-31T20:17:24.780Z"
   },
   {
    "duration": 53,
    "start_time": "2024-08-31T20:17:24.788Z"
   },
   {
    "duration": 10,
    "start_time": "2024-08-31T20:17:24.842Z"
   },
   {
    "duration": 6,
    "start_time": "2024-08-31T20:17:24.853Z"
   },
   {
    "duration": 14,
    "start_time": "2024-08-31T20:17:24.860Z"
   },
   {
    "duration": 8,
    "start_time": "2024-08-31T20:17:24.876Z"
   },
   {
    "duration": 23,
    "start_time": "2024-08-31T20:17:24.886Z"
   },
   {
    "duration": 23,
    "start_time": "2024-08-31T20:17:24.910Z"
   },
   {
    "duration": 13,
    "start_time": "2024-08-31T20:17:24.934Z"
   },
   {
    "duration": 11,
    "start_time": "2024-08-31T20:17:24.948Z"
   },
   {
    "duration": 15,
    "start_time": "2024-08-31T20:17:24.960Z"
   },
   {
    "duration": 131,
    "start_time": "2024-08-31T20:17:24.976Z"
   },
   {
    "duration": 439,
    "start_time": "2024-08-31T20:17:29.822Z"
   },
   {
    "duration": 363,
    "start_time": "2024-08-31T20:24:41.950Z"
   },
   {
    "duration": 15,
    "start_time": "2024-08-31T20:27:19.307Z"
   },
   {
    "duration": 3,
    "start_time": "2024-08-31T20:27:30.575Z"
   },
   {
    "duration": 79,
    "start_time": "2024-08-31T20:27:30.580Z"
   },
   {
    "duration": 14,
    "start_time": "2024-08-31T20:27:30.661Z"
   },
   {
    "duration": 26,
    "start_time": "2024-08-31T20:27:30.677Z"
   },
   {
    "duration": 10,
    "start_time": "2024-08-31T20:27:30.705Z"
   },
   {
    "duration": 45,
    "start_time": "2024-08-31T20:27:30.717Z"
   },
   {
    "duration": 28,
    "start_time": "2024-08-31T20:27:30.764Z"
   },
   {
    "duration": 73,
    "start_time": "2024-08-31T20:27:30.794Z"
   },
   {
    "duration": 14,
    "start_time": "2024-08-31T20:27:30.868Z"
   },
   {
    "duration": 27,
    "start_time": "2024-08-31T20:27:30.883Z"
   },
   {
    "duration": 21,
    "start_time": "2024-08-31T20:27:30.912Z"
   },
   {
    "duration": 8,
    "start_time": "2024-08-31T20:27:30.935Z"
   },
   {
    "duration": 15,
    "start_time": "2024-08-31T20:27:30.945Z"
   },
   {
    "duration": 25,
    "start_time": "2024-08-31T20:27:30.963Z"
   },
   {
    "duration": 11,
    "start_time": "2024-08-31T20:27:30.990Z"
   },
   {
    "duration": 33,
    "start_time": "2024-08-31T20:27:31.002Z"
   },
   {
    "duration": 8,
    "start_time": "2024-08-31T20:27:31.036Z"
   },
   {
    "duration": 8,
    "start_time": "2024-08-31T20:27:31.046Z"
   },
   {
    "duration": 17,
    "start_time": "2024-08-31T20:27:31.056Z"
   },
   {
    "duration": 6,
    "start_time": "2024-08-31T20:27:31.075Z"
   },
   {
    "duration": 16,
    "start_time": "2024-08-31T20:27:31.083Z"
   },
   {
    "duration": 14,
    "start_time": "2024-08-31T20:27:31.101Z"
   },
   {
    "duration": 15,
    "start_time": "2024-08-31T20:27:31.116Z"
   },
   {
    "duration": 31,
    "start_time": "2024-08-31T20:27:31.132Z"
   },
   {
    "duration": 13,
    "start_time": "2024-08-31T20:27:31.165Z"
   },
   {
    "duration": 19,
    "start_time": "2024-08-31T20:27:31.180Z"
   },
   {
    "duration": 25,
    "start_time": "2024-08-31T20:27:31.201Z"
   },
   {
    "duration": 4,
    "start_time": "2024-08-31T20:27:31.228Z"
   },
   {
    "duration": 6,
    "start_time": "2024-08-31T20:27:31.234Z"
   },
   {
    "duration": 9,
    "start_time": "2024-08-31T20:27:31.242Z"
   },
   {
    "duration": 142,
    "start_time": "2024-08-31T20:27:31.253Z"
   },
   {
    "duration": 498,
    "start_time": "2024-08-31T20:27:31.397Z"
   },
   {
    "duration": 13,
    "start_time": "2024-08-31T20:27:31.897Z"
   },
   {
    "duration": 34,
    "start_time": "2024-08-31T20:27:31.911Z"
   },
   {
    "duration": 7,
    "start_time": "2024-08-31T20:27:31.947Z"
   },
   {
    "duration": 16,
    "start_time": "2024-08-31T20:27:31.956Z"
   },
   {
    "duration": 354,
    "start_time": "2024-08-31T20:27:31.973Z"
   },
   {
    "duration": 6,
    "start_time": "2024-08-31T20:27:32.329Z"
   },
   {
    "duration": 7,
    "start_time": "2024-08-31T20:27:32.337Z"
   },
   {
    "duration": 9,
    "start_time": "2024-08-31T20:27:32.345Z"
   },
   {
    "duration": 1162,
    "start_time": "2024-08-31T20:27:32.358Z"
   },
   {
    "duration": 23,
    "start_time": "2024-08-31T20:27:33.522Z"
   },
   {
    "duration": 45,
    "start_time": "2024-08-31T20:27:33.547Z"
   },
   {
    "duration": 1613,
    "start_time": "2024-08-31T20:27:33.594Z"
   },
   {
    "duration": 327,
    "start_time": "2024-08-31T20:27:35.209Z"
   },
   {
    "duration": 311,
    "start_time": "2024-08-31T20:28:29.586Z"
   },
   {
    "duration": 84,
    "start_time": "2024-08-31T20:36:25.244Z"
   },
   {
    "duration": 15,
    "start_time": "2024-08-31T20:39:20.307Z"
   },
   {
    "duration": 1126,
    "start_time": "2024-08-31T20:51:01.173Z"
   },
   {
    "duration": 21,
    "start_time": "2024-08-31T20:51:54.228Z"
   },
   {
    "duration": 845,
    "start_time": "2024-08-31T20:52:16.488Z"
   },
   {
    "duration": 386,
    "start_time": "2024-08-31T20:52:33.915Z"
   },
   {
    "duration": 384,
    "start_time": "2024-08-31T20:52:51.042Z"
   },
   {
    "duration": 407,
    "start_time": "2024-08-31T20:53:26.421Z"
   },
   {
    "duration": 516,
    "start_time": "2024-08-31T20:53:47.539Z"
   },
   {
    "duration": 427,
    "start_time": "2024-08-31T20:53:53.171Z"
   },
   {
    "duration": 448,
    "start_time": "2024-08-31T20:53:59.763Z"
   },
   {
    "duration": 434,
    "start_time": "2024-08-31T20:54:10.088Z"
   },
   {
    "duration": 412,
    "start_time": "2024-08-31T20:54:30.364Z"
   },
   {
    "duration": 14,
    "start_time": "2024-08-31T20:56:59.454Z"
   },
   {
    "duration": 15,
    "start_time": "2024-08-31T20:57:20.542Z"
   },
   {
    "duration": 19,
    "start_time": "2024-08-31T20:57:26.915Z"
   },
   {
    "duration": 541,
    "start_time": "2024-08-31T20:58:16.649Z"
   },
   {
    "duration": 363,
    "start_time": "2024-08-31T20:58:36.078Z"
   },
   {
    "duration": 371,
    "start_time": "2024-08-31T20:58:49.480Z"
   },
   {
    "duration": 1577,
    "start_time": "2024-09-01T09:20:23.672Z"
   },
   {
    "duration": 195,
    "start_time": "2024-09-01T09:20:25.251Z"
   },
   {
    "duration": 16,
    "start_time": "2024-09-01T09:20:25.447Z"
   },
   {
    "duration": 15,
    "start_time": "2024-09-01T09:20:25.466Z"
   },
   {
    "duration": 9,
    "start_time": "2024-09-01T09:20:25.482Z"
   },
   {
    "duration": 21,
    "start_time": "2024-09-01T09:20:25.492Z"
   },
   {
    "duration": 37,
    "start_time": "2024-09-01T09:20:25.514Z"
   },
   {
    "duration": 20,
    "start_time": "2024-09-01T09:20:25.552Z"
   },
   {
    "duration": 12,
    "start_time": "2024-09-01T09:20:25.574Z"
   },
   {
    "duration": 32,
    "start_time": "2024-09-01T09:20:25.589Z"
   },
   {
    "duration": 27,
    "start_time": "2024-09-01T09:20:25.622Z"
   },
   {
    "duration": 10,
    "start_time": "2024-09-01T09:20:25.651Z"
   },
   {
    "duration": 14,
    "start_time": "2024-09-01T09:20:25.663Z"
   },
   {
    "duration": 26,
    "start_time": "2024-09-01T09:20:25.678Z"
   },
   {
    "duration": 6,
    "start_time": "2024-09-01T09:20:25.706Z"
   },
   {
    "duration": 12,
    "start_time": "2024-09-01T09:20:25.713Z"
   },
   {
    "duration": 20,
    "start_time": "2024-09-01T09:20:25.727Z"
   },
   {
    "duration": 10,
    "start_time": "2024-09-01T09:20:25.749Z"
   },
   {
    "duration": 13,
    "start_time": "2024-09-01T09:20:25.761Z"
   },
   {
    "duration": 8,
    "start_time": "2024-09-01T09:20:25.776Z"
   },
   {
    "duration": 22,
    "start_time": "2024-09-01T09:20:25.786Z"
   },
   {
    "duration": 11,
    "start_time": "2024-09-01T09:20:25.810Z"
   },
   {
    "duration": 5,
    "start_time": "2024-09-01T09:20:25.823Z"
   },
   {
    "duration": 30,
    "start_time": "2024-09-01T09:20:25.830Z"
   },
   {
    "duration": 8,
    "start_time": "2024-09-01T09:20:25.862Z"
   },
   {
    "duration": 31,
    "start_time": "2024-09-01T09:20:25.872Z"
   },
   {
    "duration": 21,
    "start_time": "2024-09-01T09:20:25.905Z"
   },
   {
    "duration": 3,
    "start_time": "2024-09-01T09:20:25.930Z"
   },
   {
    "duration": 14,
    "start_time": "2024-09-01T09:20:25.935Z"
   },
   {
    "duration": 10,
    "start_time": "2024-09-01T09:20:25.951Z"
   },
   {
    "duration": 186,
    "start_time": "2024-09-01T09:20:25.963Z"
   },
   {
    "duration": 494,
    "start_time": "2024-09-01T09:20:26.151Z"
   },
   {
    "duration": 8,
    "start_time": "2024-09-01T09:20:26.648Z"
   },
   {
    "duration": 10,
    "start_time": "2024-09-01T09:20:26.658Z"
   },
   {
    "duration": 6,
    "start_time": "2024-09-01T09:20:26.669Z"
   },
   {
    "duration": 17,
    "start_time": "2024-09-01T09:20:26.676Z"
   },
   {
    "duration": 424,
    "start_time": "2024-09-01T09:20:26.694Z"
   },
   {
    "duration": 8,
    "start_time": "2024-09-01T09:20:27.120Z"
   },
   {
    "duration": 16,
    "start_time": "2024-09-01T09:20:27.130Z"
   },
   {
    "duration": 5,
    "start_time": "2024-09-01T09:20:27.148Z"
   },
   {
    "duration": 1158,
    "start_time": "2024-09-01T09:20:27.155Z"
   },
   {
    "duration": 41,
    "start_time": "2024-09-01T09:20:28.314Z"
   },
   {
    "duration": 5,
    "start_time": "2024-09-01T09:20:28.356Z"
   },
   {
    "duration": 1567,
    "start_time": "2024-09-01T09:20:28.363Z"
   },
   {
    "duration": 466,
    "start_time": "2024-09-01T09:20:29.931Z"
   },
   {
    "duration": 377,
    "start_time": "2024-09-01T09:20:30.399Z"
   },
   {
    "duration": 381,
    "start_time": "2024-09-01T09:20:30.777Z"
   },
   {
    "duration": 7,
    "start_time": "2024-09-01T09:20:31.160Z"
   },
   {
    "duration": 24,
    "start_time": "2024-09-01T09:20:31.169Z"
   },
   {
    "duration": 11,
    "start_time": "2024-09-01T09:20:31.195Z"
   },
   {
    "duration": 41,
    "start_time": "2024-09-01T09:20:31.208Z"
   },
   {
    "duration": 34,
    "start_time": "2024-09-01T09:20:31.250Z"
   },
   {
    "duration": 30,
    "start_time": "2024-09-01T09:20:31.285Z"
   },
   {
    "duration": 31,
    "start_time": "2024-09-01T09:20:31.317Z"
   },
   {
    "duration": 17,
    "start_time": "2024-09-01T09:20:31.350Z"
   },
   {
    "duration": 18,
    "start_time": "2024-09-01T09:20:31.369Z"
   },
   {
    "duration": 16,
    "start_time": "2024-09-01T09:20:31.388Z"
   },
   {
    "duration": 22,
    "start_time": "2024-09-01T09:20:31.406Z"
   },
   {
    "duration": 26,
    "start_time": "2024-09-01T09:20:31.429Z"
   },
   {
    "duration": 394,
    "start_time": "2024-09-01T09:20:31.457Z"
   },
   {
    "duration": 13,
    "start_time": "2024-09-01T09:20:31.853Z"
   },
   {
    "duration": 70,
    "start_time": "2024-09-01T09:20:31.867Z"
   },
   {
    "duration": 19,
    "start_time": "2024-09-01T09:20:31.939Z"
   },
   {
    "duration": 431,
    "start_time": "2024-09-01T09:20:31.960Z"
   },
   {
    "duration": 17,
    "start_time": "2024-09-01T09:20:32.393Z"
   },
   {
    "duration": 36,
    "start_time": "2024-09-01T09:20:32.411Z"
   },
   {
    "duration": 19,
    "start_time": "2024-09-01T09:20:32.449Z"
   },
   {
    "duration": 439,
    "start_time": "2024-09-01T09:20:32.470Z"
   }
  ],
  "kernelspec": {
   "display_name": "Python 3 (ipykernel)",
   "language": "python",
   "name": "python3"
  },
  "language_info": {
   "codemirror_mode": {
    "name": "ipython",
    "version": 3
   },
   "file_extension": ".py",
   "mimetype": "text/x-python",
   "name": "python",
   "nbconvert_exporter": "python",
   "pygments_lexer": "ipython3",
   "version": "3.9.5"
  },
  "toc": {
   "base_numbering": 1,
   "nav_menu": {},
   "number_sections": true,
   "sideBar": true,
   "skip_h1_title": true,
   "title_cell": "Table of Contents",
   "title_sidebar": "Contents",
   "toc_cell": false,
   "toc_position": {},
   "toc_section_display": true,
   "toc_window_display": false
  }
 },
 "nbformat": 4,
 "nbformat_minor": 2
}
