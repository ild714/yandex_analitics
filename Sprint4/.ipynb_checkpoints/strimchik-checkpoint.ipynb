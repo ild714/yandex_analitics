{
 "cells": [
  {
   "cell_type": "markdown",
   "metadata": {},
   "source": [
    "# Определение перспективного продукта для интернет-магазина"
   ]
  },
  {
   "cell_type": "markdown",
   "metadata": {},
   "source": [
    "Вы работаете в интернет-магазине «Стримчик», который продаёт по всему миру компьютерные игры. Из открытых источников доступны исторические данные о продажах игр, оценки пользователей и экспертов, жанры и платформы (например, Xbox или PlayStation). Вам нужно выявить определяющие успешность игры закономерности. Это позволит сделать ставку на потенциально популярный продукт и спланировать рекламные кампании.\n",
    "\n",
    "Перед вами данные до 2016 года. Представим, что сейчас декабрь 2016 г., и вы планируете кампанию на 2017-й. Нужно отработать принцип работы с данными. Неважно, прогнозируете ли вы продажи на 2017 год по данным 2016-го или же 2027-й — по данным 2026 года.\n",
    "\n",
    "В наборе данных попадается аббревиатура ESRB (Entertainment Software Rating Board) — это ассоциация, определяющая возрастной рейтинг компьютерных игр. ESRB оценивает игровой контент и присваивает ему подходящую возрастную категорию, например, «Для взрослых», «Для детей младшего возраста» или «Для подростков»."
   ]
  },
  {
   "cell_type": "markdown",
   "metadata": {},
   "source": [
    "## Перспективная игра"
   ]
  },
  {
   "cell_type": "markdown",
   "metadata": {},
   "source": [
    "### Описание проекта:\n",
    "Интернет-магазин «Стримчик», продаёт по всему миру компьютерные игры. Из открытых источников доступны исторические данные о продажах игр, оценки пользователей и экспертов, жанры и платформы (например, Xbox или PlayStation).\n",
    " \n",
    "### Задача:\n",
    "Выявить определяющие успешность игры закономерности и определить потенциально популярный продукт для дальнейшего планирования  рекламных кампаний.\n",
    " \n",
    "### Этапы анализа:\n",
    " \n",
    "- первичный анализ данных\n",
    "- предобработка данных (устранение дубликатов, если имеются, выбросов, исправление типов данных, заполнение пропусков, добавление необходимых данных в датасет)\n",
    "- исследовательский анализ: пределение факторов, влияющих на продажи, определение лидеров продаж\n",
    "- составление портретов регионов (самые популярные жанры и платформы, факторы популярности)\n",
    "- проверка гипотез о том, что средние пользовательские рейтинги платформ Xbox One и PC одинаковые; редкие пользовательские рейтинги жанров Action и Sports разные)\n",
    "- общий вывод и решение поставленной задачи"
   ]
  },
  {
   "cell_type": "markdown",
   "metadata": {},
   "source": [
    "### Первичный анализ"
   ]
  },
  {
   "cell_type": "code",
   "execution_count": 1,
   "metadata": {},
   "outputs": [],
   "source": [
    "# Импортируем библиотеки\n",
    "import pandas as pd\n",
    "import numpy as np\n",
    "import matplotlib.pyplot as plt\n",
    "import seaborn as sns\n",
    "from scipy import stats as st\n",
    "import warnings"
   ]
  },
  {
   "cell_type": "code",
   "execution_count": 2,
   "metadata": {},
   "outputs": [],
   "source": [
    "# уберем для удобства экспонентациальные формы при выводе данных\n",
    "pd.set_option('display.float_format', '{:,.2f}'.format)\n",
    "\n",
    "# уберем ограничение на количество выводимых столбцов\n",
    "pd.set_option('display.max_columns', None)"
   ]
  },
  {
   "cell_type": "code",
   "execution_count": 3,
   "metadata": {},
   "outputs": [],
   "source": [
    "# отключим некритические предупреждения в коде\n",
    "warnings.filterwarnings(\"ignore\")"
   ]
  },
  {
   "cell_type": "code",
   "execution_count": 4,
   "metadata": {},
   "outputs": [],
   "source": [
    "# Читаем файл\n",
    "df = pd.read_csv('/datasets/games.csv')"
   ]
  },
  {
   "cell_type": "code",
   "execution_count": 5,
   "metadata": {},
   "outputs": [
    {
     "data": {
      "text/html": [
       "<div>\n",
       "<style scoped>\n",
       "    .dataframe tbody tr th:only-of-type {\n",
       "        vertical-align: middle;\n",
       "    }\n",
       "\n",
       "    .dataframe tbody tr th {\n",
       "        vertical-align: top;\n",
       "    }\n",
       "\n",
       "    .dataframe thead th {\n",
       "        text-align: right;\n",
       "    }\n",
       "</style>\n",
       "<table border=\"1\" class=\"dataframe\">\n",
       "  <thead>\n",
       "    <tr style=\"text-align: right;\">\n",
       "      <th></th>\n",
       "      <th>Name</th>\n",
       "      <th>Platform</th>\n",
       "      <th>Year_of_Release</th>\n",
       "      <th>Genre</th>\n",
       "      <th>NA_sales</th>\n",
       "      <th>EU_sales</th>\n",
       "      <th>JP_sales</th>\n",
       "      <th>Other_sales</th>\n",
       "      <th>Critic_Score</th>\n",
       "      <th>User_Score</th>\n",
       "      <th>Rating</th>\n",
       "    </tr>\n",
       "  </thead>\n",
       "  <tbody>\n",
       "    <tr>\n",
       "      <th>0</th>\n",
       "      <td>Wii Sports</td>\n",
       "      <td>Wii</td>\n",
       "      <td>2,006.00</td>\n",
       "      <td>Sports</td>\n",
       "      <td>41.36</td>\n",
       "      <td>28.96</td>\n",
       "      <td>3.77</td>\n",
       "      <td>8.45</td>\n",
       "      <td>76.00</td>\n",
       "      <td>8</td>\n",
       "      <td>E</td>\n",
       "    </tr>\n",
       "    <tr>\n",
       "      <th>1</th>\n",
       "      <td>Super Mario Bros.</td>\n",
       "      <td>NES</td>\n",
       "      <td>1,985.00</td>\n",
       "      <td>Platform</td>\n",
       "      <td>29.08</td>\n",
       "      <td>3.58</td>\n",
       "      <td>6.81</td>\n",
       "      <td>0.77</td>\n",
       "      <td>NaN</td>\n",
       "      <td>NaN</td>\n",
       "      <td>NaN</td>\n",
       "    </tr>\n",
       "    <tr>\n",
       "      <th>2</th>\n",
       "      <td>Mario Kart Wii</td>\n",
       "      <td>Wii</td>\n",
       "      <td>2,008.00</td>\n",
       "      <td>Racing</td>\n",
       "      <td>15.68</td>\n",
       "      <td>12.76</td>\n",
       "      <td>3.79</td>\n",
       "      <td>3.29</td>\n",
       "      <td>82.00</td>\n",
       "      <td>8.3</td>\n",
       "      <td>E</td>\n",
       "    </tr>\n",
       "    <tr>\n",
       "      <th>3</th>\n",
       "      <td>Wii Sports Resort</td>\n",
       "      <td>Wii</td>\n",
       "      <td>2,009.00</td>\n",
       "      <td>Sports</td>\n",
       "      <td>15.61</td>\n",
       "      <td>10.93</td>\n",
       "      <td>3.28</td>\n",
       "      <td>2.95</td>\n",
       "      <td>80.00</td>\n",
       "      <td>8</td>\n",
       "      <td>E</td>\n",
       "    </tr>\n",
       "    <tr>\n",
       "      <th>4</th>\n",
       "      <td>Pokemon Red/Pokemon Blue</td>\n",
       "      <td>GB</td>\n",
       "      <td>1,996.00</td>\n",
       "      <td>Role-Playing</td>\n",
       "      <td>11.27</td>\n",
       "      <td>8.89</td>\n",
       "      <td>10.22</td>\n",
       "      <td>1.00</td>\n",
       "      <td>NaN</td>\n",
       "      <td>NaN</td>\n",
       "      <td>NaN</td>\n",
       "    </tr>\n",
       "    <tr>\n",
       "      <th>5</th>\n",
       "      <td>Tetris</td>\n",
       "      <td>GB</td>\n",
       "      <td>1,989.00</td>\n",
       "      <td>Puzzle</td>\n",
       "      <td>23.20</td>\n",
       "      <td>2.26</td>\n",
       "      <td>4.22</td>\n",
       "      <td>0.58</td>\n",
       "      <td>NaN</td>\n",
       "      <td>NaN</td>\n",
       "      <td>NaN</td>\n",
       "    </tr>\n",
       "    <tr>\n",
       "      <th>6</th>\n",
       "      <td>New Super Mario Bros.</td>\n",
       "      <td>DS</td>\n",
       "      <td>2,006.00</td>\n",
       "      <td>Platform</td>\n",
       "      <td>11.28</td>\n",
       "      <td>9.14</td>\n",
       "      <td>6.50</td>\n",
       "      <td>2.88</td>\n",
       "      <td>89.00</td>\n",
       "      <td>8.5</td>\n",
       "      <td>E</td>\n",
       "    </tr>\n",
       "    <tr>\n",
       "      <th>7</th>\n",
       "      <td>Wii Play</td>\n",
       "      <td>Wii</td>\n",
       "      <td>2,006.00</td>\n",
       "      <td>Misc</td>\n",
       "      <td>13.96</td>\n",
       "      <td>9.18</td>\n",
       "      <td>2.93</td>\n",
       "      <td>2.84</td>\n",
       "      <td>58.00</td>\n",
       "      <td>6.6</td>\n",
       "      <td>E</td>\n",
       "    </tr>\n",
       "    <tr>\n",
       "      <th>8</th>\n",
       "      <td>New Super Mario Bros. Wii</td>\n",
       "      <td>Wii</td>\n",
       "      <td>2,009.00</td>\n",
       "      <td>Platform</td>\n",
       "      <td>14.44</td>\n",
       "      <td>6.94</td>\n",
       "      <td>4.70</td>\n",
       "      <td>2.24</td>\n",
       "      <td>87.00</td>\n",
       "      <td>8.4</td>\n",
       "      <td>E</td>\n",
       "    </tr>\n",
       "    <tr>\n",
       "      <th>9</th>\n",
       "      <td>Duck Hunt</td>\n",
       "      <td>NES</td>\n",
       "      <td>1,984.00</td>\n",
       "      <td>Shooter</td>\n",
       "      <td>26.93</td>\n",
       "      <td>0.63</td>\n",
       "      <td>0.28</td>\n",
       "      <td>0.47</td>\n",
       "      <td>NaN</td>\n",
       "      <td>NaN</td>\n",
       "      <td>NaN</td>\n",
       "    </tr>\n",
       "  </tbody>\n",
       "</table>\n",
       "</div>"
      ],
      "text/plain": [
       "                        Name Platform  Year_of_Release         Genre  \\\n",
       "0                 Wii Sports      Wii         2,006.00        Sports   \n",
       "1          Super Mario Bros.      NES         1,985.00      Platform   \n",
       "2             Mario Kart Wii      Wii         2,008.00        Racing   \n",
       "3          Wii Sports Resort      Wii         2,009.00        Sports   \n",
       "4   Pokemon Red/Pokemon Blue       GB         1,996.00  Role-Playing   \n",
       "5                     Tetris       GB         1,989.00        Puzzle   \n",
       "6      New Super Mario Bros.       DS         2,006.00      Platform   \n",
       "7                   Wii Play      Wii         2,006.00          Misc   \n",
       "8  New Super Mario Bros. Wii      Wii         2,009.00      Platform   \n",
       "9                  Duck Hunt      NES         1,984.00       Shooter   \n",
       "\n",
       "   NA_sales  EU_sales  JP_sales  Other_sales  Critic_Score User_Score Rating  \n",
       "0     41.36     28.96      3.77         8.45         76.00          8      E  \n",
       "1     29.08      3.58      6.81         0.77           NaN        NaN    NaN  \n",
       "2     15.68     12.76      3.79         3.29         82.00        8.3      E  \n",
       "3     15.61     10.93      3.28         2.95         80.00          8      E  \n",
       "4     11.27      8.89     10.22         1.00           NaN        NaN    NaN  \n",
       "5     23.20      2.26      4.22         0.58           NaN        NaN    NaN  \n",
       "6     11.28      9.14      6.50         2.88         89.00        8.5      E  \n",
       "7     13.96      9.18      2.93         2.84         58.00        6.6      E  \n",
       "8     14.44      6.94      4.70         2.24         87.00        8.4      E  \n",
       "9     26.93      0.63      0.28         0.47           NaN        NaN    NaN  "
      ]
     },
     "execution_count": 5,
     "metadata": {},
     "output_type": "execute_result"
    }
   ],
   "source": [
    "#Посмотрим, что вообще есть\n",
    "df.head(10)"
   ]
  },
  {
   "cell_type": "markdown",
   "metadata": {},
   "source": [
    "###### Описание данных:\n",
    " \n",
    "- Name — название игры\n",
    "- Platform — платформа\n",
    "- Year_of_Release — год выпуска\n",
    "- Genre — жанр игры\n",
    "- NA_sales — продажи в Северной Америке (миллионы долларов)\n",
    "- EU_sales — продажи в Европе (миллионы долларов)\n",
    "- JP_sales — продажи в Японии (миллионы долларов)\n",
    "- Other_sales — продажи в других странах (миллионы долларов)\n",
    "- Critic_Score — оценка критиков (максимум 100)\n",
    "- User_Score — оценка пользователей (максимум 10)\n",
    "- Rating — рейтинг от организации ESRB (англ. Entertainment Software Rating Board). Эта ассоциация определяет рейтинг компьютерных игр и присваивает им подходящую возрастную категорию."
   ]
  },
  {
   "cell_type": "code",
   "execution_count": 6,
   "metadata": {},
   "outputs": [
    {
     "name": "stdout",
     "output_type": "stream",
     "text": [
      "<class 'pandas.core.frame.DataFrame'>\n",
      "RangeIndex: 16715 entries, 0 to 16714\n",
      "Data columns (total 11 columns):\n",
      " #   Column           Non-Null Count  Dtype  \n",
      "---  ------           --------------  -----  \n",
      " 0   Name             16713 non-null  object \n",
      " 1   Platform         16715 non-null  object \n",
      " 2   Year_of_Release  16446 non-null  float64\n",
      " 3   Genre            16713 non-null  object \n",
      " 4   NA_sales         16715 non-null  float64\n",
      " 5   EU_sales         16715 non-null  float64\n",
      " 6   JP_sales         16715 non-null  float64\n",
      " 7   Other_sales      16715 non-null  float64\n",
      " 8   Critic_Score     8137 non-null   float64\n",
      " 9   User_Score       10014 non-null  object \n",
      " 10  Rating           9949 non-null   object \n",
      "dtypes: float64(6), object(5)\n",
      "memory usage: 1.4+ MB\n"
     ]
    }
   ],
   "source": [
    "# Посмотрим на типы колонок\n",
    "df.info()"
   ]
  },
  {
   "cell_type": "code",
   "execution_count": null,
   "metadata": {},
   "outputs": [],
   "source": []
  },
  {
   "cell_type": "markdown",
   "metadata": {},
   "source": [
    "Можно заметить, что колонки лучше привести к \"змеевидному стилю\", а колонки User_Score и  User_Score возможно лучше перевести в числовые (вместо обьект). Также есть пропуски в данных, будем думать, что с ними делать"
   ]
  },
  {
   "cell_type": "markdown",
   "metadata": {},
   "source": [
    "## Предобработка"
   ]
  },
  {
   "cell_type": "code",
   "execution_count": 7,
   "metadata": {},
   "outputs": [
    {
     "data": {
      "text/html": [
       "<div>\n",
       "<style scoped>\n",
       "    .dataframe tbody tr th:only-of-type {\n",
       "        vertical-align: middle;\n",
       "    }\n",
       "\n",
       "    .dataframe tbody tr th {\n",
       "        vertical-align: top;\n",
       "    }\n",
       "\n",
       "    .dataframe thead th {\n",
       "        text-align: right;\n",
       "    }\n",
       "</style>\n",
       "<table border=\"1\" class=\"dataframe\">\n",
       "  <thead>\n",
       "    <tr style=\"text-align: right;\">\n",
       "      <th></th>\n",
       "      <th>name</th>\n",
       "      <th>platform</th>\n",
       "      <th>year_of_release</th>\n",
       "      <th>genre</th>\n",
       "      <th>na_sales</th>\n",
       "      <th>eu_sales</th>\n",
       "      <th>jp_sales</th>\n",
       "      <th>other_sales</th>\n",
       "      <th>critic_score</th>\n",
       "      <th>user_score</th>\n",
       "      <th>rating</th>\n",
       "    </tr>\n",
       "  </thead>\n",
       "  <tbody>\n",
       "    <tr>\n",
       "      <th>0</th>\n",
       "      <td>Wii Sports</td>\n",
       "      <td>Wii</td>\n",
       "      <td>2,006.00</td>\n",
       "      <td>Sports</td>\n",
       "      <td>41.36</td>\n",
       "      <td>28.96</td>\n",
       "      <td>3.77</td>\n",
       "      <td>8.45</td>\n",
       "      <td>76.00</td>\n",
       "      <td>8</td>\n",
       "      <td>E</td>\n",
       "    </tr>\n",
       "    <tr>\n",
       "      <th>1</th>\n",
       "      <td>Super Mario Bros.</td>\n",
       "      <td>NES</td>\n",
       "      <td>1,985.00</td>\n",
       "      <td>Platform</td>\n",
       "      <td>29.08</td>\n",
       "      <td>3.58</td>\n",
       "      <td>6.81</td>\n",
       "      <td>0.77</td>\n",
       "      <td>NaN</td>\n",
       "      <td>NaN</td>\n",
       "      <td>NaN</td>\n",
       "    </tr>\n",
       "    <tr>\n",
       "      <th>2</th>\n",
       "      <td>Mario Kart Wii</td>\n",
       "      <td>Wii</td>\n",
       "      <td>2,008.00</td>\n",
       "      <td>Racing</td>\n",
       "      <td>15.68</td>\n",
       "      <td>12.76</td>\n",
       "      <td>3.79</td>\n",
       "      <td>3.29</td>\n",
       "      <td>82.00</td>\n",
       "      <td>8.3</td>\n",
       "      <td>E</td>\n",
       "    </tr>\n",
       "    <tr>\n",
       "      <th>3</th>\n",
       "      <td>Wii Sports Resort</td>\n",
       "      <td>Wii</td>\n",
       "      <td>2,009.00</td>\n",
       "      <td>Sports</td>\n",
       "      <td>15.61</td>\n",
       "      <td>10.93</td>\n",
       "      <td>3.28</td>\n",
       "      <td>2.95</td>\n",
       "      <td>80.00</td>\n",
       "      <td>8</td>\n",
       "      <td>E</td>\n",
       "    </tr>\n",
       "    <tr>\n",
       "      <th>4</th>\n",
       "      <td>Pokemon Red/Pokemon Blue</td>\n",
       "      <td>GB</td>\n",
       "      <td>1,996.00</td>\n",
       "      <td>Role-Playing</td>\n",
       "      <td>11.27</td>\n",
       "      <td>8.89</td>\n",
       "      <td>10.22</td>\n",
       "      <td>1.00</td>\n",
       "      <td>NaN</td>\n",
       "      <td>NaN</td>\n",
       "      <td>NaN</td>\n",
       "    </tr>\n",
       "  </tbody>\n",
       "</table>\n",
       "</div>"
      ],
      "text/plain": [
       "                       name platform  year_of_release         genre  na_sales  \\\n",
       "0                Wii Sports      Wii         2,006.00        Sports     41.36   \n",
       "1         Super Mario Bros.      NES         1,985.00      Platform     29.08   \n",
       "2            Mario Kart Wii      Wii         2,008.00        Racing     15.68   \n",
       "3         Wii Sports Resort      Wii         2,009.00        Sports     15.61   \n",
       "4  Pokemon Red/Pokemon Blue       GB         1,996.00  Role-Playing     11.27   \n",
       "\n",
       "   eu_sales  jp_sales  other_sales  critic_score user_score rating  \n",
       "0     28.96      3.77         8.45         76.00          8      E  \n",
       "1      3.58      6.81         0.77           NaN        NaN    NaN  \n",
       "2     12.76      3.79         3.29         82.00        8.3      E  \n",
       "3     10.93      3.28         2.95         80.00          8      E  \n",
       "4      8.89     10.22         1.00           NaN        NaN    NaN  "
      ]
     },
     "execution_count": 7,
     "metadata": {},
     "output_type": "execute_result"
    }
   ],
   "source": [
    "# Приведем названия всех столбцов к нижнему регистру (и проверим):\n",
    "df.columns = df.columns.str.lower()\n",
    "df.head()"
   ]
  },
  {
   "cell_type": "markdown",
   "metadata": {},
   "source": [
    "### Заполним пропуски и изменим тип данных"
   ]
  },
  {
   "cell_type": "code",
   "execution_count": 8,
   "metadata": {},
   "outputs": [
    {
     "name": "stdout",
     "output_type": "stream",
     "text": [
      "<class 'pandas.core.frame.DataFrame'>\n",
      "RangeIndex: 16715 entries, 0 to 16714\n",
      "Data columns (total 11 columns):\n",
      " #   Column           Non-Null Count  Dtype  \n",
      "---  ------           --------------  -----  \n",
      " 0   name             16713 non-null  object \n",
      " 1   platform         16715 non-null  object \n",
      " 2   year_of_release  16446 non-null  float64\n",
      " 3   genre            16713 non-null  object \n",
      " 4   na_sales         16715 non-null  float64\n",
      " 5   eu_sales         16715 non-null  float64\n",
      " 6   jp_sales         16715 non-null  float64\n",
      " 7   other_sales      16715 non-null  float64\n",
      " 8   critic_score     8137 non-null   float64\n",
      " 9   user_score       10014 non-null  object \n",
      " 10  rating           9949 non-null   object \n",
      "dtypes: float64(6), object(5)\n",
      "memory usage: 1.4+ MB\n"
     ]
    }
   ],
   "source": [
    "# Посмотрим еще раз на столбцы\n",
    "df.info()"
   ]
  },
  {
   "cell_type": "code",
   "execution_count": 9,
   "metadata": {},
   "outputs": [
    {
     "data": {
      "text/html": [
       "<div>\n",
       "<style scoped>\n",
       "    .dataframe tbody tr th:only-of-type {\n",
       "        vertical-align: middle;\n",
       "    }\n",
       "\n",
       "    .dataframe tbody tr th {\n",
       "        vertical-align: top;\n",
       "    }\n",
       "\n",
       "    .dataframe thead th {\n",
       "        text-align: right;\n",
       "    }\n",
       "</style>\n",
       "<table border=\"1\" class=\"dataframe\">\n",
       "  <thead>\n",
       "    <tr style=\"text-align: right;\">\n",
       "      <th></th>\n",
       "      <th>name</th>\n",
       "      <th>platform</th>\n",
       "      <th>year_of_release</th>\n",
       "      <th>genre</th>\n",
       "      <th>na_sales</th>\n",
       "      <th>eu_sales</th>\n",
       "      <th>jp_sales</th>\n",
       "      <th>other_sales</th>\n",
       "      <th>critic_score</th>\n",
       "      <th>user_score</th>\n",
       "      <th>rating</th>\n",
       "    </tr>\n",
       "  </thead>\n",
       "  <tbody>\n",
       "    <tr>\n",
       "      <th>659</th>\n",
       "      <td>NaN</td>\n",
       "      <td>GEN</td>\n",
       "      <td>1,993.00</td>\n",
       "      <td>NaN</td>\n",
       "      <td>1.78</td>\n",
       "      <td>0.53</td>\n",
       "      <td>0.00</td>\n",
       "      <td>0.08</td>\n",
       "      <td>NaN</td>\n",
       "      <td>NaN</td>\n",
       "      <td>NaN</td>\n",
       "    </tr>\n",
       "    <tr>\n",
       "      <th>14244</th>\n",
       "      <td>NaN</td>\n",
       "      <td>GEN</td>\n",
       "      <td>1,993.00</td>\n",
       "      <td>NaN</td>\n",
       "      <td>0.00</td>\n",
       "      <td>0.00</td>\n",
       "      <td>0.03</td>\n",
       "      <td>0.00</td>\n",
       "      <td>NaN</td>\n",
       "      <td>NaN</td>\n",
       "      <td>NaN</td>\n",
       "    </tr>\n",
       "  </tbody>\n",
       "</table>\n",
       "</div>"
      ],
      "text/plain": [
       "      name platform  year_of_release genre  na_sales  eu_sales  jp_sales  \\\n",
       "659    NaN      GEN         1,993.00   NaN      1.78      0.53      0.00   \n",
       "14244  NaN      GEN         1,993.00   NaN      0.00      0.00      0.03   \n",
       "\n",
       "       other_sales  critic_score user_score rating  \n",
       "659           0.08           NaN        NaN    NaN  \n",
       "14244         0.00           NaN        NaN    NaN  "
      ]
     },
     "execution_count": 9,
     "metadata": {},
     "output_type": "execute_result"
    }
   ],
   "source": [
    "# Посмотрим, что за пропуски в колонке \"name\" \n",
    "df[df.name.isna()]"
   ]
  },
  {
   "cell_type": "code",
   "execution_count": 10,
   "metadata": {},
   "outputs": [
    {
     "data": {
      "text/plain": [
       "(16713, 11)"
      ]
     },
     "execution_count": 10,
     "metadata": {},
     "output_type": "execute_result"
    }
   ],
   "source": [
    "# 2 значения, думаю можно удалить ()\n",
    "df.dropna(subset=['name'],inplace=True)\n",
    "df.shape"
   ]
  },
  {
   "cell_type": "markdown",
   "metadata": {},
   "source": [
    "#### year_of_release: Заполним пропуски и изменим тип данных"
   ]
  },
  {
   "cell_type": "code",
   "execution_count": 11,
   "metadata": {},
   "outputs": [
    {
     "data": {
      "text/plain": [
       "count   16,444.00\n",
       "mean     2,006.49\n",
       "std          5.88\n",
       "min      1,980.00\n",
       "25%      2,003.00\n",
       "50%      2,007.00\n",
       "75%      2,010.00\n",
       "max      2,016.00\n",
       "Name: year_of_release, dtype: float64"
      ]
     },
     "execution_count": 11,
     "metadata": {},
     "output_type": "execute_result"
    }
   ],
   "source": [
    "# выведем описательную статистику по столбцу year_of_release\n",
    "df.year_of_release.describe()"
   ]
  },
  {
   "cell_type": "code",
   "execution_count": 12,
   "metadata": {},
   "outputs": [
    {
     "data": {
      "text/html": [
       "<div>\n",
       "<style scoped>\n",
       "    .dataframe tbody tr th:only-of-type {\n",
       "        vertical-align: middle;\n",
       "    }\n",
       "\n",
       "    .dataframe tbody tr th {\n",
       "        vertical-align: top;\n",
       "    }\n",
       "\n",
       "    .dataframe thead th {\n",
       "        text-align: right;\n",
       "    }\n",
       "</style>\n",
       "<table border=\"1\" class=\"dataframe\">\n",
       "  <thead>\n",
       "    <tr style=\"text-align: right;\">\n",
       "      <th></th>\n",
       "      <th>name</th>\n",
       "      <th>platform</th>\n",
       "      <th>year_of_release</th>\n",
       "      <th>genre</th>\n",
       "      <th>na_sales</th>\n",
       "      <th>eu_sales</th>\n",
       "      <th>jp_sales</th>\n",
       "      <th>other_sales</th>\n",
       "      <th>critic_score</th>\n",
       "      <th>user_score</th>\n",
       "      <th>rating</th>\n",
       "    </tr>\n",
       "  </thead>\n",
       "  <tbody>\n",
       "    <tr>\n",
       "      <th>183</th>\n",
       "      <td>Madden NFL 2004</td>\n",
       "      <td>PS2</td>\n",
       "      <td>NaN</td>\n",
       "      <td>Sports</td>\n",
       "      <td>4.26</td>\n",
       "      <td>0.26</td>\n",
       "      <td>0.01</td>\n",
       "      <td>0.71</td>\n",
       "      <td>94.00</td>\n",
       "      <td>8.5</td>\n",
       "      <td>E</td>\n",
       "    </tr>\n",
       "    <tr>\n",
       "      <th>377</th>\n",
       "      <td>FIFA Soccer 2004</td>\n",
       "      <td>PS2</td>\n",
       "      <td>NaN</td>\n",
       "      <td>Sports</td>\n",
       "      <td>0.59</td>\n",
       "      <td>2.36</td>\n",
       "      <td>0.04</td>\n",
       "      <td>0.51</td>\n",
       "      <td>84.00</td>\n",
       "      <td>6.4</td>\n",
       "      <td>E</td>\n",
       "    </tr>\n",
       "    <tr>\n",
       "      <th>456</th>\n",
       "      <td>LEGO Batman: The Videogame</td>\n",
       "      <td>Wii</td>\n",
       "      <td>NaN</td>\n",
       "      <td>Action</td>\n",
       "      <td>1.80</td>\n",
       "      <td>0.97</td>\n",
       "      <td>0.00</td>\n",
       "      <td>0.29</td>\n",
       "      <td>74.00</td>\n",
       "      <td>7.9</td>\n",
       "      <td>E10+</td>\n",
       "    </tr>\n",
       "    <tr>\n",
       "      <th>475</th>\n",
       "      <td>wwe Smackdown vs. Raw 2006</td>\n",
       "      <td>PS2</td>\n",
       "      <td>NaN</td>\n",
       "      <td>Fighting</td>\n",
       "      <td>1.57</td>\n",
       "      <td>1.02</td>\n",
       "      <td>0.00</td>\n",
       "      <td>0.41</td>\n",
       "      <td>NaN</td>\n",
       "      <td>NaN</td>\n",
       "      <td>NaN</td>\n",
       "    </tr>\n",
       "    <tr>\n",
       "      <th>609</th>\n",
       "      <td>Space Invaders</td>\n",
       "      <td>2600</td>\n",
       "      <td>NaN</td>\n",
       "      <td>Shooter</td>\n",
       "      <td>2.36</td>\n",
       "      <td>0.14</td>\n",
       "      <td>0.00</td>\n",
       "      <td>0.03</td>\n",
       "      <td>NaN</td>\n",
       "      <td>NaN</td>\n",
       "      <td>NaN</td>\n",
       "    </tr>\n",
       "    <tr>\n",
       "      <th>...</th>\n",
       "      <td>...</td>\n",
       "      <td>...</td>\n",
       "      <td>...</td>\n",
       "      <td>...</td>\n",
       "      <td>...</td>\n",
       "      <td>...</td>\n",
       "      <td>...</td>\n",
       "      <td>...</td>\n",
       "      <td>...</td>\n",
       "      <td>...</td>\n",
       "      <td>...</td>\n",
       "    </tr>\n",
       "    <tr>\n",
       "      <th>16373</th>\n",
       "      <td>PDC World Championship Darts 2008</td>\n",
       "      <td>PSP</td>\n",
       "      <td>NaN</td>\n",
       "      <td>Sports</td>\n",
       "      <td>0.01</td>\n",
       "      <td>0.00</td>\n",
       "      <td>0.00</td>\n",
       "      <td>0.00</td>\n",
       "      <td>43.00</td>\n",
       "      <td>tbd</td>\n",
       "      <td>E10+</td>\n",
       "    </tr>\n",
       "    <tr>\n",
       "      <th>16405</th>\n",
       "      <td>Freaky Flyers</td>\n",
       "      <td>GC</td>\n",
       "      <td>NaN</td>\n",
       "      <td>Racing</td>\n",
       "      <td>0.01</td>\n",
       "      <td>0.00</td>\n",
       "      <td>0.00</td>\n",
       "      <td>0.00</td>\n",
       "      <td>69.00</td>\n",
       "      <td>6.5</td>\n",
       "      <td>T</td>\n",
       "    </tr>\n",
       "    <tr>\n",
       "      <th>16448</th>\n",
       "      <td>Inversion</td>\n",
       "      <td>PC</td>\n",
       "      <td>NaN</td>\n",
       "      <td>Shooter</td>\n",
       "      <td>0.01</td>\n",
       "      <td>0.00</td>\n",
       "      <td>0.00</td>\n",
       "      <td>0.00</td>\n",
       "      <td>59.00</td>\n",
       "      <td>6.7</td>\n",
       "      <td>M</td>\n",
       "    </tr>\n",
       "    <tr>\n",
       "      <th>16458</th>\n",
       "      <td>Hakuouki: Shinsengumi Kitan</td>\n",
       "      <td>PS3</td>\n",
       "      <td>NaN</td>\n",
       "      <td>Adventure</td>\n",
       "      <td>0.01</td>\n",
       "      <td>0.00</td>\n",
       "      <td>0.00</td>\n",
       "      <td>0.00</td>\n",
       "      <td>NaN</td>\n",
       "      <td>NaN</td>\n",
       "      <td>NaN</td>\n",
       "    </tr>\n",
       "    <tr>\n",
       "      <th>16522</th>\n",
       "      <td>Virtua Quest</td>\n",
       "      <td>GC</td>\n",
       "      <td>NaN</td>\n",
       "      <td>Role-Playing</td>\n",
       "      <td>0.01</td>\n",
       "      <td>0.00</td>\n",
       "      <td>0.00</td>\n",
       "      <td>0.00</td>\n",
       "      <td>55.00</td>\n",
       "      <td>5.5</td>\n",
       "      <td>T</td>\n",
       "    </tr>\n",
       "  </tbody>\n",
       "</table>\n",
       "<p>269 rows × 11 columns</p>\n",
       "</div>"
      ],
      "text/plain": [
       "                                    name platform  year_of_release  \\\n",
       "183                      Madden NFL 2004      PS2              NaN   \n",
       "377                     FIFA Soccer 2004      PS2              NaN   \n",
       "456           LEGO Batman: The Videogame      Wii              NaN   \n",
       "475           wwe Smackdown vs. Raw 2006      PS2              NaN   \n",
       "609                       Space Invaders     2600              NaN   \n",
       "...                                  ...      ...              ...   \n",
       "16373  PDC World Championship Darts 2008      PSP              NaN   \n",
       "16405                      Freaky Flyers       GC              NaN   \n",
       "16448                          Inversion       PC              NaN   \n",
       "16458        Hakuouki: Shinsengumi Kitan      PS3              NaN   \n",
       "16522                       Virtua Quest       GC              NaN   \n",
       "\n",
       "              genre  na_sales  eu_sales  jp_sales  other_sales  critic_score  \\\n",
       "183          Sports      4.26      0.26      0.01         0.71         94.00   \n",
       "377          Sports      0.59      2.36      0.04         0.51         84.00   \n",
       "456          Action      1.80      0.97      0.00         0.29         74.00   \n",
       "475        Fighting      1.57      1.02      0.00         0.41           NaN   \n",
       "609         Shooter      2.36      0.14      0.00         0.03           NaN   \n",
       "...             ...       ...       ...       ...          ...           ...   \n",
       "16373        Sports      0.01      0.00      0.00         0.00         43.00   \n",
       "16405        Racing      0.01      0.00      0.00         0.00         69.00   \n",
       "16448       Shooter      0.01      0.00      0.00         0.00         59.00   \n",
       "16458     Adventure      0.01      0.00      0.00         0.00           NaN   \n",
       "16522  Role-Playing      0.01      0.00      0.00         0.00         55.00   \n",
       "\n",
       "      user_score rating  \n",
       "183          8.5      E  \n",
       "377          6.4      E  \n",
       "456          7.9   E10+  \n",
       "475          NaN    NaN  \n",
       "609          NaN    NaN  \n",
       "...          ...    ...  \n",
       "16373        tbd   E10+  \n",
       "16405        6.5      T  \n",
       "16448        6.7      M  \n",
       "16458        NaN    NaN  \n",
       "16522        5.5      T  \n",
       "\n",
       "[269 rows x 11 columns]"
      ]
     },
     "execution_count": 12,
     "metadata": {},
     "output_type": "execute_result"
    }
   ],
   "source": [
    "# посмотрим строки, в которых пропущен год выпуска игры  (269 штук, не мало)\n",
    "df[df.year_of_release.isna()]\n"
   ]
  },
  {
   "cell_type": "markdown",
   "metadata": {},
   "source": [
    "Казалось бы, просто решение, использовать год из названия. Проверим на первой же игре"
   ]
  },
  {
   "cell_type": "code",
   "execution_count": 13,
   "metadata": {},
   "outputs": [
    {
     "data": {
      "text/html": [
       "<div>\n",
       "<style scoped>\n",
       "    .dataframe tbody tr th:only-of-type {\n",
       "        vertical-align: middle;\n",
       "    }\n",
       "\n",
       "    .dataframe tbody tr th {\n",
       "        vertical-align: top;\n",
       "    }\n",
       "\n",
       "    .dataframe thead th {\n",
       "        text-align: right;\n",
       "    }\n",
       "</style>\n",
       "<table border=\"1\" class=\"dataframe\">\n",
       "  <thead>\n",
       "    <tr style=\"text-align: right;\">\n",
       "      <th></th>\n",
       "      <th>name</th>\n",
       "      <th>platform</th>\n",
       "      <th>year_of_release</th>\n",
       "      <th>genre</th>\n",
       "      <th>na_sales</th>\n",
       "      <th>eu_sales</th>\n",
       "      <th>jp_sales</th>\n",
       "      <th>other_sales</th>\n",
       "      <th>critic_score</th>\n",
       "      <th>user_score</th>\n",
       "      <th>rating</th>\n",
       "    </tr>\n",
       "  </thead>\n",
       "  <tbody>\n",
       "    <tr>\n",
       "      <th>183</th>\n",
       "      <td>Madden NFL 2004</td>\n",
       "      <td>PS2</td>\n",
       "      <td>NaN</td>\n",
       "      <td>Sports</td>\n",
       "      <td>4.26</td>\n",
       "      <td>0.26</td>\n",
       "      <td>0.01</td>\n",
       "      <td>0.71</td>\n",
       "      <td>94.00</td>\n",
       "      <td>8.5</td>\n",
       "      <td>E</td>\n",
       "    </tr>\n",
       "    <tr>\n",
       "      <th>1881</th>\n",
       "      <td>Madden NFL 2004</td>\n",
       "      <td>XB</td>\n",
       "      <td>2,003.00</td>\n",
       "      <td>Sports</td>\n",
       "      <td>1.02</td>\n",
       "      <td>0.02</td>\n",
       "      <td>0.00</td>\n",
       "      <td>0.05</td>\n",
       "      <td>92.00</td>\n",
       "      <td>8.3</td>\n",
       "      <td>E</td>\n",
       "    </tr>\n",
       "    <tr>\n",
       "      <th>3889</th>\n",
       "      <td>Madden NFL 2004</td>\n",
       "      <td>GC</td>\n",
       "      <td>2,003.00</td>\n",
       "      <td>Sports</td>\n",
       "      <td>0.40</td>\n",
       "      <td>0.10</td>\n",
       "      <td>0.00</td>\n",
       "      <td>0.01</td>\n",
       "      <td>94.00</td>\n",
       "      <td>7.7</td>\n",
       "      <td>E</td>\n",
       "    </tr>\n",
       "    <tr>\n",
       "      <th>5708</th>\n",
       "      <td>Madden NFL 2004</td>\n",
       "      <td>GBA</td>\n",
       "      <td>2,003.00</td>\n",
       "      <td>Sports</td>\n",
       "      <td>0.22</td>\n",
       "      <td>0.08</td>\n",
       "      <td>0.00</td>\n",
       "      <td>0.01</td>\n",
       "      <td>70.00</td>\n",
       "      <td>6.6</td>\n",
       "      <td>E</td>\n",
       "    </tr>\n",
       "  </tbody>\n",
       "</table>\n",
       "</div>"
      ],
      "text/plain": [
       "                 name platform  year_of_release   genre  na_sales  eu_sales  \\\n",
       "183   Madden NFL 2004      PS2              NaN  Sports      4.26      0.26   \n",
       "1881  Madden NFL 2004       XB         2,003.00  Sports      1.02      0.02   \n",
       "3889  Madden NFL 2004       GC         2,003.00  Sports      0.40      0.10   \n",
       "5708  Madden NFL 2004      GBA         2,003.00  Sports      0.22      0.08   \n",
       "\n",
       "      jp_sales  other_sales  critic_score user_score rating  \n",
       "183       0.01         0.71         94.00        8.5      E  \n",
       "1881      0.00         0.05         92.00        8.3      E  \n",
       "3889      0.00         0.01         94.00        7.7      E  \n",
       "5708      0.00         0.01         70.00        6.6      E  "
      ]
     },
     "execution_count": 13,
     "metadata": {},
     "output_type": "execute_result"
    }
   ],
   "source": [
    "# посмотрим (отфилтровав) данные по названию первой игры, по которой пропущена информация о годе выпуска\n",
    "df[df.name=='Madden NFL 2004']"
   ]
  },
  {
   "cell_type": "markdown",
   "metadata": {},
   "source": [
    "Как бы не так, игра выпущена в 2003, несмотря на 2004 в заголовке. Легкого и простого пути заполнения пропущенных данных в столбце year_of_release нет. Это надо вручную делать. Что ж, удалим: 269/16444 = 0.16 невелика потеря"
   ]
  },
  {
   "cell_type": "code",
   "execution_count": 14,
   "metadata": {},
   "outputs": [
    {
     "data": {
      "text/plain": [
       "(16444, 11)"
      ]
     },
     "execution_count": 14,
     "metadata": {},
     "output_type": "execute_result"
    }
   ],
   "source": [
    "df.dropna(subset=['year_of_release'],inplace=True)  \n",
    "df.shape"
   ]
  },
  {
   "cell_type": "markdown",
   "metadata": {},
   "source": [
    "По столбцу year_of_release тип данных float заменим на integer"
   ]
  },
  {
   "cell_type": "code",
   "execution_count": 15,
   "metadata": {},
   "outputs": [
    {
     "data": {
      "text/plain": [
       "count   16,444.00\n",
       "mean     2,006.49\n",
       "std          5.88\n",
       "min      1,980.00\n",
       "25%      2,003.00\n",
       "50%      2,007.00\n",
       "75%      2,010.00\n",
       "max      2,016.00\n",
       "Name: year_of_release, dtype: float64"
      ]
     },
     "execution_count": 15,
     "metadata": {},
     "output_type": "execute_result"
    }
   ],
   "source": [
    "df['year_of_release'] = df['year_of_release'].astype('int')\n",
    "df.year_of_release.describe()"
   ]
  },
  {
   "cell_type": "markdown",
   "metadata": {},
   "source": [
    "Посмотрим, где остались пропуски"
   ]
  },
  {
   "cell_type": "code",
   "execution_count": 16,
   "metadata": {},
   "outputs": [
    {
     "name": "stdout",
     "output_type": "stream",
     "text": [
      "<class 'pandas.core.frame.DataFrame'>\n",
      "Int64Index: 16444 entries, 0 to 16714\n",
      "Data columns (total 11 columns):\n",
      " #   Column           Non-Null Count  Dtype  \n",
      "---  ------           --------------  -----  \n",
      " 0   name             16444 non-null  object \n",
      " 1   platform         16444 non-null  object \n",
      " 2   year_of_release  16444 non-null  int64  \n",
      " 3   genre            16444 non-null  object \n",
      " 4   na_sales         16444 non-null  float64\n",
      " 5   eu_sales         16444 non-null  float64\n",
      " 6   jp_sales         16444 non-null  float64\n",
      " 7   other_sales      16444 non-null  float64\n",
      " 8   critic_score     7983 non-null   float64\n",
      " 9   user_score       9839 non-null   object \n",
      " 10  rating           9768 non-null   object \n",
      "dtypes: float64(5), int64(1), object(5)\n",
      "memory usage: 1.5+ MB\n"
     ]
    }
   ],
   "source": [
    "df.info()"
   ]
  },
  {
   "cell_type": "markdown",
   "metadata": {},
   "source": [
    "Заполнять попуски в critic_score, user_score и rating будет некорректно, тк в этом случае мы получим неточные результаты в стат анализе. Да и как? при почти половине пропусков в этих колонках"
   ]
  },
  {
   "cell_type": "markdown",
   "metadata": {},
   "source": [
    "#### tbd в user_score"
   ]
  },
  {
   "cell_type": "markdown",
   "metadata": {},
   "source": [
    "TBD - аббревиатура от английского To Be Determined (будет определено) или To Be Decided (будет решено). Используется, если какая-то информация еще не определена или решение по вопросу не принято."
   ]
  },
  {
   "cell_type": "code",
   "execution_count": 17,
   "metadata": {},
   "outputs": [
    {
     "data": {
      "text/plain": [
       "7.8    322\n",
       "8      285\n",
       "8.2    276\n",
       "8.3    252\n",
       "7.5    249\n",
       "      ... \n",
       "1.1      2\n",
       "1        2\n",
       "0.3      2\n",
       "9.7      1\n",
       "0        1\n",
       "Name: user_score, Length: 95, dtype: int64"
      ]
     },
     "execution_count": 17,
     "metadata": {},
     "output_type": "execute_result"
    }
   ],
   "source": [
    "# Заменим tbd на none, чтобы не мешало при дальнейшем анализе \n",
    " \n",
    "df.loc[df['user_score'] == 'tbd', 'user_score'] = float('nan')\n",
    "df['user_score'].value_counts()"
   ]
  },
  {
   "cell_type": "code",
   "execution_count": 18,
   "metadata": {},
   "outputs": [
    {
     "data": {
      "text/plain": [
       "7.80    322\n",
       "8.00    285\n",
       "8.20    276\n",
       "8.30    252\n",
       "7.50    249\n",
       "       ... \n",
       "2.30      2\n",
       "0.70      2\n",
       "1.10      2\n",
       "9.70      1\n",
       "0.00      1\n",
       "Name: user_score, Length: 95, dtype: int64"
      ]
     },
     "execution_count": 18,
     "metadata": {},
     "output_type": "execute_result"
    }
   ],
   "source": [
    "# В колонке user_score тип данных object заменим на float. Применим метод astype(). \n",
    "# (мы уже выше меняли, но на всякий случай еще раз)\n",
    "df['user_score'] = df['user_score'].astype('float')\n",
    "df['user_score'].value_counts()"
   ]
  },
  {
   "cell_type": "markdown",
   "metadata": {},
   "source": [
    "#### Столбец rating"
   ]
  },
  {
   "cell_type": "markdown",
   "metadata": {},
   "source": [
    "Как уже писал выше, пропуски заполнять не будем, но можем посмотреть детальней, что происходит в этой колонке"
   ]
  },
  {
   "cell_type": "code",
   "execution_count": 19,
   "metadata": {},
   "outputs": [
    {
     "data": {
      "text/plain": [
       "E       3921\n",
       "T       2905\n",
       "M       1536\n",
       "E10+    1393\n",
       "EC         8\n",
       "K-A        3\n",
       "RP         1\n",
       "AO         1\n",
       "Name: rating, dtype: int64"
      ]
     },
     "execution_count": 19,
     "metadata": {},
     "output_type": "execute_result"
    }
   ],
   "source": [
    "df.rating.value_counts()"
   ]
  },
  {
   "cell_type": "markdown",
   "metadata": {},
   "source": [
    "Из википедии:\n",
    "\n",
    "- «EC» («Early childhood») — «Для детей младшего возраста»: Игра подходит для детей от 3 лет\n",
    "- «E» («Everyone») — «Для всех»: Содержание вполне подходит для возрастной категории от 6 лет.\n",
    "- «E10+» («Everyone 10 and older») — «Для всех от 10 лет и старше»\n",
    "- «T» («Teen») — «Подросткам» Игра подходит для лиц от 13 лет.\n",
    "- «M» («Mature») — «Для взрослых»: Материалы игры не подходят для подростков младше 17 лет\n",
    "- «AO» («Adults Only 18+») — «Только для взрослых»: Содержание игры только для взрослых старше 18 лет.\n",
    "- «RP» («Rating Pending») — «Рейтинг ожидается»:\n",
    "- K-A for Kids to Adults: Games that contain content that is suitable for a general audience. This rating was used until the year 1998 when it renamed to E"
   ]
  },
  {
   "cell_type": "markdown",
   "metadata": {},
   "source": [
    "Таким образом, значение  K-A можно смело заменить на \"E\" "
   ]
  },
  {
   "cell_type": "code",
   "execution_count": 20,
   "metadata": {},
   "outputs": [
    {
     "data": {
      "text/plain": [
       "E       3924\n",
       "T       2905\n",
       "M       1536\n",
       "E10+    1393\n",
       "EC         8\n",
       "RP         1\n",
       "AO         1\n",
       "Name: rating, dtype: int64"
      ]
     },
     "execution_count": 20,
     "metadata": {},
     "output_type": "execute_result"
    }
   ],
   "source": [
    "df.loc[df['rating']=='K-A','rating'] = 'E'\n",
    "df.rating.value_counts()"
   ]
  },
  {
   "cell_type": "code",
   "execution_count": 21,
   "metadata": {},
   "outputs": [
    {
     "data": {
      "text/plain": [
       "0.0"
      ]
     },
     "execution_count": 21,
     "metadata": {},
     "output_type": "execute_result"
    }
   ],
   "source": [
    "# Заполним пропущенные значения по рейтингу новой категорией unknown (неизвестно)\n",
    "df.rating.fillna('Unknown',inplace=True)\n",
    "# и проверим, что не осталось пропущенных значений\n",
    "df.rating.isna().sum()/df.shape[0]*100"
   ]
  },
  {
   "cell_type": "markdown",
   "metadata": {},
   "source": [
    "### Суммарные продажи по всем регионам"
   ]
  },
  {
   "cell_type": "code",
   "execution_count": 22,
   "metadata": {},
   "outputs": [
    {
     "data": {
      "text/plain": [
       "0.02    1014\n",
       "0.03     794\n",
       "0.01     778\n",
       "0.04     646\n",
       "0.05     635\n",
       "        ... \n",
       "3.33       1\n",
       "4.71       1\n",
       "5.19       1\n",
       "5.00       1\n",
       "0.21       1\n",
       "Name: total_sales, Length: 1004, dtype: int64"
      ]
     },
     "execution_count": 22,
     "metadata": {},
     "output_type": "execute_result"
    }
   ],
   "source": [
    "df['total_sales'] = df['na_sales'] + df['eu_sales'] + df['jp_sales'] + df['other_sales']\n",
    "df.total_sales.value_counts()"
   ]
  },
  {
   "cell_type": "code",
   "execution_count": 23,
   "metadata": {},
   "outputs": [
    {
     "data": {
      "text/html": [
       "<div>\n",
       "<style scoped>\n",
       "    .dataframe tbody tr th:only-of-type {\n",
       "        vertical-align: middle;\n",
       "    }\n",
       "\n",
       "    .dataframe tbody tr th {\n",
       "        vertical-align: top;\n",
       "    }\n",
       "\n",
       "    .dataframe thead th {\n",
       "        text-align: right;\n",
       "    }\n",
       "</style>\n",
       "<table border=\"1\" class=\"dataframe\">\n",
       "  <thead>\n",
       "    <tr style=\"text-align: right;\">\n",
       "      <th></th>\n",
       "      <th>name</th>\n",
       "      <th>platform</th>\n",
       "      <th>year_of_release</th>\n",
       "      <th>genre</th>\n",
       "      <th>na_sales</th>\n",
       "      <th>eu_sales</th>\n",
       "      <th>jp_sales</th>\n",
       "      <th>other_sales</th>\n",
       "      <th>critic_score</th>\n",
       "      <th>user_score</th>\n",
       "      <th>rating</th>\n",
       "      <th>total_sales</th>\n",
       "    </tr>\n",
       "  </thead>\n",
       "  <tbody>\n",
       "    <tr>\n",
       "      <th>0</th>\n",
       "      <td>Wii Sports</td>\n",
       "      <td>Wii</td>\n",
       "      <td>2006</td>\n",
       "      <td>Sports</td>\n",
       "      <td>41.36</td>\n",
       "      <td>28.96</td>\n",
       "      <td>3.77</td>\n",
       "      <td>8.45</td>\n",
       "      <td>76.00</td>\n",
       "      <td>8.00</td>\n",
       "      <td>E</td>\n",
       "      <td>82.54</td>\n",
       "    </tr>\n",
       "    <tr>\n",
       "      <th>1</th>\n",
       "      <td>Super Mario Bros.</td>\n",
       "      <td>NES</td>\n",
       "      <td>1985</td>\n",
       "      <td>Platform</td>\n",
       "      <td>29.08</td>\n",
       "      <td>3.58</td>\n",
       "      <td>6.81</td>\n",
       "      <td>0.77</td>\n",
       "      <td>NaN</td>\n",
       "      <td>NaN</td>\n",
       "      <td>Unknown</td>\n",
       "      <td>40.24</td>\n",
       "    </tr>\n",
       "    <tr>\n",
       "      <th>2</th>\n",
       "      <td>Mario Kart Wii</td>\n",
       "      <td>Wii</td>\n",
       "      <td>2008</td>\n",
       "      <td>Racing</td>\n",
       "      <td>15.68</td>\n",
       "      <td>12.76</td>\n",
       "      <td>3.79</td>\n",
       "      <td>3.29</td>\n",
       "      <td>82.00</td>\n",
       "      <td>8.30</td>\n",
       "      <td>E</td>\n",
       "      <td>35.52</td>\n",
       "    </tr>\n",
       "    <tr>\n",
       "      <th>3</th>\n",
       "      <td>Wii Sports Resort</td>\n",
       "      <td>Wii</td>\n",
       "      <td>2009</td>\n",
       "      <td>Sports</td>\n",
       "      <td>15.61</td>\n",
       "      <td>10.93</td>\n",
       "      <td>3.28</td>\n",
       "      <td>2.95</td>\n",
       "      <td>80.00</td>\n",
       "      <td>8.00</td>\n",
       "      <td>E</td>\n",
       "      <td>32.77</td>\n",
       "    </tr>\n",
       "    <tr>\n",
       "      <th>4</th>\n",
       "      <td>Pokemon Red/Pokemon Blue</td>\n",
       "      <td>GB</td>\n",
       "      <td>1996</td>\n",
       "      <td>Role-Playing</td>\n",
       "      <td>11.27</td>\n",
       "      <td>8.89</td>\n",
       "      <td>10.22</td>\n",
       "      <td>1.00</td>\n",
       "      <td>NaN</td>\n",
       "      <td>NaN</td>\n",
       "      <td>Unknown</td>\n",
       "      <td>31.38</td>\n",
       "    </tr>\n",
       "  </tbody>\n",
       "</table>\n",
       "</div>"
      ],
      "text/plain": [
       "                       name platform  year_of_release         genre  na_sales  \\\n",
       "0                Wii Sports      Wii             2006        Sports     41.36   \n",
       "1         Super Mario Bros.      NES             1985      Platform     29.08   \n",
       "2            Mario Kart Wii      Wii             2008        Racing     15.68   \n",
       "3         Wii Sports Resort      Wii             2009        Sports     15.61   \n",
       "4  Pokemon Red/Pokemon Blue       GB             1996  Role-Playing     11.27   \n",
       "\n",
       "   eu_sales  jp_sales  other_sales  critic_score  user_score   rating  \\\n",
       "0     28.96      3.77         8.45         76.00        8.00        E   \n",
       "1      3.58      6.81         0.77           NaN         NaN  Unknown   \n",
       "2     12.76      3.79         3.29         82.00        8.30        E   \n",
       "3     10.93      3.28         2.95         80.00        8.00        E   \n",
       "4      8.89     10.22         1.00           NaN         NaN  Unknown   \n",
       "\n",
       "   total_sales  \n",
       "0        82.54  \n",
       "1        40.24  \n",
       "2        35.52  \n",
       "3        32.77  \n",
       "4        31.38  "
      ]
     },
     "execution_count": 23,
     "metadata": {},
     "output_type": "execute_result"
    }
   ],
   "source": [
    "df.head()\n"
   ]
  },
  {
   "cell_type": "code",
   "execution_count": null,
   "metadata": {},
   "outputs": [],
   "source": []
  },
  {
   "cell_type": "markdown",
   "metadata": {},
   "source": [
    "### Вывод по предобработке:"
   ]
  },
  {
   "cell_type": "markdown",
   "metadata": {},
   "source": [
    "В связи с тем , что данные из открытых источников достаточно много пропущенных значений.\n",
    "\n",
    "Были удалены строки с отсутствующим названием игры (2 строки) и Год выпуска (269). По году выпуска изменен тип данных на integer.\n",
    "\n",
    "Пропущенные данные в колонке \"Оценка пользователей\" (user_score) и критиков (critic_score) не заполнялись. В колонке \"Оценка пользователей\" изменен тип данных на float. Значение tbd заменено на nan.\n",
    "\n",
    "В колонке \"Рейтинг\" (rating) добавлена дополнительная категория \"unknown\" по данным, по которым отсутствует информация о рейтинге, для удобства дальнейших расчетов"
   ]
  },
  {
   "cell_type": "markdown",
   "metadata": {},
   "source": [
    "## Исследовательский анализ данных"
   ]
  },
  {
   "cell_type": "markdown",
   "metadata": {},
   "source": [
    "### Сколько игр выпускалось в разные годы. Важны ли данные за все периоды?"
   ]
  },
  {
   "cell_type": "code",
   "execution_count": 24,
   "metadata": {},
   "outputs": [
    {
     "data": {
      "text/plain": [
       "2008    1427\n",
       "2009    1426\n",
       "2010    1255\n",
       "2007    1197\n",
       "2011    1136\n",
       "2006    1006\n",
       "2005     939\n",
       "2002     829\n",
       "2003     775\n",
       "2004     762\n",
       "2012     653\n",
       "2015     606\n",
       "2014     581\n",
       "2013     544\n",
       "2016     502\n",
       "2001     482\n",
       "1998     379\n",
       "2000     350\n",
       "1999     338\n",
       "1997     289\n",
       "1996     263\n",
       "1995     219\n",
       "1994     121\n",
       "1993      60\n",
       "1981      46\n",
       "1992      43\n",
       "1991      41\n",
       "1982      36\n",
       "1986      21\n",
       "1983      17\n",
       "1989      17\n",
       "1990      16\n",
       "1987      16\n",
       "1988      15\n",
       "1985      14\n",
       "1984      14\n",
       "1980       9\n",
       "Name: year_of_release, dtype: int64"
      ]
     },
     "execution_count": 24,
     "metadata": {},
     "output_type": "execute_result"
    }
   ],
   "source": [
    "# Посмотрим сколько игр выпускалось в разные годы\n",
    "df['year_of_release'].value_counts()"
   ]
  },
  {
   "cell_type": "code",
   "execution_count": 25,
   "metadata": {},
   "outputs": [
    {
     "data": {
      "text/plain": [
       "count   16,444.00\n",
       "mean     2,006.49\n",
       "std          5.88\n",
       "min      1,980.00\n",
       "25%      2,003.00\n",
       "50%      2,007.00\n",
       "75%      2,010.00\n",
       "max      2,016.00\n",
       "Name: year_of_release, dtype: float64"
      ]
     },
     "execution_count": 25,
     "metadata": {},
     "output_type": "execute_result"
    }
   ],
   "source": [
    "# посмотрим статистику по годам выпуска\n",
    "df['year_of_release'].describe()"
   ]
  },
  {
   "cell_type": "code",
   "execution_count": 26,
   "metadata": {},
   "outputs": [
    {
     "data": {
      "image/png": "[encoded data removed]",
      "text/plain": [
       "<Figure size 288x504 with 1 Axes>"
      ]
     },
     "metadata": {
      "needs_background": "light"
     },
     "output_type": "display_data"
    }
   ],
   "source": [
    "# Построим ящик с усами по году выпуска\n",
    "df.boxplot('year_of_release',figsize=(4,7))\n",
    "plt.title('BoxPlot year_of_realise')\n",
    "plt.show()"
   ]
  },
  {
   "cell_type": "code",
   "execution_count": null,
   "metadata": {},
   "outputs": [],
   "source": []
  },
  {
   "cell_type": "code",
   "execution_count": 77,
   "metadata": {},
   "outputs": [
    {
     "data": {
      "image/png": "[encoded data removed]",
      "text/plain": [
       "<Figure size 1080x360 with 1 Axes>"
      ]
     },
     "metadata": {},
     "output_type": "display_data"
    }
   ],
   "source": [
    "# Построим график плотности частоты по году выпуска (Юпитер выругался на distplot` is a deprecated function)\n",
    "plt.figure(figsize=(15,5))\n",
    "sns.distplot(df['year_of_release'],\n",
    "             hist = False, \n",
    "             kde = True,\n",
    "             kde_kws = {'linewidth': 1.5},\n",
    "             label = 'Год выпуска')\n",
    "\n",
    "plt.legend(prop={'size': 16})\n",
    "plt.title(f'Графики распределения по колокне \"Год выпуска\"')\n",
    "plt.xlabel(f'Год выпуска')\n",
    "plt.ylabel('Плотность частоты')\n",
    "plt.show()"
   ]
  },
  {
   "cell_type": "code",
   "execution_count": 75,
   "metadata": {},
   "outputs": [
    {
     "data": {
      "image/png": "[encoded data removed]",
      "text/plain": [
       "<Figure size 1296x360 with 1 Axes>"
      ]
     },
     "metadata": {},
     "output_type": "display_data"
    }
   ],
   "source": [
    "# Или сделаем столбиками\n",
    "sns.set_style('whitegrid')\n",
    "plt.figure(figsize=(18, 5))\n",
    "sns.countplot(data = df, x='year_of_release', color='blue');\n",
    "plt.xlabel(f'Год выпуска')\n",
    "plt.ylabel('Количество');\n"
   ]
  },
  {
   "cell_type": "markdown",
   "metadata": {},
   "source": [
    "Пиковое кол-во игр было выпущено в 2008-2009 гг. Заметно снижение объема с начала 2012 года. Первый квартиль: 2003, третий: 2010."
   ]
  },
  {
   "cell_type": "markdown",
   "metadata": {},
   "source": [
    "Согласно графикам до 1993 года данные можно отнести к 'выбросам', количество игр выпускаемых до 1993 года очень маленькое. Посмотрим количество записей в исходном датайрейме с годом выпуска до 1993 год включительно"
   ]
  },
  {
   "cell_type": "markdown",
   "metadata": {},
   "source": [
    "Посмотрим количество записей в исходном датайрейме с годом выпуска до 1993 год включительно"
   ]
  },
  {
   "cell_type": "code",
   "execution_count": 29,
   "metadata": {},
   "outputs": [
    {
     "name": "stdout",
     "output_type": "stream",
     "text": [
      "До 1993 года включительно выпущено 2.22% игр\n"
     ]
    }
   ],
   "source": [
    "print('До 1993 года включительно выпущено {0:.2%} игр'.format(df.query('year_of_release <= 1993').shape[0]/df.shape[0]))"
   ]
  },
  {
   "cell_type": "markdown",
   "metadata": {},
   "source": [
    "Удалим их"
   ]
  },
  {
   "cell_type": "code",
   "execution_count": 30,
   "metadata": {},
   "outputs": [],
   "source": [
    "# Очистим датафрейм от записей по играм, выпущенным после 1993 года\n",
    "df_= df.query('year_of_release > 1993')"
   ]
  },
  {
   "cell_type": "markdown",
   "metadata": {},
   "source": [
    "### Игры по платформам"
   ]
  },
  {
   "cell_type": "code",
   "execution_count": 76,
   "metadata": {},
   "outputs": [
    {
     "data": {
      "image/png": "[encoded data removed]",
      "text/plain": [
       "<Figure size 1296x360 with 1 Axes>"
      ]
     },
     "metadata": {},
     "output_type": "display_data"
    }
   ],
   "source": [
    "sns.set_style('whitegrid')\n",
    "plt.figure(figsize=(18, 5))\n",
    "sns.barplot(data = df, x='platform', y='total_sales', color='blue', ci=None);\n",
    "plt.xlabel(f'Платформы')\n",
    "plt.ylabel('Общие продажи');"
   ]
  },
  {
   "cell_type": "markdown",
   "metadata": {},
   "source": [
    "Топ наиболее прибыльных платформ: GB, NES, GEN."
   ]
  },
  {
   "cell_type": "markdown",
   "metadata": {},
   "source": [
    "Сделаем группировку по продажам - суммы"
   ]
  },
  {
   "cell_type": "code",
   "execution_count": 32,
   "metadata": {},
   "outputs": [
    {
     "data": {
      "text/html": [
       "<div>\n",
       "<style scoped>\n",
       "    .dataframe tbody tr th:only-of-type {\n",
       "        vertical-align: middle;\n",
       "    }\n",
       "\n",
       "    .dataframe tbody tr th {\n",
       "        vertical-align: top;\n",
       "    }\n",
       "\n",
       "    .dataframe thead th {\n",
       "        text-align: right;\n",
       "    }\n",
       "</style>\n",
       "<table border=\"1\" class=\"dataframe\">\n",
       "  <thead>\n",
       "    <tr style=\"text-align: right;\">\n",
       "      <th></th>\n",
       "      <th>platform</th>\n",
       "      <th>total_sales</th>\n",
       "    </tr>\n",
       "  </thead>\n",
       "  <tbody>\n",
       "    <tr>\n",
       "      <th>0</th>\n",
       "      <td>PS2</td>\n",
       "      <td>1,233.56</td>\n",
       "    </tr>\n",
       "    <tr>\n",
       "      <th>1</th>\n",
       "      <td>X360</td>\n",
       "      <td>961.24</td>\n",
       "    </tr>\n",
       "    <tr>\n",
       "      <th>2</th>\n",
       "      <td>PS3</td>\n",
       "      <td>931.34</td>\n",
       "    </tr>\n",
       "    <tr>\n",
       "      <th>3</th>\n",
       "      <td>Wii</td>\n",
       "      <td>891.18</td>\n",
       "    </tr>\n",
       "    <tr>\n",
       "      <th>4</th>\n",
       "      <td>DS</td>\n",
       "      <td>802.78</td>\n",
       "    </tr>\n",
       "    <tr>\n",
       "      <th>5</th>\n",
       "      <td>PS</td>\n",
       "      <td>727.58</td>\n",
       "    </tr>\n",
       "    <tr>\n",
       "      <th>6</th>\n",
       "      <td>PS4</td>\n",
       "      <td>314.14</td>\n",
       "    </tr>\n",
       "    <tr>\n",
       "      <th>7</th>\n",
       "      <td>GBA</td>\n",
       "      <td>312.88</td>\n",
       "    </tr>\n",
       "    <tr>\n",
       "      <th>8</th>\n",
       "      <td>PSP</td>\n",
       "      <td>289.53</td>\n",
       "    </tr>\n",
       "    <tr>\n",
       "      <th>9</th>\n",
       "      <td>3DS</td>\n",
       "      <td>257.81</td>\n",
       "    </tr>\n",
       "  </tbody>\n",
       "</table>\n",
       "</div>"
      ],
      "text/plain": [
       "  platform  total_sales\n",
       "0      PS2     1,233.56\n",
       "1     X360       961.24\n",
       "2      PS3       931.34\n",
       "3      Wii       891.18\n",
       "4       DS       802.78\n",
       "5       PS       727.58\n",
       "6      PS4       314.14\n",
       "7      GBA       312.88\n",
       "8      PSP       289.53\n",
       "9      3DS       257.81"
      ]
     },
     "execution_count": 32,
     "metadata": {},
     "output_type": "execute_result"
    }
   ],
   "source": [
    "platform_grouped = df.pivot_table(index='platform', values='total_sales', aggfunc='sum').sort_values(\n",
    "    by='total_sales', ascending=False)\n",
    "platform_grouped = platform_grouped.head(10).reset_index()\n",
    "platform_grouped\n"
   ]
  },
  {
   "cell_type": "code",
   "execution_count": 33,
   "metadata": {},
   "outputs": [],
   "source": [
    "#platform_grouped\n",
    "top_platforms_dict = platform_grouped['platform'].unique() #создадим словарь наиболее прибыльных платформ"
   ]
  },
  {
   "cell_type": "code",
   "execution_count": 34,
   "metadata": {},
   "outputs": [
    {
     "data": {
      "text/html": [
       "<div>\n",
       "<style scoped>\n",
       "    .dataframe tbody tr th:only-of-type {\n",
       "        vertical-align: middle;\n",
       "    }\n",
       "\n",
       "    .dataframe tbody tr th {\n",
       "        vertical-align: top;\n",
       "    }\n",
       "\n",
       "    .dataframe thead th {\n",
       "        text-align: right;\n",
       "    }\n",
       "</style>\n",
       "<table border=\"1\" class=\"dataframe\">\n",
       "  <thead>\n",
       "    <tr style=\"text-align: right;\">\n",
       "      <th></th>\n",
       "      <th>platform</th>\n",
       "      <th>total_sales</th>\n",
       "    </tr>\n",
       "  </thead>\n",
       "  <tbody>\n",
       "    <tr>\n",
       "      <th>0</th>\n",
       "      <td>PS2</td>\n",
       "      <td>1,233.56</td>\n",
       "    </tr>\n",
       "    <tr>\n",
       "      <th>1</th>\n",
       "      <td>X360</td>\n",
       "      <td>961.24</td>\n",
       "    </tr>\n",
       "    <tr>\n",
       "      <th>2</th>\n",
       "      <td>PS3</td>\n",
       "      <td>931.34</td>\n",
       "    </tr>\n",
       "    <tr>\n",
       "      <th>3</th>\n",
       "      <td>Wii</td>\n",
       "      <td>891.18</td>\n",
       "    </tr>\n",
       "    <tr>\n",
       "      <th>4</th>\n",
       "      <td>DS</td>\n",
       "      <td>802.78</td>\n",
       "    </tr>\n",
       "  </tbody>\n",
       "</table>\n",
       "</div>"
      ],
      "text/plain": [
       "  platform  total_sales\n",
       "0      PS2     1,233.56\n",
       "1     X360       961.24\n",
       "2      PS3       931.34\n",
       "3      Wii       891.18\n",
       "4       DS       802.78"
      ]
     },
     "execution_count": 34,
     "metadata": {},
     "output_type": "execute_result"
    }
   ],
   "source": [
    "# Выберем 5 платформ с наибольшими суммарными продажами \n",
    "df_platform_top_5 = pd.DataFrame(df.groupby('platform')['total_sales']\n",
    "                                 .sum()\n",
    "                                 .sort_values(ascending=False)\n",
    "                                 .head(5)\n",
    "                                ).reset_index()\n",
    "df_platform_top_5"
   ]
  },
  {
   "cell_type": "code",
   "execution_count": 64,
   "metadata": {},
   "outputs": [
    {
     "data": {
      "image/png": "[encoded data removed]",
      "text/plain": [
       "<Figure size 1224x360 with 1 Axes>"
      ]
     },
     "metadata": {},
     "output_type": "display_data"
    },
    {
     "data": {
      "image/png": "[encoded data removed]",
      "text/plain": [
       "<Figure size 1224x360 with 1 Axes>"
      ]
     },
     "metadata": {},
     "output_type": "display_data"
    },
    {
     "data": {
      "image/png": "[encoded data removed]",
      "text/plain": [
       "<Figure size 1224x360 with 1 Axes>"
      ]
     },
     "metadata": {},
     "output_type": "display_data"
    },
    {
     "data": {
      "image/png": "[encoded data removed]",
      "text/plain": [
       "<Figure size 1224x360 with 1 Axes>"
      ]
     },
     "metadata": {},
     "output_type": "display_data"
    },
    {
     "data": {
      "image/png": "[encoded data removed]",
      "text/plain": [
       "<Figure size 1224x360 with 1 Axes>"
      ]
     },
     "metadata": {},
     "output_type": "display_data"
    }
   ],
   "source": [
    "# Построим распределение по топ 5 платформам по годам\n",
    "for i in df_platform_top_5['platform']:\n",
    "    plt.figure(figsize=(17,5))\n",
    "    sns.barplot(df_.query('platform==@i')['year_of_release'],df_.query('platform==@i')['total_sales'], color='blue', ci=None)\n",
    "    plt.title(f'Зависимость суммарных продаж от года продажи. Платформа: {i}')\n",
    "    plt.xlabel(f'Год выпуска')\n",
    "    plt.ylabel('Общие продажи')\n",
    "    plt.show()"
   ]
  },
  {
   "cell_type": "markdown",
   "metadata": {},
   "source": [
    "Средняя продолжительность жизни платформы"
   ]
  },
  {
   "cell_type": "code",
   "execution_count": 36,
   "metadata": {},
   "outputs": [
    {
     "data": {
      "text/html": [
       "<div>\n",
       "<style scoped>\n",
       "    .dataframe tbody tr th:only-of-type {\n",
       "        vertical-align: middle;\n",
       "    }\n",
       "\n",
       "    .dataframe tbody tr th {\n",
       "        vertical-align: top;\n",
       "    }\n",
       "\n",
       "    .dataframe thead th {\n",
       "        text-align: right;\n",
       "    }\n",
       "</style>\n",
       "<table border=\"1\" class=\"dataframe\">\n",
       "  <thead>\n",
       "    <tr style=\"text-align: right;\">\n",
       "      <th></th>\n",
       "      <th>index</th>\n",
       "      <th>platform</th>\n",
       "      <th>total_sales</th>\n",
       "    </tr>\n",
       "  </thead>\n",
       "  <tbody>\n",
       "    <tr>\n",
       "      <th>0</th>\n",
       "      <td>0</td>\n",
       "      <td>PS2</td>\n",
       "      <td>1,233.56</td>\n",
       "    </tr>\n",
       "    <tr>\n",
       "      <th>1</th>\n",
       "      <td>1</td>\n",
       "      <td>X360</td>\n",
       "      <td>961.24</td>\n",
       "    </tr>\n",
       "    <tr>\n",
       "      <th>2</th>\n",
       "      <td>2</td>\n",
       "      <td>PS3</td>\n",
       "      <td>931.34</td>\n",
       "    </tr>\n",
       "    <tr>\n",
       "      <th>3</th>\n",
       "      <td>3</td>\n",
       "      <td>Wii</td>\n",
       "      <td>891.18</td>\n",
       "    </tr>\n",
       "    <tr>\n",
       "      <th>4</th>\n",
       "      <td>4</td>\n",
       "      <td>DS</td>\n",
       "      <td>802.78</td>\n",
       "    </tr>\n",
       "  </tbody>\n",
       "</table>\n",
       "</div>"
      ],
      "text/plain": [
       "   index platform  total_sales\n",
       "0      0      PS2     1,233.56\n",
       "1      1     X360       961.24\n",
       "2      2      PS3       931.34\n",
       "3      3      Wii       891.18\n",
       "4      4       DS       802.78"
      ]
     },
     "execution_count": 36,
     "metadata": {},
     "output_type": "execute_result"
    }
   ],
   "source": [
    "df_platform_top_5.reset_index()"
   ]
  },
  {
   "cell_type": "code",
   "execution_count": 37,
   "metadata": {},
   "outputs": [
    {
     "name": "stdout",
     "output_type": "stream",
     "text": [
      "Средняя продолжительность жизни платформы PS2 составляет 11 лет\n",
      "Средняя продолжительность жизни платформы X360 составляет 11 лет\n",
      "Средняя продолжительность жизни платформы PS3 составляет 10 лет\n",
      "Средняя продолжительность жизни платформы Wii составляет 10 лет\n",
      "Средняя продолжительность жизни платформы DS составляет 28 лет\n"
     ]
    }
   ],
   "source": [
    "df_platform_top_5\n",
    "for i in df_platform_top_5.platform:\n",
    "    print('Средняя продолжительность жизни платформы',i,'составляет',df[df['platform']==i]['year_of_release'].max() - \\\n",
    "                                                                     df[df['platform']==i]['year_of_release'].min(),'лет')"
   ]
  },
  {
   "cell_type": "markdown",
   "metadata": {},
   "source": [
    "В среднем длительность продаж игр на платформе 9-11 лет. У игр, выпущенным в первые 1-2 года наблюдаются максимальные продажи, далее размер продаж по играм ,выпущеным в последующие года на одном уровне несколько лет, у игр, которые выпускаются в последние года платформы спад объема продаж. Но есть платформы, по которым в последний год поддержки наоборот наблюдаются большие продажи."
   ]
  },
  {
   "cell_type": "markdown",
   "metadata": {},
   "source": [
    "Посмотрим еще один график сравнения продаж для разных платформ"
   ]
  },
  {
   "cell_type": "code",
   "execution_count": 38,
   "metadata": {},
   "outputs": [
    {
     "data": {
      "image/png": "[encoded data removed]",
      "text/plain": [
       "<Figure size 864x360 with 1 Axes>"
      ]
     },
     "metadata": {},
     "output_type": "display_data"
    }
   ],
   "source": [
    "fig, ax = plt.subplots()\n",
    "ax = (df_.query('platform == \"PS2\"')\n",
    "      .pivot_table(index='year_of_release', values='total_sales',aggfunc=sum)\n",
    "      .plot(grid=True, figsize=(12, 5),ax=ax,label='PS2')     \n",
    "    )\n",
    "plt.title('Зависимости суммарных продаж по годам в разрезе платформ')\n",
    "for i in list(df_platform_top_5['platform'])[1:]: \n",
    "    ax1 = (df_.query('platform == @i')\n",
    "      .pivot_table(index='year_of_release', values='total_sales',aggfunc=sum)\n",
    "      .plot(grid=True, figsize=(12, 5),ax=ax,label=i)    \n",
    "    )\n",
    "plt.ylabel('Суммарные продажи по платформам по годам выпуска игры')\n",
    "plt.xlabel('Год выпуска игры')\n",
    "plt.legend(labels=list(df_platform_top_5['platform']))    \n",
    "plt.show()"
   ]
  },
  {
   "cell_type": "markdown",
   "metadata": {},
   "source": [
    "Вывод: Компьютерные игры - это очень динамичная сфера, где часто случаются изменения. Поэтому за актуальный период следует брать короткий период - 2-3 года. К тому же, могут изменяться экономические условия. А выход популярной игры может влиять и на продажи платформ. Для прогноза на 2017 год по продажам, возьмём данные за 2014, 2015 и 2016 года"
   ]
  },
  {
   "cell_type": "markdown",
   "metadata": {},
   "source": [
    "### Актуальный период"
   ]
  },
  {
   "cell_type": "markdown",
   "metadata": {},
   "source": [
    "Создатим новый датафрейм и отфильтруем данные "
   ]
  },
  {
   "cell_type": "code",
   "execution_count": 39,
   "metadata": {},
   "outputs": [],
   "source": [
    "df_relevant = df_.query('year_of_release >= 2014')"
   ]
  },
  {
   "cell_type": "markdown",
   "metadata": {},
   "source": [
    "Построим графики распределения"
   ]
  },
  {
   "cell_type": "code",
   "execution_count": 78,
   "metadata": {},
   "outputs": [
    {
     "data": {
      "image/png": "[encoded data removed]",
      "text/plain": [
       "<Figure size 1224x360 with 1 Axes>"
      ]
     },
     "metadata": {},
     "output_type": "display_data"
    },
    {
     "data": {
      "image/png": "[encoded data removed]",
      "text/plain": [
       "<Figure size 1224x360 with 1 Axes>"
      ]
     },
     "metadata": {},
     "output_type": "display_data"
    },
    {
     "data": {
      "image/png": "[encoded data removed]",
      "text/plain": [
       "<Figure size 1224x360 with 1 Axes>"
      ]
     },
     "metadata": {},
     "output_type": "display_data"
    },
    {
     "data": {
      "image/png": "[encoded data removed]",
      "text/plain": [
       "<Figure size 1224x360 with 1 Axes>"
      ]
     },
     "metadata": {},
     "output_type": "display_data"
    },
    {
     "data": {
      "image/png": "[encoded data removed]",
      "text/plain": [
       "<Figure size 1224x360 with 1 Axes>"
      ]
     },
     "metadata": {},
     "output_type": "display_data"
    },
    {
     "data": {
      "image/png": "[encoded data removed]",
      "text/plain": [
       "<Figure size 1224x360 with 1 Axes>"
      ]
     },
     "metadata": {},
     "output_type": "display_data"
    },
    {
     "data": {
      "image/png": "[encoded data removed]",
      "text/plain": [
       "<Figure size 1224x360 with 1 Axes>"
      ]
     },
     "metadata": {},
     "output_type": "display_data"
    },
    {
     "data": {
      "image/png": "[encoded data removed]",
      "text/plain": [
       "<Figure size 1224x360 with 1 Axes>"
      ]
     },
     "metadata": {},
     "output_type": "display_data"
    },
    {
     "data": {
      "image/png": "[encoded data removed]",
      "text/plain": [
       "<Figure size 1224x360 with 1 Axes>"
      ]
     },
     "metadata": {},
     "output_type": "display_data"
    },
    {
     "data": {
      "image/png": "[encoded data removed]",
      "text/plain": [
       "<Figure size 1224x360 with 1 Axes>"
      ]
     },
     "metadata": {},
     "output_type": "display_data"
    }
   ],
   "source": [
    "platform_relevant = df_relevant['platform'].unique()\n",
    "for i in platform_relevant:\n",
    "    plt.figure(figsize=(17,5))\n",
    "    sns.barplot(df_relevant.query('platform==@i')['year_of_release'],df_relevant.query('platform==@i')['total_sales'], ci=None)\n",
    "    plt.title(f'Зависимость суммарных продаж от года. Платформа, {i}')\n",
    "    plt.xlabel(f'Год выпуска')\n",
    "    plt.ylabel('Общие продажи')\n",
    "    plt.show()"
   ]
  },
  {
   "cell_type": "markdown",
   "metadata": {},
   "source": [
    "Построим график зависимости суммарных продаж по годам в разрезе платформ"
   ]
  },
  {
   "cell_type": "code",
   "execution_count": 41,
   "metadata": {},
   "outputs": [
    {
     "data": {
      "image/png": "[encoded data removed]",
      "text/plain": [
       "<Figure size 864x360 with 1 Axes>"
      ]
     },
     "metadata": {},
     "output_type": "display_data"
    }
   ],
   "source": [
    "fig, ax = plt.subplots()\n",
    "ax = (df_relevant.query('platform == \"PS4\"')\n",
    "      .pivot_table(index='year_of_release', values='total_sales',aggfunc=sum)\n",
    "      .plot(grid=True, figsize=(12, 5),ax=ax,label='PS4')     \n",
    "    )\n",
    "plt.title('Зависимости суммарных продаж по годам в разрезе платформ')\n",
    "for i in platform_relevant[1:]: \n",
    "    ax1 = (df_relevant.query('platform == @i')\n",
    "      .pivot_table(index='year_of_release', values='total_sales',aggfunc=sum)\n",
    "      .plot(grid=True, figsize=(12, 5),ax=ax,label=i)    \n",
    "    )\n",
    "    \n",
    "plt.ylabel('Суммарные продажи по платформам по годам выпуска игры')\n",
    "plt.xlabel('Год выпуска игры')\n",
    "plt.legend(labels=platform_relevant)\n",
    "plt.xticks([2014, 2015, 2016])\n",
    "plt.show()"
   ]
  },
  {
   "cell_type": "markdown",
   "metadata": {},
   "source": [
    "Согласно исходной информации данные за 2016 год могут быть не полные. Поэтому потенциально прибыльным платформами будем считать PS4, XOne и 3ds"
   ]
  },
  {
   "cell_type": "code",
   "execution_count": 80,
   "metadata": {},
   "outputs": [
    {
     "data": {
      "image/png": "[encoded data removed]",
      "text/plain": [
       "<Figure size 1080x1080 with 1 Axes>"
      ]
     },
     "metadata": {},
     "output_type": "display_data"
    }
   ],
   "source": [
    "# Построим график «ящик с усами» по глобальным продажам игр в разбивке по платформам\n",
    "plt.figure(figsize=(15,15))\n",
    "sns.boxplot(x = 'total_sales', y = 'platform', data = df_relevant.query('total_sales < 3'), orient=\"h\", palette=\"Set3\")\n",
    "plt.title(f'Ящик с усами по колонке Продажи')\n",
    "plt.xticks([0,1,2,3])\n",
    "\n",
    "plt.ylabel('Платформа')\n",
    "plt.xlabel('Общие продажи')\n",
    "plt.show()\n"
   ]
  },
  {
   "cell_type": "markdown",
   "metadata": {},
   "source": [
    "Построим диаграмму размаха по глобальным продажам игр в разбивке по платформам"
   ]
  },
  {
   "cell_type": "code",
   "execution_count": 43,
   "metadata": {},
   "outputs": [
    {
     "data": {
      "image/png": "[encoded data removed]",
      "text/plain": [
       "<Figure size 1440x720 with 1 Axes>"
      ]
     },
     "metadata": {},
     "output_type": "display_data"
    }
   ],
   "source": [
    "plt.figure(figsize=(20, 10))\n",
    "\n",
    "sns.boxplot(data=df_relevant, x='platform', y='total_sales')\n",
    "\n",
    "plt.ylim(0, .85)\n",
    "\n",
    "plt.title('\"Ящики с усами\" по глобальным продажам игр')\n",
    "plt.xlabel('Продажи, млн. шт.')\n",
    "plt.ylabel('Платформы')\n",
    "\n",
    "plt.show()"
   ]
  },
  {
   "cell_type": "markdown",
   "metadata": {},
   "source": [
    "Сгруппируем и выведем описательную статистику"
   ]
  },
  {
   "cell_type": "code",
   "execution_count": 44,
   "metadata": {},
   "outputs": [
    {
     "data": {
      "text/html": [
       "<div>\n",
       "<style scoped>\n",
       "    .dataframe tbody tr th:only-of-type {\n",
       "        vertical-align: middle;\n",
       "    }\n",
       "\n",
       "    .dataframe tbody tr th {\n",
       "        vertical-align: top;\n",
       "    }\n",
       "\n",
       "    .dataframe thead th {\n",
       "        text-align: right;\n",
       "    }\n",
       "</style>\n",
       "<table border=\"1\" class=\"dataframe\">\n",
       "  <thead>\n",
       "    <tr style=\"text-align: right;\">\n",
       "      <th></th>\n",
       "      <th>count</th>\n",
       "      <th>mean</th>\n",
       "      <th>std</th>\n",
       "      <th>min</th>\n",
       "      <th>25%</th>\n",
       "      <th>50%</th>\n",
       "      <th>75%</th>\n",
       "      <th>max</th>\n",
       "    </tr>\n",
       "    <tr>\n",
       "      <th>platform</th>\n",
       "      <th></th>\n",
       "      <th></th>\n",
       "      <th></th>\n",
       "      <th></th>\n",
       "      <th></th>\n",
       "      <th></th>\n",
       "      <th></th>\n",
       "      <th></th>\n",
       "    </tr>\n",
       "  </thead>\n",
       "  <tbody>\n",
       "    <tr>\n",
       "      <th>3DS</th>\n",
       "      <td>212.00</td>\n",
       "      <td>0.41</td>\n",
       "      <td>1.19</td>\n",
       "      <td>0.01</td>\n",
       "      <td>0.03</td>\n",
       "      <td>0.09</td>\n",
       "      <td>0.25</td>\n",
       "      <td>11.68</td>\n",
       "    </tr>\n",
       "    <tr>\n",
       "      <th>PC</th>\n",
       "      <td>151.00</td>\n",
       "      <td>0.18</td>\n",
       "      <td>0.33</td>\n",
       "      <td>0.01</td>\n",
       "      <td>0.02</td>\n",
       "      <td>0.06</td>\n",
       "      <td>0.20</td>\n",
       "      <td>3.05</td>\n",
       "    </tr>\n",
       "    <tr>\n",
       "      <th>PS3</th>\n",
       "      <td>219.00</td>\n",
       "      <td>0.31</td>\n",
       "      <td>0.63</td>\n",
       "      <td>0.01</td>\n",
       "      <td>0.04</td>\n",
       "      <td>0.11</td>\n",
       "      <td>0.33</td>\n",
       "      <td>5.27</td>\n",
       "    </tr>\n",
       "    <tr>\n",
       "      <th>PS4</th>\n",
       "      <td>376.00</td>\n",
       "      <td>0.77</td>\n",
       "      <td>1.61</td>\n",
       "      <td>0.01</td>\n",
       "      <td>0.06</td>\n",
       "      <td>0.18</td>\n",
       "      <td>0.69</td>\n",
       "      <td>14.63</td>\n",
       "    </tr>\n",
       "    <tr>\n",
       "      <th>PSP</th>\n",
       "      <td>13.00</td>\n",
       "      <td>0.03</td>\n",
       "      <td>0.03</td>\n",
       "      <td>0.01</td>\n",
       "      <td>0.01</td>\n",
       "      <td>0.02</td>\n",
       "      <td>0.02</td>\n",
       "      <td>0.09</td>\n",
       "    </tr>\n",
       "    <tr>\n",
       "      <th>PSV</th>\n",
       "      <td>295.00</td>\n",
       "      <td>0.08</td>\n",
       "      <td>0.14</td>\n",
       "      <td>0.01</td>\n",
       "      <td>0.02</td>\n",
       "      <td>0.04</td>\n",
       "      <td>0.09</td>\n",
       "      <td>1.96</td>\n",
       "    </tr>\n",
       "    <tr>\n",
       "      <th>Wii</th>\n",
       "      <td>11.00</td>\n",
       "      <td>0.46</td>\n",
       "      <td>0.63</td>\n",
       "      <td>0.01</td>\n",
       "      <td>0.04</td>\n",
       "      <td>0.18</td>\n",
       "      <td>0.76</td>\n",
       "      <td>2.01</td>\n",
       "    </tr>\n",
       "    <tr>\n",
       "      <th>WiiU</th>\n",
       "      <td>73.00</td>\n",
       "      <td>0.59</td>\n",
       "      <td>1.16</td>\n",
       "      <td>0.01</td>\n",
       "      <td>0.05</td>\n",
       "      <td>0.19</td>\n",
       "      <td>0.57</td>\n",
       "      <td>7.09</td>\n",
       "    </tr>\n",
       "    <tr>\n",
       "      <th>X360</th>\n",
       "      <td>111.00</td>\n",
       "      <td>0.43</td>\n",
       "      <td>0.63</td>\n",
       "      <td>0.01</td>\n",
       "      <td>0.07</td>\n",
       "      <td>0.18</td>\n",
       "      <td>0.51</td>\n",
       "      <td>4.28</td>\n",
       "    </tr>\n",
       "    <tr>\n",
       "      <th>XOne</th>\n",
       "      <td>228.00</td>\n",
       "      <td>0.62</td>\n",
       "      <td>1.05</td>\n",
       "      <td>0.01</td>\n",
       "      <td>0.05</td>\n",
       "      <td>0.20</td>\n",
       "      <td>0.63</td>\n",
       "      <td>7.39</td>\n",
       "    </tr>\n",
       "  </tbody>\n",
       "</table>\n",
       "</div>"
      ],
      "text/plain": [
       "          count  mean  std  min  25%  50%  75%   max\n",
       "platform                                            \n",
       "3DS      212.00  0.41 1.19 0.01 0.03 0.09 0.25 11.68\n",
       "PC       151.00  0.18 0.33 0.01 0.02 0.06 0.20  3.05\n",
       "PS3      219.00  0.31 0.63 0.01 0.04 0.11 0.33  5.27\n",
       "PS4      376.00  0.77 1.61 0.01 0.06 0.18 0.69 14.63\n",
       "PSP       13.00  0.03 0.03 0.01 0.01 0.02 0.02  0.09\n",
       "PSV      295.00  0.08 0.14 0.01 0.02 0.04 0.09  1.96\n",
       "Wii       11.00  0.46 0.63 0.01 0.04 0.18 0.76  2.01\n",
       "WiiU      73.00  0.59 1.16 0.01 0.05 0.19 0.57  7.09\n",
       "X360     111.00  0.43 0.63 0.01 0.07 0.18 0.51  4.28\n",
       "XOne     228.00  0.62 1.05 0.01 0.05 0.20 0.63  7.39"
      ]
     },
     "execution_count": 44,
     "metadata": {},
     "output_type": "execute_result"
    }
   ],
   "source": [
    "df_relevant.groupby('platform')['total_sales'].describe()"
   ]
  },
  {
   "cell_type": "markdown",
   "metadata": {},
   "source": [
    "Вывод:\n",
    "В среднем срок продаж по платформе 9-11 лет.\n",
    "Потенциально прибыльные платформы PS4,XOne."
   ]
  },
  {
   "cell_type": "markdown",
   "metadata": {},
   "source": [
    "### Влияние отзывов на продажи"
   ]
  },
  {
   "cell_type": "markdown",
   "metadata": {},
   "source": [
    "#### Влияние отзывов пользователей и критиков на продажи у XOne"
   ]
  },
  {
   "cell_type": "markdown",
   "metadata": {},
   "source": [
    "Посмотрим влияние отзывов на продажу  XOne\n"
   ]
  },
  {
   "cell_type": "code",
   "execution_count": 70,
   "metadata": {},
   "outputs": [
    {
     "data": {
      "image/png": "[encoded data removed]",
      "text/plain": [
       "<Figure size 432x288 with 1 Axes>"
      ]
     },
     "metadata": {},
     "output_type": "display_data"
    },
    {
     "data": {
      "image/png": "[encoded data removed]",
      "text/plain": [
       "<Figure size 432x288 with 1 Axes>"
      ]
     },
     "metadata": {},
     "output_type": "display_data"
    }
   ],
   "source": [
    "df_relevant[df_relevant['platform'] == 'XOne'].plot(x='total_sales', y='user_score', kind='scatter')\n",
    "plt.title('Влияние отзывов пользователей на продажи')\n",
    "plt.ylabel('Оценки пользователей')\n",
    "plt.xlabel('Общие продажи')\n",
    "\n",
    "df_relevant[df_relevant['platform'] == 'XOne'].plot(x='total_sales', y='critic_score', kind='scatter')\n",
    "plt.title('Влияние отзывов критиков на продажи')\n",
    "plt.ylabel('Оценки критиков')\n",
    "plt.xlabel('Общие продажи')\n",
    "\n",
    "plt.show()\n"
   ]
  },
  {
   "cell_type": "markdown",
   "metadata": {},
   "source": [
    "Вычислим коэффициенты корреляции Пирсона попарно между отзывами и продажами"
   ]
  },
  {
   "cell_type": "code",
   "execution_count": 46,
   "metadata": {},
   "outputs": [
    {
     "data": {
      "text/plain": [
       "'Коэффициент корреляции Пирсона между продажами и оценкой пользователей: '"
      ]
     },
     "metadata": {},
     "output_type": "display_data"
    },
    {
     "data": {
      "text/plain": [
       "-0.0703839280647581"
      ]
     },
     "metadata": {},
     "output_type": "display_data"
    },
    {
     "data": {
      "text/plain": [
       "'Коэффициент корреляции Пирсона между продажами и оценкой критиков: '"
      ]
     },
     "metadata": {},
     "output_type": "display_data"
    },
    {
     "data": {
      "text/plain": [
       "0.42867694370333226"
      ]
     },
     "metadata": {},
     "output_type": "display_data"
    }
   ],
   "source": [
    "display(\"Коэффициент корреляции Пирсона между продажами и оценкой пользователей: \",\n",
    "    df_relevant[df_relevant['platform'] == 'XOne']['total_sales']\n",
    "        .corr(df_relevant[df_relevant['platform'] == 'XOne']['user_score'])\n",
    ")\n",
    "display(\"Коэффициент корреляции Пирсона между продажами и оценкой критиков: \",\n",
    "    df_relevant[df_relevant['platform'] == 'XOne']['total_sales']\n",
    "        .corr(df_relevant[df_relevant['platform'] == 'XOne']['critic_score'])\n",
    ")"
   ]
  },
  {
   "cell_type": "markdown",
   "metadata": {},
   "source": [
    "Объём продаж и оценки пользователей практически не коррелируют. Между объёмом продаж и оценками критиков наблюдается слабая прямая корреляция."
   ]
  },
  {
   "cell_type": "markdown",
   "metadata": {},
   "source": [
    "#### Влияние отзывов критиков и пользователей на продажи игр на остальных платформах."
   ]
  },
  {
   "cell_type": "markdown",
   "metadata": {},
   "source": [
    "Для интереса посмотрим ситуацию на других платформах"
   ]
  },
  {
   "cell_type": "markdown",
   "metadata": {},
   "source": [
    "Вычислим коэффициенты корреляции Пирсона попарно между отзывами и продажами."
   ]
  },
  {
   "cell_type": "code",
   "execution_count": 47,
   "metadata": {},
   "outputs": [
    {
     "data": {
      "text/plain": [
       "'Коэффициент корреляции Пирсона между продажами и оценкой пользователей: '"
      ]
     },
     "metadata": {},
     "output_type": "display_data"
    },
    {
     "data": {
      "text/plain": [
       "-0.0025949515406363936"
      ]
     },
     "metadata": {},
     "output_type": "display_data"
    },
    {
     "data": {
      "text/plain": [
       "'Коэффициент корреляции Пирсона между продажами и оценкой критиков: '"
      ]
     },
     "metadata": {},
     "output_type": "display_data"
    },
    {
     "data": {
      "text/plain": [
       "0.302042487886709"
      ]
     },
     "metadata": {},
     "output_type": "display_data"
    }
   ],
   "source": [
    "display(\"Коэффициент корреляции Пирсона между продажами и оценкой пользователей: \",\n",
    "    df_relevant[df_relevant['platform'] != 'XOne']['total_sales']\n",
    "        .corr(df_relevant[df_relevant['platform'] != 'XOne']['user_score'])\n",
    ")\n",
    "display(\"Коэффициент корреляции Пирсона между продажами и оценкой критиков: \",\n",
    "    df_relevant[df_relevant['platform'] != 'XOne']['total_sales']\n",
    "        .corr(df_relevant[df_relevant['platform'] != 'XOne']['critic_score'])\n",
    ")"
   ]
  },
  {
   "cell_type": "markdown",
   "metadata": {},
   "source": [
    "Для остальных платформ выводы по корреляции такие же: практически нет связи между продажами и оценкой пользователей и  небольшая прямая связь между продажами и оценками критиков"
   ]
  },
  {
   "cell_type": "markdown",
   "metadata": {},
   "source": [
    "### Анализ распределения игр по жанрам"
   ]
  },
  {
   "cell_type": "code",
   "execution_count": 48,
   "metadata": {},
   "outputs": [
    {
     "data": {
      "text/plain": [
       "Action          619\n",
       "Role-Playing    221\n",
       "Adventure       185\n",
       "Sports          161\n",
       "Shooter         128\n",
       "Misc            113\n",
       "Racing           69\n",
       "Fighting         60\n",
       "Simulation       44\n",
       "Platform         38\n",
       "Strategy         37\n",
       "Puzzle           14\n",
       "Name: genre, dtype: int64"
      ]
     },
     "execution_count": 48,
     "metadata": {},
     "output_type": "execute_result"
    }
   ],
   "source": [
    "# Выведем value_counts\n",
    "df_relevant['genre'].value_counts()\n"
   ]
  },
  {
   "cell_type": "code",
   "execution_count": 85,
   "metadata": {},
   "outputs": [
    {
     "data": {
      "image/png": "[encoded data removed]",
      "text/plain": [
       "<Figure size 432x288 with 1 Axes>"
      ]
     },
     "metadata": {},
     "output_type": "display_data"
    }
   ],
   "source": [
    "# и графиком\n",
    "df_relevant['genre'].value_counts().plot()\n",
    "plt.title(f'Распределение игр по жанрам')\n",
    "plt.xlabel(f'Жанр')\n",
    "plt.ylabel('Кол-во');\n"
   ]
  },
  {
   "cell_type": "markdown",
   "metadata": {},
   "source": [
    "С большим отрывом лидирует жанр Action, затем RPG, Adventure и Sports и далее по нисходящей"
   ]
  },
  {
   "cell_type": "markdown",
   "metadata": {},
   "source": [
    "Посмотрим объёмы продаж по жанрам"
   ]
  },
  {
   "cell_type": "code",
   "execution_count": 50,
   "metadata": {},
   "outputs": [
    {
     "data": {
      "text/html": [
       "<div>\n",
       "<style scoped>\n",
       "    .dataframe tbody tr th:only-of-type {\n",
       "        vertical-align: middle;\n",
       "    }\n",
       "\n",
       "    .dataframe tbody tr th {\n",
       "        vertical-align: top;\n",
       "    }\n",
       "\n",
       "    .dataframe thead th {\n",
       "        text-align: right;\n",
       "    }\n",
       "</style>\n",
       "<table border=\"1\" class=\"dataframe\">\n",
       "  <thead>\n",
       "    <tr style=\"text-align: right;\">\n",
       "      <th></th>\n",
       "      <th>total_sales</th>\n",
       "    </tr>\n",
       "    <tr>\n",
       "      <th>genre</th>\n",
       "      <th></th>\n",
       "    </tr>\n",
       "  </thead>\n",
       "  <tbody>\n",
       "    <tr>\n",
       "      <th>Action</th>\n",
       "      <td>199.36</td>\n",
       "    </tr>\n",
       "    <tr>\n",
       "      <th>Shooter</th>\n",
       "      <td>170.94</td>\n",
       "    </tr>\n",
       "    <tr>\n",
       "      <th>Sports</th>\n",
       "      <td>109.48</td>\n",
       "    </tr>\n",
       "    <tr>\n",
       "      <th>Role-Playing</th>\n",
       "      <td>101.44</td>\n",
       "    </tr>\n",
       "    <tr>\n",
       "      <th>Misc</th>\n",
       "      <td>37.55</td>\n",
       "    </tr>\n",
       "    <tr>\n",
       "      <th>Fighting</th>\n",
       "      <td>28.22</td>\n",
       "    </tr>\n",
       "    <tr>\n",
       "      <th>Racing</th>\n",
       "      <td>27.52</td>\n",
       "    </tr>\n",
       "    <tr>\n",
       "      <th>Platform</th>\n",
       "      <td>18.09</td>\n",
       "    </tr>\n",
       "    <tr>\n",
       "      <th>Adventure</th>\n",
       "      <td>17.55</td>\n",
       "    </tr>\n",
       "    <tr>\n",
       "      <th>Simulation</th>\n",
       "      <td>13.13</td>\n",
       "    </tr>\n",
       "    <tr>\n",
       "      <th>Strategy</th>\n",
       "      <td>3.96</td>\n",
       "    </tr>\n",
       "    <tr>\n",
       "      <th>Puzzle</th>\n",
       "      <td>2.21</td>\n",
       "    </tr>\n",
       "  </tbody>\n",
       "</table>\n",
       "</div>"
      ],
      "text/plain": [
       "              total_sales\n",
       "genre                    \n",
       "Action             199.36\n",
       "Shooter            170.94\n",
       "Sports             109.48\n",
       "Role-Playing       101.44\n",
       "Misc                37.55\n",
       "Fighting            28.22\n",
       "Racing              27.52\n",
       "Platform            18.09\n",
       "Adventure           17.55\n",
       "Simulation          13.13\n",
       "Strategy             3.96\n",
       "Puzzle               2.21"
      ]
     },
     "execution_count": 50,
     "metadata": {},
     "output_type": "execute_result"
    }
   ],
   "source": [
    "(\n",
    "    df_relevant\n",
    "    .pivot_table(index='genre', values='total_sales', aggfunc='sum')\n",
    "    .sort_values('total_sales', ascending=False)\n",
    ")"
   ]
  },
  {
   "cell_type": "markdown",
   "metadata": {},
   "source": [
    "Наиболее доходные жанры: Action, Shooter, Sports, Role-Playing"
   ]
  },
  {
   "cell_type": "markdown",
   "metadata": {},
   "source": [
    "Посмотрим на распределение данных по продажам игр в различных жанрах"
   ]
  },
  {
   "cell_type": "code",
   "execution_count": 51,
   "metadata": {},
   "outputs": [
    {
     "data": {
      "text/html": [
       "<div>\n",
       "<style scoped>\n",
       "    .dataframe tbody tr th:only-of-type {\n",
       "        vertical-align: middle;\n",
       "    }\n",
       "\n",
       "    .dataframe tbody tr th {\n",
       "        vertical-align: top;\n",
       "    }\n",
       "\n",
       "    .dataframe thead th {\n",
       "        text-align: right;\n",
       "    }\n",
       "</style>\n",
       "<table border=\"1\" class=\"dataframe\">\n",
       "  <thead>\n",
       "    <tr style=\"text-align: right;\">\n",
       "      <th></th>\n",
       "      <th>count</th>\n",
       "      <th>mean</th>\n",
       "      <th>std</th>\n",
       "      <th>min</th>\n",
       "      <th>25%</th>\n",
       "      <th>50%</th>\n",
       "      <th>75%</th>\n",
       "      <th>max</th>\n",
       "    </tr>\n",
       "    <tr>\n",
       "      <th>genre</th>\n",
       "      <th></th>\n",
       "      <th></th>\n",
       "      <th></th>\n",
       "      <th></th>\n",
       "      <th></th>\n",
       "      <th></th>\n",
       "      <th></th>\n",
       "      <th></th>\n",
       "    </tr>\n",
       "  </thead>\n",
       "  <tbody>\n",
       "    <tr>\n",
       "      <th>Action</th>\n",
       "      <td>619.00</td>\n",
       "      <td>0.32</td>\n",
       "      <td>0.80</td>\n",
       "      <td>0.01</td>\n",
       "      <td>0.03</td>\n",
       "      <td>0.09</td>\n",
       "      <td>0.28</td>\n",
       "      <td>12.62</td>\n",
       "    </tr>\n",
       "    <tr>\n",
       "      <th>Adventure</th>\n",
       "      <td>185.00</td>\n",
       "      <td>0.09</td>\n",
       "      <td>0.20</td>\n",
       "      <td>0.01</td>\n",
       "      <td>0.02</td>\n",
       "      <td>0.03</td>\n",
       "      <td>0.08</td>\n",
       "      <td>1.66</td>\n",
       "    </tr>\n",
       "    <tr>\n",
       "      <th>Fighting</th>\n",
       "      <td>60.00</td>\n",
       "      <td>0.47</td>\n",
       "      <td>1.19</td>\n",
       "      <td>0.01</td>\n",
       "      <td>0.06</td>\n",
       "      <td>0.12</td>\n",
       "      <td>0.32</td>\n",
       "      <td>7.55</td>\n",
       "    </tr>\n",
       "    <tr>\n",
       "      <th>Misc</th>\n",
       "      <td>113.00</td>\n",
       "      <td>0.33</td>\n",
       "      <td>0.74</td>\n",
       "      <td>0.01</td>\n",
       "      <td>0.03</td>\n",
       "      <td>0.09</td>\n",
       "      <td>0.32</td>\n",
       "      <td>5.27</td>\n",
       "    </tr>\n",
       "    <tr>\n",
       "      <th>Platform</th>\n",
       "      <td>38.00</td>\n",
       "      <td>0.48</td>\n",
       "      <td>0.72</td>\n",
       "      <td>0.01</td>\n",
       "      <td>0.06</td>\n",
       "      <td>0.14</td>\n",
       "      <td>0.47</td>\n",
       "      <td>3.21</td>\n",
       "    </tr>\n",
       "    <tr>\n",
       "      <th>Puzzle</th>\n",
       "      <td>14.00</td>\n",
       "      <td>0.16</td>\n",
       "      <td>0.32</td>\n",
       "      <td>0.01</td>\n",
       "      <td>0.02</td>\n",
       "      <td>0.04</td>\n",
       "      <td>0.10</td>\n",
       "      <td>1.19</td>\n",
       "    </tr>\n",
       "    <tr>\n",
       "      <th>Racing</th>\n",
       "      <td>69.00</td>\n",
       "      <td>0.40</td>\n",
       "      <td>0.96</td>\n",
       "      <td>0.01</td>\n",
       "      <td>0.03</td>\n",
       "      <td>0.09</td>\n",
       "      <td>0.25</td>\n",
       "      <td>7.09</td>\n",
       "    </tr>\n",
       "    <tr>\n",
       "      <th>Role-Playing</th>\n",
       "      <td>221.00</td>\n",
       "      <td>0.46</td>\n",
       "      <td>1.18</td>\n",
       "      <td>0.01</td>\n",
       "      <td>0.05</td>\n",
       "      <td>0.11</td>\n",
       "      <td>0.36</td>\n",
       "      <td>11.68</td>\n",
       "    </tr>\n",
       "    <tr>\n",
       "      <th>Shooter</th>\n",
       "      <td>128.00</td>\n",
       "      <td>1.34</td>\n",
       "      <td>2.05</td>\n",
       "      <td>0.01</td>\n",
       "      <td>0.17</td>\n",
       "      <td>0.52</td>\n",
       "      <td>1.62</td>\n",
       "      <td>14.63</td>\n",
       "    </tr>\n",
       "    <tr>\n",
       "      <th>Simulation</th>\n",
       "      <td>44.00</td>\n",
       "      <td>0.30</td>\n",
       "      <td>0.65</td>\n",
       "      <td>0.01</td>\n",
       "      <td>0.02</td>\n",
       "      <td>0.10</td>\n",
       "      <td>0.33</td>\n",
       "      <td>3.05</td>\n",
       "    </tr>\n",
       "    <tr>\n",
       "      <th>Sports</th>\n",
       "      <td>161.00</td>\n",
       "      <td>0.68</td>\n",
       "      <td>1.24</td>\n",
       "      <td>0.01</td>\n",
       "      <td>0.06</td>\n",
       "      <td>0.18</td>\n",
       "      <td>0.64</td>\n",
       "      <td>8.58</td>\n",
       "    </tr>\n",
       "    <tr>\n",
       "      <th>Strategy</th>\n",
       "      <td>37.00</td>\n",
       "      <td>0.11</td>\n",
       "      <td>0.12</td>\n",
       "      <td>0.01</td>\n",
       "      <td>0.03</td>\n",
       "      <td>0.06</td>\n",
       "      <td>0.14</td>\n",
       "      <td>0.52</td>\n",
       "    </tr>\n",
       "  </tbody>\n",
       "</table>\n",
       "</div>"
      ],
      "text/plain": [
       "              count  mean  std  min  25%  50%  75%   max\n",
       "genre                                                   \n",
       "Action       619.00  0.32 0.80 0.01 0.03 0.09 0.28 12.62\n",
       "Adventure    185.00  0.09 0.20 0.01 0.02 0.03 0.08  1.66\n",
       "Fighting      60.00  0.47 1.19 0.01 0.06 0.12 0.32  7.55\n",
       "Misc         113.00  0.33 0.74 0.01 0.03 0.09 0.32  5.27\n",
       "Platform      38.00  0.48 0.72 0.01 0.06 0.14 0.47  3.21\n",
       "Puzzle        14.00  0.16 0.32 0.01 0.02 0.04 0.10  1.19\n",
       "Racing        69.00  0.40 0.96 0.01 0.03 0.09 0.25  7.09\n",
       "Role-Playing 221.00  0.46 1.18 0.01 0.05 0.11 0.36 11.68\n",
       "Shooter      128.00  1.34 2.05 0.01 0.17 0.52 1.62 14.63\n",
       "Simulation    44.00  0.30 0.65 0.01 0.02 0.10 0.33  3.05\n",
       "Sports       161.00  0.68 1.24 0.01 0.06 0.18 0.64  8.58\n",
       "Strategy      37.00  0.11 0.12 0.01 0.03 0.06 0.14  0.52"
      ]
     },
     "execution_count": 51,
     "metadata": {},
     "output_type": "execute_result"
    }
   ],
   "source": [
    "df_relevant.groupby('genre')['total_sales'].describe()"
   ]
  },
  {
   "cell_type": "markdown",
   "metadata": {},
   "source": [
    "Попробую изобразить боксплоты все сразу"
   ]
  },
  {
   "cell_type": "code",
   "execution_count": 86,
   "metadata": {},
   "outputs": [
    {
     "data": {
      "image/png": "[encoded data removed]",
      "text/plain": [
       "<Figure size 720x576 with 1 Axes>"
      ]
     },
     "metadata": {},
     "output_type": "display_data"
    }
   ],
   "source": [
    "# Я думал будет хорошо, но вышло не очень (Чайф)\n",
    "df_relevant.boxplot('total_sales', by='genre',figsize=(10,8)).set_ylim([0, 4])\n",
    "plt.title('Ящики с усами, общие продажи в разбивке по жанрам')\n",
    "plt.xlabel('Жанр')\n",
    "plt.show()\n",
    "# тут не понял, как поменять надпись \"Boxplot grouped by genre\" "
   ]
  },
  {
   "cell_type": "code",
   "execution_count": null,
   "metadata": {},
   "outputs": [],
   "source": []
  },
  {
   "cell_type": "raw",
   "metadata": {},
   "source": [
    "Вывод:\n",
    "- У наиболее прибыльных жанров наблюдаем значительную разницу между средними и медианными значениями и высокое значение стандартных отклонений, что свидетельствует о неоднородности данных.\n",
    "- Для жанров, приносящих меньше прибыли характерно более низкое стандартное отклонение, но разница между медианой и средним всё же довольно высокая. \n",
    "- После рассмотрения медианных и средних значений можно сделать заключение: жанром-лидером со стабильными продажами с большим отрывом от конкурентов является Shooter"
   ]
  },
  {
   "cell_type": "markdown",
   "metadata": {},
   "source": [
    "#### Вывод\n"
   ]
  },
  {
   "cell_type": "markdown",
   "metadata": {},
   "source": [
    "- Большая часть выпущенных игр в представленной выборке приходится на период с 2002 до 2016 года.\n",
    "- Периодичность \"жизненного\" цикла игровых платформ составляет 8-10 лет.\n",
    "- Перспективные платформы (находятся в зоне роста или стагнации по продажам): PS4, XOne, PSP.\n",
    "- Вычисление коэффициентов корреляции Пирсона дало следующие результаты: \n",
    "    - практически нет связи между продажами и оценкой пользователей.\n",
    "    - совсем небольшая прямая связь между продажами и оценками критиков.\n",
    "- Жанры-лидеры по представленности в выборке - Action, Role-Playing, Adventure, Sports, Shooter.\n",
    "- Наиболее прибыльный жанр: Shooter."
   ]
  },
  {
   "cell_type": "markdown",
   "metadata": {},
   "source": [
    "## Составление портрета пользователя каждого региона"
   ]
  },
  {
   "cell_type": "markdown",
   "metadata": {},
   "source": [
    "Посмотрим снова на наш отфильтрованный датафрейм"
   ]
  },
  {
   "cell_type": "code",
   "execution_count": 53,
   "metadata": {},
   "outputs": [
    {
     "data": {
      "text/html": [
       "<div>\n",
       "<style scoped>\n",
       "    .dataframe tbody tr th:only-of-type {\n",
       "        vertical-align: middle;\n",
       "    }\n",
       "\n",
       "    .dataframe tbody tr th {\n",
       "        vertical-align: top;\n",
       "    }\n",
       "\n",
       "    .dataframe thead th {\n",
       "        text-align: right;\n",
       "    }\n",
       "</style>\n",
       "<table border=\"1\" class=\"dataframe\">\n",
       "  <thead>\n",
       "    <tr style=\"text-align: right;\">\n",
       "      <th></th>\n",
       "      <th>name</th>\n",
       "      <th>platform</th>\n",
       "      <th>year_of_release</th>\n",
       "      <th>genre</th>\n",
       "      <th>na_sales</th>\n",
       "      <th>eu_sales</th>\n",
       "      <th>jp_sales</th>\n",
       "      <th>other_sales</th>\n",
       "      <th>critic_score</th>\n",
       "      <th>user_score</th>\n",
       "      <th>rating</th>\n",
       "      <th>total_sales</th>\n",
       "    </tr>\n",
       "  </thead>\n",
       "  <tbody>\n",
       "    <tr>\n",
       "      <th>31</th>\n",
       "      <td>Call of Duty: Black Ops 3</td>\n",
       "      <td>PS4</td>\n",
       "      <td>2015</td>\n",
       "      <td>Shooter</td>\n",
       "      <td>6.03</td>\n",
       "      <td>5.86</td>\n",
       "      <td>0.36</td>\n",
       "      <td>2.38</td>\n",
       "      <td>NaN</td>\n",
       "      <td>NaN</td>\n",
       "      <td>Unknown</td>\n",
       "      <td>14.63</td>\n",
       "    </tr>\n",
       "    <tr>\n",
       "      <th>42</th>\n",
       "      <td>Grand Theft Auto V</td>\n",
       "      <td>PS4</td>\n",
       "      <td>2014</td>\n",
       "      <td>Action</td>\n",
       "      <td>3.96</td>\n",
       "      <td>6.31</td>\n",
       "      <td>0.38</td>\n",
       "      <td>1.97</td>\n",
       "      <td>97.00</td>\n",
       "      <td>8.30</td>\n",
       "      <td>M</td>\n",
       "      <td>12.62</td>\n",
       "    </tr>\n",
       "    <tr>\n",
       "      <th>47</th>\n",
       "      <td>Pokemon Omega Ruby/Pokemon Alpha Sapphire</td>\n",
       "      <td>3DS</td>\n",
       "      <td>2014</td>\n",
       "      <td>Role-Playing</td>\n",
       "      <td>4.35</td>\n",
       "      <td>3.49</td>\n",
       "      <td>3.10</td>\n",
       "      <td>0.74</td>\n",
       "      <td>NaN</td>\n",
       "      <td>NaN</td>\n",
       "      <td>Unknown</td>\n",
       "      <td>11.68</td>\n",
       "    </tr>\n",
       "    <tr>\n",
       "      <th>77</th>\n",
       "      <td>FIFA 16</td>\n",
       "      <td>PS4</td>\n",
       "      <td>2015</td>\n",
       "      <td>Sports</td>\n",
       "      <td>1.12</td>\n",
       "      <td>6.12</td>\n",
       "      <td>0.06</td>\n",
       "      <td>1.28</td>\n",
       "      <td>82.00</td>\n",
       "      <td>4.30</td>\n",
       "      <td>E</td>\n",
       "      <td>8.58</td>\n",
       "    </tr>\n",
       "    <tr>\n",
       "      <th>87</th>\n",
       "      <td>Star Wars Battlefront (2015)</td>\n",
       "      <td>PS4</td>\n",
       "      <td>2015</td>\n",
       "      <td>Shooter</td>\n",
       "      <td>2.99</td>\n",
       "      <td>3.49</td>\n",
       "      <td>0.22</td>\n",
       "      <td>1.28</td>\n",
       "      <td>NaN</td>\n",
       "      <td>NaN</td>\n",
       "      <td>Unknown</td>\n",
       "      <td>7.98</td>\n",
       "    </tr>\n",
       "  </tbody>\n",
       "</table>\n",
       "</div>"
      ],
      "text/plain": [
       "                                         name platform  year_of_release  \\\n",
       "31                  Call of Duty: Black Ops 3      PS4             2015   \n",
       "42                         Grand Theft Auto V      PS4             2014   \n",
       "47  Pokemon Omega Ruby/Pokemon Alpha Sapphire      3DS             2014   \n",
       "77                                    FIFA 16      PS4             2015   \n",
       "87               Star Wars Battlefront (2015)      PS4             2015   \n",
       "\n",
       "           genre  na_sales  eu_sales  jp_sales  other_sales  critic_score  \\\n",
       "31       Shooter      6.03      5.86      0.36         2.38           NaN   \n",
       "42        Action      3.96      6.31      0.38         1.97         97.00   \n",
       "47  Role-Playing      4.35      3.49      3.10         0.74           NaN   \n",
       "77        Sports      1.12      6.12      0.06         1.28         82.00   \n",
       "87       Shooter      2.99      3.49      0.22         1.28           NaN   \n",
       "\n",
       "    user_score   rating  total_sales  \n",
       "31         NaN  Unknown        14.63  \n",
       "42        8.30        M        12.62  \n",
       "47         NaN  Unknown        11.68  \n",
       "77        4.30        E         8.58  \n",
       "87         NaN  Unknown         7.98  "
      ]
     },
     "execution_count": 53,
     "metadata": {},
     "output_type": "execute_result"
    }
   ],
   "source": [
    "df_relevant.head()"
   ]
  },
  {
   "cell_type": "markdown",
   "metadata": {},
   "source": [
    "### Топ-5 по популярности платформ для каждого региона"
   ]
  },
  {
   "cell_type": "markdown",
   "metadata": {},
   "source": [
    "Определим топ-5 по популярности платформ для каждого региона"
   ]
  },
  {
   "cell_type": "code",
   "execution_count": 54,
   "metadata": {},
   "outputs": [
    {
     "data": {
      "text/html": [
       "<div>\n",
       "<style scoped>\n",
       "    .dataframe tbody tr th:only-of-type {\n",
       "        vertical-align: middle;\n",
       "    }\n",
       "\n",
       "    .dataframe tbody tr th {\n",
       "        vertical-align: top;\n",
       "    }\n",
       "\n",
       "    .dataframe thead th {\n",
       "        text-align: right;\n",
       "    }\n",
       "</style>\n",
       "<table border=\"1\" class=\"dataframe\">\n",
       "  <thead>\n",
       "    <tr style=\"text-align: right;\">\n",
       "      <th></th>\n",
       "      <th>na_sales</th>\n",
       "    </tr>\n",
       "    <tr>\n",
       "      <th>platform</th>\n",
       "      <th></th>\n",
       "    </tr>\n",
       "  </thead>\n",
       "  <tbody>\n",
       "    <tr>\n",
       "      <th>PS4</th>\n",
       "      <td>98.61</td>\n",
       "    </tr>\n",
       "    <tr>\n",
       "      <th>XOne</th>\n",
       "      <td>81.27</td>\n",
       "    </tr>\n",
       "    <tr>\n",
       "      <th>X360</th>\n",
       "      <td>28.30</td>\n",
       "    </tr>\n",
       "    <tr>\n",
       "      <th>3DS</th>\n",
       "      <td>22.64</td>\n",
       "    </tr>\n",
       "    <tr>\n",
       "      <th>PS3</th>\n",
       "      <td>22.05</td>\n",
       "    </tr>\n",
       "  </tbody>\n",
       "</table>\n",
       "</div>"
      ],
      "text/plain": [
       "          na_sales\n",
       "platform          \n",
       "PS4          98.61\n",
       "XOne         81.27\n",
       "X360         28.30\n",
       "3DS          22.64\n",
       "PS3          22.05"
      ]
     },
     "metadata": {},
     "output_type": "display_data"
    },
    {
     "data": {
      "text/html": [
       "<div>\n",
       "<style scoped>\n",
       "    .dataframe tbody tr th:only-of-type {\n",
       "        vertical-align: middle;\n",
       "    }\n",
       "\n",
       "    .dataframe tbody tr th {\n",
       "        vertical-align: top;\n",
       "    }\n",
       "\n",
       "    .dataframe thead th {\n",
       "        text-align: right;\n",
       "    }\n",
       "</style>\n",
       "<table border=\"1\" class=\"dataframe\">\n",
       "  <thead>\n",
       "    <tr style=\"text-align: right;\">\n",
       "      <th></th>\n",
       "      <th>eu_sales</th>\n",
       "    </tr>\n",
       "    <tr>\n",
       "      <th>platform</th>\n",
       "      <th></th>\n",
       "    </tr>\n",
       "  </thead>\n",
       "  <tbody>\n",
       "    <tr>\n",
       "      <th>PS4</th>\n",
       "      <td>130.04</td>\n",
       "    </tr>\n",
       "    <tr>\n",
       "      <th>XOne</th>\n",
       "      <td>46.25</td>\n",
       "    </tr>\n",
       "    <tr>\n",
       "      <th>PS3</th>\n",
       "      <td>25.54</td>\n",
       "    </tr>\n",
       "    <tr>\n",
       "      <th>PC</th>\n",
       "      <td>17.97</td>\n",
       "    </tr>\n",
       "    <tr>\n",
       "      <th>3DS</th>\n",
       "      <td>16.12</td>\n",
       "    </tr>\n",
       "  </tbody>\n",
       "</table>\n",
       "</div>"
      ],
      "text/plain": [
       "          eu_sales\n",
       "platform          \n",
       "PS4         130.04\n",
       "XOne         46.25\n",
       "PS3          25.54\n",
       "PC           17.97\n",
       "3DS          16.12"
      ]
     },
     "metadata": {},
     "output_type": "display_data"
    },
    {
     "data": {
      "text/html": [
       "<div>\n",
       "<style scoped>\n",
       "    .dataframe tbody tr th:only-of-type {\n",
       "        vertical-align: middle;\n",
       "    }\n",
       "\n",
       "    .dataframe tbody tr th {\n",
       "        vertical-align: top;\n",
       "    }\n",
       "\n",
       "    .dataframe thead th {\n",
       "        text-align: right;\n",
       "    }\n",
       "</style>\n",
       "<table border=\"1\" class=\"dataframe\">\n",
       "  <thead>\n",
       "    <tr style=\"text-align: right;\">\n",
       "      <th></th>\n",
       "      <th>jp_sales</th>\n",
       "    </tr>\n",
       "    <tr>\n",
       "      <th>platform</th>\n",
       "      <th></th>\n",
       "    </tr>\n",
       "  </thead>\n",
       "  <tbody>\n",
       "    <tr>\n",
       "      <th>3DS</th>\n",
       "      <td>44.24</td>\n",
       "    </tr>\n",
       "    <tr>\n",
       "      <th>PS4</th>\n",
       "      <td>15.02</td>\n",
       "    </tr>\n",
       "    <tr>\n",
       "      <th>PSV</th>\n",
       "      <td>14.54</td>\n",
       "    </tr>\n",
       "    <tr>\n",
       "      <th>PS3</th>\n",
       "      <td>11.22</td>\n",
       "    </tr>\n",
       "    <tr>\n",
       "      <th>WiiU</th>\n",
       "      <td>7.31</td>\n",
       "    </tr>\n",
       "  </tbody>\n",
       "</table>\n",
       "</div>"
      ],
      "text/plain": [
       "          jp_sales\n",
       "platform          \n",
       "3DS          44.24\n",
       "PS4          15.02\n",
       "PSV          14.54\n",
       "PS3          11.22\n",
       "WiiU          7.31"
      ]
     },
     "metadata": {},
     "output_type": "display_data"
    }
   ],
   "source": [
    "\n",
    "display(\n",
    "    df_relevant\n",
    "    .pivot_table(index='platform', values='na_sales', aggfunc='sum')\n",
    "    .sort_values('na_sales', ascending=False)\n",
    "    .head()\n",
    ")\n",
    "display(\n",
    "    df_relevant\n",
    "    .pivot_table(index='platform', values='eu_sales', aggfunc='sum')\n",
    "    .sort_values('eu_sales', ascending=False)\n",
    "    .head()\n",
    ")\n",
    "display(\n",
    "    df_relevant\n",
    "    .pivot_table(index='platform', values='jp_sales', aggfunc='sum')\n",
    "    .sort_values('jp_sales', ascending=False)\n",
    "    .head()\n",
    ")"
   ]
  },
  {
   "cell_type": "markdown",
   "metadata": {},
   "source": [
    "Вывод:"
   ]
  },
  {
   "cell_type": "markdown",
   "metadata": {},
   "source": [
    "- В Северной Америке лидирует PS4, за ней, достаточно близко XOne\n",
    "- В Европе с сильным отрывом лидирует PS4, затем XOne\n",
    "- В Японии пользователи больше интересуются Nintendo 3DS."
   ]
  },
  {
   "cell_type": "markdown",
   "metadata": {},
   "source": [
    "### Топ-5 по популярности жанров в каждом регионе"
   ]
  },
  {
   "cell_type": "code",
   "execution_count": 55,
   "metadata": {},
   "outputs": [
    {
     "data": {
      "text/html": [
       "<div>\n",
       "<style scoped>\n",
       "    .dataframe tbody tr th:only-of-type {\n",
       "        vertical-align: middle;\n",
       "    }\n",
       "\n",
       "    .dataframe tbody tr th {\n",
       "        vertical-align: top;\n",
       "    }\n",
       "\n",
       "    .dataframe thead th {\n",
       "        text-align: right;\n",
       "    }\n",
       "</style>\n",
       "<table border=\"1\" class=\"dataframe\">\n",
       "  <thead>\n",
       "    <tr style=\"text-align: right;\">\n",
       "      <th></th>\n",
       "      <th>na_sales</th>\n",
       "    </tr>\n",
       "    <tr>\n",
       "      <th>genre</th>\n",
       "      <th></th>\n",
       "    </tr>\n",
       "  </thead>\n",
       "  <tbody>\n",
       "    <tr>\n",
       "      <th>Shooter</th>\n",
       "      <td>79.02</td>\n",
       "    </tr>\n",
       "    <tr>\n",
       "      <th>Action</th>\n",
       "      <td>72.53</td>\n",
       "    </tr>\n",
       "    <tr>\n",
       "      <th>Sports</th>\n",
       "      <td>46.13</td>\n",
       "    </tr>\n",
       "    <tr>\n",
       "      <th>Role-Playing</th>\n",
       "      <td>33.47</td>\n",
       "    </tr>\n",
       "    <tr>\n",
       "      <th>Misc</th>\n",
       "      <td>15.05</td>\n",
       "    </tr>\n",
       "  </tbody>\n",
       "</table>\n",
       "</div>"
      ],
      "text/plain": [
       "              na_sales\n",
       "genre                 \n",
       "Shooter          79.02\n",
       "Action           72.53\n",
       "Sports           46.13\n",
       "Role-Playing     33.47\n",
       "Misc             15.05"
      ]
     },
     "metadata": {},
     "output_type": "display_data"
    },
    {
     "data": {
      "text/html": [
       "<div>\n",
       "<style scoped>\n",
       "    .dataframe tbody tr th:only-of-type {\n",
       "        vertical-align: middle;\n",
       "    }\n",
       "\n",
       "    .dataframe tbody tr th {\n",
       "        vertical-align: top;\n",
       "    }\n",
       "\n",
       "    .dataframe thead th {\n",
       "        text-align: right;\n",
       "    }\n",
       "</style>\n",
       "<table border=\"1\" class=\"dataframe\">\n",
       "  <thead>\n",
       "    <tr style=\"text-align: right;\">\n",
       "      <th></th>\n",
       "      <th>eu_sales</th>\n",
       "    </tr>\n",
       "    <tr>\n",
       "      <th>genre</th>\n",
       "      <th></th>\n",
       "    </tr>\n",
       "  </thead>\n",
       "  <tbody>\n",
       "    <tr>\n",
       "      <th>Action</th>\n",
       "      <td>74.68</td>\n",
       "    </tr>\n",
       "    <tr>\n",
       "      <th>Shooter</th>\n",
       "      <td>65.52</td>\n",
       "    </tr>\n",
       "    <tr>\n",
       "      <th>Sports</th>\n",
       "      <td>45.73</td>\n",
       "    </tr>\n",
       "    <tr>\n",
       "      <th>Role-Playing</th>\n",
       "      <td>28.17</td>\n",
       "    </tr>\n",
       "    <tr>\n",
       "      <th>Racing</th>\n",
       "      <td>14.13</td>\n",
       "    </tr>\n",
       "  </tbody>\n",
       "</table>\n",
       "</div>"
      ],
      "text/plain": [
       "              eu_sales\n",
       "genre                 \n",
       "Action           74.68\n",
       "Shooter          65.52\n",
       "Sports           45.73\n",
       "Role-Playing     28.17\n",
       "Racing           14.13"
      ]
     },
     "metadata": {},
     "output_type": "display_data"
    },
    {
     "data": {
      "text/html": [
       "<div>\n",
       "<style scoped>\n",
       "    .dataframe tbody tr th:only-of-type {\n",
       "        vertical-align: middle;\n",
       "    }\n",
       "\n",
       "    .dataframe tbody tr th {\n",
       "        vertical-align: top;\n",
       "    }\n",
       "\n",
       "    .dataframe thead th {\n",
       "        text-align: right;\n",
       "    }\n",
       "</style>\n",
       "<table border=\"1\" class=\"dataframe\">\n",
       "  <thead>\n",
       "    <tr style=\"text-align: right;\">\n",
       "      <th></th>\n",
       "      <th>jp_sales</th>\n",
       "    </tr>\n",
       "    <tr>\n",
       "      <th>genre</th>\n",
       "      <th></th>\n",
       "    </tr>\n",
       "  </thead>\n",
       "  <tbody>\n",
       "    <tr>\n",
       "      <th>Role-Playing</th>\n",
       "      <td>31.16</td>\n",
       "    </tr>\n",
       "    <tr>\n",
       "      <th>Action</th>\n",
       "      <td>29.58</td>\n",
       "    </tr>\n",
       "    <tr>\n",
       "      <th>Fighting</th>\n",
       "      <td>6.37</td>\n",
       "    </tr>\n",
       "    <tr>\n",
       "      <th>Misc</th>\n",
       "      <td>5.61</td>\n",
       "    </tr>\n",
       "    <tr>\n",
       "      <th>Shooter</th>\n",
       "      <td>4.87</td>\n",
       "    </tr>\n",
       "  </tbody>\n",
       "</table>\n",
       "</div>"
      ],
      "text/plain": [
       "              jp_sales\n",
       "genre                 \n",
       "Role-Playing     31.16\n",
       "Action           29.58\n",
       "Fighting          6.37\n",
       "Misc              5.61\n",
       "Shooter           4.87"
      ]
     },
     "metadata": {},
     "output_type": "display_data"
    }
   ],
   "source": [
    "display(\n",
    "    df_relevant\n",
    "    .pivot_table(index='genre', values='na_sales', aggfunc='sum')\n",
    "    .sort_values('na_sales', ascending=False)\n",
    "    .head()\n",
    ")\n",
    "display(\n",
    "    df_relevant\n",
    "    .pivot_table(index='genre', values='eu_sales', aggfunc='sum')\n",
    "    .sort_values('eu_sales', ascending=False)\n",
    "    .head()\n",
    ")\n",
    "display(\n",
    "    df_relevant\n",
    "    .pivot_table(index='genre', values='jp_sales', aggfunc='sum')\n",
    "    .sort_values('jp_sales', ascending=False)\n",
    "    .head()\n",
    ")"
   ]
  },
  {
   "cell_type": "markdown",
   "metadata": {},
   "source": [
    "Вывод:\n",
    "- Жанры-лидеры продаж в Северной Америке и Европе полностью совпадают: Action и Shooter\n",
    "- В Японии жанры в целом те же, только предпочтения распределены иначе, на первом месте Role-Playing, затем  Action\n",
    "\n",
    "В общем, жанр Action самый популярный (кстати он  по продажам лидировал)\n"
   ]
  },
  {
   "cell_type": "code",
   "execution_count": 56,
   "metadata": {},
   "outputs": [],
   "source": [
    "### Влияние рейтинга ESRB на продажи в отдельном регионе"
   ]
  },
  {
   "cell_type": "markdown",
   "metadata": {},
   "source": [
    "На самом деле \"влияние\" мы ни как не изучаем. Просто смотрим игры, с каким рейтингом, продавались лучше/хуже"
   ]
  },
  {
   "cell_type": "code",
   "execution_count": 57,
   "metadata": {},
   "outputs": [
    {
     "data": {
      "text/html": [
       "<div>\n",
       "<style scoped>\n",
       "    .dataframe tbody tr th:only-of-type {\n",
       "        vertical-align: middle;\n",
       "    }\n",
       "\n",
       "    .dataframe tbody tr th {\n",
       "        vertical-align: top;\n",
       "    }\n",
       "\n",
       "    .dataframe thead th {\n",
       "        text-align: right;\n",
       "    }\n",
       "</style>\n",
       "<table border=\"1\" class=\"dataframe\">\n",
       "  <thead>\n",
       "    <tr style=\"text-align: right;\">\n",
       "      <th></th>\n",
       "      <th></th>\n",
       "      <th>na_sales</th>\n",
       "    </tr>\n",
       "    <tr>\n",
       "      <th>platform</th>\n",
       "      <th>rating</th>\n",
       "      <th></th>\n",
       "    </tr>\n",
       "  </thead>\n",
       "  <tbody>\n",
       "    <tr>\n",
       "      <th>XOne</th>\n",
       "      <th>M</th>\n",
       "      <td>38.42</td>\n",
       "    </tr>\n",
       "    <tr>\n",
       "      <th rowspan=\"3\" valign=\"top\">PS4</th>\n",
       "      <th>M</th>\n",
       "      <td>37.72</td>\n",
       "    </tr>\n",
       "    <tr>\n",
       "      <th>Unknown</th>\n",
       "      <td>23.31</td>\n",
       "    </tr>\n",
       "    <tr>\n",
       "      <th>T</th>\n",
       "      <td>16.38</td>\n",
       "    </tr>\n",
       "    <tr>\n",
       "      <th>XOne</th>\n",
       "      <th>Unknown</th>\n",
       "      <td>14.41</td>\n",
       "    </tr>\n",
       "    <tr>\n",
       "      <th>PS4</th>\n",
       "      <th>E</th>\n",
       "      <td>14.38</td>\n",
       "    </tr>\n",
       "    <tr>\n",
       "      <th>3DS</th>\n",
       "      <th>Unknown</th>\n",
       "      <td>13.32</td>\n",
       "    </tr>\n",
       "    <tr>\n",
       "      <th rowspan=\"2\" valign=\"top\">XOne</th>\n",
       "      <th>E</th>\n",
       "      <td>10.97</td>\n",
       "    </tr>\n",
       "    <tr>\n",
       "      <th>T</th>\n",
       "      <td>10.06</td>\n",
       "    </tr>\n",
       "    <tr>\n",
       "      <th>X360</th>\n",
       "      <th>M</th>\n",
       "      <td>8.62</td>\n",
       "    </tr>\n",
       "  </tbody>\n",
       "</table>\n",
       "</div>"
      ],
      "text/plain": [
       "                  na_sales\n",
       "platform rating           \n",
       "XOne     M           38.42\n",
       "PS4      M           37.72\n",
       "         Unknown     23.31\n",
       "         T           16.38\n",
       "XOne     Unknown     14.41\n",
       "PS4      E           14.38\n",
       "3DS      Unknown     13.32\n",
       "XOne     E           10.97\n",
       "         T           10.06\n",
       "X360     M            8.62"
      ]
     },
     "metadata": {},
     "output_type": "display_data"
    },
    {
     "data": {
      "text/html": [
       "<div>\n",
       "<style scoped>\n",
       "    .dataframe tbody tr th:only-of-type {\n",
       "        vertical-align: middle;\n",
       "    }\n",
       "\n",
       "    .dataframe tbody tr th {\n",
       "        vertical-align: top;\n",
       "    }\n",
       "\n",
       "    .dataframe thead th {\n",
       "        text-align: right;\n",
       "    }\n",
       "</style>\n",
       "<table border=\"1\" class=\"dataframe\">\n",
       "  <thead>\n",
       "    <tr style=\"text-align: right;\">\n",
       "      <th></th>\n",
       "      <th></th>\n",
       "      <th>eu_sales</th>\n",
       "    </tr>\n",
       "    <tr>\n",
       "      <th>platform</th>\n",
       "      <th>rating</th>\n",
       "      <th></th>\n",
       "    </tr>\n",
       "  </thead>\n",
       "  <tbody>\n",
       "    <tr>\n",
       "      <th rowspan=\"3\" valign=\"top\">PS4</th>\n",
       "      <th>M</th>\n",
       "      <td>52.81</td>\n",
       "    </tr>\n",
       "    <tr>\n",
       "      <th>Unknown</th>\n",
       "      <td>27.69</td>\n",
       "    </tr>\n",
       "    <tr>\n",
       "      <th>E</th>\n",
       "      <td>25.14</td>\n",
       "    </tr>\n",
       "    <tr>\n",
       "      <th>XOne</th>\n",
       "      <th>M</th>\n",
       "      <td>21.06</td>\n",
       "    </tr>\n",
       "    <tr>\n",
       "      <th>PS4</th>\n",
       "      <th>T</th>\n",
       "      <td>18.31</td>\n",
       "    </tr>\n",
       "    <tr>\n",
       "      <th>3DS</th>\n",
       "      <th>Unknown</th>\n",
       "      <td>8.96</td>\n",
       "    </tr>\n",
       "    <tr>\n",
       "      <th rowspan=\"2\" valign=\"top\">XOne</th>\n",
       "      <th>E</th>\n",
       "      <td>8.74</td>\n",
       "    </tr>\n",
       "    <tr>\n",
       "      <th>Unknown</th>\n",
       "      <td>8.12</td>\n",
       "    </tr>\n",
       "    <tr>\n",
       "      <th>PS3</th>\n",
       "      <th>E</th>\n",
       "      <td>7.62</td>\n",
       "    </tr>\n",
       "    <tr>\n",
       "      <th>PC</th>\n",
       "      <th>M</th>\n",
       "      <td>7.48</td>\n",
       "    </tr>\n",
       "  </tbody>\n",
       "</table>\n",
       "</div>"
      ],
      "text/plain": [
       "                  eu_sales\n",
       "platform rating           \n",
       "PS4      M           52.81\n",
       "         Unknown     27.69\n",
       "         E           25.14\n",
       "XOne     M           21.06\n",
       "PS4      T           18.31\n",
       "3DS      Unknown      8.96\n",
       "XOne     E            8.74\n",
       "         Unknown      8.12\n",
       "PS3      E            7.62\n",
       "PC       M            7.48"
      ]
     },
     "metadata": {},
     "output_type": "display_data"
    },
    {
     "data": {
      "text/html": [
       "<div>\n",
       "<style scoped>\n",
       "    .dataframe tbody tr th:only-of-type {\n",
       "        vertical-align: middle;\n",
       "    }\n",
       "\n",
       "    .dataframe tbody tr th {\n",
       "        vertical-align: top;\n",
       "    }\n",
       "\n",
       "    .dataframe thead th {\n",
       "        text-align: right;\n",
       "    }\n",
       "</style>\n",
       "<table border=\"1\" class=\"dataframe\">\n",
       "  <thead>\n",
       "    <tr style=\"text-align: right;\">\n",
       "      <th></th>\n",
       "      <th></th>\n",
       "      <th>jp_sales</th>\n",
       "    </tr>\n",
       "    <tr>\n",
       "      <th>platform</th>\n",
       "      <th>rating</th>\n",
       "      <th></th>\n",
       "    </tr>\n",
       "  </thead>\n",
       "  <tbody>\n",
       "    <tr>\n",
       "      <th>3DS</th>\n",
       "      <th>Unknown</th>\n",
       "      <td>33.24</td>\n",
       "    </tr>\n",
       "    <tr>\n",
       "      <th>PSV</th>\n",
       "      <th>Unknown</th>\n",
       "      <td>9.36</td>\n",
       "    </tr>\n",
       "    <tr>\n",
       "      <th>PS4</th>\n",
       "      <th>Unknown</th>\n",
       "      <td>6.25</td>\n",
       "    </tr>\n",
       "    <tr>\n",
       "      <th>PS3</th>\n",
       "      <th>Unknown</th>\n",
       "      <td>6.10</td>\n",
       "    </tr>\n",
       "    <tr>\n",
       "      <th>PS4</th>\n",
       "      <th>M</th>\n",
       "      <td>4.87</td>\n",
       "    </tr>\n",
       "    <tr>\n",
       "      <th rowspan=\"2\" valign=\"top\">3DS</th>\n",
       "      <th>T</th>\n",
       "      <td>4.57</td>\n",
       "    </tr>\n",
       "    <tr>\n",
       "      <th>E</th>\n",
       "      <td>4.07</td>\n",
       "    </tr>\n",
       "    <tr>\n",
       "      <th>PSV</th>\n",
       "      <th>T</th>\n",
       "      <td>4.05</td>\n",
       "    </tr>\n",
       "    <tr>\n",
       "      <th>WiiU</th>\n",
       "      <th>E</th>\n",
       "      <td>3.42</td>\n",
       "    </tr>\n",
       "    <tr>\n",
       "      <th>PS4</th>\n",
       "      <th>T</th>\n",
       "      <td>2.97</td>\n",
       "    </tr>\n",
       "  </tbody>\n",
       "</table>\n",
       "</div>"
      ],
      "text/plain": [
       "                  jp_sales\n",
       "platform rating           \n",
       "3DS      Unknown     33.24\n",
       "PSV      Unknown      9.36\n",
       "PS4      Unknown      6.25\n",
       "PS3      Unknown      6.10\n",
       "PS4      M            4.87\n",
       "3DS      T            4.57\n",
       "         E            4.07\n",
       "PSV      T            4.05\n",
       "WiiU     E            3.42\n",
       "PS4      T            2.97"
      ]
     },
     "metadata": {},
     "output_type": "display_data"
    }
   ],
   "source": [
    "display(\n",
    "    df_relevant\n",
    "    .pivot_table(index=['platform', 'rating'], values='na_sales', aggfunc='sum')\n",
    "    .sort_values('na_sales', ascending=False)\n",
    "    .head(10)\n",
    ")\n",
    "display(\n",
    "    df_relevant\n",
    "    .pivot_table(index=['platform', 'rating'], values='eu_sales', aggfunc='sum')\n",
    "    .sort_values('eu_sales', ascending=False)\n",
    "    .head(10)\n",
    ")\n",
    "display(\n",
    "    df_relevant\n",
    "    .pivot_table(index=['platform', 'rating'], values='jp_sales', aggfunc='sum')\n",
    "    .sort_values('jp_sales', ascending=False)\n",
    "    .head(10)\n",
    ")"
   ]
  },
  {
   "cell_type": "markdown",
   "metadata": {},
   "source": [
    "Выводы:\n",
    "- В Северной Америке и Европе у наиболее популярных платформ стоит рейтинг M, но явной связи не прослеживается.\n",
    "- В Японии у самых популярных платформ отсутствует рейтинг. Вероятно, это объясняется тем, что рейтинги присваивает американская компания и для американского рынка. А в Японии высокая доля игр местных производителей (Кодзима - гений)"
   ]
  },
  {
   "cell_type": "markdown",
   "metadata": {},
   "source": [
    "### Вывод"
   ]
  },
  {
   "cell_type": "markdown",
   "metadata": {},
   "source": [
    "- В Северной Америке и Европе выбор игровых платформ схож, в Японии - игроки в целом отдают предпочтения другим приставкам.\n",
    "- Американские пользователи одинаково примерно в равной степени покупают игры двух лидирующих платформ: PS4 и XOne.\n",
    "- В Европе явное предпочтение отдаётся PS4.\n",
    "- В Японии пользователи больше интересуются Nintendo 3DS.\n",
    "    \n",
    "- Жанры-лидеры продаж в Северной Америке полностью совпадают.\n",
    "- В Японии жанры в целом те же, только предпочтения распределены иначе.\n",
    "- Самый популярный жанр игр - Action.\n",
    "\n",
    "- В Северной Америке и Европе у наиболее популярных платформ стоит рейтинг M, но явной связи между рейтингом и популярностью не прослеживается.\n",
    "- В Японии у самых популярных платформ отсутствует рейтинг, что скорее всего связано со спецификой рынка"
   ]
  },
  {
   "cell_type": "markdown",
   "metadata": {},
   "source": [
    "## Общий вывод"
   ]
  },
  {
   "cell_type": "markdown",
   "metadata": {},
   "source": [
    "По итогам проведённого исследования можем сделать следующие заключения:\n",
    "- Большая часть выпущенных игр в представленной выборке приходится на период с 2003 до 2010 года (межквартильный размах).\n",
    "- \"Жизненный\" цикла игровых платформ составляет 9-11 лет.\n",
    "- Перспективные платформы (находятся в зоне роста или стагнации по продажам): PS4, XOne, PSP.\n",
    "- Вычисление коэффициентов корреляции Пирсона дало следующие результаты: \n",
    "    - практически нет связи между продажами и оценкой пользователей.\n",
    "    - совсем небольшая прямая связь между продажами и оценками критиков.\n",
    "- Жанры-лидеры по представленности в выборке - Action, Role-Playing, Adventure, Sports, Shooter.\n",
    "- Наиболее прибыльный жанр: Shooter.\n",
    "\n",
    "\n",
    "- В Северной Америке и Европе выбор игровых платформ схож, в Японии - игроки в целом отдают предпочтения другим приставкам.\n",
    "- Американские пользователи одинаково примерно в раной степени покупают игры двух лидирующих платформ: PS4 и XOne.\n",
    "- В Европе явное предпочтение отдаётся PS4.\n",
    "- В Японии пользователи больше интересуются Nintendo 3DS.\n",
    "\n",
    "    \n",
    "- Жанры-лидеры продаж в Северной Америке и Европе полностью совпадают.\n",
    "- В Японии предпочтения распределены иначе.\n",
    "- Самый популярный жанр игр - Action.\n",
    "\n",
    "- В Северной Америке и Европе у наиболее популярных платформ лидирует рейтинг M, но явной связи между рейтингом и популярностью не прослеживается.\n",
    "- В Японии у самых популярных платформ отсутствует рейтинг. Вероятно, это объясняется тем, что рейтинги присваивает американская компания для локального рынка.\n"
   ]
  }
 ],
 "metadata": {
  "ExecuteTimeLog": [
   {
    "duration": 163,
    "start_time": "2023-09-04T07:19:39.742Z"
   },
   {
    "duration": 532,
    "start_time": "2023-09-04T07:20:00.099Z"
   },
   {
    "duration": 1048,
    "start_time": "2023-09-04T07:20:08.923Z"
   },
   {
    "duration": 3,
    "start_time": "2023-09-04T07:20:11.476Z"
   },
   {
    "duration": 60,
    "start_time": "2023-09-04T07:20:13.979Z"
   },
   {
    "duration": 121,
    "start_time": "2023-09-04T07:21:05.015Z"
   },
   {
    "duration": 18,
    "start_time": "2023-09-04T07:21:08.795Z"
   },
   {
    "duration": 13,
    "start_time": "2023-09-04T07:21:25.568Z"
   },
   {
    "duration": 16,
    "start_time": "2023-09-04T07:25:14.179Z"
   },
   {
    "duration": 33,
    "start_time": "2023-09-04T07:28:11.971Z"
   },
   {
    "duration": 5,
    "start_time": "2023-09-04T07:30:46.098Z"
   },
   {
    "duration": 2,
    "start_time": "2023-09-04T07:31:04.876Z"
   },
   {
    "duration": 4,
    "start_time": "2023-09-04T07:32:49.067Z"
   },
   {
    "duration": 3,
    "start_time": "2023-09-04T07:32:51.071Z"
   },
   {
    "duration": 16,
    "start_time": "2023-09-04T07:33:11.323Z"
   },
   {
    "duration": 3,
    "start_time": "2023-09-04T07:34:30.779Z"
   },
   {
    "duration": 14,
    "start_time": "2023-09-04T07:35:28.836Z"
   },
   {
    "duration": 13,
    "start_time": "2023-09-04T07:36:24.342Z"
   },
   {
    "duration": 21,
    "start_time": "2023-09-04T07:37:14.018Z"
   },
   {
    "duration": 25,
    "start_time": "2023-09-04T07:37:17.707Z"
   },
   {
    "duration": 10,
    "start_time": "2023-09-04T07:37:20.768Z"
   },
   {
    "duration": 9,
    "start_time": "2023-09-04T07:39:19.597Z"
   },
   {
    "duration": 26,
    "start_time": "2023-09-04T07:49:32.874Z"
   },
   {
    "duration": 28,
    "start_time": "2023-09-04T07:50:05.535Z"
   },
   {
    "duration": 18,
    "start_time": "2023-09-04T07:51:58.471Z"
   },
   {
    "duration": 16,
    "start_time": "2023-09-04T08:02:06.027Z"
   },
   {
    "duration": 5,
    "start_time": "2023-09-04T08:03:07.682Z"
   },
   {
    "duration": 9,
    "start_time": "2023-09-04T08:05:32.897Z"
   },
   {
    "duration": 10,
    "start_time": "2023-09-04T08:05:47.253Z"
   },
   {
    "duration": 11,
    "start_time": "2023-09-04T08:06:47.176Z"
   },
   {
    "duration": 8,
    "start_time": "2023-09-04T08:07:03.361Z"
   },
   {
    "duration": 11,
    "start_time": "2023-09-04T08:07:05.361Z"
   },
   {
    "duration": 14,
    "start_time": "2023-09-04T08:07:34.549Z"
   },
   {
    "duration": 10,
    "start_time": "2023-09-04T08:11:40.368Z"
   },
   {
    "duration": 10,
    "start_time": "2023-09-04T08:11:59.823Z"
   },
   {
    "duration": 15,
    "start_time": "2023-09-04T08:12:13.608Z"
   },
   {
    "duration": 6,
    "start_time": "2023-09-04T08:13:20.529Z"
   },
   {
    "duration": 7,
    "start_time": "2023-09-04T08:13:30.873Z"
   },
   {
    "duration": 20,
    "start_time": "2023-09-04T08:19:39.801Z"
   },
   {
    "duration": 7,
    "start_time": "2023-09-04T08:21:37.413Z"
   },
   {
    "duration": 10,
    "start_time": "2023-09-04T08:21:44.421Z"
   },
   {
    "duration": 3,
    "start_time": "2023-09-04T08:28:42.628Z"
   },
   {
    "duration": 20,
    "start_time": "2023-09-04T08:28:48.984Z"
   },
   {
    "duration": 3,
    "start_time": "2023-09-04T08:29:05.593Z"
   },
   {
    "duration": 10,
    "start_time": "2023-09-04T08:29:18.769Z"
   },
   {
    "duration": 10,
    "start_time": "2023-09-04T08:29:23.056Z"
   },
   {
    "duration": 8,
    "start_time": "2023-09-04T08:32:20.449Z"
   },
   {
    "duration": 3,
    "start_time": "2023-09-04T08:34:37.409Z"
   },
   {
    "duration": 5,
    "start_time": "2023-09-04T08:39:17.705Z"
   },
   {
    "duration": 10,
    "start_time": "2023-09-04T08:40:12.916Z"
   },
   {
    "duration": 6,
    "start_time": "2023-09-04T08:45:08.938Z"
   },
   {
    "duration": 3,
    "start_time": "2023-09-04T08:47:34.000Z"
   },
   {
    "duration": 177,
    "start_time": "2023-09-04T08:51:36.257Z"
   },
   {
    "duration": 522,
    "start_time": "2023-09-04T08:53:55.558Z"
   },
   {
    "duration": 222,
    "start_time": "2023-09-04T08:54:38.242Z"
   },
   {
    "duration": 415,
    "start_time": "2023-09-04T08:54:48.659Z"
   },
   {
    "duration": 440,
    "start_time": "2023-09-04T08:55:01.153Z"
   },
   {
    "duration": 499,
    "start_time": "2023-09-04T08:55:09.947Z"
   },
   {
    "duration": 567,
    "start_time": "2023-09-04T08:58:00.380Z"
   },
   {
    "duration": 455,
    "start_time": "2023-09-04T08:58:59.844Z"
   },
   {
    "duration": 12,
    "start_time": "2023-09-04T09:01:58.636Z"
   },
   {
    "duration": 8,
    "start_time": "2023-09-04T09:02:09.274Z"
   },
   {
    "duration": 155,
    "start_time": "2023-09-04T09:02:15.875Z"
   },
   {
    "duration": 13,
    "start_time": "2023-09-04T09:03:45.986Z"
   },
   {
    "duration": 1167,
    "start_time": "2023-09-04T09:03:54.859Z"
   },
   {
    "duration": 3,
    "start_time": "2023-09-04T09:04:49.433Z"
   },
   {
    "duration": 1212,
    "start_time": "2023-09-04T09:19:52.272Z"
   },
   {
    "duration": 2493,
    "start_time": "2023-09-04T09:20:10.864Z"
   },
   {
    "duration": 11,
    "start_time": "2023-09-04T09:21:52.848Z"
   },
   {
    "duration": 16,
    "start_time": "2023-09-04T09:22:13.865Z"
   },
   {
    "duration": 14,
    "start_time": "2023-09-04T09:22:16.073Z"
   },
   {
    "duration": 22,
    "start_time": "2023-09-04T09:22:23.547Z"
   },
   {
    "duration": 4,
    "start_time": "2023-09-04T09:30:12.434Z"
   },
   {
    "duration": 15,
    "start_time": "2023-09-04T09:30:56.012Z"
   },
   {
    "duration": 6,
    "start_time": "2023-09-04T09:32:52.890Z"
   },
   {
    "duration": 8,
    "start_time": "2023-09-04T09:33:22.587Z"
   },
   {
    "duration": 2497,
    "start_time": "2023-09-04T09:33:46.355Z"
   },
   {
    "duration": 4,
    "start_time": "2023-09-04T09:36:50.123Z"
   },
   {
    "duration": 13,
    "start_time": "2023-09-04T09:37:14.349Z"
   },
   {
    "duration": 11,
    "start_time": "2023-09-04T09:37:37.587Z"
   },
   {
    "duration": 2572,
    "start_time": "2023-09-04T09:38:27.676Z"
   },
   {
    "duration": 30,
    "start_time": "2023-09-04T09:39:51.751Z"
   },
   {
    "duration": 15,
    "start_time": "2023-09-04T09:40:38.011Z"
   },
   {
    "duration": 8,
    "start_time": "2023-09-04T09:41:10.666Z"
   },
   {
    "duration": 30,
    "start_time": "2023-09-04T09:41:19.122Z"
   },
   {
    "duration": 25,
    "start_time": "2023-09-04T09:43:39.358Z"
   },
   {
    "duration": 26,
    "start_time": "2023-09-04T09:44:46.854Z"
   },
   {
    "duration": 2529,
    "start_time": "2023-09-04T09:45:31.070Z"
   },
   {
    "duration": 2,
    "start_time": "2023-09-04T09:46:46.392Z"
   },
   {
    "duration": 2,
    "start_time": "2023-09-04T09:46:51.291Z"
   },
   {
    "duration": 2314,
    "start_time": "2023-09-04T09:46:57.053Z"
   },
   {
    "duration": 259,
    "start_time": "2023-09-04T09:49:30.234Z"
   },
   {
    "duration": 354,
    "start_time": "2023-09-04T09:50:11.313Z"
   },
   {
    "duration": 3,
    "start_time": "2023-09-04T10:01:40.386Z"
   },
   {
    "duration": 7,
    "start_time": "2023-09-04T10:02:17.052Z"
   },
   {
    "duration": 2369,
    "start_time": "2023-09-04T10:03:21.772Z"
   },
   {
    "duration": 662,
    "start_time": "2023-09-04T10:05:01.594Z"
   },
   {
    "duration": 34,
    "start_time": "2023-09-04T11:54:05.602Z"
   },
   {
    "duration": 33,
    "start_time": "2023-09-04T11:54:23.620Z"
   },
   {
    "duration": 26,
    "start_time": "2023-09-04T11:54:28.459Z"
   },
   {
    "duration": 306,
    "start_time": "2023-09-04T11:54:43.258Z"
   },
   {
    "duration": 6,
    "start_time": "2023-09-04T12:30:00.819Z"
   },
   {
    "duration": 13,
    "start_time": "2023-09-04T12:35:54.612Z"
   },
   {
    "duration": 402,
    "start_time": "2023-09-04T12:36:52.276Z"
   },
   {
    "duration": 33,
    "start_time": "2023-09-04T12:37:56.339Z"
   },
   {
    "duration": 377,
    "start_time": "2023-09-04T12:41:44.347Z"
   },
   {
    "duration": 11,
    "start_time": "2023-09-04T12:42:43.611Z"
   },
   {
    "duration": 14,
    "start_time": "2023-09-04T12:43:37.148Z"
   },
   {
    "duration": 3,
    "start_time": "2023-09-04T12:45:19.827Z"
   },
   {
    "duration": 14,
    "start_time": "2023-09-04T12:47:33.243Z"
   },
   {
    "duration": 6,
    "start_time": "2023-09-04T12:51:46.507Z"
   },
   {
    "duration": 164,
    "start_time": "2023-09-04T12:52:27.582Z"
   },
   {
    "duration": 145,
    "start_time": "2023-09-04T12:52:46.299Z"
   },
   {
    "duration": 6,
    "start_time": "2023-09-04T12:53:06.843Z"
   },
   {
    "duration": 141,
    "start_time": "2023-09-04T12:53:08.947Z"
   },
   {
    "duration": 14,
    "start_time": "2023-09-04T13:05:11.628Z"
   },
   {
    "duration": 38,
    "start_time": "2023-09-04T13:07:49.043Z"
   },
   {
    "duration": 22,
    "start_time": "2023-09-04T13:54:03.007Z"
   },
   {
    "duration": 308,
    "start_time": "2023-09-04T13:54:28.976Z"
   },
   {
    "duration": 276,
    "start_time": "2023-09-04T13:54:56.704Z"
   },
   {
    "duration": 398,
    "start_time": "2023-09-04T13:56:56.342Z"
   },
   {
    "duration": 312,
    "start_time": "2023-09-04T13:57:40.743Z"
   },
   {
    "duration": 298,
    "start_time": "2023-09-04T13:57:49.064Z"
   },
   {
    "duration": 300,
    "start_time": "2023-09-04T13:58:47.519Z"
   },
   {
    "duration": 320,
    "start_time": "2023-09-04T14:00:13.311Z"
   },
   {
    "duration": 421,
    "start_time": "2023-09-04T14:00:22.767Z"
   },
   {
    "duration": 335,
    "start_time": "2023-09-04T14:00:29.111Z"
   },
   {
    "duration": 325,
    "start_time": "2023-09-04T14:01:27.736Z"
   },
   {
    "duration": 324,
    "start_time": "2023-09-04T14:01:35.609Z"
   },
   {
    "duration": 325,
    "start_time": "2023-09-04T14:01:39.208Z"
   },
   {
    "duration": 13,
    "start_time": "2023-09-04T14:19:56.978Z"
   },
   {
    "duration": 60,
    "start_time": "2023-09-04T14:21:06.305Z"
   },
   {
    "duration": 128,
    "start_time": "2023-09-04T14:21:26.948Z"
   },
   {
    "duration": 36,
    "start_time": "2023-09-04T14:21:49.771Z"
   },
   {
    "duration": 37,
    "start_time": "2023-09-04T14:28:54.612Z"
   },
   {
    "duration": 47,
    "start_time": "2023-09-04T14:38:58.885Z"
   },
   {
    "duration": 41,
    "start_time": "2023-09-04T14:42:35.852Z"
   },
   {
    "duration": 4,
    "start_time": "2023-09-04T16:53:45.490Z"
   },
   {
    "duration": 7,
    "start_time": "2023-09-04T16:53:45.497Z"
   },
   {
    "duration": 6,
    "start_time": "2023-09-04T16:53:45.506Z"
   },
   {
    "duration": 61,
    "start_time": "2023-09-04T16:53:45.514Z"
   },
   {
    "duration": 16,
    "start_time": "2023-09-04T16:53:45.577Z"
   },
   {
    "duration": 24,
    "start_time": "2023-09-04T16:53:45.596Z"
   },
   {
    "duration": 14,
    "start_time": "2023-09-04T16:53:45.622Z"
   },
   {
    "duration": 23,
    "start_time": "2023-09-04T16:53:45.639Z"
   },
   {
    "duration": 61,
    "start_time": "2023-09-04T16:53:45.664Z"
   },
   {
    "duration": 11,
    "start_time": "2023-09-04T16:53:45.730Z"
   },
   {
    "duration": 12,
    "start_time": "2023-09-04T16:53:45.744Z"
   },
   {
    "duration": 61,
    "start_time": "2023-09-04T16:53:45.758Z"
   },
   {
    "duration": 18,
    "start_time": "2023-09-04T16:53:45.821Z"
   },
   {
    "duration": 11,
    "start_time": "2023-09-04T16:53:45.841Z"
   },
   {
    "duration": 58,
    "start_time": "2023-09-04T16:53:45.855Z"
   },
   {
    "duration": 21,
    "start_time": "2023-09-04T16:53:45.916Z"
   },
   {
    "duration": 16,
    "start_time": "2023-09-04T16:53:45.940Z"
   },
   {
    "duration": 51,
    "start_time": "2023-09-04T16:53:45.959Z"
   },
   {
    "duration": 13,
    "start_time": "2023-09-04T16:53:46.013Z"
   },
   {
    "duration": 11,
    "start_time": "2023-09-04T16:53:46.028Z"
   },
   {
    "duration": 9,
    "start_time": "2023-09-04T16:53:46.041Z"
   },
   {
    "duration": 12,
    "start_time": "2023-09-04T16:53:46.053Z"
   },
   {
    "duration": 68,
    "start_time": "2023-09-04T16:53:46.068Z"
   },
   {
    "duration": 10,
    "start_time": "2023-09-04T16:53:46.138Z"
   },
   {
    "duration": 14,
    "start_time": "2023-09-04T16:53:46.151Z"
   },
   {
    "duration": 191,
    "start_time": "2023-09-04T16:53:46.167Z"
   },
   {
    "duration": 517,
    "start_time": "2023-09-04T16:53:46.360Z"
   },
   {
    "duration": 572,
    "start_time": "2023-09-04T16:53:46.882Z"
   },
   {
    "duration": 12,
    "start_time": "2023-09-04T16:53:47.456Z"
   },
   {
    "duration": 7,
    "start_time": "2023-09-04T16:53:47.470Z"
   },
   {
    "duration": 1018,
    "start_time": "2023-09-04T16:53:47.479Z"
   },
   {
    "duration": 21,
    "start_time": "2023-09-04T16:53:48.499Z"
   },
   {
    "duration": 3,
    "start_time": "2023-09-04T16:53:48.522Z"
   },
   {
    "duration": 26,
    "start_time": "2023-09-04T16:53:48.527Z"
   },
   {
    "duration": 2438,
    "start_time": "2023-09-04T16:53:48.554Z"
   },
   {
    "duration": 19,
    "start_time": "2023-09-04T16:53:50.995Z"
   },
   {
    "duration": 39,
    "start_time": "2023-09-04T16:53:51.017Z"
   },
   {
    "duration": 404,
    "start_time": "2023-09-04T16:53:51.059Z"
   },
   {
    "duration": 6,
    "start_time": "2023-09-04T16:53:51.465Z"
   },
   {
    "duration": 2411,
    "start_time": "2023-09-04T16:53:51.473Z"
   },
   {
    "duration": 472,
    "start_time": "2023-09-04T16:53:53.885Z"
   },
   {
    "duration": 348,
    "start_time": "2023-09-04T16:53:54.359Z"
   },
   {
    "duration": 59,
    "start_time": "2023-09-04T16:53:54.710Z"
   },
   {
    "duration": 0,
    "start_time": "2023-09-04T16:53:54.772Z"
   },
   {
    "duration": 0,
    "start_time": "2023-09-04T16:53:54.773Z"
   },
   {
    "duration": 0,
    "start_time": "2023-09-04T16:53:54.775Z"
   },
   {
    "duration": 0,
    "start_time": "2023-09-04T16:53:54.777Z"
   },
   {
    "duration": 0,
    "start_time": "2023-09-04T16:53:54.778Z"
   },
   {
    "duration": 0,
    "start_time": "2023-09-04T16:53:54.780Z"
   },
   {
    "duration": 0,
    "start_time": "2023-09-04T16:53:54.782Z"
   },
   {
    "duration": 0,
    "start_time": "2023-09-04T16:53:54.783Z"
   },
   {
    "duration": 0,
    "start_time": "2023-09-04T16:53:54.785Z"
   },
   {
    "duration": 0,
    "start_time": "2023-09-04T16:53:54.787Z"
   },
   {
    "duration": 0,
    "start_time": "2023-09-04T16:53:54.788Z"
   },
   {
    "duration": 0,
    "start_time": "2023-09-04T16:53:54.790Z"
   },
   {
    "duration": 0,
    "start_time": "2023-09-04T16:53:54.791Z"
   },
   {
    "duration": 0,
    "start_time": "2023-09-04T16:53:54.793Z"
   },
   {
    "duration": 0,
    "start_time": "2023-09-04T16:53:54.794Z"
   },
   {
    "duration": 1,
    "start_time": "2023-09-04T16:53:54.795Z"
   },
   {
    "duration": 0,
    "start_time": "2023-09-04T16:53:54.797Z"
   },
   {
    "duration": 0,
    "start_time": "2023-09-04T16:53:54.799Z"
   },
   {
    "duration": 0,
    "start_time": "2023-09-04T16:53:54.800Z"
   },
   {
    "duration": 1293,
    "start_time": "2023-09-05T05:44:51.461Z"
   },
   {
    "duration": 2,
    "start_time": "2023-09-05T05:44:52.757Z"
   },
   {
    "duration": 16,
    "start_time": "2023-09-05T05:44:52.761Z"
   },
   {
    "duration": 304,
    "start_time": "2023-09-05T05:44:52.778Z"
   },
   {
    "duration": 18,
    "start_time": "2023-09-05T05:44:53.084Z"
   },
   {
    "duration": 32,
    "start_time": "2023-09-05T05:44:53.104Z"
   },
   {
    "duration": 17,
    "start_time": "2023-09-05T05:44:53.138Z"
   },
   {
    "duration": 39,
    "start_time": "2023-09-05T05:44:53.157Z"
   },
   {
    "duration": 19,
    "start_time": "2023-09-05T05:44:53.198Z"
   },
   {
    "duration": 15,
    "start_time": "2023-09-05T05:44:53.218Z"
   },
   {
    "duration": 14,
    "start_time": "2023-09-05T05:44:53.235Z"
   },
   {
    "duration": 24,
    "start_time": "2023-09-05T05:44:53.250Z"
   },
   {
    "duration": 20,
    "start_time": "2023-09-05T05:44:53.276Z"
   },
   {
    "duration": 24,
    "start_time": "2023-09-05T05:44:53.299Z"
   },
   {
    "duration": 9,
    "start_time": "2023-09-05T05:44:53.325Z"
   },
   {
    "duration": 15,
    "start_time": "2023-09-05T05:44:53.336Z"
   },
   {
    "duration": 22,
    "start_time": "2023-09-05T05:44:53.353Z"
   },
   {
    "duration": 26,
    "start_time": "2023-09-05T05:44:53.376Z"
   },
   {
    "duration": 10,
    "start_time": "2023-09-05T05:44:53.404Z"
   },
   {
    "duration": 22,
    "start_time": "2023-09-05T05:44:53.416Z"
   },
   {
    "duration": 24,
    "start_time": "2023-09-05T05:44:53.440Z"
   },
   {
    "duration": 17,
    "start_time": "2023-09-05T05:44:53.466Z"
   },
   {
    "duration": 119,
    "start_time": "2023-09-05T05:44:53.485Z"
   },
   {
    "duration": 0,
    "start_time": "2023-09-05T05:44:53.607Z"
   },
   {
    "duration": 0,
    "start_time": "2023-09-05T05:44:53.609Z"
   },
   {
    "duration": 0,
    "start_time": "2023-09-05T05:44:53.610Z"
   },
   {
    "duration": 0,
    "start_time": "2023-09-05T05:44:53.611Z"
   },
   {
    "duration": 0,
    "start_time": "2023-09-05T05:44:53.612Z"
   },
   {
    "duration": 0,
    "start_time": "2023-09-05T05:44:53.614Z"
   },
   {
    "duration": 0,
    "start_time": "2023-09-05T05:44:53.615Z"
   },
   {
    "duration": 0,
    "start_time": "2023-09-05T05:44:53.616Z"
   },
   {
    "duration": 0,
    "start_time": "2023-09-05T05:44:53.618Z"
   },
   {
    "duration": 0,
    "start_time": "2023-09-05T05:44:53.619Z"
   },
   {
    "duration": 0,
    "start_time": "2023-09-05T05:44:53.620Z"
   },
   {
    "duration": 0,
    "start_time": "2023-09-05T05:44:53.644Z"
   },
   {
    "duration": 0,
    "start_time": "2023-09-05T05:44:53.645Z"
   },
   {
    "duration": 0,
    "start_time": "2023-09-05T05:44:53.647Z"
   },
   {
    "duration": 0,
    "start_time": "2023-09-05T05:44:53.648Z"
   },
   {
    "duration": 0,
    "start_time": "2023-09-05T05:44:53.650Z"
   },
   {
    "duration": 0,
    "start_time": "2023-09-05T05:44:53.652Z"
   },
   {
    "duration": 0,
    "start_time": "2023-09-05T05:44:53.653Z"
   },
   {
    "duration": 0,
    "start_time": "2023-09-05T05:44:53.654Z"
   },
   {
    "duration": 0,
    "start_time": "2023-09-05T05:44:53.656Z"
   },
   {
    "duration": 1,
    "start_time": "2023-09-05T05:44:53.657Z"
   },
   {
    "duration": 0,
    "start_time": "2023-09-05T05:44:53.659Z"
   },
   {
    "duration": 0,
    "start_time": "2023-09-05T05:44:53.661Z"
   },
   {
    "duration": 0,
    "start_time": "2023-09-05T05:44:53.662Z"
   },
   {
    "duration": 0,
    "start_time": "2023-09-05T05:44:53.663Z"
   },
   {
    "duration": 1,
    "start_time": "2023-09-05T05:44:53.664Z"
   },
   {
    "duration": 0,
    "start_time": "2023-09-05T05:44:53.666Z"
   },
   {
    "duration": 0,
    "start_time": "2023-09-05T05:44:53.667Z"
   },
   {
    "duration": 0,
    "start_time": "2023-09-05T05:44:53.668Z"
   },
   {
    "duration": 0,
    "start_time": "2023-09-05T05:44:53.669Z"
   },
   {
    "duration": 0,
    "start_time": "2023-09-05T05:44:53.670Z"
   },
   {
    "duration": 0,
    "start_time": "2023-09-05T05:44:53.671Z"
   },
   {
    "duration": 0,
    "start_time": "2023-09-05T05:44:53.672Z"
   },
   {
    "duration": 0,
    "start_time": "2023-09-05T05:44:53.673Z"
   },
   {
    "duration": 0,
    "start_time": "2023-09-05T05:44:53.674Z"
   },
   {
    "duration": 0,
    "start_time": "2023-09-05T05:44:53.675Z"
   },
   {
    "duration": 0,
    "start_time": "2023-09-05T05:44:53.676Z"
   },
   {
    "duration": 0,
    "start_time": "2023-09-05T05:44:53.677Z"
   },
   {
    "duration": 0,
    "start_time": "2023-09-05T05:44:53.678Z"
   },
   {
    "duration": 10,
    "start_time": "2023-09-05T05:46:11.238Z"
   },
   {
    "duration": 9,
    "start_time": "2023-09-05T05:47:26.580Z"
   },
   {
    "duration": 1751,
    "start_time": "2023-09-05T05:47:39.422Z"
   },
   {
    "duration": 9,
    "start_time": "2023-09-05T05:48:01.116Z"
   },
   {
    "duration": 9,
    "start_time": "2023-09-05T05:48:03.948Z"
   },
   {
    "duration": 8,
    "start_time": "2023-09-05T05:48:12.612Z"
   },
   {
    "duration": 11,
    "start_time": "2023-09-05T05:50:02.324Z"
   },
   {
    "duration": 4,
    "start_time": "2023-09-05T05:50:34.353Z"
   },
   {
    "duration": 18,
    "start_time": "2023-09-05T05:50:34.358Z"
   },
   {
    "duration": 26,
    "start_time": "2023-09-05T05:50:34.378Z"
   },
   {
    "duration": 69,
    "start_time": "2023-09-05T05:50:34.406Z"
   },
   {
    "duration": 12,
    "start_time": "2023-09-05T05:50:34.477Z"
   },
   {
    "duration": 27,
    "start_time": "2023-09-05T05:50:34.491Z"
   },
   {
    "duration": 11,
    "start_time": "2023-09-05T05:50:34.519Z"
   },
   {
    "duration": 20,
    "start_time": "2023-09-05T05:50:34.532Z"
   },
   {
    "duration": 12,
    "start_time": "2023-09-05T05:50:34.553Z"
   },
   {
    "duration": 9,
    "start_time": "2023-09-05T05:50:34.566Z"
   },
   {
    "duration": 26,
    "start_time": "2023-09-05T05:50:34.577Z"
   },
   {
    "duration": 16,
    "start_time": "2023-09-05T05:50:34.604Z"
   },
   {
    "duration": 23,
    "start_time": "2023-09-05T05:50:34.622Z"
   },
   {
    "duration": 8,
    "start_time": "2023-09-05T05:50:34.648Z"
   },
   {
    "duration": 9,
    "start_time": "2023-09-05T05:50:34.657Z"
   },
   {
    "duration": 13,
    "start_time": "2023-09-05T05:50:34.667Z"
   },
   {
    "duration": 8,
    "start_time": "2023-09-05T05:50:34.682Z"
   },
   {
    "duration": 12,
    "start_time": "2023-09-05T05:50:34.691Z"
   },
   {
    "duration": 6,
    "start_time": "2023-09-05T05:50:34.705Z"
   },
   {
    "duration": 9,
    "start_time": "2023-09-05T05:50:34.743Z"
   },
   {
    "duration": 8,
    "start_time": "2023-09-05T05:50:34.754Z"
   },
   {
    "duration": 11,
    "start_time": "2023-09-05T05:50:34.764Z"
   },
   {
    "duration": 15,
    "start_time": "2023-09-05T05:50:34.777Z"
   },
   {
    "duration": 7,
    "start_time": "2023-09-05T05:50:34.794Z"
   },
   {
    "duration": 9,
    "start_time": "2023-09-05T05:50:34.802Z"
   },
   {
    "duration": 161,
    "start_time": "2023-09-05T05:50:34.812Z"
   },
   {
    "duration": 436,
    "start_time": "2023-09-05T05:50:34.974Z"
   },
   {
    "duration": 364,
    "start_time": "2023-09-05T05:50:35.411Z"
   },
   {
    "duration": 7,
    "start_time": "2023-09-05T05:50:35.777Z"
   },
   {
    "duration": 13,
    "start_time": "2023-09-05T05:50:35.785Z"
   },
   {
    "duration": 916,
    "start_time": "2023-09-05T05:50:35.799Z"
   },
   {
    "duration": 14,
    "start_time": "2023-09-05T05:50:36.717Z"
   },
   {
    "duration": 3,
    "start_time": "2023-09-05T05:50:36.744Z"
   },
   {
    "duration": 20,
    "start_time": "2023-09-05T05:50:36.748Z"
   },
   {
    "duration": 2029,
    "start_time": "2023-09-05T05:50:36.769Z"
   },
   {
    "duration": 8,
    "start_time": "2023-09-05T05:50:38.800Z"
   },
   {
    "duration": 38,
    "start_time": "2023-09-05T05:50:38.809Z"
   },
   {
    "duration": 349,
    "start_time": "2023-09-05T05:50:38.849Z"
   },
   {
    "duration": 7,
    "start_time": "2023-09-05T05:50:39.199Z"
   },
   {
    "duration": 1997,
    "start_time": "2023-09-05T05:50:39.207Z"
   },
   {
    "duration": 386,
    "start_time": "2023-09-05T05:50:41.209Z"
   },
   {
    "duration": 279,
    "start_time": "2023-09-05T05:50:41.597Z"
   },
   {
    "duration": 92,
    "start_time": "2023-09-05T05:50:41.877Z"
   },
   {
    "duration": 1,
    "start_time": "2023-09-05T05:50:41.970Z"
   },
   {
    "duration": 0,
    "start_time": "2023-09-05T05:50:41.972Z"
   },
   {
    "duration": 0,
    "start_time": "2023-09-05T05:50:41.974Z"
   },
   {
    "duration": 0,
    "start_time": "2023-09-05T05:50:41.975Z"
   },
   {
    "duration": 0,
    "start_time": "2023-09-05T05:50:41.976Z"
   },
   {
    "duration": 0,
    "start_time": "2023-09-05T05:50:41.977Z"
   },
   {
    "duration": 0,
    "start_time": "2023-09-05T05:50:41.979Z"
   },
   {
    "duration": 1,
    "start_time": "2023-09-05T05:50:41.980Z"
   },
   {
    "duration": 0,
    "start_time": "2023-09-05T05:50:41.982Z"
   },
   {
    "duration": 0,
    "start_time": "2023-09-05T05:50:41.983Z"
   },
   {
    "duration": 0,
    "start_time": "2023-09-05T05:50:41.985Z"
   },
   {
    "duration": 0,
    "start_time": "2023-09-05T05:50:41.986Z"
   },
   {
    "duration": 0,
    "start_time": "2023-09-05T05:50:41.987Z"
   },
   {
    "duration": 1,
    "start_time": "2023-09-05T05:50:41.988Z"
   },
   {
    "duration": 0,
    "start_time": "2023-09-05T05:50:41.990Z"
   },
   {
    "duration": 0,
    "start_time": "2023-09-05T05:50:41.991Z"
   },
   {
    "duration": 0,
    "start_time": "2023-09-05T05:50:41.993Z"
   },
   {
    "duration": 0,
    "start_time": "2023-09-05T05:50:41.994Z"
   },
   {
    "duration": 0,
    "start_time": "2023-09-05T05:50:41.996Z"
   },
   {
    "duration": 4,
    "start_time": "2023-09-05T05:51:08.681Z"
   },
   {
    "duration": 15,
    "start_time": "2023-09-05T05:51:08.687Z"
   },
   {
    "duration": 7,
    "start_time": "2023-09-05T05:51:08.704Z"
   },
   {
    "duration": 55,
    "start_time": "2023-09-05T05:51:08.713Z"
   },
   {
    "duration": 11,
    "start_time": "2023-09-05T05:51:08.770Z"
   },
   {
    "duration": 15,
    "start_time": "2023-09-05T05:51:08.783Z"
   },
   {
    "duration": 11,
    "start_time": "2023-09-05T05:51:08.800Z"
   },
   {
    "duration": 44,
    "start_time": "2023-09-05T05:51:08.812Z"
   },
   {
    "duration": 12,
    "start_time": "2023-09-05T05:51:08.857Z"
   },
   {
    "duration": 8,
    "start_time": "2023-09-05T05:51:08.870Z"
   },
   {
    "duration": 7,
    "start_time": "2023-09-05T05:51:08.880Z"
   },
   {
    "duration": 17,
    "start_time": "2023-09-05T05:51:08.889Z"
   },
   {
    "duration": 38,
    "start_time": "2023-09-05T05:51:08.907Z"
   },
   {
    "duration": 8,
    "start_time": "2023-09-05T05:51:08.948Z"
   },
   {
    "duration": 8,
    "start_time": "2023-09-05T05:51:08.957Z"
   },
   {
    "duration": 12,
    "start_time": "2023-09-05T05:51:08.967Z"
   },
   {
    "duration": 10,
    "start_time": "2023-09-05T05:51:08.980Z"
   },
   {
    "duration": 7,
    "start_time": "2023-09-05T05:51:08.992Z"
   },
   {
    "duration": 5,
    "start_time": "2023-09-05T05:51:09.001Z"
   },
   {
    "duration": 8,
    "start_time": "2023-09-05T05:51:09.045Z"
   },
   {
    "duration": 7,
    "start_time": "2023-09-05T05:51:09.054Z"
   },
   {
    "duration": 8,
    "start_time": "2023-09-05T05:51:09.062Z"
   },
   {
    "duration": 13,
    "start_time": "2023-09-05T05:51:09.071Z"
   },
   {
    "duration": 5,
    "start_time": "2023-09-05T05:51:09.085Z"
   },
   {
    "duration": 8,
    "start_time": "2023-09-05T05:51:09.091Z"
   },
   {
    "duration": 149,
    "start_time": "2023-09-05T05:51:09.101Z"
   },
   {
    "duration": 401,
    "start_time": "2023-09-05T05:51:09.252Z"
   },
   {
    "duration": 361,
    "start_time": "2023-09-05T05:51:09.655Z"
   },
   {
    "duration": 7,
    "start_time": "2023-09-05T05:51:10.017Z"
   },
   {
    "duration": 45,
    "start_time": "2023-09-05T05:51:10.025Z"
   },
   {
    "duration": 1016,
    "start_time": "2023-09-05T05:51:10.072Z"
   },
   {
    "duration": 15,
    "start_time": "2023-09-05T05:51:11.089Z"
   },
   {
    "duration": 3,
    "start_time": "2023-09-05T05:51:11.105Z"
   },
   {
    "duration": 16,
    "start_time": "2023-09-05T05:51:11.109Z"
   },
   {
    "duration": 2086,
    "start_time": "2023-09-05T05:51:11.126Z"
   },
   {
    "duration": 9,
    "start_time": "2023-09-05T05:51:13.214Z"
   },
   {
    "duration": 39,
    "start_time": "2023-09-05T05:51:13.224Z"
   },
   {
    "duration": 331,
    "start_time": "2023-09-05T05:51:13.265Z"
   },
   {
    "duration": 6,
    "start_time": "2023-09-05T05:51:13.597Z"
   },
   {
    "duration": 2041,
    "start_time": "2023-09-05T05:51:13.605Z"
   },
   {
    "duration": 399,
    "start_time": "2023-09-05T05:51:15.650Z"
   },
   {
    "duration": 296,
    "start_time": "2023-09-05T05:51:16.050Z"
   },
   {
    "duration": 307,
    "start_time": "2023-09-05T05:51:16.347Z"
   },
   {
    "duration": 32,
    "start_time": "2023-09-05T05:51:16.656Z"
   },
   {
    "duration": 470,
    "start_time": "2023-09-05T05:51:16.690Z"
   },
   {
    "duration": 89,
    "start_time": "2023-09-05T05:51:17.162Z"
   },
   {
    "duration": 1,
    "start_time": "2023-09-05T05:51:17.252Z"
   },
   {
    "duration": 0,
    "start_time": "2023-09-05T05:51:17.254Z"
   },
   {
    "duration": 0,
    "start_time": "2023-09-05T05:51:17.255Z"
   },
   {
    "duration": 0,
    "start_time": "2023-09-05T05:51:17.257Z"
   },
   {
    "duration": 0,
    "start_time": "2023-09-05T05:51:17.258Z"
   },
   {
    "duration": 0,
    "start_time": "2023-09-05T05:51:17.259Z"
   },
   {
    "duration": 0,
    "start_time": "2023-09-05T05:51:17.260Z"
   },
   {
    "duration": 0,
    "start_time": "2023-09-05T05:51:17.261Z"
   },
   {
    "duration": 0,
    "start_time": "2023-09-05T05:51:17.262Z"
   },
   {
    "duration": 0,
    "start_time": "2023-09-05T05:51:17.263Z"
   },
   {
    "duration": 0,
    "start_time": "2023-09-05T05:51:17.264Z"
   },
   {
    "duration": 0,
    "start_time": "2023-09-05T05:51:17.265Z"
   },
   {
    "duration": 0,
    "start_time": "2023-09-05T05:51:17.267Z"
   },
   {
    "duration": 0,
    "start_time": "2023-09-05T05:51:17.268Z"
   },
   {
    "duration": 0,
    "start_time": "2023-09-05T05:51:17.269Z"
   },
   {
    "duration": 5,
    "start_time": "2023-09-05T05:51:48.953Z"
   },
   {
    "duration": 5,
    "start_time": "2023-09-05T05:51:48.961Z"
   },
   {
    "duration": 10,
    "start_time": "2023-09-05T05:51:48.968Z"
   },
   {
    "duration": 86,
    "start_time": "2023-09-05T05:51:48.980Z"
   },
   {
    "duration": 12,
    "start_time": "2023-09-05T05:51:49.068Z"
   },
   {
    "duration": 29,
    "start_time": "2023-09-05T05:51:49.081Z"
   },
   {
    "duration": 28,
    "start_time": "2023-09-05T05:51:49.112Z"
   },
   {
    "duration": 27,
    "start_time": "2023-09-05T05:51:49.142Z"
   },
   {
    "duration": 13,
    "start_time": "2023-09-05T05:51:49.170Z"
   },
   {
    "duration": 24,
    "start_time": "2023-09-05T05:51:49.184Z"
   },
   {
    "duration": 9,
    "start_time": "2023-09-05T05:51:49.210Z"
   },
   {
    "duration": 31,
    "start_time": "2023-09-05T05:51:49.220Z"
   },
   {
    "duration": 20,
    "start_time": "2023-09-05T05:51:49.253Z"
   },
   {
    "duration": 12,
    "start_time": "2023-09-05T05:51:49.277Z"
   },
   {
    "duration": 26,
    "start_time": "2023-09-05T05:51:49.290Z"
   },
   {
    "duration": 15,
    "start_time": "2023-09-05T05:51:49.318Z"
   },
   {
    "duration": 14,
    "start_time": "2023-09-05T05:51:49.335Z"
   },
   {
    "duration": 8,
    "start_time": "2023-09-05T05:51:49.351Z"
   },
   {
    "duration": 10,
    "start_time": "2023-09-05T05:51:49.360Z"
   },
   {
    "duration": 10,
    "start_time": "2023-09-05T05:51:49.371Z"
   },
   {
    "duration": 6,
    "start_time": "2023-09-05T05:51:49.383Z"
   },
   {
    "duration": 39,
    "start_time": "2023-09-05T05:51:49.391Z"
   },
   {
    "duration": 17,
    "start_time": "2023-09-05T05:51:49.432Z"
   },
   {
    "duration": 14,
    "start_time": "2023-09-05T05:51:49.451Z"
   },
   {
    "duration": 15,
    "start_time": "2023-09-05T05:51:49.466Z"
   },
   {
    "duration": 140,
    "start_time": "2023-09-05T05:51:49.483Z"
   },
   {
    "duration": 422,
    "start_time": "2023-09-05T05:51:49.624Z"
   },
   {
    "duration": 360,
    "start_time": "2023-09-05T05:51:50.048Z"
   },
   {
    "duration": 6,
    "start_time": "2023-09-05T05:51:50.410Z"
   },
   {
    "duration": 9,
    "start_time": "2023-09-05T05:51:50.418Z"
   },
   {
    "duration": 885,
    "start_time": "2023-09-05T05:51:50.444Z"
   },
   {
    "duration": 19,
    "start_time": "2023-09-05T05:51:51.331Z"
   },
   {
    "duration": 3,
    "start_time": "2023-09-05T05:51:51.351Z"
   },
   {
    "duration": 11,
    "start_time": "2023-09-05T05:51:51.355Z"
   },
   {
    "duration": 2107,
    "start_time": "2023-09-05T05:51:51.367Z"
   },
   {
    "duration": 7,
    "start_time": "2023-09-05T05:51:53.476Z"
   },
   {
    "duration": 26,
    "start_time": "2023-09-05T05:51:53.484Z"
   },
   {
    "duration": 324,
    "start_time": "2023-09-05T05:51:53.512Z"
   },
   {
    "duration": 6,
    "start_time": "2023-09-05T05:51:53.843Z"
   },
   {
    "duration": 1903,
    "start_time": "2023-09-05T05:51:53.850Z"
   },
   {
    "duration": 384,
    "start_time": "2023-09-05T05:51:55.756Z"
   },
   {
    "duration": 403,
    "start_time": "2023-09-05T05:51:56.143Z"
   },
   {
    "duration": 299,
    "start_time": "2023-09-05T05:51:56.547Z"
   },
   {
    "duration": 28,
    "start_time": "2023-09-05T05:51:56.848Z"
   },
   {
    "duration": 337,
    "start_time": "2023-09-05T05:51:56.878Z"
   },
   {
    "duration": 11,
    "start_time": "2023-09-05T05:51:57.217Z"
   },
   {
    "duration": 23,
    "start_time": "2023-09-05T05:51:57.229Z"
   },
   {
    "duration": 5,
    "start_time": "2023-09-05T05:51:57.253Z"
   },
   {
    "duration": 140,
    "start_time": "2023-09-05T05:51:57.259Z"
   },
   {
    "duration": 12,
    "start_time": "2023-09-05T05:51:57.400Z"
   },
   {
    "duration": 85,
    "start_time": "2023-09-05T05:51:57.413Z"
   },
   {
    "duration": 0,
    "start_time": "2023-09-05T05:51:57.499Z"
   },
   {
    "duration": 0,
    "start_time": "2023-09-05T05:51:57.500Z"
   },
   {
    "duration": 0,
    "start_time": "2023-09-05T05:51:57.501Z"
   },
   {
    "duration": 0,
    "start_time": "2023-09-05T05:51:57.503Z"
   },
   {
    "duration": 0,
    "start_time": "2023-09-05T05:51:57.504Z"
   },
   {
    "duration": 0,
    "start_time": "2023-09-05T05:51:57.505Z"
   },
   {
    "duration": 0,
    "start_time": "2023-09-05T05:51:57.506Z"
   },
   {
    "duration": 0,
    "start_time": "2023-09-05T05:51:57.507Z"
   },
   {
    "duration": 0,
    "start_time": "2023-09-05T05:51:57.507Z"
   },
   {
    "duration": 3,
    "start_time": "2023-09-05T05:52:37.925Z"
   },
   {
    "duration": 7,
    "start_time": "2023-09-05T05:52:37.929Z"
   },
   {
    "duration": 4,
    "start_time": "2023-09-05T05:52:37.938Z"
   },
   {
    "duration": 60,
    "start_time": "2023-09-05T05:52:37.943Z"
   },
   {
    "duration": 12,
    "start_time": "2023-09-05T05:52:38.005Z"
   },
   {
    "duration": 14,
    "start_time": "2023-09-05T05:52:38.019Z"
   },
   {
    "duration": 26,
    "start_time": "2023-09-05T05:52:38.034Z"
   },
   {
    "duration": 13,
    "start_time": "2023-09-05T05:52:38.061Z"
   },
   {
    "duration": 11,
    "start_time": "2023-09-05T05:52:38.075Z"
   },
   {
    "duration": 14,
    "start_time": "2023-09-05T05:52:38.088Z"
   },
   {
    "duration": 15,
    "start_time": "2023-09-05T05:52:38.104Z"
   },
   {
    "duration": 42,
    "start_time": "2023-09-05T05:52:38.120Z"
   },
   {
    "duration": 14,
    "start_time": "2023-09-05T05:52:38.163Z"
   },
   {
    "duration": 7,
    "start_time": "2023-09-05T05:52:38.179Z"
   },
   {
    "duration": 11,
    "start_time": "2023-09-05T05:52:38.188Z"
   },
   {
    "duration": 13,
    "start_time": "2023-09-05T05:52:38.201Z"
   },
   {
    "duration": 31,
    "start_time": "2023-09-05T05:52:38.215Z"
   },
   {
    "duration": 13,
    "start_time": "2023-09-05T05:52:38.247Z"
   },
   {
    "duration": 19,
    "start_time": "2023-09-05T05:52:38.261Z"
   },
   {
    "duration": 31,
    "start_time": "2023-09-05T05:52:38.281Z"
   },
   {
    "duration": 9,
    "start_time": "2023-09-05T05:52:38.314Z"
   },
   {
    "duration": 12,
    "start_time": "2023-09-05T05:52:38.325Z"
   },
   {
    "duration": 11,
    "start_time": "2023-09-05T05:52:38.338Z"
   },
   {
    "duration": 5,
    "start_time": "2023-09-05T05:52:38.351Z"
   },
   {
    "duration": 8,
    "start_time": "2023-09-05T05:52:38.358Z"
   },
   {
    "duration": 150,
    "start_time": "2023-09-05T05:52:38.368Z"
   },
   {
    "duration": 444,
    "start_time": "2023-09-05T05:52:38.519Z"
   },
   {
    "duration": 389,
    "start_time": "2023-09-05T05:52:38.965Z"
   },
   {
    "duration": 7,
    "start_time": "2023-09-05T05:52:39.355Z"
   },
   {
    "duration": 10,
    "start_time": "2023-09-05T05:52:39.364Z"
   },
   {
    "duration": 935,
    "start_time": "2023-09-05T05:52:39.375Z"
   },
   {
    "duration": 16,
    "start_time": "2023-09-05T05:52:40.311Z"
   },
   {
    "duration": 3,
    "start_time": "2023-09-05T05:52:40.328Z"
   },
   {
    "duration": 21,
    "start_time": "2023-09-05T05:52:40.332Z"
   },
   {
    "duration": 2086,
    "start_time": "2023-09-05T05:52:40.355Z"
   },
   {
    "duration": 8,
    "start_time": "2023-09-05T05:52:42.443Z"
   },
   {
    "duration": 24,
    "start_time": "2023-09-05T05:52:42.453Z"
   },
   {
    "duration": 326,
    "start_time": "2023-09-05T05:52:42.478Z"
   },
   {
    "duration": 7,
    "start_time": "2023-09-05T05:52:42.806Z"
   },
   {
    "duration": 2113,
    "start_time": "2023-09-05T05:52:42.814Z"
   },
   {
    "duration": 413,
    "start_time": "2023-09-05T05:52:44.931Z"
   },
   {
    "duration": 402,
    "start_time": "2023-09-05T05:52:45.346Z"
   },
   {
    "duration": 322,
    "start_time": "2023-09-05T05:52:45.750Z"
   },
   {
    "duration": 45,
    "start_time": "2023-09-05T05:52:46.074Z"
   },
   {
    "duration": 399,
    "start_time": "2023-09-05T05:52:46.121Z"
   },
   {
    "duration": 25,
    "start_time": "2023-09-05T05:52:46.522Z"
   },
   {
    "duration": 15,
    "start_time": "2023-09-05T05:52:46.548Z"
   },
   {
    "duration": 6,
    "start_time": "2023-09-05T05:52:46.565Z"
   },
   {
    "duration": 162,
    "start_time": "2023-09-05T05:52:46.573Z"
   },
   {
    "duration": 19,
    "start_time": "2023-09-05T05:52:46.736Z"
   },
   {
    "duration": 33,
    "start_time": "2023-09-05T05:52:46.757Z"
   },
   {
    "duration": 318,
    "start_time": "2023-09-05T05:52:46.791Z"
   },
   {
    "duration": 101,
    "start_time": "2023-09-05T05:52:47.111Z"
   },
   {
    "duration": 0,
    "start_time": "2023-09-05T05:52:47.214Z"
   },
   {
    "duration": 0,
    "start_time": "2023-09-05T05:52:47.215Z"
   },
   {
    "duration": 0,
    "start_time": "2023-09-05T05:52:47.217Z"
   },
   {
    "duration": 0,
    "start_time": "2023-09-05T05:52:47.218Z"
   },
   {
    "duration": 0,
    "start_time": "2023-09-05T05:52:47.220Z"
   },
   {
    "duration": 0,
    "start_time": "2023-09-05T05:52:47.221Z"
   },
   {
    "duration": 89,
    "start_time": "2023-09-05T05:53:23.329Z"
   },
   {
    "duration": 0,
    "start_time": "2023-09-05T05:53:23.420Z"
   },
   {
    "duration": 0,
    "start_time": "2023-09-05T05:53:23.421Z"
   },
   {
    "duration": 0,
    "start_time": "2023-09-05T05:53:23.422Z"
   },
   {
    "duration": 0,
    "start_time": "2023-09-05T05:53:23.423Z"
   },
   {
    "duration": 0,
    "start_time": "2023-09-05T05:53:23.424Z"
   },
   {
    "duration": 3,
    "start_time": "2023-09-05T05:53:40.006Z"
   },
   {
    "duration": 62,
    "start_time": "2023-09-05T05:53:40.010Z"
   },
   {
    "duration": 51,
    "start_time": "2023-09-05T05:53:40.073Z"
   },
   {
    "duration": 49,
    "start_time": "2023-09-05T05:53:40.125Z"
   },
   {
    "duration": 11,
    "start_time": "2023-09-05T05:53:40.176Z"
   },
   {
    "duration": 20,
    "start_time": "2023-09-05T05:53:40.189Z"
   },
   {
    "duration": 16,
    "start_time": "2023-09-05T05:53:40.211Z"
   },
   {
    "duration": 27,
    "start_time": "2023-09-05T05:53:40.229Z"
   },
   {
    "duration": 12,
    "start_time": "2023-09-05T05:53:40.258Z"
   },
   {
    "duration": 8,
    "start_time": "2023-09-05T05:53:40.271Z"
   },
   {
    "duration": 8,
    "start_time": "2023-09-05T05:53:40.281Z"
   },
   {
    "duration": 17,
    "start_time": "2023-09-05T05:53:40.290Z"
   },
   {
    "duration": 39,
    "start_time": "2023-09-05T05:53:40.308Z"
   },
   {
    "duration": 7,
    "start_time": "2023-09-05T05:53:40.350Z"
   },
   {
    "duration": 9,
    "start_time": "2023-09-05T05:53:40.358Z"
   },
   {
    "duration": 13,
    "start_time": "2023-09-05T05:53:40.368Z"
   },
   {
    "duration": 8,
    "start_time": "2023-09-05T05:53:40.382Z"
   },
   {
    "duration": 8,
    "start_time": "2023-09-05T05:53:40.391Z"
   },
   {
    "duration": 46,
    "start_time": "2023-09-05T05:53:40.401Z"
   },
   {
    "duration": 9,
    "start_time": "2023-09-05T05:53:40.449Z"
   },
   {
    "duration": 6,
    "start_time": "2023-09-05T05:53:40.459Z"
   },
   {
    "duration": 8,
    "start_time": "2023-09-05T05:53:40.467Z"
   },
   {
    "duration": 10,
    "start_time": "2023-09-05T05:53:40.477Z"
   },
   {
    "duration": 6,
    "start_time": "2023-09-05T05:53:40.488Z"
   },
   {
    "duration": 8,
    "start_time": "2023-09-05T05:53:40.495Z"
   },
   {
    "duration": 124,
    "start_time": "2023-09-05T05:53:40.545Z"
   },
   {
    "duration": 480,
    "start_time": "2023-09-05T05:53:40.671Z"
   },
   {
    "duration": 370,
    "start_time": "2023-09-05T05:53:41.153Z"
   },
   {
    "duration": 7,
    "start_time": "2023-09-05T05:53:41.525Z"
   },
   {
    "duration": 11,
    "start_time": "2023-09-05T05:53:41.544Z"
   },
   {
    "duration": 1009,
    "start_time": "2023-09-05T05:53:41.556Z"
   },
   {
    "duration": 14,
    "start_time": "2023-09-05T05:53:42.567Z"
   },
   {
    "duration": 3,
    "start_time": "2023-09-05T05:53:42.582Z"
   },
   {
    "duration": 11,
    "start_time": "2023-09-05T05:53:42.587Z"
   },
   {
    "duration": 2026,
    "start_time": "2023-09-05T05:53:42.599Z"
   },
   {
    "duration": 9,
    "start_time": "2023-09-05T05:53:44.626Z"
   },
   {
    "duration": 39,
    "start_time": "2023-09-05T05:53:44.636Z"
   },
   {
    "duration": 299,
    "start_time": "2023-09-05T05:53:44.677Z"
   },
   {
    "duration": 6,
    "start_time": "2023-09-05T05:53:44.977Z"
   },
   {
    "duration": 1956,
    "start_time": "2023-09-05T05:53:44.984Z"
   },
   {
    "duration": 538,
    "start_time": "2023-09-05T05:53:46.946Z"
   },
   {
    "duration": 283,
    "start_time": "2023-09-05T05:53:47.486Z"
   },
   {
    "duration": 312,
    "start_time": "2023-09-05T05:53:47.770Z"
   },
   {
    "duration": 30,
    "start_time": "2023-09-05T05:53:48.083Z"
   },
   {
    "duration": 364,
    "start_time": "2023-09-05T05:53:48.115Z"
   },
   {
    "duration": 15,
    "start_time": "2023-09-05T05:53:48.480Z"
   },
   {
    "duration": 19,
    "start_time": "2023-09-05T05:53:48.498Z"
   },
   {
    "duration": 9,
    "start_time": "2023-09-05T05:53:48.543Z"
   },
   {
    "duration": 150,
    "start_time": "2023-09-05T05:53:48.554Z"
   },
   {
    "duration": 14,
    "start_time": "2023-09-05T05:53:48.706Z"
   },
   {
    "duration": 64,
    "start_time": "2023-09-05T05:53:48.721Z"
   },
   {
    "duration": 288,
    "start_time": "2023-09-05T05:53:48.787Z"
   },
   {
    "duration": 11,
    "start_time": "2023-09-05T05:53:49.077Z"
   },
   {
    "duration": 85,
    "start_time": "2023-09-05T05:53:49.090Z"
   },
   {
    "duration": 0,
    "start_time": "2023-09-05T05:53:49.176Z"
   },
   {
    "duration": 0,
    "start_time": "2023-09-05T05:53:49.177Z"
   },
   {
    "duration": 0,
    "start_time": "2023-09-05T05:53:49.178Z"
   },
   {
    "duration": 2,
    "start_time": "2023-09-05T05:54:20.654Z"
   },
   {
    "duration": 25,
    "start_time": "2023-09-05T05:54:20.659Z"
   },
   {
    "duration": 16,
    "start_time": "2023-09-05T05:54:20.687Z"
   },
   {
    "duration": 69,
    "start_time": "2023-09-05T05:54:20.705Z"
   },
   {
    "duration": 12,
    "start_time": "2023-09-05T05:54:20.777Z"
   },
   {
    "duration": 32,
    "start_time": "2023-09-05T05:54:20.790Z"
   },
   {
    "duration": 24,
    "start_time": "2023-09-05T05:54:20.824Z"
   },
   {
    "duration": 22,
    "start_time": "2023-09-05T05:54:20.849Z"
   },
   {
    "duration": 11,
    "start_time": "2023-09-05T05:54:20.873Z"
   },
   {
    "duration": 8,
    "start_time": "2023-09-05T05:54:20.885Z"
   },
   {
    "duration": 9,
    "start_time": "2023-09-05T05:54:20.894Z"
   },
   {
    "duration": 17,
    "start_time": "2023-09-05T05:54:20.905Z"
   },
   {
    "duration": 12,
    "start_time": "2023-09-05T05:54:20.944Z"
   },
   {
    "duration": 15,
    "start_time": "2023-09-05T05:54:20.959Z"
   },
   {
    "duration": 12,
    "start_time": "2023-09-05T05:54:20.975Z"
   },
   {
    "duration": 13,
    "start_time": "2023-09-05T05:54:20.988Z"
   },
   {
    "duration": 8,
    "start_time": "2023-09-05T05:54:21.003Z"
   },
   {
    "duration": 13,
    "start_time": "2023-09-05T05:54:21.046Z"
   },
   {
    "duration": 6,
    "start_time": "2023-09-05T05:54:21.061Z"
   },
   {
    "duration": 8,
    "start_time": "2023-09-05T05:54:21.069Z"
   },
   {
    "duration": 6,
    "start_time": "2023-09-05T05:54:21.078Z"
   },
   {
    "duration": 14,
    "start_time": "2023-09-05T05:54:21.086Z"
   },
   {
    "duration": 11,
    "start_time": "2023-09-05T05:54:21.102Z"
   },
   {
    "duration": 5,
    "start_time": "2023-09-05T05:54:21.145Z"
   },
   {
    "duration": 18,
    "start_time": "2023-09-05T05:54:21.152Z"
   },
   {
    "duration": 137,
    "start_time": "2023-09-05T05:54:21.171Z"
   },
   {
    "duration": 454,
    "start_time": "2023-09-05T05:54:21.310Z"
   },
   {
    "duration": 380,
    "start_time": "2023-09-05T05:54:21.766Z"
   },
   {
    "duration": 6,
    "start_time": "2023-09-05T05:54:22.148Z"
   },
   {
    "duration": 10,
    "start_time": "2023-09-05T05:54:22.156Z"
   },
   {
    "duration": 1094,
    "start_time": "2023-09-05T05:54:22.168Z"
   },
   {
    "duration": 16,
    "start_time": "2023-09-05T05:54:23.263Z"
   },
   {
    "duration": 5,
    "start_time": "2023-09-05T05:54:23.281Z"
   },
   {
    "duration": 29,
    "start_time": "2023-09-05T05:54:23.288Z"
   },
   {
    "duration": 2202,
    "start_time": "2023-09-05T05:54:23.318Z"
   },
   {
    "duration": 8,
    "start_time": "2023-09-05T05:54:25.521Z"
   },
   {
    "duration": 47,
    "start_time": "2023-09-05T05:54:25.531Z"
   },
   {
    "duration": 307,
    "start_time": "2023-09-05T05:54:25.580Z"
   },
   {
    "duration": 7,
    "start_time": "2023-09-05T05:54:25.889Z"
   },
   {
    "duration": 1936,
    "start_time": "2023-09-05T05:54:25.897Z"
   },
   {
    "duration": 546,
    "start_time": "2023-09-05T05:54:27.837Z"
   },
   {
    "duration": 293,
    "start_time": "2023-09-05T05:54:28.385Z"
   },
   {
    "duration": 318,
    "start_time": "2023-09-05T05:54:28.680Z"
   },
   {
    "duration": 51,
    "start_time": "2023-09-05T05:54:29.000Z"
   },
   {
    "duration": 348,
    "start_time": "2023-09-05T05:54:29.053Z"
   },
   {
    "duration": 15,
    "start_time": "2023-09-05T05:54:29.403Z"
   },
   {
    "duration": 36,
    "start_time": "2023-09-05T05:54:29.420Z"
   },
   {
    "duration": 7,
    "start_time": "2023-09-05T05:54:29.458Z"
   },
   {
    "duration": 150,
    "start_time": "2023-09-05T05:54:29.466Z"
   },
   {
    "duration": 15,
    "start_time": "2023-09-05T05:54:29.617Z"
   },
   {
    "duration": 32,
    "start_time": "2023-09-05T05:54:29.645Z"
   },
   {
    "duration": 321,
    "start_time": "2023-09-05T05:54:29.678Z"
   },
   {
    "duration": 17,
    "start_time": "2023-09-05T05:54:30.001Z"
   },
   {
    "duration": 111,
    "start_time": "2023-09-05T05:54:30.020Z"
   },
   {
    "duration": 0,
    "start_time": "2023-09-05T05:54:30.133Z"
   },
   {
    "duration": 0,
    "start_time": "2023-09-05T05:54:30.135Z"
   },
   {
    "duration": 0,
    "start_time": "2023-09-05T05:54:30.136Z"
   },
   {
    "duration": 0,
    "start_time": "2023-09-05T05:54:30.138Z"
   },
   {
    "duration": 3,
    "start_time": "2023-09-05T05:55:06.058Z"
   },
   {
    "duration": 14,
    "start_time": "2023-09-05T05:55:06.063Z"
   },
   {
    "duration": 9,
    "start_time": "2023-09-05T05:55:06.079Z"
   },
   {
    "duration": 53,
    "start_time": "2023-09-05T05:55:06.090Z"
   },
   {
    "duration": 12,
    "start_time": "2023-09-05T05:55:06.145Z"
   },
   {
    "duration": 25,
    "start_time": "2023-09-05T05:55:06.158Z"
   },
   {
    "duration": 13,
    "start_time": "2023-09-05T05:55:06.184Z"
   },
   {
    "duration": 21,
    "start_time": "2023-09-05T05:55:06.198Z"
   },
   {
    "duration": 22,
    "start_time": "2023-09-05T05:55:06.220Z"
   },
   {
    "duration": 12,
    "start_time": "2023-09-05T05:55:06.243Z"
   },
   {
    "duration": 14,
    "start_time": "2023-09-05T05:55:06.257Z"
   },
   {
    "duration": 22,
    "start_time": "2023-09-05T05:55:06.273Z"
   },
   {
    "duration": 13,
    "start_time": "2023-09-05T05:55:06.297Z"
   },
   {
    "duration": 33,
    "start_time": "2023-09-05T05:55:06.313Z"
   },
   {
    "duration": 16,
    "start_time": "2023-09-05T05:55:06.349Z"
   },
   {
    "duration": 14,
    "start_time": "2023-09-05T05:55:06.370Z"
   },
   {
    "duration": 10,
    "start_time": "2023-09-05T05:55:06.385Z"
   },
   {
    "duration": 11,
    "start_time": "2023-09-05T05:55:06.396Z"
   },
   {
    "duration": 6,
    "start_time": "2023-09-05T05:55:06.408Z"
   },
   {
    "duration": 38,
    "start_time": "2023-09-05T05:55:06.416Z"
   },
   {
    "duration": 24,
    "start_time": "2023-09-05T05:55:06.455Z"
   },
   {
    "duration": 30,
    "start_time": "2023-09-05T05:55:06.480Z"
   },
   {
    "duration": 11,
    "start_time": "2023-09-05T05:55:06.511Z"
   },
   {
    "duration": 10,
    "start_time": "2023-09-05T05:55:06.524Z"
   },
   {
    "duration": 8,
    "start_time": "2023-09-05T05:55:06.536Z"
   },
   {
    "duration": 128,
    "start_time": "2023-09-05T05:55:06.545Z"
   },
   {
    "duration": 411,
    "start_time": "2023-09-05T05:55:06.675Z"
   },
   {
    "duration": 374,
    "start_time": "2023-09-05T05:55:07.088Z"
   },
   {
    "duration": 7,
    "start_time": "2023-09-05T05:55:07.464Z"
   },
   {
    "duration": 6,
    "start_time": "2023-09-05T05:55:07.473Z"
   },
   {
    "duration": 954,
    "start_time": "2023-09-05T05:55:07.481Z"
   },
   {
    "duration": 20,
    "start_time": "2023-09-05T05:55:08.437Z"
   },
   {
    "duration": 3,
    "start_time": "2023-09-05T05:55:08.458Z"
   },
   {
    "duration": 22,
    "start_time": "2023-09-05T05:55:08.463Z"
   },
   {
    "duration": 2172,
    "start_time": "2023-09-05T05:55:08.487Z"
   },
   {
    "duration": 8,
    "start_time": "2023-09-05T05:55:10.661Z"
   },
   {
    "duration": 55,
    "start_time": "2023-09-05T05:55:10.671Z"
   },
   {
    "duration": 336,
    "start_time": "2023-09-05T05:55:10.728Z"
   },
   {
    "duration": 7,
    "start_time": "2023-09-05T05:55:11.065Z"
   },
   {
    "duration": 2177,
    "start_time": "2023-09-05T05:55:11.074Z"
   },
   {
    "duration": 438,
    "start_time": "2023-09-05T05:55:13.254Z"
   },
   {
    "duration": 325,
    "start_time": "2023-09-05T05:55:13.694Z"
   },
   {
    "duration": 525,
    "start_time": "2023-09-05T05:55:14.021Z"
   },
   {
    "duration": 28,
    "start_time": "2023-09-05T05:55:14.548Z"
   },
   {
    "duration": 336,
    "start_time": "2023-09-05T05:55:14.578Z"
   },
   {
    "duration": 13,
    "start_time": "2023-09-05T05:55:14.916Z"
   },
   {
    "duration": 24,
    "start_time": "2023-09-05T05:55:14.931Z"
   },
   {
    "duration": 5,
    "start_time": "2023-09-05T05:55:14.957Z"
   },
   {
    "duration": 152,
    "start_time": "2023-09-05T05:55:14.964Z"
   },
   {
    "duration": 12,
    "start_time": "2023-09-05T05:55:15.118Z"
   },
   {
    "duration": 42,
    "start_time": "2023-09-05T05:55:15.131Z"
   },
   {
    "duration": 281,
    "start_time": "2023-09-05T05:55:15.175Z"
   },
   {
    "duration": 11,
    "start_time": "2023-09-05T05:55:15.457Z"
   },
   {
    "duration": 27,
    "start_time": "2023-09-05T05:55:15.469Z"
   },
   {
    "duration": 57,
    "start_time": "2023-09-05T05:55:15.498Z"
   },
   {
    "duration": 3,
    "start_time": "2023-09-05T05:55:15.557Z"
   },
   {
    "duration": 39,
    "start_time": "2023-09-05T05:55:15.561Z"
   },
   {
    "duration": 1215,
    "start_time": "2023-09-05T09:26:03.210Z"
   },
   {
    "duration": 3,
    "start_time": "2023-09-05T09:26:04.426Z"
   },
   {
    "duration": 14,
    "start_time": "2023-09-05T09:26:04.436Z"
   },
   {
    "duration": 138,
    "start_time": "2023-09-05T09:26:04.451Z"
   },
   {
    "duration": 15,
    "start_time": "2023-09-05T09:26:04.591Z"
   },
   {
    "duration": 24,
    "start_time": "2023-09-05T09:26:04.608Z"
   },
   {
    "duration": 17,
    "start_time": "2023-09-05T09:26:04.633Z"
   },
   {
    "duration": 32,
    "start_time": "2023-09-05T09:26:04.651Z"
   },
   {
    "duration": 12,
    "start_time": "2023-09-05T09:26:04.686Z"
   },
   {
    "duration": 25,
    "start_time": "2023-09-05T09:26:04.700Z"
   },
   {
    "duration": 18,
    "start_time": "2023-09-05T09:26:04.727Z"
   },
   {
    "duration": 32,
    "start_time": "2023-09-05T09:26:04.747Z"
   },
   {
    "duration": 25,
    "start_time": "2023-09-05T09:26:04.781Z"
   },
   {
    "duration": 30,
    "start_time": "2023-09-05T09:26:04.807Z"
   },
   {
    "duration": 19,
    "start_time": "2023-09-05T09:26:04.838Z"
   },
   {
    "duration": 20,
    "start_time": "2023-09-05T09:26:04.859Z"
   },
   {
    "duration": 8,
    "start_time": "2023-09-05T09:26:04.881Z"
   },
   {
    "duration": 12,
    "start_time": "2023-09-05T09:26:04.891Z"
   },
   {
    "duration": 9,
    "start_time": "2023-09-05T09:26:04.904Z"
   },
   {
    "duration": 10,
    "start_time": "2023-09-05T09:26:04.914Z"
   },
   {
    "duration": 13,
    "start_time": "2023-09-05T09:26:04.925Z"
   },
   {
    "duration": 24,
    "start_time": "2023-09-05T09:26:04.939Z"
   },
   {
    "duration": 18,
    "start_time": "2023-09-05T09:26:04.964Z"
   },
   {
    "duration": 24,
    "start_time": "2023-09-05T09:26:04.984Z"
   },
   {
    "duration": 42,
    "start_time": "2023-09-05T09:26:05.009Z"
   },
   {
    "duration": 143,
    "start_time": "2023-09-05T09:26:05.052Z"
   },
   {
    "duration": 424,
    "start_time": "2023-09-05T09:26:05.198Z"
   },
   {
    "duration": 363,
    "start_time": "2023-09-05T09:26:05.624Z"
   },
   {
    "duration": 6,
    "start_time": "2023-09-05T09:26:05.989Z"
   },
   {
    "duration": 25,
    "start_time": "2023-09-05T09:26:05.997Z"
   },
   {
    "duration": 895,
    "start_time": "2023-09-05T09:26:06.024Z"
   },
   {
    "duration": 20,
    "start_time": "2023-09-05T09:26:06.920Z"
   },
   {
    "duration": 5,
    "start_time": "2023-09-05T09:26:06.942Z"
   },
   {
    "duration": 17,
    "start_time": "2023-09-05T09:26:06.949Z"
   },
   {
    "duration": 1899,
    "start_time": "2023-09-05T09:26:06.967Z"
   },
   {
    "duration": 8,
    "start_time": "2023-09-05T09:26:08.867Z"
   },
   {
    "duration": 38,
    "start_time": "2023-09-05T09:26:08.876Z"
   },
   {
    "duration": 313,
    "start_time": "2023-09-05T09:26:08.916Z"
   },
   {
    "duration": 6,
    "start_time": "2023-09-05T09:26:09.231Z"
   },
   {
    "duration": 1916,
    "start_time": "2023-09-05T09:26:09.239Z"
   },
   {
    "duration": 404,
    "start_time": "2023-09-05T09:26:11.157Z"
   },
   {
    "duration": 279,
    "start_time": "2023-09-05T09:26:11.562Z"
   },
   {
    "duration": 292,
    "start_time": "2023-09-05T09:26:11.843Z"
   },
   {
    "duration": 33,
    "start_time": "2023-09-05T09:26:12.137Z"
   },
   {
    "duration": 339,
    "start_time": "2023-09-05T09:26:12.172Z"
   },
   {
    "duration": 12,
    "start_time": "2023-09-05T09:26:12.512Z"
   },
   {
    "duration": 34,
    "start_time": "2023-09-05T09:26:12.534Z"
   },
   {
    "duration": 11,
    "start_time": "2023-09-05T09:26:12.570Z"
   },
   {
    "duration": 148,
    "start_time": "2023-09-05T09:26:12.582Z"
   },
   {
    "duration": 12,
    "start_time": "2023-09-05T09:26:12.732Z"
   },
   {
    "duration": 55,
    "start_time": "2023-09-05T09:26:12.745Z"
   },
   {
    "duration": 370,
    "start_time": "2023-09-05T09:26:12.803Z"
   },
   {
    "duration": 11,
    "start_time": "2023-09-05T09:26:13.174Z"
   },
   {
    "duration": 68,
    "start_time": "2023-09-05T09:26:13.186Z"
   },
   {
    "duration": 61,
    "start_time": "2023-09-05T09:26:13.256Z"
   },
   {
    "duration": 14,
    "start_time": "2023-09-05T09:26:13.319Z"
   },
   {
    "duration": 95,
    "start_time": "2023-09-05T09:26:13.335Z"
   },
   {
    "duration": 1517,
    "start_time": "2023-09-05T15:36:17.931Z"
   },
   {
    "duration": 6,
    "start_time": "2023-09-05T15:36:19.451Z"
   },
   {
    "duration": 16,
    "start_time": "2023-09-05T15:36:19.459Z"
   },
   {
    "duration": 120,
    "start_time": "2023-09-05T15:36:19.477Z"
   },
   {
    "duration": 19,
    "start_time": "2023-09-05T15:36:19.598Z"
   },
   {
    "duration": 26,
    "start_time": "2023-09-05T15:36:19.619Z"
   },
   {
    "duration": 11,
    "start_time": "2023-09-05T15:36:19.647Z"
   },
   {
    "duration": 40,
    "start_time": "2023-09-05T15:36:19.660Z"
   },
   {
    "duration": 25,
    "start_time": "2023-09-05T15:36:19.702Z"
   },
   {
    "duration": 35,
    "start_time": "2023-09-05T15:36:19.730Z"
   },
   {
    "duration": 32,
    "start_time": "2023-09-05T15:36:19.767Z"
   },
   {
    "duration": 25,
    "start_time": "2023-09-05T15:36:19.801Z"
   },
   {
    "duration": 31,
    "start_time": "2023-09-05T15:36:19.827Z"
   },
   {
    "duration": 14,
    "start_time": "2023-09-05T15:36:19.860Z"
   },
   {
    "duration": 15,
    "start_time": "2023-09-05T15:36:19.875Z"
   },
   {
    "duration": 27,
    "start_time": "2023-09-05T15:36:19.892Z"
   },
   {
    "duration": 14,
    "start_time": "2023-09-05T15:36:19.921Z"
   },
   {
    "duration": 32,
    "start_time": "2023-09-05T15:36:19.936Z"
   },
   {
    "duration": 8,
    "start_time": "2023-09-05T15:36:19.969Z"
   },
   {
    "duration": 32,
    "start_time": "2023-09-05T15:36:19.983Z"
   },
   {
    "duration": 46,
    "start_time": "2023-09-05T15:36:20.017Z"
   },
   {
    "duration": 35,
    "start_time": "2023-09-05T15:36:20.064Z"
   },
   {
    "duration": 60,
    "start_time": "2023-09-05T15:36:20.101Z"
   },
   {
    "duration": 45,
    "start_time": "2023-09-05T15:36:20.163Z"
   },
   {
    "duration": 43,
    "start_time": "2023-09-05T15:36:20.210Z"
   },
   {
    "duration": 189,
    "start_time": "2023-09-05T15:36:20.255Z"
   },
   {
    "duration": 450,
    "start_time": "2023-09-05T15:36:20.445Z"
   },
   {
    "duration": 483,
    "start_time": "2023-09-05T15:36:20.902Z"
   },
   {
    "duration": 10,
    "start_time": "2023-09-05T15:36:21.387Z"
   },
   {
    "duration": 10,
    "start_time": "2023-09-05T15:36:21.400Z"
   },
   {
    "duration": 1122,
    "start_time": "2023-09-05T15:36:21.413Z"
   },
   {
    "duration": 19,
    "start_time": "2023-09-05T15:36:22.536Z"
   },
   {
    "duration": 3,
    "start_time": "2023-09-05T15:36:22.558Z"
   },
   {
    "duration": 36,
    "start_time": "2023-09-05T15:36:22.563Z"
   },
   {
    "duration": 2639,
    "start_time": "2023-09-05T15:36:22.601Z"
   },
   {
    "duration": 8,
    "start_time": "2023-09-05T15:36:25.243Z"
   },
   {
    "duration": 66,
    "start_time": "2023-09-05T15:36:25.253Z"
   },
   {
    "duration": 417,
    "start_time": "2023-09-05T15:36:25.322Z"
   },
   {
    "duration": 6,
    "start_time": "2023-09-05T15:36:25.741Z"
   },
   {
    "duration": 2559,
    "start_time": "2023-09-05T15:36:25.749Z"
   },
   {
    "duration": 476,
    "start_time": "2023-09-05T15:36:28.310Z"
   },
   {
    "duration": 353,
    "start_time": "2023-09-05T15:36:28.793Z"
   },
   {
    "duration": 390,
    "start_time": "2023-09-05T15:36:29.148Z"
   },
   {
    "duration": 45,
    "start_time": "2023-09-05T15:36:29.540Z"
   },
   {
    "duration": 423,
    "start_time": "2023-09-05T15:36:29.588Z"
   },
   {
    "duration": 18,
    "start_time": "2023-09-05T15:36:30.013Z"
   },
   {
    "duration": 83,
    "start_time": "2023-09-05T15:36:30.032Z"
   },
   {
    "duration": 126,
    "start_time": "2023-09-05T15:36:30.117Z"
   },
   {
    "duration": 211,
    "start_time": "2023-09-05T15:36:30.245Z"
   },
   {
    "duration": 15,
    "start_time": "2023-09-05T15:36:30.457Z"
   },
   {
    "duration": 113,
    "start_time": "2023-09-05T15:36:30.473Z"
   },
   {
    "duration": 500,
    "start_time": "2023-09-05T15:36:30.588Z"
   },
   {
    "duration": 16,
    "start_time": "2023-09-05T15:36:31.090Z"
   },
   {
    "duration": 69,
    "start_time": "2023-09-05T15:36:31.107Z"
   },
   {
    "duration": 94,
    "start_time": "2023-09-05T15:36:31.178Z"
   },
   {
    "duration": 25,
    "start_time": "2023-09-05T15:36:31.274Z"
   },
   {
    "duration": 87,
    "start_time": "2023-09-05T15:36:31.301Z"
   },
   {
    "duration": 470,
    "start_time": "2023-09-05T15:46:40.036Z"
   },
   {
    "duration": 477,
    "start_time": "2023-09-05T15:46:42.865Z"
   },
   {
    "duration": 468,
    "start_time": "2023-09-05T15:46:45.071Z"
   },
   {
    "duration": 9,
    "start_time": "2023-09-05T15:50:30.529Z"
   },
   {
    "duration": 50,
    "start_time": "2023-09-05T17:05:34.130Z"
   },
   {
    "duration": 1451,
    "start_time": "2023-09-05T17:05:42.370Z"
   },
   {
    "duration": 3,
    "start_time": "2023-09-05T17:05:43.823Z"
   },
   {
    "duration": 14,
    "start_time": "2023-09-05T17:05:43.828Z"
   },
   {
    "duration": 120,
    "start_time": "2023-09-05T17:05:43.844Z"
   },
   {
    "duration": 16,
    "start_time": "2023-09-05T17:05:43.966Z"
   },
   {
    "duration": 38,
    "start_time": "2023-09-05T17:05:43.983Z"
   },
   {
    "duration": 16,
    "start_time": "2023-09-05T17:05:44.022Z"
   },
   {
    "duration": 55,
    "start_time": "2023-09-05T17:05:44.040Z"
   },
   {
    "duration": 53,
    "start_time": "2023-09-05T17:05:44.097Z"
   },
   {
    "duration": 33,
    "start_time": "2023-09-05T17:05:44.152Z"
   },
   {
    "duration": 25,
    "start_time": "2023-09-05T17:05:44.187Z"
   },
   {
    "duration": 55,
    "start_time": "2023-09-05T17:05:44.214Z"
   },
   {
    "duration": 25,
    "start_time": "2023-09-05T17:05:44.271Z"
   },
   {
    "duration": 29,
    "start_time": "2023-09-05T17:05:44.300Z"
   },
   {
    "duration": 23,
    "start_time": "2023-09-05T17:05:44.331Z"
   },
   {
    "duration": 35,
    "start_time": "2023-09-05T17:05:44.355Z"
   },
   {
    "duration": 10,
    "start_time": "2023-09-05T17:05:44.391Z"
   },
   {
    "duration": 11,
    "start_time": "2023-09-05T17:05:44.403Z"
   },
   {
    "duration": 24,
    "start_time": "2023-09-05T17:05:44.415Z"
   },
   {
    "duration": 20,
    "start_time": "2023-09-05T17:05:44.441Z"
   },
   {
    "duration": 39,
    "start_time": "2023-09-05T17:05:44.463Z"
   },
   {
    "duration": 26,
    "start_time": "2023-09-05T17:05:44.504Z"
   },
   {
    "duration": 39,
    "start_time": "2023-09-05T17:05:44.533Z"
   },
   {
    "duration": 28,
    "start_time": "2023-09-05T17:05:44.574Z"
   },
   {
    "duration": 31,
    "start_time": "2023-09-05T17:05:44.604Z"
   },
   {
    "duration": 146,
    "start_time": "2023-09-05T17:05:44.637Z"
   },
   {
    "duration": 424,
    "start_time": "2023-09-05T17:05:44.785Z"
   },
   {
    "duration": 442,
    "start_time": "2023-09-05T17:05:45.211Z"
   },
   {
    "duration": 8,
    "start_time": "2023-09-05T17:05:45.655Z"
   },
   {
    "duration": 35,
    "start_time": "2023-09-05T17:05:45.665Z"
   },
   {
    "duration": 1082,
    "start_time": "2023-09-05T17:05:45.703Z"
   },
   {
    "duration": 29,
    "start_time": "2023-09-05T17:05:46.787Z"
   },
   {
    "duration": 3,
    "start_time": "2023-09-05T17:05:46.818Z"
   },
   {
    "duration": 29,
    "start_time": "2023-09-05T17:05:46.823Z"
   },
   {
    "duration": 2223,
    "start_time": "2023-09-05T17:05:46.854Z"
   },
   {
    "duration": 8,
    "start_time": "2023-09-05T17:05:49.079Z"
   },
   {
    "duration": 39,
    "start_time": "2023-09-05T17:05:49.089Z"
   },
   {
    "duration": 357,
    "start_time": "2023-09-05T17:05:49.130Z"
   },
   {
    "duration": 6,
    "start_time": "2023-09-05T17:05:49.489Z"
   },
   {
    "duration": 2141,
    "start_time": "2023-09-05T17:05:49.497Z"
   },
   {
    "duration": 430,
    "start_time": "2023-09-05T17:05:51.642Z"
   },
   {
    "duration": 313,
    "start_time": "2023-09-05T17:05:52.074Z"
   },
   {
    "duration": 412,
    "start_time": "2023-09-05T17:05:52.389Z"
   },
   {
    "duration": 34,
    "start_time": "2023-09-05T17:05:52.810Z"
   },
   {
    "duration": 384,
    "start_time": "2023-09-05T17:05:52.846Z"
   },
   {
    "duration": 15,
    "start_time": "2023-09-05T17:05:53.232Z"
   },
   {
    "duration": 13,
    "start_time": "2023-09-05T17:05:53.248Z"
   },
   {
    "duration": 5,
    "start_time": "2023-09-05T17:05:53.263Z"
   },
   {
    "duration": 163,
    "start_time": "2023-09-05T17:05:53.270Z"
   },
   {
    "duration": 15,
    "start_time": "2023-09-05T17:05:53.435Z"
   },
   {
    "duration": 38,
    "start_time": "2023-09-05T17:05:53.451Z"
   },
   {
    "duration": 425,
    "start_time": "2023-09-05T17:05:53.491Z"
   },
   {
    "duration": 12,
    "start_time": "2023-09-05T17:05:53.918Z"
   },
   {
    "duration": 32,
    "start_time": "2023-09-05T17:05:53.931Z"
   },
   {
    "duration": 61,
    "start_time": "2023-09-05T17:05:53.965Z"
   },
   {
    "duration": 3,
    "start_time": "2023-09-05T17:05:54.028Z"
   },
   {
    "duration": 39,
    "start_time": "2023-09-05T17:05:54.033Z"
   },
   {
    "duration": 381,
    "start_time": "2023-09-05T17:06:20.125Z"
   },
   {
    "duration": 452,
    "start_time": "2023-09-05T17:07:34.510Z"
   },
   {
    "duration": 502,
    "start_time": "2023-09-05T17:11:12.334Z"
   },
   {
    "duration": 408,
    "start_time": "2023-09-05T17:17:17.294Z"
   },
   {
    "duration": 1041,
    "start_time": "2023-09-05T17:18:28.424Z"
   },
   {
    "duration": 530,
    "start_time": "2023-09-05T17:19:05.860Z"
   },
   {
    "duration": 74,
    "start_time": "2023-09-05T17:19:47.991Z"
   },
   {
    "duration": 13,
    "start_time": "2023-09-05T17:20:18.023Z"
   },
   {
    "duration": 14,
    "start_time": "2023-09-05T17:20:21.182Z"
   },
   {
    "duration": 1127,
    "start_time": "2023-09-05T17:21:02.076Z"
   },
   {
    "duration": 1020,
    "start_time": "2023-09-05T17:22:30.951Z"
   },
   {
    "duration": 1050,
    "start_time": "2023-09-05T17:23:39.432Z"
   },
   {
    "duration": 367,
    "start_time": "2023-09-05T17:25:06.983Z"
   },
   {
    "duration": 299,
    "start_time": "2023-09-05T17:26:30.535Z"
   },
   {
    "duration": 65,
    "start_time": "2023-09-05T17:27:48.432Z"
   },
   {
    "duration": 133,
    "start_time": "2023-09-05T17:28:15.791Z"
   },
   {
    "duration": 110,
    "start_time": "2023-09-05T17:29:15.528Z"
   },
   {
    "duration": 18,
    "start_time": "2023-09-05T17:29:20.544Z"
   },
   {
    "duration": 2443,
    "start_time": "2023-09-05T17:29:38.768Z"
   },
   {
    "duration": 4,
    "start_time": "2023-09-05T17:32:33.993Z"
   },
   {
    "duration": 16,
    "start_time": "2023-09-05T17:32:34.000Z"
   },
   {
    "duration": 7,
    "start_time": "2023-09-05T17:32:34.022Z"
   },
   {
    "duration": 56,
    "start_time": "2023-09-05T17:32:34.031Z"
   },
   {
    "duration": 12,
    "start_time": "2023-09-05T17:32:34.089Z"
   },
   {
    "duration": 19,
    "start_time": "2023-09-05T17:32:34.103Z"
   },
   {
    "duration": 13,
    "start_time": "2023-09-05T17:32:34.125Z"
   },
   {
    "duration": 23,
    "start_time": "2023-09-05T17:32:34.140Z"
   },
   {
    "duration": 15,
    "start_time": "2023-09-05T17:32:34.164Z"
   },
   {
    "duration": 20,
    "start_time": "2023-09-05T17:32:34.210Z"
   },
   {
    "duration": 9,
    "start_time": "2023-09-05T17:32:34.232Z"
   },
   {
    "duration": 17,
    "start_time": "2023-09-05T17:32:34.243Z"
   },
   {
    "duration": 12,
    "start_time": "2023-09-05T17:32:34.263Z"
   },
   {
    "duration": 35,
    "start_time": "2023-09-05T17:32:34.277Z"
   },
   {
    "duration": 11,
    "start_time": "2023-09-05T17:32:34.316Z"
   },
   {
    "duration": 14,
    "start_time": "2023-09-05T17:32:34.328Z"
   },
   {
    "duration": 8,
    "start_time": "2023-09-05T17:32:34.344Z"
   },
   {
    "duration": 9,
    "start_time": "2023-09-05T17:32:34.354Z"
   },
   {
    "duration": 7,
    "start_time": "2023-09-05T17:32:34.365Z"
   },
   {
    "duration": 37,
    "start_time": "2023-09-05T17:32:34.373Z"
   },
   {
    "duration": 12,
    "start_time": "2023-09-05T17:32:34.416Z"
   },
   {
    "duration": 14,
    "start_time": "2023-09-05T17:32:34.429Z"
   },
   {
    "duration": 22,
    "start_time": "2023-09-05T17:32:34.445Z"
   },
   {
    "duration": 7,
    "start_time": "2023-09-05T17:32:34.469Z"
   },
   {
    "duration": 37,
    "start_time": "2023-09-05T17:32:34.478Z"
   },
   {
    "duration": 140,
    "start_time": "2023-09-05T17:32:34.518Z"
   },
   {
    "duration": 500,
    "start_time": "2023-09-05T17:32:34.660Z"
   },
   {
    "duration": 466,
    "start_time": "2023-09-05T17:32:35.164Z"
   },
   {
    "duration": 7,
    "start_time": "2023-09-05T17:32:35.632Z"
   },
   {
    "duration": 7,
    "start_time": "2023-09-05T17:32:35.641Z"
   },
   {
    "duration": 387,
    "start_time": "2023-09-05T17:32:35.650Z"
   },
   {
    "duration": 18,
    "start_time": "2023-09-05T17:32:36.040Z"
   },
   {
    "duration": 16,
    "start_time": "2023-09-05T17:32:36.060Z"
   },
   {
    "duration": 22,
    "start_time": "2023-09-05T17:32:36.077Z"
   },
   {
    "duration": 2368,
    "start_time": "2023-09-05T17:32:36.101Z"
   },
   {
    "duration": 8,
    "start_time": "2023-09-05T17:32:38.471Z"
   },
   {
    "duration": 46,
    "start_time": "2023-09-05T17:32:38.480Z"
   },
   {
    "duration": 367,
    "start_time": "2023-09-05T17:32:38.528Z"
   },
   {
    "duration": 22,
    "start_time": "2023-09-05T17:32:38.896Z"
   },
   {
    "duration": 2317,
    "start_time": "2023-09-05T17:32:38.919Z"
   },
   {
    "duration": 488,
    "start_time": "2023-09-05T17:32:41.238Z"
   },
   {
    "duration": 318,
    "start_time": "2023-09-05T17:32:41.727Z"
   },
   {
    "duration": 409,
    "start_time": "2023-09-05T17:32:42.047Z"
   },
   {
    "duration": 76,
    "start_time": "2023-09-05T17:32:42.459Z"
   },
   {
    "duration": 456,
    "start_time": "2023-09-05T17:32:42.537Z"
   },
   {
    "duration": 33,
    "start_time": "2023-09-05T17:32:42.995Z"
   },
   {
    "duration": 40,
    "start_time": "2023-09-05T17:32:43.030Z"
   },
   {
    "duration": 6,
    "start_time": "2023-09-05T17:32:43.072Z"
   },
   {
    "duration": 273,
    "start_time": "2023-09-05T17:32:43.080Z"
   },
   {
    "duration": 16,
    "start_time": "2023-09-05T17:32:43.355Z"
   },
   {
    "duration": 60,
    "start_time": "2023-09-05T17:32:43.372Z"
   },
   {
    "duration": 365,
    "start_time": "2023-09-05T17:32:43.434Z"
   },
   {
    "duration": 25,
    "start_time": "2023-09-05T17:32:43.802Z"
   },
   {
    "duration": 35,
    "start_time": "2023-09-05T17:32:43.829Z"
   },
   {
    "duration": 69,
    "start_time": "2023-09-05T17:32:43.866Z"
   },
   {
    "duration": 3,
    "start_time": "2023-09-05T17:32:43.937Z"
   },
   {
    "duration": 42,
    "start_time": "2023-09-05T17:32:43.941Z"
   },
   {
    "duration": 78,
    "start_time": "2023-09-05T17:37:37.885Z"
   },
   {
    "duration": 1175,
    "start_time": "2023-09-06T08:25:18.467Z"
   },
   {
    "duration": 3,
    "start_time": "2023-09-06T08:25:19.644Z"
   },
   {
    "duration": 11,
    "start_time": "2023-09-06T08:25:19.649Z"
   },
   {
    "duration": 199,
    "start_time": "2023-09-06T08:25:19.662Z"
   },
   {
    "duration": 16,
    "start_time": "2023-09-06T08:25:19.862Z"
   },
   {
    "duration": 29,
    "start_time": "2023-09-06T08:25:19.879Z"
   },
   {
    "duration": 11,
    "start_time": "2023-09-06T08:25:19.910Z"
   },
   {
    "duration": 15,
    "start_time": "2023-09-06T08:25:19.923Z"
   },
   {
    "duration": 13,
    "start_time": "2023-09-06T08:25:19.939Z"
   },
   {
    "duration": 11,
    "start_time": "2023-09-06T08:25:19.956Z"
   },
   {
    "duration": 34,
    "start_time": "2023-09-06T08:25:19.969Z"
   },
   {
    "duration": 25,
    "start_time": "2023-09-06T08:25:20.005Z"
   },
   {
    "duration": 23,
    "start_time": "2023-09-06T08:25:20.032Z"
   },
   {
    "duration": 20,
    "start_time": "2023-09-06T08:25:20.057Z"
   },
   {
    "duration": 14,
    "start_time": "2023-09-06T08:25:20.078Z"
   },
   {
    "duration": 39,
    "start_time": "2023-09-06T08:25:20.093Z"
   },
   {
    "duration": 40,
    "start_time": "2023-09-06T08:25:20.133Z"
   },
   {
    "duration": 26,
    "start_time": "2023-09-06T08:25:20.174Z"
   },
   {
    "duration": 23,
    "start_time": "2023-09-06T08:25:20.201Z"
   },
   {
    "duration": 15,
    "start_time": "2023-09-06T08:25:20.226Z"
   },
   {
    "duration": 16,
    "start_time": "2023-09-06T08:25:20.243Z"
   },
   {
    "duration": 19,
    "start_time": "2023-09-06T08:25:20.261Z"
   },
   {
    "duration": 15,
    "start_time": "2023-09-06T08:25:20.281Z"
   },
   {
    "duration": 20,
    "start_time": "2023-09-06T08:25:20.298Z"
   },
   {
    "duration": 14,
    "start_time": "2023-09-06T08:25:20.319Z"
   },
   {
    "duration": 140,
    "start_time": "2023-09-06T08:25:20.334Z"
   },
   {
    "duration": 552,
    "start_time": "2023-09-06T08:25:20.476Z"
   },
   {
    "duration": 385,
    "start_time": "2023-09-06T08:25:21.033Z"
   },
   {
    "duration": 7,
    "start_time": "2023-09-06T08:25:21.419Z"
   },
   {
    "duration": 19,
    "start_time": "2023-09-06T08:25:21.427Z"
   },
   {
    "duration": 341,
    "start_time": "2023-09-06T08:25:21.447Z"
   },
   {
    "duration": 15,
    "start_time": "2023-09-06T08:25:21.789Z"
   },
   {
    "duration": 12,
    "start_time": "2023-09-06T08:25:21.806Z"
   },
   {
    "duration": 43,
    "start_time": "2023-09-06T08:25:21.820Z"
   },
   {
    "duration": 3083,
    "start_time": "2023-09-06T08:25:21.864Z"
   },
   {
    "duration": 9,
    "start_time": "2023-09-06T08:25:24.949Z"
   },
   {
    "duration": 28,
    "start_time": "2023-09-06T08:25:24.960Z"
   },
   {
    "duration": 364,
    "start_time": "2023-09-06T08:25:24.990Z"
   },
   {
    "duration": 7,
    "start_time": "2023-09-06T08:25:25.356Z"
   },
   {
    "duration": 2029,
    "start_time": "2023-09-06T08:25:25.364Z"
   },
   {
    "duration": 393,
    "start_time": "2023-09-06T08:25:27.395Z"
   },
   {
    "duration": 303,
    "start_time": "2023-09-06T08:25:27.790Z"
   },
   {
    "duration": 316,
    "start_time": "2023-09-06T08:25:28.095Z"
   },
   {
    "duration": 44,
    "start_time": "2023-09-06T08:25:28.413Z"
   },
   {
    "duration": 339,
    "start_time": "2023-09-06T08:25:28.458Z"
   },
   {
    "duration": 13,
    "start_time": "2023-09-06T08:25:28.798Z"
   },
   {
    "duration": 35,
    "start_time": "2023-09-06T08:25:28.813Z"
   },
   {
    "duration": 4,
    "start_time": "2023-09-06T08:25:28.850Z"
   },
   {
    "duration": 218,
    "start_time": "2023-09-06T08:25:28.855Z"
   },
   {
    "duration": 16,
    "start_time": "2023-09-06T08:25:29.075Z"
   },
   {
    "duration": 34,
    "start_time": "2023-09-06T08:25:29.093Z"
   },
   {
    "duration": 302,
    "start_time": "2023-09-06T08:25:29.144Z"
   },
   {
    "duration": 11,
    "start_time": "2023-09-06T08:25:29.448Z"
   },
   {
    "duration": 34,
    "start_time": "2023-09-06T08:25:29.460Z"
   },
   {
    "duration": 49,
    "start_time": "2023-09-06T08:25:29.496Z"
   },
   {
    "duration": 2,
    "start_time": "2023-09-06T08:25:29.547Z"
   },
   {
    "duration": 41,
    "start_time": "2023-09-06T08:25:29.551Z"
   },
   {
    "duration": 1757,
    "start_time": "2023-09-06T08:38:21.056Z"
   },
   {
    "duration": 2,
    "start_time": "2023-09-06T08:38:22.817Z"
   },
   {
    "duration": 40,
    "start_time": "2023-09-06T08:38:22.824Z"
   },
   {
    "duration": 195,
    "start_time": "2023-09-06T08:38:22.866Z"
   },
   {
    "duration": 18,
    "start_time": "2023-09-06T08:38:23.064Z"
   },
   {
    "duration": 17,
    "start_time": "2023-09-06T08:38:23.083Z"
   },
   {
    "duration": 34,
    "start_time": "2023-09-06T08:38:23.102Z"
   },
   {
    "duration": 42,
    "start_time": "2023-09-06T08:38:23.137Z"
   },
   {
    "duration": 16,
    "start_time": "2023-09-06T08:38:23.181Z"
   },
   {
    "duration": 10,
    "start_time": "2023-09-06T08:38:23.198Z"
   },
   {
    "duration": 8,
    "start_time": "2023-09-06T08:38:23.210Z"
   },
   {
    "duration": 47,
    "start_time": "2023-09-06T08:38:23.220Z"
   },
   {
    "duration": 25,
    "start_time": "2023-09-06T08:38:23.270Z"
   },
   {
    "duration": 9,
    "start_time": "2023-09-06T08:38:23.299Z"
   },
   {
    "duration": 9,
    "start_time": "2023-09-06T08:38:23.309Z"
   },
   {
    "duration": 22,
    "start_time": "2023-09-06T08:38:23.320Z"
   },
   {
    "duration": 28,
    "start_time": "2023-09-06T08:38:23.343Z"
   },
   {
    "duration": 12,
    "start_time": "2023-09-06T08:38:23.373Z"
   },
   {
    "duration": 7,
    "start_time": "2023-09-06T08:38:23.386Z"
   },
   {
    "duration": 10,
    "start_time": "2023-09-06T08:38:23.394Z"
   },
   {
    "duration": 7,
    "start_time": "2023-09-06T08:38:23.405Z"
   },
   {
    "duration": 25,
    "start_time": "2023-09-06T08:38:23.413Z"
   },
   {
    "duration": 32,
    "start_time": "2023-09-06T08:38:23.440Z"
   },
   {
    "duration": 18,
    "start_time": "2023-09-06T08:38:23.476Z"
   },
   {
    "duration": 18,
    "start_time": "2023-09-06T08:38:23.496Z"
   },
   {
    "duration": 193,
    "start_time": "2023-09-06T08:38:23.516Z"
   },
   {
    "duration": 433,
    "start_time": "2023-09-06T08:38:23.711Z"
   },
   {
    "duration": 476,
    "start_time": "2023-09-06T08:38:24.150Z"
   },
   {
    "duration": 19,
    "start_time": "2023-09-06T08:38:24.631Z"
   },
   {
    "duration": 19,
    "start_time": "2023-09-06T08:38:24.658Z"
   },
   {
    "duration": 421,
    "start_time": "2023-09-06T08:38:24.679Z"
   },
   {
    "duration": 46,
    "start_time": "2023-09-06T08:38:25.102Z"
   },
   {
    "duration": 4,
    "start_time": "2023-09-06T08:38:25.149Z"
   },
   {
    "duration": 20,
    "start_time": "2023-09-06T08:38:25.161Z"
   },
   {
    "duration": 2690,
    "start_time": "2023-09-06T08:38:25.182Z"
   },
   {
    "duration": 10,
    "start_time": "2023-09-06T08:38:27.874Z"
   },
   {
    "duration": 85,
    "start_time": "2023-09-06T08:38:27.885Z"
   },
   {
    "duration": 378,
    "start_time": "2023-09-06T08:38:27.974Z"
   },
   {
    "duration": 12,
    "start_time": "2023-09-06T08:38:28.354Z"
   },
   {
    "duration": 2474,
    "start_time": "2023-09-06T08:38:28.369Z"
   },
   {
    "duration": 488,
    "start_time": "2023-09-06T08:38:30.848Z"
   },
   {
    "duration": 348,
    "start_time": "2023-09-06T08:38:31.337Z"
   },
   {
    "duration": 382,
    "start_time": "2023-09-06T08:38:31.686Z"
   },
   {
    "duration": 27,
    "start_time": "2023-09-06T08:38:32.079Z"
   },
   {
    "duration": 453,
    "start_time": "2023-09-06T08:38:32.108Z"
   },
   {
    "duration": 24,
    "start_time": "2023-09-06T08:38:32.567Z"
   },
   {
    "duration": 54,
    "start_time": "2023-09-06T08:38:32.592Z"
   },
   {
    "duration": 16,
    "start_time": "2023-09-06T08:38:32.647Z"
   },
   {
    "duration": 258,
    "start_time": "2023-09-06T08:38:32.667Z"
   },
   {
    "duration": 25,
    "start_time": "2023-09-06T08:38:32.928Z"
   },
   {
    "duration": 128,
    "start_time": "2023-09-06T08:38:32.957Z"
   },
   {
    "duration": 412,
    "start_time": "2023-09-06T08:38:33.086Z"
   },
   {
    "duration": 12,
    "start_time": "2023-09-06T08:38:33.499Z"
   },
   {
    "duration": 197,
    "start_time": "2023-09-06T08:38:33.513Z"
   },
   {
    "duration": 75,
    "start_time": "2023-09-06T08:38:33.712Z"
   },
   {
    "duration": 49,
    "start_time": "2023-09-06T08:38:33.789Z"
   },
   {
    "duration": 151,
    "start_time": "2023-09-06T08:38:33.839Z"
   },
   {
    "duration": 474,
    "start_time": "2023-09-06T08:39:19.622Z"
   },
   {
    "duration": 446,
    "start_time": "2023-09-06T08:39:25.199Z"
   },
   {
    "duration": 460,
    "start_time": "2023-09-06T08:39:56.214Z"
   },
   {
    "duration": 2675,
    "start_time": "2023-09-06T08:40:37.444Z"
   },
   {
    "duration": 126,
    "start_time": "2023-09-06T08:41:35.911Z"
   },
   {
    "duration": 1292,
    "start_time": "2023-09-06T08:41:44.434Z"
   },
   {
    "duration": 1207,
    "start_time": "2023-09-06T08:42:07.287Z"
   },
   {
    "duration": 1875,
    "start_time": "2023-09-06T08:43:08.839Z"
   },
   {
    "duration": 366,
    "start_time": "2023-09-06T08:43:48.696Z"
   },
   {
    "duration": 2110,
    "start_time": "2023-09-06T08:45:45.321Z"
   },
   {
    "duration": 440,
    "start_time": "2023-09-06T08:45:57.520Z"
   },
   {
    "duration": 446,
    "start_time": "2023-09-06T08:46:26.904Z"
   },
   {
    "duration": 533,
    "start_time": "2023-09-06T08:46:59.296Z"
   },
   {
    "duration": 370,
    "start_time": "2023-09-06T08:48:26.676Z"
   },
   {
    "duration": 374,
    "start_time": "2023-09-06T08:49:30.074Z"
   },
   {
    "duration": 358,
    "start_time": "2023-09-06T08:49:43.547Z"
   },
   {
    "duration": 199,
    "start_time": "2023-09-06T08:50:34.617Z"
   },
   {
    "duration": 466,
    "start_time": "2023-09-06T08:50:47.671Z"
   },
   {
    "duration": 437,
    "start_time": "2023-09-06T08:50:58.869Z"
   },
   {
    "duration": 435,
    "start_time": "2023-09-06T08:51:39.270Z"
   },
   {
    "duration": 1978,
    "start_time": "2023-09-06T08:53:08.411Z"
   },
   {
    "duration": 366,
    "start_time": "2023-09-06T08:53:40.486Z"
   },
   {
    "duration": 406,
    "start_time": "2023-09-06T08:54:16.114Z"
   },
   {
    "duration": 170,
    "start_time": "2023-09-06T09:01:58.421Z"
   },
   {
    "duration": 102,
    "start_time": "2023-09-06T09:02:12.672Z"
   },
   {
    "duration": 183,
    "start_time": "2023-09-06T09:02:20.685Z"
   },
   {
    "duration": 210,
    "start_time": "2023-09-06T09:02:30.484Z"
   },
   {
    "duration": 360,
    "start_time": "2023-09-06T09:03:06.349Z"
   },
   {
    "duration": 403,
    "start_time": "2023-09-06T09:04:33.538Z"
   }
  ],
  "kernelspec": {
   "display_name": "Python 3 (ipykernel)",
   "language": "python",
   "name": "python3"
  },
  "language_info": {
   "codemirror_mode": {
    "name": "ipython",
    "version": 3
   },
   "file_extension": ".py",
   "mimetype": "text/x-python",
   "name": "python",
   "nbconvert_exporter": "python",
   "pygments_lexer": "ipython3",
   "version": "3.11.5"
  },
  "toc": {
   "base_numbering": 1,
   "nav_menu": {
    "height": "65px",
    "width": "244px"
   },
   "number_sections": true,
   "sideBar": true,
   "skip_h1_title": true,
   "title_cell": "Table of Contents",
   "title_sidebar": "Contents",
   "toc_cell": false,
   "toc_position": {
    "height": "calc(100% - 180px)",
    "left": "10px",
    "top": "150px",
    "width": "392.625px"
   },
   "toc_section_display": true,
   "toc_window_display": true
  }
 },
 "nbformat": 4,
 "nbformat_minor": 4
}
