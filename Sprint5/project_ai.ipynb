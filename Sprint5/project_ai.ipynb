{
 "cells": [
  {
   "cell_type": "markdown",
   "metadata": {},
   "source": [
    "<div class=\"alert alert-info\">\n",
    "\n",
    "<b>Привет!👋</b>\n",
    "\n",
    "Меня зовут Тарас, я буду проверять твой проект. У нас, в Яндекс практикуме, принято обращение на \"ты\"😏, но если тебе комфортнее обращаться на Вы, напиши об этом, пожалуйста. Я с удовольствием gерейду на \"Вы\". \n",
    "\n",
    "Я помогу тебе с учёбой для будущего успешного поиска работы. Вместе мы оптимизируем твой код и оптимально решим задачи!\n",
    "Пожалуйста, не удаляй мои комментарии, они будут особенно полезны для нашей работы в случае повторной проверки проекта. \n",
    "\n",
    "Будет здорово, если ты будешь отвечать на мои комментарии своими, выделяя их цветами или так, как тебе понравится, но так, чтобы их можно было отличить от моих комментариев. Это нужно, чтобы не создавалась путаница😉\n",
    "\n",
    "Ты увидишь мои комментарии, обозначенные <font color='green'>зеленым</font>, <font color='gold'>желтым</font> и <font color='red'>красным</font> цветами, например:\n",
    "\n",
    "<br/>\n",
    "\n",
    "<div class=\"alert alert-success\">\n",
    "<h2> Комментарий ревьюера <a class=\"tocSkip\"> </h2>\n",
    "\n",
    "<b>Все отлично!👍:</b> В случае, если решение на отдельном шаге является полностью правильным.\n",
    "</div>\n",
    "\n",
    "<br/>\n",
    "\n",
    "<div class=\"alert alert-warning\">\n",
    "    <h2> Комментарий ревьюера <a class=\"tocSkip\"> </h2>\n",
    "    \n",
    "<b>Некоторые замечания и рекомендации💡:</b> В случае, когда решение на отдельном шаге станет еще лучше, если внести небольшие коррективы.\n",
    "</div>\n",
    "\n",
    "\n",
    "<br/>\n",
    "<div class=\"alert alert-block alert-danger\">\n",
    "<h2> Комментарий ревьюера <a class=\"tocSkip\"></h2>\n",
    "\n",
    "    \n",
    "<b>На доработку🤔:</b>\n",
    " В случае, когда решение на отдельном шаге требует существенной переработки и внесения правок. Напоминаю, что проект не может быть принят с первого раза, если ревью содержит комментарии, рекомендующие доработать шаги.\n",
    "</div>\n",
    "    \n",
    "Если в решении будут какие-то неточности, в первый раз я только укажу на их наличие и дам тебе возможность самостоятельно найти и исправить их. В реальной работе твои более опытные товарищи будут поступать также, и я хочу подготовить тебя именно к работе. Но если ты пока не справишься с такой задачей - при следующей проверке я дам более точную подсказку!🤓\n",
    "\n",
    "Мы все очень ценим время и усилия друг-друга, поэтому я постараюсь давать максимально эффективные комментарии и заботливо подойти к твоей работе.\n",
    "</div>"
   ]
  },
  {
   "cell_type": "markdown",
   "metadata": {},
   "source": [
    "<div class=\"alert alert-info\">\n",
    "<h2>V2 Комментарий ревьюера <a class=\"tocSkip\"> </h2>\n",
    "\n",
    "Cвои комментарии в этой итерации я буду отмечать таким образом."
   ]
  },
  {
   "cell_type": "markdown",
   "metadata": {},
   "source": [
    "# Рекомендация тарифов"
   ]
  },
  {
   "cell_type": "markdown",
   "metadata": {},
   "source": [
    "В вашем распоряжении данные о поведении клиентов, которые уже перешли на эти тарифы (из проекта курса «Статистический анализ данных»). Нужно построить модель для задачи классификации, которая выберет подходящий тариф. Предобработка данных не понадобится — вы её уже сделали.\n",
    "\n",
    "Постройте модель с максимально большим значением *accuracy*. Чтобы сдать проект успешно, нужно довести долю правильных ответов по крайней мере до 0.75. Проверьте *accuracy* на тестовой выборке самостоятельно."
   ]
  },
  {
   "cell_type": "markdown",
   "metadata": {},
   "source": [
    "## Откройте и изучите файл"
   ]
  },
  {
   "cell_type": "code",
   "execution_count": 99,
   "metadata": {},
   "outputs": [],
   "source": [
    "import pandas as pd\n",
    "\n",
    "from sklearn.tree import DecisionTreeClassifier\n",
    "from sklearn.ensemble import RandomForestClassifier\n",
    "from sklearn.linear_model import LogisticRegression\n",
    "from sklearn.dummy import DummyClassifier\n",
    "\n",
    "from sklearn.model_selection import train_test_split"
   ]
  },
  {
   "cell_type": "markdown",
   "metadata": {},
   "source": [
    "<div class=\"alert alert-success\">\n",
    "<h2> Комментарий ревьюера <a class=\"tocSkip\"> </h2>\n",
    "\n",
    "<b>Все отлично!👍:</b> \n",
    "\n",
    "Все импорты, собраны в одном месте отлично!"
   ]
  },
  {
   "cell_type": "code",
   "execution_count": 100,
   "metadata": {
    "scrolled": true
   },
   "outputs": [
    {
     "data": {
      "text/html": [
       "<div>\n",
       "<style scoped>\n",
       "    .dataframe tbody tr th:only-of-type {\n",
       "        vertical-align: middle;\n",
       "    }\n",
       "\n",
       "    .dataframe tbody tr th {\n",
       "        vertical-align: top;\n",
       "    }\n",
       "\n",
       "    .dataframe thead th {\n",
       "        text-align: right;\n",
       "    }\n",
       "</style>\n",
       "<table border=\"1\" class=\"dataframe\">\n",
       "  <thead>\n",
       "    <tr style=\"text-align: right;\">\n",
       "      <th></th>\n",
       "      <th>calls</th>\n",
       "      <th>minutes</th>\n",
       "      <th>messages</th>\n",
       "      <th>mb_used</th>\n",
       "      <th>is_ultra</th>\n",
       "    </tr>\n",
       "  </thead>\n",
       "  <tbody>\n",
       "    <tr>\n",
       "      <th>0</th>\n",
       "      <td>40.0</td>\n",
       "      <td>311.90</td>\n",
       "      <td>83.0</td>\n",
       "      <td>19915.42</td>\n",
       "      <td>0</td>\n",
       "    </tr>\n",
       "    <tr>\n",
       "      <th>1</th>\n",
       "      <td>85.0</td>\n",
       "      <td>516.75</td>\n",
       "      <td>56.0</td>\n",
       "      <td>22696.96</td>\n",
       "      <td>0</td>\n",
       "    </tr>\n",
       "    <tr>\n",
       "      <th>2</th>\n",
       "      <td>77.0</td>\n",
       "      <td>467.66</td>\n",
       "      <td>86.0</td>\n",
       "      <td>21060.45</td>\n",
       "      <td>0</td>\n",
       "    </tr>\n",
       "    <tr>\n",
       "      <th>3</th>\n",
       "      <td>106.0</td>\n",
       "      <td>745.53</td>\n",
       "      <td>81.0</td>\n",
       "      <td>8437.39</td>\n",
       "      <td>1</td>\n",
       "    </tr>\n",
       "    <tr>\n",
       "      <th>4</th>\n",
       "      <td>66.0</td>\n",
       "      <td>418.74</td>\n",
       "      <td>1.0</td>\n",
       "      <td>14502.75</td>\n",
       "      <td>0</td>\n",
       "    </tr>\n",
       "  </tbody>\n",
       "</table>\n",
       "</div>"
      ],
      "text/plain": [
       "   calls  minutes  messages   mb_used  is_ultra\n",
       "0   40.0   311.90      83.0  19915.42         0\n",
       "1   85.0   516.75      56.0  22696.96         0\n",
       "2   77.0   467.66      86.0  21060.45         0\n",
       "3  106.0   745.53      81.0   8437.39         1\n",
       "4   66.0   418.74       1.0  14502.75         0"
      ]
     },
     "execution_count": 100,
     "metadata": {},
     "output_type": "execute_result"
    }
   ],
   "source": [
    "df = pd.read_csv('/datasets/users_behavior.csv')\n",
    "df.head(5)"
   ]
  },
  {
   "cell_type": "markdown",
   "metadata": {},
   "source": [
    "<div class=\"alert alert-warning\">\n",
    "    <h2> Комментарий ревьюера <a class=\"tocSkip\"> </h2>\n",
    "    \n",
    "<b>Некоторые замечания и рекомендации💡:</b> \n",
    "        \n",
    "Для загрузки данных можно использовать try-except. Это поможет избежать ошибок в случае, если данные пропали, или повреждены. \n",
    "        \n",
    "Для полной безопасности данных можно добавить вариант загрузки из облака.\n",
    "    \n",
    "https://code.s3.yandex.net/datasets/users_behavior.csv"
   ]
  },
  {
   "cell_type": "markdown",
   "metadata": {},
   "source": [
    "- сalls — количество звонков\n",
    "- minutes — суммарная длительность звонков в минутах\n",
    "- messages — количество sms-сообщений\n",
    "- mb_used — израсходованный интернет-трафик в Мб\n",
    "- is_ultra — каким тарифом пользовался в течение месяца («Ультра» — 1, «Смарт» — 0)"
   ]
  },
  {
   "cell_type": "code",
   "execution_count": 101,
   "metadata": {},
   "outputs": [
    {
     "name": "stdout",
     "output_type": "stream",
     "text": [
      "<class 'pandas.core.frame.DataFrame'>\n",
      "RangeIndex: 3214 entries, 0 to 3213\n",
      "Data columns (total 5 columns):\n",
      " #   Column    Non-Null Count  Dtype  \n",
      "---  ------    --------------  -----  \n",
      " 0   calls     3214 non-null   float64\n",
      " 1   minutes   3214 non-null   float64\n",
      " 2   messages  3214 non-null   float64\n",
      " 3   mb_used   3214 non-null   float64\n",
      " 4   is_ultra  3214 non-null   int64  \n",
      "dtypes: float64(4), int64(1)\n",
      "memory usage: 125.7 KB\n"
     ]
    }
   ],
   "source": [
    "df.info()"
   ]
  },
  {
   "cell_type": "markdown",
   "metadata": {},
   "source": [
    "Заменим тип данных у столбца messages"
   ]
  },
  {
   "cell_type": "code",
   "execution_count": 102,
   "metadata": {},
   "outputs": [],
   "source": [
    "df['messages'] = df['messages'].astype('int')"
   ]
  },
  {
   "cell_type": "markdown",
   "metadata": {},
   "source": [
    "Проверим на дубликаты"
   ]
  },
  {
   "cell_type": "code",
   "execution_count": 103,
   "metadata": {},
   "outputs": [
    {
     "data": {
      "text/plain": [
       "0"
      ]
     },
     "execution_count": 103,
     "metadata": {},
     "output_type": "execute_result"
    }
   ],
   "source": [
    "df.duplicated().sum()"
   ]
  },
  {
   "cell_type": "markdown",
   "metadata": {},
   "source": [
    "**Промежуточный вывод**\n",
    "- Нет пропусков\n",
    "- Тип данных у столбцов приведен в порядок\n",
    "- Отсутсвутют дубликаты"
   ]
  },
  {
   "cell_type": "markdown",
   "metadata": {},
   "source": [
    "<div class=\"alert alert-success\">\n",
    "<h2> Комментарий ревьюера <a class=\"tocSkip\"> </h2>\n",
    "\n",
    "<b>Все отлично!👍:</b> \n",
    "\n",
    "Массив данных отлично исследован!\n",
    " "
   ]
  },
  {
   "cell_type": "markdown",
   "metadata": {},
   "source": [
    "## Разбейте данные на выборки"
   ]
  },
  {
   "cell_type": "code",
   "execution_count": 104,
   "metadata": {},
   "outputs": [],
   "source": [
    "features = df.drop(['is_ultra'], axis=1)\n",
    "target = df['is_ultra']\n",
    "\n",
    "x, x_test, y, y_test = train_test_split(features, target, test_size=0.2, train_size=0.8)\n",
    "x_train, x_valid, y_train, y_valid = train_test_split(x, y, test_size = 0.25, train_size = 0.75)"
   ]
  },
  {
   "cell_type": "markdown",
   "metadata": {},
   "source": [
    "**Расшифровка**\n",
    "- x_train, y_train - обучающая выборка\n",
    "- x_valid, y_valid - валидационная выборка\n",
    "- x_test, y_test - тестовая выборка"
   ]
  },
  {
   "cell_type": "markdown",
   "metadata": {},
   "source": [
    "<div class=\"alert alert-success\">\n",
    "<h2> Комментарий ревьюера <a class=\"tocSkip\"> </h2>\n",
    "\n",
    "<b>Все отлично!👍</b> \n",
    "\n"
   ]
  },
  {
   "cell_type": "markdown",
   "metadata": {},
   "source": [
    "## Исследуйте модели"
   ]
  },
  {
   "cell_type": "markdown",
   "metadata": {},
   "source": [
    "**Логистическая регрессия**"
   ]
  },
  {
   "cell_type": "code",
   "execution_count": 105,
   "metadata": {},
   "outputs": [
    {
     "name": "stdout",
     "output_type": "stream",
     "text": [
      "Качество: 0.7418351477449455\n"
     ]
    }
   ],
   "source": [
    "model = LogisticRegression(random_state=12345, solver='lbfgs', max_iter=1000)\n",
    "model.fit(x_train, y_train)\n",
    "accuracy = model.score(x_valid, y_valid)\n",
    "print(\"Качество:\", accuracy)"
   ]
  },
  {
   "cell_type": "markdown",
   "metadata": {},
   "source": [
    "<div class=\"alert alert-warning\">\n",
    "    <h2> Комментарий ревьюера <a class=\"tocSkip\"> </h2>\n",
    "    \n",
    "<b>Некоторые замечания и рекомендации💡:</b> \n",
    "        \n",
    "        \n",
    "Логистическую регрессию можно попробовать сделать с разными гиперпараметрами"
   ]
  },
  {
   "cell_type": "markdown",
   "metadata": {},
   "source": [
    "**Дерево решений**"
   ]
  },
  {
   "cell_type": "code",
   "execution_count": 106,
   "metadata": {},
   "outputs": [
    {
     "name": "stdout",
     "output_type": "stream",
     "text": [
      "Глубина дерева: 9 Качество 0.7978227060653188\n"
     ]
    }
   ],
   "source": [
    "best_depth = 0\n",
    "best_accuracy = 0\n",
    "for depth in range(1, 20):\n",
    "    model = DecisionTreeClassifier(random_state=12345, max_depth=depth)\n",
    "    model.fit(x_train, y_train)\n",
    "    accuracy = model.score(x_valid, y_valid)\n",
    "    if accuracy > best_accuracy:\n",
    "        best_accuracy = accuracy\n",
    "        best_depth = depth\n",
    "print(\"Глубина дерева:\", best_depth, \"Качество\", best_accuracy)"
   ]
  },
  {
   "cell_type": "markdown",
   "metadata": {},
   "source": [
    "**Случайный лес**"
   ]
  },
  {
   "cell_type": "code",
   "execution_count": 107,
   "metadata": {},
   "outputs": [
    {
     "name": "stdout",
     "output_type": "stream",
     "text": [
      "Глубина дерева: 9     Количество деревьев: 5   Качество: 0.8087091757387247\n"
     ]
    }
   ],
   "source": [
    "best_accuracy = 0\n",
    "best_depth = 0\n",
    "\n",
    "for depth in range(1, 10):\n",
    "    for est in range(1, 11):\n",
    "        model = RandomForestClassifier(random_state=12345, n_estimators=est, max_depth=depth)\n",
    "        model.fit(x_train, y_train)\n",
    "        accuracy = model.score(x_valid, y_valid)\n",
    "        if accuracy > best_accuracy:\n",
    "            best_accuracy = accuracy\n",
    "            best_depth = depth\n",
    "            best_est = est\n",
    "print(\"Глубина дерева:\", best_depth, \"    Количество деревьев:\",\n",
    "      best_est, \"  Качество:\", best_accuracy)"
   ]
  },
  {
   "cell_type": "markdown",
   "metadata": {},
   "source": [
    "<div class=\"alert alert-success\">\n",
    "<h2>Комментарий ревьюера <a class=\"tocSkip\"> </h2>\n",
    "\n",
    "<b>Все отлично!👍:</b> \n",
    "\n",
    "Молодец, что исследуешь модели с таким количеством гиперпараметров!"
   ]
  },
  {
   "cell_type": "markdown",
   "metadata": {},
   "source": [
    "## Проверьте модель на тестовой выборке"
   ]
  },
  {
   "cell_type": "markdown",
   "metadata": {},
   "source": [
    "**Случайный лес**"
   ]
  },
  {
   "cell_type": "code",
   "execution_count": 111,
   "metadata": {},
   "outputs": [
    {
     "name": "stdout",
     "output_type": "stream",
     "text": [
      "Качество: 0.80248833592535\n"
     ]
    }
   ],
   "source": [
    "model = RandomForestClassifier(random_state=12345, n_estimators=7, max_depth=6)\n",
    "model.fit(x_train, y_train)\n",
    "accuracy = model.score(x_test, y_test)\n",
    "print(\"Качество:\", accuracy)"
   ]
  },
  {
   "cell_type": "markdown",
   "metadata": {},
   "source": [
    "<div class=\"alert alert-block alert-danger\">\n",
    "<h2> Комментарий ревьюера <a class=\"tocSkip\"></h2>\n",
    "\n",
    "    \n",
    "<b>На доработку🤔:</b>\n",
    "        \n",
    "На тестовой выборке нужно проверять только одну модель, ту, что покажет наилучшие результаты на валидационной.    \n"
   ]
  },
  {
   "cell_type": "markdown",
   "metadata": {},
   "source": [
    "<div class=\"alert alert-success\">\n",
    "<h2>V2 Комментарий ревьюера <a class=\"tocSkip\"> </h2>\n",
    "\n",
    "<b>Все отлично!👍:</b> \n",
    "\n",
    "Спасибо за корректировку!"
   ]
  },
  {
   "cell_type": "markdown",
   "metadata": {},
   "source": [
    "## (бонус) Проверьте модели на адекватность"
   ]
  },
  {
   "cell_type": "code",
   "execution_count": 112,
   "metadata": {},
   "outputs": [
    {
     "name": "stdout",
     "output_type": "stream",
     "text": [
      "Качество наивного прогноза : 0.6998444790046656\n",
      "Качество нашего прогноза : 0.80248833592535\n"
     ]
    }
   ],
   "source": [
    "dmc = DummyClassifier(strategy=\"most_frequent\" ,random_state=12345)\n",
    "dmc.fit(x_train, y_train)\n",
    "ac_dmc = dmc.score(x_test, y_test)\n",
    "print(\"Качество наивного прогноза :\", ac_dmc)\n",
    "print(\"Качество нашего прогноза :\", accuracy)"
   ]
  },
  {
   "cell_type": "markdown",
   "metadata": {},
   "source": [
    "<div class=\"alert alert-success\">\n",
    "<h2> Комментарий ревьюера <a class=\"tocSkip\"> </h2>\n",
    "\n",
    "<b>Все отлично!👍:</b> \n",
    "\n",
    "На данном этапе всё хорошо"
   ]
  },
  {
   "cell_type": "markdown",
   "metadata": {},
   "source": [
    "## Вывод"
   ]
  },
  {
   "cell_type": "markdown",
   "metadata": {},
   "source": [
    "В ходе работы были проанализированы три модели:логистическая регрессия, деревья решений, случайный лес. Лучший результат достигнут с использованием модели случайного леса: 0.79 (при глубине дерева: 9, количестве деревьев: 5)"
   ]
  },
  {
   "cell_type": "markdown",
   "metadata": {},
   "source": [
    "<div class=\"alert alert-success\">\n",
    "<h2> Комментарий ревьюера <a class=\"tocSkip\"> </h2>\n",
    "\n",
    "<b>Все отлично!👍:</b> \n",
    "\n",
    "Молодец, хороший вывод!"
   ]
  },
  {
   "cell_type": "markdown",
   "metadata": {},
   "source": [
    "<div class=\"alert alert-info\">\n",
    "    <h2> Комментарий ревьюера <a class=\"tocSkip\"> </h2>\n",
    "\n",
    "**Общий вывод по проекту**\n",
    "\n",
    "Спасибо за твой проект, было приятно его проверять! Видно, что в него вложено много сил и времени! Есть момент, которй я отметил и который можно было бы улучшить.\n",
    "\n",
    " \n",
    "* Использование методов из программы курса на высоте. Хорошая работа!\n",
    "    \n",
    "**Поправь, пожалуйста, те моменты которые я отметил, и присылай рабту на повторную проверку**\n",
    "\n"
   ]
  },
  {
   "cell_type": "markdown",
   "metadata": {},
   "source": [
    "<div class=\"alert alert-info\">\n",
    "<h2>V2 Общий вывод <a class=\"tocSkip\"> </h2>\n",
    "\n",
    "Теперь всё отлично, хорошая работа!"
   ]
  },
  {
   "cell_type": "markdown",
   "metadata": {},
   "source": [
    "## Чек-лист готовности проекта"
   ]
  },
  {
   "cell_type": "markdown",
   "metadata": {},
   "source": [
    "Поставьте 'x' в выполненных пунктах. Далее нажмите Shift+Enter."
   ]
  },
  {
   "cell_type": "markdown",
   "metadata": {},
   "source": [
    "- [x] Jupyter Notebook открыт\n",
    "- [x] Весь код исполняется без ошибок\n",
    "- [x] Ячейки с кодом расположены в порядке исполнения\n",
    "- [x] Выполнено задание 1: данные загружены и изучены\n",
    "- [x] Выполнено задание 2: данные разбиты на три выборки\n",
    "- [x] Выполнено задание 3: проведено исследование моделей\n",
    "    - [ ] Рассмотрено больше одной модели\n",
    "    - [ ] Рассмотрено хотя бы 3 значения гипепараметров для какой-нибудь модели\n",
    "    - [ ] Написаны выводы по результатам исследования\n",
    "- [x] Выполнено задание 3: Проведено тестирование\n",
    "- [x] Удалось достичь accuracy не меньше 0.75\n"
   ]
  },
  {
   "cell_type": "code",
   "execution_count": null,
   "metadata": {},
   "outputs": [],
   "source": []
  }
 ],
 "metadata": {
  "ExecuteTimeLog": [
   {
    "duration": 1149,
    "start_time": "2024-09-19T09:56:12.591Z"
   },
   {
    "duration": 93,
    "start_time": "2024-09-19T09:56:58.635Z"
   },
   {
    "duration": 12,
    "start_time": "2024-09-19T09:58:23.997Z"
   },
   {
    "duration": 7,
    "start_time": "2024-09-19T10:04:36.647Z"
   },
   {
    "duration": 10,
    "start_time": "2024-09-19T10:04:49.964Z"
   },
   {
    "duration": 10,
    "start_time": "2024-09-19T10:05:21.310Z"
   },
   {
    "duration": 77,
    "start_time": "2024-09-19T10:16:22.041Z"
   },
   {
    "duration": 24,
    "start_time": "2024-09-19T10:16:44.650Z"
   },
   {
    "duration": 13,
    "start_time": "2024-09-19T10:16:45.630Z"
   },
   {
    "duration": 11,
    "start_time": "2024-09-19T10:17:07.484Z"
   },
   {
    "duration": 14,
    "start_time": "2024-09-19T10:17:32.058Z"
   },
   {
    "duration": 74,
    "start_time": "2024-09-19T10:21:02.121Z"
   },
   {
    "duration": 112,
    "start_time": "2024-09-19T10:40:59.907Z"
   },
   {
    "duration": 45,
    "start_time": "2024-09-19T10:41:05.663Z"
   },
   {
    "duration": 25,
    "start_time": "2024-09-19T10:41:07.891Z"
   },
   {
    "duration": 50,
    "start_time": "2024-09-19T10:42:22.593Z"
   },
   {
    "duration": 44,
    "start_time": "2024-09-19T10:45:06.950Z"
   },
   {
    "duration": 54,
    "start_time": "2024-09-19T10:45:14.514Z"
   },
   {
    "duration": 41,
    "start_time": "2024-09-19T11:28:11.153Z"
   },
   {
    "duration": 38,
    "start_time": "2024-09-19T11:28:26.434Z"
   },
   {
    "duration": 45,
    "start_time": "2024-09-19T11:28:38.325Z"
   },
   {
    "duration": 48,
    "start_time": "2024-09-19T11:29:01.277Z"
   },
   {
    "duration": 34,
    "start_time": "2024-09-19T11:29:28.064Z"
   },
   {
    "duration": 33,
    "start_time": "2024-09-19T11:29:45.247Z"
   },
   {
    "duration": 35,
    "start_time": "2024-09-19T11:29:47.663Z"
   },
   {
    "duration": 33,
    "start_time": "2024-09-19T11:29:50.381Z"
   },
   {
    "duration": 39,
    "start_time": "2024-09-19T11:30:15.423Z"
   },
   {
    "duration": 12,
    "start_time": "2024-09-19T11:32:40.997Z"
   },
   {
    "duration": 358,
    "start_time": "2024-09-19T11:38:53.588Z"
   },
   {
    "duration": 335,
    "start_time": "2024-09-19T11:40:33.123Z"
   },
   {
    "duration": 323,
    "start_time": "2024-09-19T11:41:08.591Z"
   },
   {
    "duration": 307,
    "start_time": "2024-09-19T11:41:14.303Z"
   },
   {
    "duration": 83,
    "start_time": "2024-09-19T11:41:55.157Z"
   },
   {
    "duration": 299,
    "start_time": "2024-09-19T11:42:00.686Z"
   },
   {
    "duration": 326,
    "start_time": "2024-09-19T11:42:22.891Z"
   },
   {
    "duration": 365,
    "start_time": "2024-09-19T11:45:25.404Z"
   },
   {
    "duration": 337,
    "start_time": "2024-09-19T11:45:29.337Z"
   },
   {
    "duration": 3,
    "start_time": "2024-09-19T11:48:28.292Z"
   },
   {
    "duration": 60,
    "start_time": "2024-09-19T11:50:04.319Z"
   },
   {
    "duration": 43,
    "start_time": "2024-09-19T11:50:09.863Z"
   },
   {
    "duration": 42,
    "start_time": "2024-09-19T11:50:13.676Z"
   },
   {
    "duration": 4,
    "start_time": "2024-09-19T12:03:21.599Z"
   },
   {
    "duration": 7,
    "start_time": "2024-09-19T12:04:01.169Z"
   },
   {
    "duration": 48,
    "start_time": "2024-09-19T12:14:41.348Z"
   },
   {
    "duration": 8,
    "start_time": "2024-09-19T12:14:45.799Z"
   },
   {
    "duration": 18,
    "start_time": "2024-09-19T12:14:47.434Z"
   },
   {
    "duration": 167,
    "start_time": "2024-09-19T12:19:11.166Z"
   },
   {
    "duration": 18,
    "start_time": "2024-09-19T12:25:21.309Z"
   },
   {
    "duration": 1736,
    "start_time": "2024-09-19T12:25:29.889Z"
   },
   {
    "duration": 22,
    "start_time": "2024-09-19T12:37:07.009Z"
   },
   {
    "duration": 64,
    "start_time": "2024-09-19T12:37:38.112Z"
   },
   {
    "duration": 78,
    "start_time": "2024-09-19T12:38:51.182Z"
   },
   {
    "duration": 279,
    "start_time": "2024-09-19T12:39:01.408Z"
   },
   {
    "duration": 13,
    "start_time": "2024-09-19T12:39:59.207Z"
   },
   {
    "duration": 39,
    "start_time": "2024-09-19T12:41:28.728Z"
   },
   {
    "duration": 4,
    "start_time": "2024-09-19T12:43:12.432Z"
   },
   {
    "duration": 14,
    "start_time": "2024-09-19T12:44:21.060Z"
   },
   {
    "duration": 7,
    "start_time": "2024-09-19T12:44:36.732Z"
   },
   {
    "duration": 7,
    "start_time": "2024-09-19T12:46:32.277Z"
   },
   {
    "duration": 5,
    "start_time": "2024-09-19T12:51:10.096Z"
   },
   {
    "duration": 53,
    "start_time": "2024-09-19T12:51:10.285Z"
   },
   {
    "duration": 13,
    "start_time": "2024-09-19T12:51:10.612Z"
   },
   {
    "duration": 4,
    "start_time": "2024-09-19T12:51:10.939Z"
   },
   {
    "duration": 7,
    "start_time": "2024-09-19T12:51:11.388Z"
   },
   {
    "duration": 7,
    "start_time": "2024-09-19T12:51:13.805Z"
   },
   {
    "duration": 18,
    "start_time": "2024-09-19T12:51:14.563Z"
   },
   {
    "duration": 195,
    "start_time": "2024-09-19T12:51:14.926Z"
   },
   {
    "duration": 1851,
    "start_time": "2024-09-19T12:51:15.460Z"
   },
   {
    "duration": 27,
    "start_time": "2024-09-19T12:51:17.314Z"
   },
   {
    "duration": 12,
    "start_time": "2024-09-19T12:51:17.343Z"
   },
   {
    "duration": 28,
    "start_time": "2024-09-19T12:51:17.358Z"
   },
   {
    "duration": 6,
    "start_time": "2024-09-19T12:51:18.479Z"
   },
   {
    "duration": 3,
    "start_time": "2024-09-19T12:51:42.601Z"
   },
   {
    "duration": 39,
    "start_time": "2024-09-19T12:51:42.859Z"
   },
   {
    "duration": 10,
    "start_time": "2024-09-19T12:51:43.384Z"
   },
   {
    "duration": 10,
    "start_time": "2024-09-19T12:51:44.124Z"
   },
   {
    "duration": 7,
    "start_time": "2024-09-19T12:51:44.652Z"
   },
   {
    "duration": 11,
    "start_time": "2024-09-19T12:51:45.796Z"
   },
   {
    "duration": 52,
    "start_time": "2024-09-19T12:51:46.900Z"
   },
   {
    "duration": 230,
    "start_time": "2024-09-19T12:51:47.815Z"
   },
   {
    "duration": 1813,
    "start_time": "2024-09-19T12:51:49.264Z"
   },
   {
    "duration": 67,
    "start_time": "2024-09-19T12:51:55.100Z"
   },
   {
    "duration": 13,
    "start_time": "2024-09-19T12:51:56.739Z"
   },
   {
    "duration": 49,
    "start_time": "2024-09-19T12:51:57.692Z"
   },
   {
    "duration": 9,
    "start_time": "2024-09-19T12:52:03.827Z"
   },
   {
    "duration": 6,
    "start_time": "2024-09-19T12:52:09.531Z"
   },
   {
    "duration": 80,
    "start_time": "2024-09-19T12:52:09.844Z"
   },
   {
    "duration": 12,
    "start_time": "2024-09-19T12:52:10.649Z"
   },
   {
    "duration": 3,
    "start_time": "2024-09-19T12:52:11.349Z"
   },
   {
    "duration": 7,
    "start_time": "2024-09-19T12:52:11.964Z"
   },
   {
    "duration": 7,
    "start_time": "2024-09-19T12:52:12.897Z"
   },
   {
    "duration": 20,
    "start_time": "2024-09-19T12:52:14.144Z"
   },
   {
    "duration": 199,
    "start_time": "2024-09-19T12:52:14.985Z"
   },
   {
    "duration": 1763,
    "start_time": "2024-09-19T12:52:17.351Z"
   },
   {
    "duration": 20,
    "start_time": "2024-09-19T12:52:21.961Z"
   },
   {
    "duration": 17,
    "start_time": "2024-09-19T12:52:24.225Z"
   },
   {
    "duration": 29,
    "start_time": "2024-09-19T12:52:24.889Z"
   },
   {
    "duration": 6,
    "start_time": "2024-09-19T12:52:25.787Z"
   },
   {
    "duration": 3,
    "start_time": "2024-09-19T12:52:57.560Z"
   },
   {
    "duration": 38,
    "start_time": "2024-09-19T12:52:59.239Z"
   },
   {
    "duration": 13,
    "start_time": "2024-09-19T12:53:02.003Z"
   },
   {
    "duration": 3,
    "start_time": "2024-09-19T12:53:03.303Z"
   },
   {
    "duration": 6,
    "start_time": "2024-09-19T12:53:04.055Z"
   },
   {
    "duration": 11,
    "start_time": "2024-09-19T12:53:05.426Z"
   },
   {
    "duration": 52,
    "start_time": "2024-09-19T12:53:07.089Z"
   },
   {
    "duration": 183,
    "start_time": "2024-09-19T12:53:08.423Z"
   },
   {
    "duration": 1762,
    "start_time": "2024-09-19T12:53:13.848Z"
   },
   {
    "duration": 51,
    "start_time": "2024-09-19T12:53:15.611Z"
   },
   {
    "duration": 13,
    "start_time": "2024-09-19T12:53:17.964Z"
   },
   {
    "duration": 27,
    "start_time": "2024-09-19T12:53:19.871Z"
   },
   {
    "duration": 29,
    "start_time": "2024-09-19T12:53:30.865Z"
   },
   {
    "duration": 8,
    "start_time": "2024-09-19T12:53:32.128Z"
   }
  ],
  "kernelspec": {
   "display_name": "Python 3 (ipykernel)",
   "language": "python",
   "name": "python3"
  },
  "language_info": {
   "codemirror_mode": {
    "name": "ipython",
    "version": 3
   },
   "file_extension": ".py",
   "mimetype": "text/x-python",
   "name": "python",
   "nbconvert_exporter": "python",
   "pygments_lexer": "ipython3",
   "version": "3.11.7"
  },
  "toc": {
   "base_numbering": 1,
   "nav_menu": {},
   "number_sections": true,
   "sideBar": true,
   "skip_h1_title": true,
   "title_cell": "Table of Contents",
   "title_sidebar": "Contents",
   "toc_cell": false,
   "toc_position": {},
   "toc_section_display": true,
   "toc_window_display": false
  }
 },
 "nbformat": 4,
 "nbformat_minor": 4
}
