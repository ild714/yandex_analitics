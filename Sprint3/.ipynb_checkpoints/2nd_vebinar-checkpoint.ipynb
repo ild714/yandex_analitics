{
 "cells": [
  {
   "cell_type": "markdown",
   "metadata": {},
   "source": [
    "## Вступление"
   ]
  },
  {
   "cell_type": "markdown",
   "metadata": {},
   "source": [
    "Правила:\n",
    "- Прочитать условие хотя бы за день до выполнения\n",
    "- Убедиться, что всё требования ясны\n",
    "- **разметить план работ**\n",
    "- Спланировать по времени каждый пункт"
   ]
  },
  {
   "cell_type": "markdown",
   "metadata": {},
   "source": [
    "**Разметить план работ**"
   ]
  },
  {
   "cell_type": "markdown",
   "metadata": {},
   "source": [
    "Неправильно:\n",
    "- сяду за проект\n",
    "- сперва заменю пропуски\n",
    "- приведу типы\n",
    "- удалю дубликаты\n",
    "- добавлю новые поля\n",
    "- отвечу на исследовательские вопросы\n",
    "- напишу вывод \\\n",
    "Итого: ??? минут\n",
    "\n",
    "Правильно:\n",
    "- сяду за проект\n",
    "- открою датасет 5 минут\n",
    "- Посмотрю, какие есть столбцы и какого они типа 30 минут\n",
    "- Опишу в выводе, какие основные типы, а так же заметны ли пропуски в датасете 30 минут\n",
    "- за 1 час распишу весь план работ\n",
    "- за 30 минут опишу его и сделаю соответствующие параграфы \n",
    "- Первично предобработаю столбцы. <= 20 * 22 минут = 7 часов 20 минут\n",
    "    * Изучу на предмет пропуков, неуместных значений и неподходящих типов. 3 минут на каждый столбец\n",
    "    * Заполню вывод 10 минут на каждый столбец:\n",
    "        - Обнаруженные аномалии: ...\n",
    "        - Причины, по которым они могли возникнуть: ...\n",
    "        - Как исправлять: ...\n",
    "        - Финальный тип и почему: ...\n",
    "    * Удалю строки, если нужно. 7 минут\n",
    "- Заполню пропуски. 10 минут\n",
    "- Добавлю новые признаки. 40 минут:\n",
    "    - Поделю `last_price` на `total_area` и посчитаю квадртный метр (`price_per_area`) 5 минут\n",
    "    - Извлеку из поля `first_day_exposition` день недели (`first_exposition_day_of_week`), месяц (`first_exposition_month`) и год публикации объявления (`first_exposition_year`) 10 минут\n",
    "    - Напишу функцию `get_floor_type`, которая по floor возвращает тип: первый (first), последний (last), другой (other). И применю её к столбцу `floor`, результат запишу в столбец `floor_type`: 10 минут\n",
    "    - Посчитаю соотношение жилой и общей площади. Для этого поделю `living_area` на `total_area`. Результат сохраню в `living_total_ratio`. 5 минут\n",
    "    - Посчитаю отношение площади кухни к общей. Для этого поделю `kitchen_area` на `total_area`. Результат сохраню в `living_total_ratio`. 5 минут\n",
    "    - Посчитаю целочисленное расстояние до центра в километрах по полю `cityCenters_nearest`. Результат сохраню в `center_distance_km`. 5 минут\n",
    "- Построю гистограмму для `total_area`, `last_price`, `rooms` и `ceiling_height` с помощью матрицы диаграмм рассеяния. А так же построю ящик с усами. 15 минут\n",
    "- Опишу в промежуточном выводе, что интересного заметил 15 минут\n",
    "- Для поля `days_exposition` построю гистограмму и ящик с усами. А также посчитаю выборочную медиану и среднее. 10 минут\n",
    "- Отвечу в выводе на вопросы 15 минут\n",
    "- Опишу все подозрения, которые возникли за это время 20 минут\n",
    "- Удалю строки с аномальными значениями 10 минут\n",
    "- Построю диаграмму рассеяния для пар (`last_price`, `total_area`), (`last_price`, `rooms`), (`last_price`, `cityCenters_nearest`), (`last_price`, `first_exposition_day_of_week`), (`last_price`, `first_exposition_month`), (`last_price`, `first_exposition_year`). А также пострю ящик с усами для `last_price` по всем возможным `floor_type`. 30 минут\n",
    "- Опишу в выводе сначала то, где есть зависимость от цены. А далее отвечу на вопрос, какой фактор влияет сильнее. 15 минут\n",
    "- Через pivot_table выберу 10 населенные пунктов с наибольшим числом объявлений. Далее через filter и pivot_table рассчитаю `avg_price_per_area` по полю `price_per_area`. 15 минут\n",
    "- Опишу в выводе какие из населенных пунктов имеют самую высокую и самую низкую стоимость жилья. 10 минут\n",
    "- Выделю данные для Питера в переменную `df_spb`. 5 минут\n",
    "- С помощью pivot_table посчитаю среднюю `price_per_area` и среднюю `last_price` с группировкой по `center_distance_km`. Назову их `avg_price_per_area` и `avg_last_price`. 10 минут\n",
    "- Построю графики зависимостей `avg_price_per_area` и `avg_last_price` от center_distance_km 10 минут\n",
    "- Опишу в выводе где проходит граница. Объясню это резким увеличением в цене. 10 минут\n",
    "- Из переменной `df_spb` выделю только центральные объявления в переменную `df_spb_center`. 5 минут\n",
    "- Построю гистограмму по `df_spb_center` для `total_area`, `last_price`, `rooms` и `ceiling_height` с помощью матрицы диаграмм рассеяния. А так же построю ящик с усами. 15 минут\n",
    "- Построю по `df_spb_center` диаграмму рассеяния для пар (`last_price`, `total_area`), (`last_price`, `rooms`), (`last_price`, `cityCenters_nearest`), (`last_price`, `first_exposition_day_of_week`), (`last_price`, `first_exposition_month`), (`last_price`, `first_exposition_year`). А также пострю ящик с усами для `last_price` по всем возможным `floor_type`. 30 минут\n",
    "- В выводе опишу сначала какие факторы влияют на цену. 10 минут\n",
    "- А проведу сравнением с значениями по всему датасету 30 минут\n",
    "- Напишу общий вывод. Расскажу сперва про аномалии. А далее про зависимости, которые были замечены. И что с ними произошло, когда мы рассмотрели срез центральных объявлений. 1 час"
   ]
  },
  {
   "cell_type": "markdown",
   "metadata": {},
   "source": [
    "# Исследование объявлений о продаже квартир\n",
    "\n",
    "В вашем распоряжении данные сервиса Яндекс.Недвижимость — архив объявлений о продаже квартир в Санкт-Петербурге и соседних населённых пунктов за несколько лет. Нужно научиться определять рыночную стоимость объектов недвижимости. Ваша задача — установить параметры. Это позволит построить автоматизированную систему: она отследит аномалии и мошенническую деятельность. \n",
    "\n",
    "По каждой квартире на продажу доступны два вида данных. Первые вписаны пользователем, вторые — получены автоматически на основе картографических данных. Например, расстояние до центра, аэропорта, ближайшего парка и водоёма. "
   ]
  },
  {
   "cell_type": "markdown",
   "metadata": {},
   "source": [
    "### Шаг 0. Подключение библиотек"
   ]
  },
  {
   "cell_type": "code",
   "execution_count": 2,
   "metadata": {},
   "outputs": [],
   "source": [
    "import pandas as pd\n",
    "from textwrap import dedent\n",
    "from IPython import get_ipython\n"
   ]
  },
  {
   "cell_type": "markdown",
   "metadata": {},
   "source": [
    "### Шаг 1. Откройте файл с данными и изучите общую информацию. "
   ]
  },
  {
   "cell_type": "markdown",
   "metadata": {},
   "source": [
    "* Сперва загрузим файл и отобразим 5 строк"
   ]
  },
  {
   "cell_type": "code",
   "execution_count": 14,
   "metadata": {},
   "outputs": [
    {
     "name": "stdout",
     "output_type": "stream",
     "text": [
      "Total rows: 23699\n"
     ]
    },
    {
     "data": {
      "text/html": [
       "<div>\n",
       "<style scoped>\n",
       "    .dataframe tbody tr th:only-of-type {\n",
       "        vertical-align: middle;\n",
       "    }\n",
       "\n",
       "    .dataframe tbody tr th {\n",
       "        vertical-align: top;\n",
       "    }\n",
       "\n",
       "    .dataframe thead th {\n",
       "        text-align: right;\n",
       "    }\n",
       "</style>\n",
       "<table border=\"1\" class=\"dataframe\">\n",
       "  <thead>\n",
       "    <tr style=\"text-align: right;\">\n",
       "      <th></th>\n",
       "      <th>last_price</th>\n",
       "      <th>total_area</th>\n",
       "      <th>living_area</th>\n",
       "      <th>kitchen_area</th>\n",
       "      <th>first_day_exposition</th>\n",
       "      <th>rooms</th>\n",
       "      <th>ceiling_height</th>\n",
       "      <th>cityCenters_nearest</th>\n",
       "      <th>locality_name</th>\n",
       "    </tr>\n",
       "  </thead>\n",
       "  <tbody>\n",
       "    <tr>\n",
       "      <th>0</th>\n",
       "      <td>13000000.0</td>\n",
       "      <td>108.0</td>\n",
       "      <td>51.0</td>\n",
       "      <td>25.0</td>\n",
       "      <td>2019-03-07T00:00:00</td>\n",
       "      <td>3</td>\n",
       "      <td>2.70</td>\n",
       "      <td>16028.0</td>\n",
       "      <td>Санкт-Петербург</td>\n",
       "    </tr>\n",
       "    <tr>\n",
       "      <th>1</th>\n",
       "      <td>3350000.0</td>\n",
       "      <td>40.4</td>\n",
       "      <td>18.6</td>\n",
       "      <td>11.0</td>\n",
       "      <td>2018-12-04T00:00:00</td>\n",
       "      <td>1</td>\n",
       "      <td>NaN</td>\n",
       "      <td>18603.0</td>\n",
       "      <td>посёлок Шушары</td>\n",
       "    </tr>\n",
       "    <tr>\n",
       "      <th>2</th>\n",
       "      <td>5196000.0</td>\n",
       "      <td>56.0</td>\n",
       "      <td>34.3</td>\n",
       "      <td>8.3</td>\n",
       "      <td>2015-08-20T00:00:00</td>\n",
       "      <td>2</td>\n",
       "      <td>NaN</td>\n",
       "      <td>13933.0</td>\n",
       "      <td>Санкт-Петербург</td>\n",
       "    </tr>\n",
       "    <tr>\n",
       "      <th>3</th>\n",
       "      <td>64900000.0</td>\n",
       "      <td>159.0</td>\n",
       "      <td>NaN</td>\n",
       "      <td>NaN</td>\n",
       "      <td>2015-07-24T00:00:00</td>\n",
       "      <td>3</td>\n",
       "      <td>NaN</td>\n",
       "      <td>6800.0</td>\n",
       "      <td>Санкт-Петербург</td>\n",
       "    </tr>\n",
       "    <tr>\n",
       "      <th>4</th>\n",
       "      <td>10000000.0</td>\n",
       "      <td>100.0</td>\n",
       "      <td>32.0</td>\n",
       "      <td>41.0</td>\n",
       "      <td>2018-06-19T00:00:00</td>\n",
       "      <td>2</td>\n",
       "      <td>3.03</td>\n",
       "      <td>8098.0</td>\n",
       "      <td>Санкт-Петербург</td>\n",
       "    </tr>\n",
       "  </tbody>\n",
       "</table>\n",
       "</div>"
      ],
      "text/plain": [
       "   last_price  total_area  living_area  kitchen_area first_day_exposition  \\\n",
       "0  13000000.0       108.0         51.0          25.0  2019-03-07T00:00:00   \n",
       "1   3350000.0        40.4         18.6          11.0  2018-12-04T00:00:00   \n",
       "2   5196000.0        56.0         34.3           8.3  2015-08-20T00:00:00   \n",
       "3  64900000.0       159.0          NaN           NaN  2015-07-24T00:00:00   \n",
       "4  10000000.0       100.0         32.0          41.0  2018-06-19T00:00:00   \n",
       "\n",
       "   rooms  ceiling_height  cityCenters_nearest    locality_name  \n",
       "0      3            2.70              16028.0  Санкт-Петербург  \n",
       "1      1             NaN              18603.0   посёлок Шушары  \n",
       "2      2             NaN              13933.0  Санкт-Петербург  \n",
       "3      3             NaN               6800.0  Санкт-Петербург  \n",
       "4      2            3.03               8098.0  Санкт-Петербург  "
      ]
     },
     "execution_count": 14,
     "metadata": {},
     "output_type": "execute_result"
    }
   ],
   "source": [
    "df = pd.read_csv('datasets/real_estate_data.csv', sep='\\t')\n",
    "print('Total rows:', len(df))\n",
    "columns = [\n",
    "    'last_price',\n",
    "    'total_area',\n",
    "    'living_area',\n",
    "    'kitchen_area',\n",
    "    'first_day_exposition',\n",
    "    'rooms',\n",
    "    'ceiling_height',\n",
    "    'cityCenters_nearest',\n",
    "    'locality_name',\n",
    "]\n",
    "df = df[columns]\n",
    "df.head()"
   ]
  },
  {
   "cell_type": "markdown",
   "metadata": {},
   "source": [
    "* Изучим столбцы и их типы"
   ]
  },
  {
   "cell_type": "code",
   "execution_count": 5,
   "metadata": {},
   "outputs": [
    {
     "name": "stdout",
     "output_type": "stream",
     "text": [
      "<class 'pandas.core.frame.DataFrame'>\n",
      "RangeIndex: 23699 entries, 0 to 23698\n",
      "Data columns (total 22 columns):\n",
      " #   Column                Non-Null Count  Dtype  \n",
      "---  ------                --------------  -----  \n",
      " 0   total_images          23699 non-null  int64  \n",
      " 1   last_price            23699 non-null  float64\n",
      " 2   total_area            23699 non-null  float64\n",
      " 3   first_day_exposition  23699 non-null  object \n",
      " 4   rooms                 23699 non-null  int64  \n",
      " 5   ceiling_height        14504 non-null  float64\n",
      " 6   floors_total          23613 non-null  float64\n",
      " 7   living_area           21796 non-null  float64\n",
      " 8   floor                 23699 non-null  int64  \n",
      " 9   is_apartment          2775 non-null   object \n",
      " 10  studio                23699 non-null  bool   \n",
      " 11  open_plan             23699 non-null  bool   \n",
      " 12  kitchen_area          21421 non-null  float64\n",
      " 13  balcony               12180 non-null  float64\n",
      " 14  locality_name         23650 non-null  object \n",
      " 15  airports_nearest      18157 non-null  float64\n",
      " 16  cityCenters_nearest   18180 non-null  float64\n",
      " 17  parks_around3000      18181 non-null  float64\n",
      " 18  parks_nearest         8079 non-null   float64\n",
      " 19  ponds_around3000      18181 non-null  float64\n",
      " 20  ponds_nearest         9110 non-null   float64\n",
      " 21  days_exposition       20518 non-null  float64\n",
      "dtypes: bool(2), float64(14), int64(3), object(3)\n",
      "memory usage: 3.7+ MB\n"
     ]
    }
   ],
   "source": [
    "df.info()"
   ]
  },
  {
   "cell_type": "markdown",
   "metadata": {},
   "source": [
    "### Вывод"
   ]
  },
  {
   "cell_type": "markdown",
   "metadata": {},
   "source": [
    "### Шаг 2. Предобработка данных"
   ]
  },
  {
   "cell_type": "code",
   "execution_count": 12,
   "metadata": {},
   "outputs": [],
   "source": [
    "def create_cell(shell, text):\n",
    "    payload = dict(\n",
    "        source='set_next_input',\n",
    "        text=text,\n",
    "        replace=False,\n",
    "    )\n",
    "    shell.payload_manager.write_payload(payload, single=False)\n",
    "\n",
    "def generate_column_preprocess_description(df):\n",
    "    shell = get_ipython()\n",
    "    for i, column in reversed(list(enumerate(df.columns))):\n",
    "        create_cell(shell, dedent(\n",
    "            '''\n",
    "            * Изменение\n",
    "            '''\n",
    "        ))\n",
    "        create_cell(shell, dedent(\n",
    "            '''\n",
    "            * Вывод\n",
    "            \\t- Обнаруженные аномалии: ...\n",
    "            \\t- Причины, по которым они могли возникнуть: ...\n",
    "            \\t- Как исправлять: ...\n",
    "            \\t- Финальный тип и почему: ...\n",
    "            '''\n",
    "        ))\n",
    "        create_cell(shell, dedent(\n",
    "            f'''\n",
    "            investigate_column(df[\"{column}\"])\n",
    "            '''\n",
    "        ))\n",
    "        create_cell(shell, dedent(\n",
    "            '''\n",
    "            * Изучим значения\n",
    "            '''\n",
    "        ))\n",
    "        create_cell(shell, dedent(\n",
    "            f'''\n",
    "            #### {i+1}. Обработка \"{column}\"\n",
    "            '''\n",
    "        ))"
   ]
  },
  {
   "cell_type": "code",
   "execution_count": 9,
   "metadata": {},
   "outputs": [],
   "source": [
    "def investigate_column(column):\n",
    "    print('Null or Na count is', column.isna().sum())\n",
    "    print(column.describe())"
   ]
  },
  {
   "cell_type": "code",
   "execution_count": 13,
   "metadata": {},
   "outputs": [],
   "source": [
    "generate_column_preprocess_description(df)"
   ]
  },
  {
   "cell_type": "markdown",
   "metadata": {},
   "source": [
    "### Шаг 3. Посчитайте и добавьте в таблицу"
   ]
  },
  {
   "cell_type": "markdown",
   "metadata": {},
   "source": [
    "### Шаг 4. Проведите исследовательский анализ данных и выполните инструкции:"
   ]
  },
  {
   "cell_type": "code",
   "execution_count": null,
   "metadata": {},
   "outputs": [],
   "source": []
  },
  {
   "cell_type": "markdown",
   "metadata": {},
   "source": [
    "### Шаг 5. Общий вывод"
   ]
  },
  {
   "cell_type": "markdown",
   "metadata": {},
   "source": []
  },
  {
   "cell_type": "markdown",
   "metadata": {},
   "source": [
    "### Чек-лист готовности проекта\n",
    "\n",
    "Поставьте 'x' в выполненных пунктах. Далее нажмите Shift+Enter."
   ]
  },
  {
   "cell_type": "markdown",
   "metadata": {},
   "source": [
    "- [x]  открыт файл\n",
    "- [ ]  файлы изучены (выведены первые строки, метод info())\n",
    "- [ ]  определены пропущенные значения\n",
    "- [ ]  заполнены пропущенные значения\n",
    "- [ ]  есть пояснение, какие пропущенные значения обнаружены\n",
    "- [ ]  изменены типы данных\n",
    "- [ ]  есть пояснение, в каких столбцах изменены типы и почему\n",
    "- [ ]  посчитано и добавлено в таблицу: цена квадратного метра\n",
    "- [ ]  посчитано и добавлено в таблицу: день недели, месяц и год публикации объявления\n",
    "- [ ]  посчитано и добавлено в таблицу: этаж квартиры; варианты — первый, последний, другой\n",
    "- [ ]  посчитано и добавлено в таблицу: соотношение жилой и общей площади, а также отношение площади кухни к общей\n",
    "- [ ]  изучены следующие параметры: площадь, цена, число комнат, высота потолков\n",
    "- [ ]  построены гистограммы для каждого параметра\n",
    "- [ ]  выполнено задание: \"Изучите время продажи квартиры. Постройте гистограмму. Посчитайте среднее и медиану. Опишите, сколько обычно занимает продажа. Когда можно считать, что продажи прошли очень быстро, а когда необычно долго?\"\n",
    "- [ ]  выполнено задание: \"Уберите редкие и выбивающиеся значения. Опишите, какие особенности обнаружили.\"\n",
    "- [ ]  выполнено задание: \"Какие факторы больше всего влияют на стоимость квартиры? Изучите, зависит ли цена от квадратного метра, числа комнат, этажа (первого или последнего), удалённости от центра. Также изучите зависимость от даты размещения: дня недели, месяца и года. \"Выберите 10 населённых пунктов с наибольшим числом объявлений. Посчитайте среднюю цену квадратного метра в этих населённых пунктах. Выделите населённые пункты с самой высокой и низкой стоимостью жилья. Эти данные можно найти по имени в столбце '*locality_name'*. \"\n",
    "- [ ]  выполнено задание: \"Изучите предложения квартир: для каждой квартиры есть информация о расстоянии до центра. Выделите квартиры в Санкт-Петербурге (*'locality_name'*). Ваша задача — выяснить, какая область входит в центр. Создайте столбец с расстоянием до центра в километрах: округлите до целых значений. После этого посчитайте среднюю цену для каждого километра. Постройте график: он должен показывать, как цена зависит от удалённости от центра. Определите границу, где график сильно меняется — это и будет центральная зона. \"\n",
    "- [ ]  выполнено задание: \"Выделите сегмент квартир в центре. Проанализируйте эту территорию и изучите следующие параметры: площадь, цена, число комнат, высота потолков. Также выделите факторы, которые влияют на стоимость квартиры (число комнат, этаж, удалённость от центра, дата размещения объявления). Сделайте выводы. Отличаются ли они от общих выводов по всему городу?\"\n",
    "- [ ]  в каждом этапе есть выводы\n",
    "- [ ]  есть общий вывод"
   ]
  },
  {
   "cell_type": "markdown",
   "metadata": {},
   "source": [
    "# Исследование"
   ]
  },
  {
   "cell_type": "code",
   "execution_count": 17,
   "metadata": {},
   "outputs": [],
   "source": [
    "import matplotlib.pyplot as plt\n",
    "import numpy as np\n",
    "import pandas as pd"
   ]
  },
  {
   "cell_type": "code",
   "execution_count": 18,
   "metadata": {},
   "outputs": [],
   "source": [
    "stadium_places = 100000\n",
    "total_teams = 400\n",
    "each_team_matches = [100, 40, 35]\n",
    "teams_prob = [0.6] * 20 + [0.55] * 18 + [0.65] * 18 + [0.45] * 15 + [0.75] * 15 + [0.2]*2 + [0.1]"
   ]
  },
  {
   "cell_type": "code",
   "execution_count": 19,
   "metadata": {},
   "outputs": [
    {
     "data": {
      "image/png": "[encoded data removed]",
      "text/plain": [
       "<Figure size 432x288 with 1 Axes>"
      ]
     },
     "metadata": {
      "needs_background": "light"
     },
     "output_type": "display_data"
    }
   ],
   "source": [
    "plt.hist(teams_prob)\n",
    "plt.show()"
   ]
  },
  {
   "cell_type": "code",
   "execution_count": 20,
   "metadata": {},
   "outputs": [],
   "source": [
    "def get_team_prob():\n",
    "    return np.random.choice(teams_prob)\n",
    "def get_views(p):\n",
    "    return np.random.binomial(stadium_places, p)\n",
    "def get_matches():\n",
    "    return np.random.choice(each_team_matches)"
   ]
  },
  {
   "cell_type": "code",
   "execution_count": 21,
   "metadata": {},
   "outputs": [],
   "source": [
    "df = pd.DataFrame(columns=['team_id', 'match_id', 'views'])"
   ]
  },
  {
   "cell_type": "code",
   "execution_count": 22,
   "metadata": {},
   "outputs": [],
   "source": [
    "first_mean = []\n",
    "second_mean = []\n",
    "for exp_id in range(50):\n",
    "    rows = []\n",
    "    for t in range(total_teams):\n",
    "        team_prob = get_team_prob()\n",
    "        row = dict(\n",
    "            team_id=t\n",
    "        )\n",
    "        matches = get_matches()\n",
    "        for m in range(matches):\n",
    "            row['match_id'] = m\n",
    "            row['views'] = get_views(team_prob)\n",
    "            rows.append(row)\n",
    "\n",
    "    df = pd.DataFrame(rows)    \n",
    "    first_mean.append(df.views.mean())\n",
    "    second_mean.append(df.pivot_table('views', 'team_id', aggfunc='mean').views.mean())"
   ]
  },
  {
   "cell_type": "code",
   "execution_count": 23,
   "metadata": {
    "scrolled": true
   },
   "outputs": [
    {
     "data": {
      "image/png": "[encoded data removed]",
      "text/plain": [
       "<Figure size 432x288 with 1 Axes>"
      ]
     },
     "metadata": {
      "needs_background": "light"
     },
     "output_type": "display_data"
    }
   ],
   "source": [
    "plt.hist(first_mean, alpha=0.5, label='first')\n",
    "plt.hist(second_mean, alpha=0.5, label='second')\n",
    "plt.axvline(0.6 * stadium_places)\n",
    "plt.legend()\n",
    "plt.show()"
   ]
  },
  {
   "cell_type": "code",
   "execution_count": null,
   "metadata": {},
   "outputs": [],
   "source": []
  }
 ],
 "metadata": {
  "kernelspec": {
   "display_name": "Python 3",
   "language": "python",
   "name": "python3"
  },
  "language_info": {
   "codemirror_mode": {
    "name": "ipython",
    "version": 3
   },
   "file_extension": ".py",
   "mimetype": "text/x-python",
   "name": "python",
   "nbconvert_exporter": "python",
   "pygments_lexer": "ipython3",
   "version": "3.6.10"
  }
 },
 "nbformat": 4,
 "nbformat_minor": 2
}
